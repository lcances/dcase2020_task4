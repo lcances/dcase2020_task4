{
 "cells": [
  {
   "cell_type": "code",
   "execution_count": 1,
   "metadata": {
    "pycharm": {
     "name": "#%% Import\n"
    }
   },
   "outputs": [],
   "source": [
    "%load_ext autoreload\n",
    "%autoreload 2"
   ]
  },
  {
   "cell_type": "code",
   "execution_count": 2,
   "metadata": {},
   "outputs": [],
   "source": [
    "import time\n",
    "import os\n",
    "from pathlib import Path\n",
    "import torch.nn as nn\n",
    "import torch.nn.functional as F\n",
    "import torch.utils.data\n",
    "from torch.utils.tensorboard import SummaryWriter\n",
    "\n",
    "import sys\n",
    "sys.path.append(\"..\")\n",
    "\n",
    "# dataset manager\n",
    "from dcase2020.datasetManager import DESEDManager\n",
    "from dcase2020.datasets import DESEDDataset\n",
    "\n",
    "# utility function & metrics & augmentation\n",
    "from metric_utils.metrics import FScore, BinaryAccuracy\n",
    "from dcase2020_task4.util.utils import get_datetime, reset_seed\n",
    "\n",
    "# models\n",
    "from dcase2020_task4.baseline.models import WeakBaseline"
   ]
  },
  {
   "cell_type": "code",
   "execution_count": 3,
   "metadata": {
    "collapsed": false,
    "jupyter": {
     "outputs_hidden": false
    },
    "pycharm": {
     "name": "#%%\n"
    }
   },
   "outputs": [],
   "source": [
    "# ==== set the log ====\n",
    "import logging\n",
    "import logging.config\n",
    "from dcase2020.util.log import DEFAULT_LOGGING\n",
    "logging.config.dictConfig(DEFAULT_LOGGING)\n",
    "log = logging.getLogger(__name__)"
   ]
  },
  {
   "cell_type": "code",
   "execution_count": 4,
   "metadata": {
    "collapsed": false,
    "jupyter": {
     "outputs_hidden": false
    },
    "pycharm": {
     "name": "#%%\n"
    }
   },
   "outputs": [],
   "source": [
    "# ==== reset the seed for reproductability ====\n",
    "reset_seed(1234)"
   ]
  },
  {
   "cell_type": "markdown",
   "metadata": {},
   "source": [
    "# Prepare the data"
   ]
  },
  {
   "cell_type": "code",
   "execution_count": 5,
   "metadata": {
    "collapsed": false,
    "jupyter": {
     "outputs_hidden": false
    },
    "pycharm": {
     "name": "#%%\n"
    }
   },
   "outputs": [
    {
     "name": "stdout",
     "output_type": "stream",
     "text": [
      "\u001b[1;34mDEBUG --- datasetManager.__init__ >>> ../dataset/DESED/dataset/audio/dcase2020_dataset_22050.hdf5\u001b[0m\n",
      "\u001b[1;37mINFO --- datasetManager._load_metadata >>> Reading metadata: ../dataset/DESED/dataset/metadata/train/weak.tsv\u001b[0m\n",
      "\u001b[1;37mINFO --- datasetManager._load_metadata >>> Reading metadata: ../dataset/DESED/dataset/metadata/train/unlabel_in_domain.tsv\u001b[0m\n",
      "\u001b[1;37mINFO --- datasetManager._load_metadata >>> Reading metadata: ../dataset/DESED/dataset/metadata/train/synthetic20.tsv\u001b[0m\n"
     ]
    }
   ],
   "source": [
    "# ==== load the dataset ====\n",
    "desed_metadata_root = \"../dataset/DESED/dataset/metadata\"\n",
    "desed_audio_root = \"../dataset/DESED/dataset/audio\"\n",
    "# desed_metadata_root = os.path.join(\"e:/\", \"Corpus\", \"dcase2020\", \"DESED\", \"dataset\", \"metadata\")\n",
    "# desed_audio_root = os.path.join(\"e:/\", \"Corpus\", \"dcase2020\", \"DESED\", \"dataset\", \"audio\")\n",
    "\n",
    "manager = DESEDManager(\n",
    "    desed_metadata_root, desed_audio_root,\n",
    "    sampling_rate = 22050,\n",
    "    from_disk=False,\n",
    "    nb_vector_bin=53, # The model output localisation with a résolution of ~ 18ms --> 53 temporal bins\n",
    "    verbose = 1\n",
    ")"
   ]
  },
  {
   "cell_type": "markdown",
   "metadata": {},
   "source": [
    "## Add weak and validation"
   ]
  },
  {
   "cell_type": "code",
   "execution_count": 6,
   "metadata": {
    "collapsed": false,
    "jupyter": {
     "outputs_hidden": false
    },
    "pycharm": {
     "name": "#%%\n"
    }
   },
   "outputs": [
    {
     "name": "stdout",
     "output_type": "stream",
     "text": [
      "\u001b[1;37mINFO --- datasetManager._add_train_metadata >>> Loading metadata for: weak\u001b[0m\n",
      "\u001b[1;37mINFO --- datasetManager._add_train_subset >>> Loading dataset: train, subset: weak\u001b[0m\n",
      "\u001b[1;34mDEBUG --- datasetManager._hdf_to_dict >>> hdf_file: <HDF5 file \"dcase2020_dataset_22050.hdf5\" (mode r)>\u001b[0m\n",
      "\u001b[1;34mDEBUG --- datasetManager._hdf_to_dict >>> path: DESED/dataset/audio/train/weak\u001b[0m\n"
     ]
    },
    {
     "name": "stderr",
     "output_type": "stream",
     "text": [
      "100%|██████████| 4251/4251 [00:08<00:00, 500.48it/s]"
     ]
    },
    {
     "name": "stdout",
     "output_type": "stream",
     "text": [
      "\u001b[1;37mINFO --- datasetManager._add_val_subset >>> Loading dataset: validation\u001b[0m\n",
      "\u001b[1;34mDEBUG --- datasetManager._hdf_to_dict >>> hdf_file: <HDF5 file \"dcase2020_dataset_22050.hdf5\" (mode r)>\u001b[0m\n"
     ]
    },
    {
     "name": "stderr",
     "output_type": "stream",
     "text": [
      "\n"
     ]
    },
    {
     "name": "stdout",
     "output_type": "stream",
     "text": [
      "\u001b[1;34mDEBUG --- datasetManager._hdf_to_dict >>> path: DESED/dataset/audio/validation\u001b[0m\n"
     ]
    }
   ],
   "source": [
    "manager.add_subset(\"weak\")\n",
    "manager.add_subset(\"validation\")"
   ]
  },
  {
   "cell_type": "raw",
   "metadata": {},
   "source": [
    "class MultipleDataset(Dataset):\n",
    "\n",
    "    def __init__(self, datasets):\n",
    "        super(MultipleDataset, self).__init__()\n",
    "        assert len(datasets) > 0, 'datasets should not be an empty iterable'\n",
    "        self.datasets = list(datasets)\n",
    "        for d in self.datasets:\n",
    "            assert not isinstance(d, IterableDataset), \"ConcatDataset does not support IterableDataset\"\n",
    "\n",
    "    def __len__(self):\n",
    "        return len(self.datasets[0])\n",
    "\n",
    "    def __getitem__(self, idx):\n",
    "        return [d[sample_idx] for d in self.datasets]"
   ]
  },
  {
   "cell_type": "markdown",
   "metadata": {},
   "source": [
    "# Prepare training"
   ]
  },
  {
   "cell_type": "markdown",
   "metadata": {},
   "source": [
    "## Prep dataset\n",
    "\n",
    "- We want both the weak and strong ground truth --> the *weak* and *strong* parameters to True"
   ]
  },
  {
   "cell_type": "code",
   "execution_count": 7,
   "metadata": {},
   "outputs": [],
   "source": [
    "augments = [\n",
    "    # signal_augmentation.Noise(0.5, target_snr=15),\n",
    "    # signal_augmentation.RandomTimeDropout(0.5, dropout=0.2)\n",
    "]\n",
    "\n",
    "train_dataset = DESEDDataset(manager, train=True, val=False, weak=True, strong=False, augments=augments, cached=True)\n",
    "val_dataset = DESEDDataset(manager, train=False, val=True, weak=True, strong=False, augments=[], cached=True)"
   ]
  },
  {
   "cell_type": "code",
   "execution_count": 8,
   "metadata": {},
   "outputs": [
    {
     "data": {
      "text/plain": [
       "(1465, 1058)"
      ]
     },
     "execution_count": 8,
     "metadata": {},
     "output_type": "execute_result"
    }
   ],
   "source": [
    "len(train_dataset), len(val_dataset)"
   ]
  },
  {
   "cell_type": "markdown",
   "metadata": {},
   "source": [
    "## model\n",
    "\n",
    "This model is the same than the weak baseline but have an extra output. <br />\n",
    "the loc_output is compose of a single convolution layer with nb_filters == nb_class. <br />\n",
    "Since their is some pooling layer, the *loc_ouput* have a precision of 53 bins (~= 18 ms)"
   ]
  },
  {
   "cell_type": "code",
   "execution_count": 9,
   "metadata": {
    "collapsed": false,
    "jupyter": {
     "outputs_hidden": false
    },
    "pycharm": {
     "name": "#%% Setup model and training parameters\n"
    },
    "scrolled": true
   },
   "outputs": [
    {
     "data": {
      "text/plain": [
       "WeakBaseline(\n",
       "  (features): Sequential(\n",
       "    (0): ConvPoolReLU(\n",
       "      (0): Conv2d(1, 32, kernel_size=(3, 3), stride=(1, 1), padding=(1, 1))\n",
       "      (1): MaxPool2d(kernel_size=(4, 2), stride=(4, 2), padding=0, dilation=1, ceil_mode=False)\n",
       "      (2): BatchNorm2d(32, eps=1e-05, momentum=0.1, affine=True, track_running_stats=True)\n",
       "      (3): Dropout2d(p=0.0, inplace=False)\n",
       "      (4): ReLU6(inplace=True)\n",
       "    )\n",
       "    (1): ConvPoolReLU(\n",
       "      (0): Conv2d(32, 32, kernel_size=(3, 3), stride=(1, 1), padding=(1, 1))\n",
       "      (1): MaxPool2d(kernel_size=(4, 2), stride=(4, 2), padding=0, dilation=1, ceil_mode=False)\n",
       "      (2): BatchNorm2d(32, eps=1e-05, momentum=0.1, affine=True, track_running_stats=True)\n",
       "      (3): Dropout2d(p=0.3, inplace=False)\n",
       "      (4): ReLU6(inplace=True)\n",
       "    )\n",
       "    (2): ConvPoolReLU(\n",
       "      (0): Conv2d(32, 32, kernel_size=(3, 3), stride=(1, 1), padding=(1, 1))\n",
       "      (1): MaxPool2d(kernel_size=(4, 2), stride=(4, 2), padding=0, dilation=1, ceil_mode=False)\n",
       "      (2): BatchNorm2d(32, eps=1e-05, momentum=0.1, affine=True, track_running_stats=True)\n",
       "      (3): Dropout2d(p=0.3, inplace=False)\n",
       "      (4): ReLU6(inplace=True)\n",
       "    )\n",
       "    (3): Conv2d(32, 32, kernel_size=(1, 1), stride=(1, 1))\n",
       "    (4): ReLU6()\n",
       "  )\n",
       "  (classifier): Sequential(\n",
       "    (0): Flatten()\n",
       "    (1): Dropout(p=0.5, inplace=False)\n",
       "    (2): Linear(in_features=1696, out_features=10, bias=True)\n",
       "  )\n",
       ")"
      ]
     },
     "execution_count": 9,
     "metadata": {},
     "output_type": "execute_result"
    }
   ],
   "source": [
    "torch.cuda.empty_cache() \n",
    "\n",
    "model = WeakBaseline()\n",
    "model.cuda()"
   ]
  },
  {
   "cell_type": "code",
   "execution_count": 10,
   "metadata": {
    "scrolled": true
   },
   "outputs": [
    {
     "name": "stdout",
     "output_type": "stream",
     "text": [
      "==================================================================================\n",
      "                               Kernel Shape      Output Shape  Params  \\\n",
      "Layer                                                                   \n",
      "0_features.0.Conv2d_0         [1, 32, 3, 3]  [1, 32, 64, 431]   320.0   \n",
      "1_features.0.MaxPool2d_1                  -  [1, 32, 16, 215]       -   \n",
      "2_features.0.BatchNorm2d_2             [32]  [1, 32, 16, 215]    64.0   \n",
      "3_features.0.Dropout2d_3                  -  [1, 32, 16, 215]       -   \n",
      "4_features.0.ReLU6_4                      -  [1, 32, 16, 215]       -   \n",
      "5_features.1.Conv2d_0        [32, 32, 3, 3]  [1, 32, 16, 215]  9.248k   \n",
      "6_features.1.MaxPool2d_1                  -   [1, 32, 4, 107]       -   \n",
      "7_features.1.BatchNorm2d_2             [32]   [1, 32, 4, 107]    64.0   \n",
      "8_features.1.Dropout2d_3                  -   [1, 32, 4, 107]       -   \n",
      "9_features.1.ReLU6_4                      -   [1, 32, 4, 107]       -   \n",
      "10_features.2.Conv2d_0       [32, 32, 3, 3]   [1, 32, 4, 107]  9.248k   \n",
      "11_features.2.MaxPool2d_1                 -    [1, 32, 1, 53]       -   \n",
      "12_features.2.BatchNorm2d_2            [32]    [1, 32, 1, 53]    64.0   \n",
      "13_features.2.Dropout2d_3                 -    [1, 32, 1, 53]       -   \n",
      "14_features.2.ReLU6_4                     -    [1, 32, 1, 53]       -   \n",
      "15_features.Conv2d_3         [32, 32, 1, 1]    [1, 32, 1, 53]  1.056k   \n",
      "16_features.ReLU6_4                       -    [1, 32, 1, 53]       -   \n",
      "17_classifier.Flatten_0                   -         [1, 1696]       -   \n",
      "18_classifier.Dropout_1                   -         [1, 1696]       -   \n",
      "19_classifier.Linear_2           [1696, 10]           [1, 10]  16.97k   \n",
      "\n",
      "                             Mult-Adds  \n",
      "Layer                                   \n",
      "0_features.0.Conv2d_0        7.944192M  \n",
      "1_features.0.MaxPool2d_1             -  \n",
      "2_features.0.BatchNorm2d_2        32.0  \n",
      "3_features.0.Dropout2d_3             -  \n",
      "4_features.0.ReLU6_4                 -  \n",
      "5_features.1.Conv2d_0        31.70304M  \n",
      "6_features.1.MaxPool2d_1             -  \n",
      "7_features.1.BatchNorm2d_2        32.0  \n",
      "8_features.1.Dropout2d_3             -  \n",
      "9_features.1.ReLU6_4                 -  \n",
      "10_features.2.Conv2d_0       3.944448M  \n",
      "11_features.2.MaxPool2d_1            -  \n",
      "12_features.2.BatchNorm2d_2       32.0  \n",
      "13_features.2.Dropout2d_3            -  \n",
      "14_features.2.ReLU6_4                -  \n",
      "15_features.Conv2d_3           54.272k  \n",
      "16_features.ReLU6_4                  -  \n",
      "17_classifier.Flatten_0              -  \n",
      "18_classifier.Dropout_1              -  \n",
      "19_classifier.Linear_2          16.96k  \n",
      "----------------------------------------------------------------------------------\n",
      "                          Totals\n",
      "Total params             37.034k\n",
      "Trainable params         37.034k\n",
      "Non-trainable params         0.0\n",
      "Mult-Adds             43.663008M\n",
      "==================================================================================\n"
     ]
    }
   ],
   "source": [
    "from torchsummaryX import summary\n",
    "input_tensor = torch.zeros((1, 64, 431), dtype=torch.float)\n",
    "input_tensor = input_tensor.cuda()\n",
    "\n",
    "s = summary(model, input_tensor)\n"
   ]
  },
  {
   "cell_type": "markdown",
   "metadata": {},
   "source": [
    "## Create a custom loss function\n",
    "\n",
    "Since not all file have strong truth, it is necessary to remove those files. <br />\n",
    "For that, the strong mask is computed. If the sum of the strong ground truth is equal to 0 then it is a fake one <br />\n",
    "This file strong loss must not be taken into account."
   ]
  },
  {
   "cell_type": "markdown",
   "metadata": {},
   "source": [
    "## Training parameters (crit & callbacks & loaders & metrics)m"
   ]
  },
  {
   "cell_type": "code",
   "execution_count": 11,
   "metadata": {
    "collapsed": false,
    "jupyter": {
     "outputs_hidden": false
    },
    "pycharm": {
     "name": "#%% Setup model and training parameters\n"
    }
   },
   "outputs": [],
   "source": [
    "# training parameters\n",
    "nb_epochs = 100\n",
    "batch_size = 32\n",
    "nb_batch = len(train_dataset) // batch_size\n",
    "\n",
    "optimizers = torch.optim.Adam(model.parameters(), lr=0.003)\n",
    "criterion = nn.BCEWithLogitsLoss(reduction=\"mean\")\n",
    "\n",
    "# callbacks\n",
    "callbacks = []\n",
    "\n",
    "# tensorboard\n",
    "title = \"WeakBaseline_%s\" % (get_datetime())\n",
    "tensorboard = SummaryWriter(log_dir=Path(\"../tensorboard/%s\" % title), comment=\"weak baseline\")\n",
    "\n",
    "# loaders\n",
    "training_loader = torch.utils.data.DataLoader(train_dataset, batch_size=batch_size, shuffle=True)\n",
    "val_loader = torch.utils.data.DataLoader(val_dataset, batch_size=batch_size, shuffle=False)\n",
    "\n",
    "# Metrics\n",
    "weak_binacc_func = BinaryAccuracy()\n",
    "weak_f_func = FScore()\n"
   ]
  },
  {
   "cell_type": "code",
   "execution_count": 12,
   "metadata": {},
   "outputs": [],
   "source": [
    "def reset_all_metrics():\n",
    "    metrics = [weak_binacc_func, weak_f_func]\n",
    "    \n",
    "    for m in metrics:\n",
    "        m.reset()"
   ]
  },
  {
   "cell_type": "markdown",
   "metadata": {},
   "source": [
    "## Training functions"
   ]
  },
  {
   "cell_type": "code",
   "execution_count": 13,
   "metadata": {},
   "outputs": [
    {
     "name": "stdout",
     "output_type": "stream",
     "text": [
      "         Epoch  - %      - Losses:  Weak   - metrics:  Weak acc    | Weak F1  - Time  \n"
     ]
    }
   ],
   "source": [
    "UNDERLINE_SEQ = \"\\033[1;4m\"\n",
    "RESET_SEQ = \"\\033[0m\"\n",
    "\n",
    "\n",
    "header_form = \"{:<8.8} {:<6.6} - {:<6.6} - {:<8.8} {:<6.6} - {:<9.9} {:<12.12}| {:<9.9}- {:<6.6}\"\n",
    "value_form  = \"{:<8.8} {:<6} - {:<6} - {:<8.8} {:<6.4f} - {:<9.9} {:<10.4f}| {:<9.4f}- {:<6.4f}\"\n",
    "header = header_form.format(\n",
    "    \"\", \"Epoch\", \"%\", \"Losses:\", \"Weak \", \"metrics: \", \"Weak acc \", \"Weak F1 \",\"Time\"\n",
    ")\n",
    "\n",
    "\n",
    "train_form = value_form\n",
    "val_form = UNDERLINE_SEQ + value_form + RESET_SEQ\n",
    "\n",
    "print(header)"
   ]
  },
  {
   "cell_type": "code",
   "execution_count": 14,
   "metadata": {
    "collapsed": false,
    "jupyter": {
     "outputs_hidden": false
    },
    "pycharm": {
     "name": "#%% training function\n"
    }
   },
   "outputs": [],
   "source": [
    "def train(epoch: int):\n",
    "    start_time = time.time()\n",
    "    \n",
    "    reset_all_metrics()\n",
    "    \n",
    "    model.train()\n",
    "    print(\"\") # <-- Force new line\n",
    "    \n",
    "    for i, (X, y) in enumerate(training_loader):\n",
    "        # The DESEDDataset return a list of ground truth depending on the selecting option.\n",
    "        # If weak and strong ground truth are selected, the list order is [WEAK, STRONG]\n",
    "        # here there is only one [WEAK]\n",
    "        X = X.cuda().float()\n",
    "        y_weak = y[0].cuda().float()\n",
    "        \n",
    "        weak_logits = model(X)\n",
    "        \n",
    "        # calc the loss\n",
    "        weak_loss = criterion(weak_logits, y_weak)\n",
    "        \n",
    "        # back propagation\n",
    "        optimizers.zero_grad()\n",
    "        weak_loss.backward()\n",
    "        optimizers.step()\n",
    "        \n",
    "        with torch.set_grad_enabled(False):\n",
    "\n",
    "            # calc metrics\n",
    "            weak_pred = torch.sigmoid(weak_logits)\n",
    "\n",
    "            # tagging\n",
    "            weak_binacc = weak_binacc_func(weak_pred, y_weak)\n",
    "            weak_fscore = weak_f_func(weak_pred, y_weak)\n",
    "\n",
    "            # logs\n",
    "            print(train_form.format(\n",
    "                \"Training: \",\n",
    "                epoch + 1,\n",
    "                int(100 * (i + 1) / nb_batch),\n",
    "                \"\", weak_loss.item(),\n",
    "                \"\", weak_binacc, weak_fscore,\n",
    "                time.time() - start_time\n",
    "            ), end=\"\\r\")\n",
    "\n",
    "        # tensorboard logs\n",
    "        tensorboard.add_scalar(\"train/weak_loss\", weak_loss.item(), epoch)\n",
    "\n",
    "        tensorboard.add_scalar(\"train/weak_acc\", weak_binacc, epoch)\n",
    "        tensorboard.add_scalar(\"train/weak_f1\", weak_fscore, epoch)\n"
   ]
  },
  {
   "cell_type": "code",
   "execution_count": 15,
   "metadata": {
    "collapsed": false,
    "jupyter": {
     "outputs_hidden": false
    },
    "pycharm": {
     "name": "#%% validation function\n"
    }
   },
   "outputs": [],
   "source": [
    "def val(epoch):\n",
    "    start_time = time.time()\n",
    "\n",
    "    reset_all_metrics()\n",
    "    \n",
    "    model.eval()\n",
    "    print(\"\") # <-- Force new line\n",
    "    \n",
    "    with torch.set_grad_enabled(False):\n",
    "        for i, (X, y) in enumerate(val_loader):\n",
    "            X = X.cuda().float()\n",
    "            y_weak = y[0].cuda().float()\n",
    "\n",
    "            weak_logits = model(X)\n",
    "\n",
    "            # calc the loss\n",
    "            weak_loss = criterion(weak_logits, y_weak)\n",
    "\n",
    "             # calc metrics\n",
    "            weak_pred = torch.sigmoid(weak_logits)\n",
    "\n",
    "            # tagging\n",
    "            weak_binacc = weak_binacc_func(weak_pred, y_weak)\n",
    "            weak_fscore = weak_f_func(weak_pred, y_weak)\n",
    "\n",
    "\n",
    "            # logs\n",
    "            print(val_form.format(\n",
    "                \"Validation: \",\n",
    "                epoch + 1,\n",
    "                int(100 * (i + 1) / nb_batch),\n",
    "                \"\", weak_loss.item(),\n",
    "                \"\", weak_binacc, weak_fscore,\n",
    "                time.time() - start_time\n",
    "            ), end=\"\\r\")\n",
    "\n",
    "        # tensorboard logs\n",
    "        tensorboard.add_scalar(\"val/weak_loss\", weak_loss.item(), epoch)\n",
    "\n",
    "        tensorboard.add_scalar(\"val/weak_acc\", weak_binacc, epoch)\n",
    "        tensorboard.add_scalar(\"val/weak_f1\", weak_fscore, epoch)\n"
   ]
  },
  {
   "cell_type": "markdown",
   "metadata": {},
   "source": [
    "# Train"
   ]
  },
  {
   "cell_type": "code",
   "execution_count": 16,
   "metadata": {
    "collapsed": false,
    "jupyter": {
     "outputs_hidden": false
    },
    "pycharm": {
     "name": "#%%\n"
    }
   },
   "outputs": [
    {
     "name": "stdout",
     "output_type": "stream",
     "text": [
      "         Epoch  - %      - Losses:  Weak   - metrics:  Weak acc    | Weak F1  - Time  \n",
      "\n",
      "Training 1      - 102    -          0.3749 -           0.8460    | 0.0485   - 18.9169\n",
      "\u001b[1;4mValidati 1      - 75     -          0.3079 -           0.8561    | 0.2107   - 13.3737\u001b[0m\n",
      "Training 2      - 102    -          0.3329 -           0.8618    | 0.1717   - 0.6710\n",
      "\u001b[1;4mValidati 2      - 75     -          0.3032 -           0.8777    | 0.3784   - 0.1724\u001b[0m\n",
      "Training 3      - 102    -          0.3234 -           0.8702    | 0.2849   - 0.5948\n",
      "\u001b[1;4mValidati 3      - 75     -          0.2373 -           0.8815    | 0.4517   - 0.1583\u001b[0m\n",
      "Training 4      - 102    -          0.3756 -           0.8758    | 0.3489   - 0.5959\n",
      "\u001b[1;4mValidati 4      - 75     -          0.2294 -           0.8812    | 0.4087   - 0.1585\u001b[0m\n",
      "Training 5      - 102    -          0.2736 -           0.8779    | 0.3777   - 0.5970\n",
      "\u001b[1;4mValidati 5      - 75     -          0.2300 -           0.8833    | 0.4759   - 0.1584\u001b[0m\n",
      "Training 6      - 102    -          0.2875 -           0.8781    | 0.3872   - 0.5975\n",
      "\u001b[1;4mValidati 6      - 75     -          0.2460 -           0.8837    | 0.4259   - 0.1584\u001b[0m\n",
      "Training 7      - 102    -          0.3159 -           0.8851    | 0.4282   - 0.5929\n",
      "\u001b[1;4mValidati 7      - 75     -          0.2096 -           0.8883    | 0.4917   - 0.1578\u001b[0m\n",
      "Training 8      - 102    -          0.2497 -           0.8873    | 0.4628   - 0.5951\n",
      "\u001b[1;4mValidati 8      - 75     -          0.2267 -           0.8798    | 0.4422   - 0.1576\u001b[0m\n",
      "Training 9      - 102    -          0.3087 -           0.8877    | 0.4591   - 0.5965\n",
      "\u001b[1;4mValidati 9      - 75     -          0.2351 -           0.8767    | 0.4457   - 0.1593\u001b[0m\n",
      "Training 10     - 102    -          0.3018 -           0.8888    | 0.4737   - 0.5934\n",
      "\u001b[1;4mValidati 10     - 75     -          0.2441 -           0.8868    | 0.4547   - 0.1571\u001b[0m\n",
      "Training 11     - 102    -          0.2711 -           0.8921    | 0.4904   - 0.5929\n",
      "\u001b[1;4mValidati 11     - 75     -          0.2500 -           0.8852    | 0.4712   - 0.1572\u001b[0m\n",
      "Training 12     - 102    -          0.2471 -           0.8912    | 0.4889   - 0.5929\n",
      "\u001b[1;4mValidati 12     - 75     -          0.2283 -           0.8790    | 0.4711   - 0.1584\u001b[0m\n",
      "Training 13     - 102    -          0.2315 -           0.8950    | 0.5060   - 0.5949\n",
      "\u001b[1;4mValidati 13     - 75     -          0.2455 -           0.8810    | 0.4963   - 0.1572\u001b[0m\n",
      "Training 14     - 102    -          0.2084 -           0.8928    | 0.5101   - 0.5904\n",
      "\u001b[1;4mValidati 14     - 75     -          0.2279 -           0.8881    | 0.4770   - 0.1568\u001b[0m\n",
      "Training 15     - 102    -          0.2568 -           0.8968    | 0.5274   - 0.5914\n",
      "\u001b[1;4mValidati 15     - 75     -          0.2222 -           0.8856    | 0.5240   - 0.1576\u001b[0m\n",
      "Training 16     - 102    -          0.2139 -           0.8994    | 0.5519   - 0.5951\n",
      "\u001b[1;4mValidati 16     - 75     -          0.2213 -           0.8893    | 0.4934   - 0.1592\u001b[0m\n",
      "Training 17     - 102    -          0.2935 -           0.9013    | 0.5634   - 0.5970\n",
      "\u001b[1;4mValidati 17     - 75     -          0.2386 -           0.8903    | 0.5279   - 0.1580\u001b[0m\n",
      "Training 18     - 102    -          0.3041 -           0.8987    | 0.5464   - 0.5959\n",
      "\u001b[1;4mValidati 18     - 75     -          0.2350 -           0.8869    | 0.5172   - 0.1596\u001b[0m\n",
      "Training 19     - 102    -          0.3130 -           0.9013    | 0.5576   - 0.5954\n",
      "\u001b[1;4mValidati 19     - 75     -          0.2381 -           0.8884    | 0.5081   - 0.1587\u001b[0m\n",
      "Training 20     - 102    -          0.3050 -           0.9018    | 0.5686   - 0.5967\n",
      "\u001b[1;4mValidati 20     - 75     -          0.2534 -           0.8793    | 0.4686   - 0.1593\u001b[0m\n",
      "Training 21     - 102    -          0.2690 -           0.8993    | 0.5555   - 0.5949\n",
      "\u001b[1;4mValidati 21     - 75     -          0.2385 -           0.8888    | 0.4981   - 0.1592\u001b[0m\n",
      "Training 22     - 102    -          0.2419 -           0.9046    | 0.5819   - 0.5990\n",
      "\u001b[1;4mValidati 22     - 75     -          0.2269 -           0.8908    | 0.5267   - 0.1599\u001b[0m\n",
      "Training 23     - 102    -          0.2415 -           0.9031    | 0.5800   - 0.5971\n",
      "\u001b[1;4mValidati 23     - 75     -          0.2358 -           0.8886    | 0.5107   - 0.1575\u001b[0m\n",
      "Training 24     - 102    -          0.2304 -           0.9072    | 0.5987   - 0.6103\n",
      "\u001b[1;4mValidati 24     - 75     -          0.2300 -           0.8905    | 0.5220   - 0.1695\u001b[0m\n",
      "Training 25     - 102    -          0.2519 -           0.9067    | 0.5940   - 0.6149\n",
      "\u001b[1;4mValidati 25     - 75     -          0.2439 -           0.8905    | 0.4995   - 0.1683\u001b[0m\n",
      "Training 26     - 102    -          0.2037 -           0.9062    | 0.5930   - 0.6156\n",
      "\u001b[1;4mValidati 26     - 75     -          0.2247 -           0.8879    | 0.5211   - 0.1621\u001b[0m\n",
      "Training 27     - 102    -          0.2515 -           0.9074    | 0.6041   - 0.6171\n",
      "\u001b[1;4mValidati 27     - 75     -          0.2686 -           0.8875    | 0.5305   - 0.1708\u001b[0m\n",
      "Training 28     - 102    -          0.2029 -           0.9113    | 0.6222   - 0.6209\n",
      "\u001b[1;4mValidati 28     - 75     -          0.2208 -           0.8895    | 0.5285   - 0.1694\u001b[0m\n",
      "Training 29     - 102    -          0.2262 -           0.9056    | 0.5926   - 0.6215\n",
      "\u001b[1;4mValidati 29     - 75     -          0.2288 -           0.8918    | 0.5391   - 0.1717\u001b[0m\n",
      "Training 30     - 102    -          0.2050 -           0.9122    | 0.6211   - 0.6205\n",
      "\u001b[1;4mValidati 30     - 75     -          0.2334 -           0.8924    | 0.5279   - 0.1724\u001b[0m\n",
      "Training 31     - 102    -          0.1800 -           0.9139    | 0.6367   - 0.6224\n",
      "\u001b[1;4mValidati 31     - 75     -          0.2404 -           0.8858    | 0.5048   - 0.1726\u001b[0m\n",
      "Training 32     - 102    -          0.1685 -           0.9127    | 0.6299   - 0.6089\n",
      "\u001b[1;4mValidati 32     - 75     -          0.2514 -           0.8916    | 0.5369   - 0.1587\u001b[0m\n",
      "Training 33     - 102    -          0.1415 -           0.9125    | 0.6305   - 0.5953\n",
      "\u001b[1;4mValidati 33     - 75     -          0.2148 -           0.8881    | 0.5125   - 0.1595\u001b[0m\n",
      "Training 34     - 102    -          0.1905 -           0.9126    | 0.6380   - 0.5956\n",
      "\u001b[1;4mValidati 34     - 75     -          0.2381 -           0.8903    | 0.5392   - 0.1585\u001b[0m\n",
      "Training 35     - 102    -          0.2296 -           0.9177    | 0.6539   - 0.5954\n",
      "\u001b[1;4mValidati 35     - 75     -          0.2339 -           0.8914    | 0.5418   - 0.1615\u001b[0m\n",
      "Training 36     - 102    -          0.2006 -           0.9132    | 0.6402   - 0.5955\n",
      "\u001b[1;4mValidati 36     - 75     -          0.2347 -           0.8887    | 0.5238   - 0.1587\u001b[0m\n",
      "Training 37     - 102    -          0.2083 -           0.9150    | 0.6485   - 0.5976\n",
      "\u001b[1;4mValidati 37     - 75     -          0.2504 -           0.8938    | 0.5432   - 0.1593\u001b[0m\n",
      "Training 38     - 102    -          0.2754 -           0.9135    | 0.6364   - 0.5974\n",
      "\u001b[1;4mValidati 38     - 75     -          0.2455 -           0.8867    | 0.4929   - 0.1591\u001b[0m\n",
      "Training 39     - 102    -          0.2612 -           0.9153    | 0.6441   - 0.5989\n",
      "\u001b[1;4mValidati 39     - 75     -          0.2253 -           0.8909    | 0.5313   - 0.1579\u001b[0m\n",
      "Training 40     - 102    -          0.2636 -           0.9182    | 0.6618   - 0.5957\n",
      "\u001b[1;4mValidati 40     - 75     -          0.2475 -           0.8899    | 0.5187   - 0.1578\u001b[0m\n",
      "Training 41     - 102    -          0.1825 -           0.9205    | 0.6698   - 0.5968\n",
      "\u001b[1;4mValidati 41     - 75     -          0.2442 -           0.8880    | 0.5115   - 0.1577\u001b[0m\n",
      "Training 42     - 102    -          0.2028 -           0.9167    | 0.6612   - 0.6005\n",
      "\u001b[1;4mValidati 42     - 75     -          0.2352 -           0.8877    | 0.5111   - 0.1596\u001b[0m\n",
      "Training 43     - 102    -          0.2475 -           0.9197    | 0.6685   - 0.5983\n",
      "\u001b[1;4mValidati 43     - 75     -          0.2245 -           0.8898    | 0.5449   - 0.1582\u001b[0m\n",
      "Training 44     - 102    -          0.1773 -           0.9177    | 0.6597   - 0.5962\n",
      "\u001b[1;4mValidati 44     - 75     -          0.2528 -           0.8884    | 0.5472   - 0.1591\u001b[0m\n",
      "Training 45     - 102    -          0.2341 -           0.9210    | 0.6732   - 0.5961\n",
      "\u001b[1;4mValidati 45     - 75     -          0.2459 -           0.8876    | 0.5155   - 0.1579\u001b[0m\n",
      "Training 46     - 102    -          0.1697 -           0.9233    | 0.6866   - 0.6011\n",
      "\u001b[1;4mValidati 46     - 75     -          0.2303 -           0.8895    | 0.5288   - 0.1934\u001b[0m\n",
      "Training 47     - 102    -          0.1971 -           0.9199    | 0.6728   - 0.6219\n",
      "\u001b[1;4mValidati 47     - 75     -          0.2352 -           0.8930    | 0.5389   - 0.1577\u001b[0m\n",
      "Training 48     - 102    -          0.2022 -           0.9210    | 0.6769   - 0.5975\n",
      "\u001b[1;4mValidati 48     - 75     -          0.2375 -           0.8881    | 0.5212   - 0.1598\u001b[0m\n",
      "Training 49     - 102    -          0.1970 -           0.9201    | 0.6750   - 0.6006\n",
      "\u001b[1;4mValidati 49     - 75     -          0.2216 -           0.8916    | 0.5499   - 0.1588\u001b[0m\n",
      "Training 50     - 102    -          0.2482 -           0.9219    | 0.6872   - 0.5998\n",
      "\u001b[1;4mValidati 50     - 75     -          0.2281 -           0.8840    | 0.4986   - 0.1730\u001b[0m\n",
      "Training 51     - 102    -          0.1985 -           0.9217    | 0.6792   - 0.5973\n",
      "\u001b[1;4mValidati 51     - 75     -          0.2366 -           0.8902    | 0.5283   - 0.1587\u001b[0m\n",
      "Training 52     - 102    -          0.2414 -           0.9219    | 0.6808   - 0.5995\n",
      "\u001b[1;4mValidati 52     - 75     -          0.2265 -           0.8950    | 0.5589   - 0.1591\u001b[0m\n",
      "Training 53     - 102    -          0.1777 -           0.9273    | 0.7071   - 0.5998\n",
      "\u001b[1;4mValidati 53     - 75     -          0.2412 -           0.8942    | 0.5481   - 0.1583\u001b[0m\n",
      "Training 54     - 102    -          0.1290 -           0.9244    | 0.6938   - 0.6026\n",
      "\u001b[1;4mValidati 54     - 75     -          0.2370 -           0.8903    | 0.5293   - 0.1637\u001b[0m\n",
      "Training 55     - 102    -          0.1667 -           0.9217    | 0.6787   - 0.6076\n",
      "\u001b[1;4mValidati 55     - 75     -          0.2386 -           0.8936    | 0.5563   - 0.1591\u001b[0m\n",
      "Training 56     - 102    -          0.1336 -           0.9271    | 0.7112   - 0.6015\n",
      "\u001b[1;4mValidati 56     - 75     -          0.2290 -           0.8944    | 0.5554   - 0.1592\u001b[0m\n",
      "Training 57     - 102    -          0.2404 -           0.9279    | 0.7085   - 0.5991\n",
      "\u001b[1;4mValidati 57     - 75     -          0.2359 -           0.8937    | 0.5349   - 0.1580\u001b[0m\n",
      "Training 58     - 102    -          0.1865 -           0.9257    | 0.6999   - 0.5976\n",
      "\u001b[1;4mValidati 58     - 75     -          0.2440 -           0.8907    | 0.5418   - 0.1604\u001b[0m\n",
      "Training 59     - 102    -          0.1878 -           0.9254    | 0.6973   - 0.5983\n",
      "\u001b[1;4mValidati 59     - 75     -          0.2552 -           0.8956    | 0.5565   - 0.1604\u001b[0m\n",
      "Training 60     - 102    -          0.1711 -           0.9263    | 0.7047   - 0.5999\n",
      "\u001b[1;4mValidati 60     - 75     -          0.2334 -           0.8938    | 0.5564   - 0.1613\u001b[0m\n",
      "Training 61     - 102    -          0.2285 -           0.9274    | 0.7081   - 0.5971\n",
      "\u001b[1;4mValidati 61     - 75     -          0.2502 -           0.8949    | 0.5581   - 0.1609\u001b[0m\n",
      "Training 62     - 102    -          0.1427 -           0.9285    | 0.7152   - 0.5989\n",
      "\u001b[1;4mValidati 62     - 75     -          0.2336 -           0.8980    | 0.5738   - 0.1587\u001b[0m\n",
      "Training 63     - 102    -          0.1553 -           0.9307    | 0.7222   - 0.5983\n",
      "\u001b[1;4mValidati 63     - 75     -          0.2412 -           0.8975    | 0.5609   - 0.1591\u001b[0m\n",
      "Training 64     - 102    -          0.2033 -           0.9312    | 0.7268   - 0.5977\n",
      "\u001b[1;4mValidati 64     - 75     -          0.2324 -           0.8922    | 0.5421   - 0.1576\u001b[0m\n",
      "Training 65     - 102    -          0.1854 -           0.9317    | 0.7290   - 0.5979\n",
      "\u001b[1;4mValidati 65     - 75     -          0.2488 -           0.8895    | 0.5388   - 0.1577\u001b[0m\n",
      "Training 66     - 102    -          0.2026 -           0.9286    | 0.7138   - 0.5987\n",
      "\u001b[1;4mValidati 66     - 75     -          0.2429 -           0.8902    | 0.5382   - 0.1575\u001b[0m\n",
      "Training 67     - 102    -          0.1641 -           0.9267    | 0.7089   - 0.5971\n",
      "\u001b[1;4mValidati 67     - 75     -          0.2621 -           0.8944    | 0.5485   - 0.1577\u001b[0m\n",
      "Training 68     - 102    -          0.1435 -           0.9300    | 0.7224   - 0.5995\n",
      "\u001b[1;4mValidati 68     - 75     -          0.2500 -           0.8958    | 0.5454   - 0.1645\u001b[0m\n",
      "Training 69     - 102    -          0.2079 -           0.9289    | 0.7141   - 0.5995\n",
      "\u001b[1;4mValidati 69     - 75     -          0.2434 -           0.8934    | 0.5433   - 0.1605\u001b[0m\n",
      "Training 70     - 102    -          0.1712 -           0.9282    | 0.7137   - 0.5977\n",
      "\u001b[1;4mValidati 70     - 75     -          0.2506 -           0.8951    | 0.5479   - 0.1581\u001b[0m\n",
      "Training 71     - 102    -          0.1157 -           0.9321    | 0.7315   - 0.5987\n",
      "\u001b[1;4mValidati 71     - 75     -          0.2399 -           0.8931    | 0.5407   - 0.1587\u001b[0m\n",
      "Training 72     - 102    -          0.1510 -           0.9287    | 0.7158   - 0.5982\n",
      "\u001b[1;4mValidati 72     - 75     -          0.2469 -           0.8926    | 0.5501   - 0.1589\u001b[0m\n",
      "Training 73     - 102    -          0.1539 -           0.9350    | 0.7429   - 0.6087\n",
      "\u001b[1;4mValidati 73     - 75     -          0.2487 -           0.8915    | 0.5197   - 0.1644\u001b[0m\n",
      "Training 74     - 102    -          0.1701 -           0.9320    | 0.7295   - 0.6190\n",
      "\u001b[1;4mValidati 74     - 75     -          0.2465 -           0.8939    | 0.5652   - 0.1609\u001b[0m\n",
      "Training 75     - 102    -          0.1515 -           0.9342    | 0.7396   - 0.6006\n",
      "\u001b[1;4mValidati 75     - 75     -          0.2494 -           0.8895    | 0.5383   - 0.1590\u001b[0m\n",
      "Training 76     - 102    -          0.1568 -           0.9321    | 0.7320   - 0.5974\n",
      "\u001b[1;4mValidati 76     - 75     -          0.2549 -           0.8930    | 0.5479   - 0.1580\u001b[0m\n",
      "Training 77     - 102    -          0.1700 -           0.9315    | 0.7288   - 0.6186\n",
      "\u001b[1;4mValidati 77     - 75     -          0.2288 -           0.8947    | 0.5520   - 0.1734\u001b[0m\n",
      "Training 78     - 102    -          0.1241 -           0.9334    | 0.7386   - 0.5986\n",
      "\u001b[1;4mValidati 78     - 75     -          0.2308 -           0.8955    | 0.5533   - 0.1593\u001b[0m\n",
      "Training 79     - 102    -          0.1093 -           0.9329    | 0.7343   - 0.5971\n",
      "\u001b[1;4mValidati 79     - 75     -          0.2549 -           0.8933    | 0.5544   - 0.1582\u001b[0m\n",
      "Training 80     - 102    -          0.1526 -           0.9312    | 0.7297   - 0.5985\n",
      "\u001b[1;4mValidati 80     - 75     -          0.2365 -           0.8880    | 0.5245   - 0.1590\u001b[0m\n",
      "Training 81     - 102    -          0.1582 -           0.9339    | 0.7404   - 0.6096\n",
      "\u001b[1;4mValidati 81     - 75     -          0.2505 -           0.8917    | 0.5371   - 0.1595\u001b[0m\n",
      "Training 82     - 102    -          0.1808 -           0.9313    | 0.7320   - 0.5973\n",
      "\u001b[1;4mValidati 82     - 75     -          0.2621 -           0.8972    | 0.5522   - 0.1605\u001b[0m\n",
      "Training 83     - 102    -          0.1809 -           0.9328    | 0.7351   - 0.5981\n",
      "\u001b[1;4mValidati 83     - 75     -          0.2428 -           0.8926    | 0.5493   - 0.1571\u001b[0m\n",
      "Training 84     - 102    -          0.2118 -           0.9344    | 0.7425   - 0.5978\n",
      "\u001b[1;4mValidati 84     - 75     -          0.2500 -           0.8926    | 0.5549   - 0.1595\u001b[0m\n",
      "Training 85     - 102    -          0.1817 -           0.9329    | 0.7390   - 0.6069\n",
      "\u001b[1;4mValidati 85     - 75     -          0.2453 -           0.8928    | 0.5406   - 0.1581\u001b[0m\n",
      "Training 86     - 102    -          0.1264 -           0.9338    | 0.7366   - 0.5979\n",
      "\u001b[1;4mValidati 86     - 75     -          0.2382 -           0.8960    | 0.5509   - 0.1582\u001b[0m\n",
      "Training 87     - 102    -          0.1250 -           0.9378    | 0.7569   - 0.5964\n",
      "\u001b[1;4mValidati 87     - 75     -          0.2682 -           0.8942    | 0.5518   - 0.1585\u001b[0m\n",
      "Training 88     - 102    -          0.1792 -           0.9375    | 0.7568   - 0.5982\n",
      "\u001b[1;4mValidati 88     - 75     -          0.2420 -           0.8947    | 0.5533   - 0.1572\u001b[0m\n",
      "Training 89     - 102    -          0.1943 -           0.9355    | 0.7491   - 0.5974\n",
      "\u001b[1;4mValidati 89     - 75     -          0.2404 -           0.8937    | 0.5639   - 0.1571\u001b[0m\n",
      "Training 90     - 102    -          0.1823 -           0.9333    | 0.7367   - 0.5960\n",
      "\u001b[1;4mValidati 90     - 75     -          0.2381 -           0.8948    | 0.5558   - 0.1573\u001b[0m\n",
      "Training 91     - 102    -          0.1295 -           0.9387    | 0.7571   - 0.5971\n",
      "\u001b[1;4mValidati 91     - 75     -          0.2635 -           0.8953    | 0.5569   - 0.1592\u001b[0m\n",
      "Training 92     - 102    -          0.1726 -           0.9381    | 0.7593   - 0.6001\n",
      "\u001b[1;4mValidati 92     - 75     -          0.2411 -           0.8963    | 0.5584   - 0.1618\u001b[0m\n",
      "Training 93     - 102    -          0.1960 -           0.9352    | 0.7467   - 0.5979\n",
      "\u001b[1;4mValidati 93     - 75     -          0.2425 -           0.8942    | 0.5467   - 0.1569\u001b[0m\n",
      "Training 94     - 102    -          0.1820 -           0.9342    | 0.7410   - 0.5979\n",
      "\u001b[1;4mValidati 94     - 75     -          0.2369 -           0.8941    | 0.5474   - 0.1577\u001b[0m\n",
      "Training 95     - 102    -          0.2408 -           0.9343    | 0.7422   - 0.6000\n",
      "\u001b[1;4mValidati 95     - 75     -          0.2493 -           0.8942    | 0.5497   - 0.1608\u001b[0m\n",
      "Training 96     - 102    -          0.1306 -           0.9369    | 0.7532   - 0.5996\n",
      "\u001b[1;4mValidati 96     - 75     -          0.2412 -           0.8952    | 0.5531   - 0.1581\u001b[0m\n",
      "Training 97     - 102    -          0.1199 -           0.9336    | 0.7368   - 0.5984\n",
      "\u001b[1;4mValidati 97     - 75     -          0.2463 -           0.8924    | 0.5563   - 0.1578\u001b[0m\n",
      "Training 98     - 102    -          0.1679 -           0.9372    | 0.7563   - 0.5986\n",
      "\u001b[1;4mValidati 98     - 75     -          0.2379 -           0.8967    | 0.5642   - 0.1591\u001b[0m\n",
      "Training 99     - 102    -          0.1378 -           0.9375    | 0.7558   - 0.5999\n",
      "\u001b[1;4mValidati 99     - 75     -          0.2386 -           0.8952    | 0.5623   - 0.1611\u001b[0m\n",
      "Training 100    - 102    -          0.1665 -           0.9387    | 0.7625   - 0.6183\n",
      "\u001b[1;4mValidati 100    - 75     -          0.2487 -           0.8971    | 0.5735   - 0.1635\u001b[0m\r"
     ]
    }
   ],
   "source": [
    "print(header)\n",
    "for e in range(nb_epochs):\n",
    "    train(e)\n",
    "    val(e)"
   ]
  },
  {
   "cell_type": "markdown",
   "metadata": {},
   "source": [
    "# ♫♪.ılılıll|̲̅̅●̲̅̅|̲̅̅=̲̅̅|̲̅̅●̲̅̅|llılılı.♫♪"
   ]
  }
 ],
 "metadata": {
  "kernelspec": {
   "display_name": "dcase2020",
   "language": "python",
   "name": "dcase2020"
  },
  "language_info": {
   "codemirror_mode": {
    "name": "ipython",
    "version": 3
   },
   "file_extension": ".py",
   "mimetype": "text/x-python",
   "name": "python",
   "nbconvert_exporter": "python",
   "pygments_lexer": "ipython3",
   "version": "3.7.7"
  },
  "toc-autonumbering": true,
  "toc-showcode": false,
  "toc-showmarkdowntxt": false
 },
 "nbformat": 4,
 "nbformat_minor": 4
}
