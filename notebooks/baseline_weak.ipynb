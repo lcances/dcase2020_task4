{
 "cells": [
  {
   "cell_type": "code",
   "execution_count": 1,
   "metadata": {
    "pycharm": {
     "name": "#%% Import\n"
    }
   },
   "outputs": [],
   "source": [
    "%load_ext autoreload\n",
    "%autoreload 2"
   ]
  },
  {
   "cell_type": "code",
   "execution_count": 2,
   "metadata": {},
   "outputs": [],
   "source": [
    "import time\n",
    "import os\n",
    "from pathlib import Path\n",
    "import torch.nn as nn\n",
    "import torch.nn.functional as F\n",
    "import torch.utils.data\n",
    "from torch.utils.tensorboard import SummaryWriter\n",
    "\n",
    "import sys\n",
    "sys.path.append(\"..\")\n",
    "\n",
    "# dataset manager\n",
    "from dcase2020.datasetManager import DESEDManager\n",
    "from dcase2020.datasets import DESEDDataset\n",
    "\n",
    "# utility function & metrics & augmentation\n",
    "from metric_utils.metrics import FScore, BinaryAccuracy\n",
    "from dcase2020_task4.util.utils import get_datetime, reset_seed\n",
    "\n",
    "# models\n",
    "from dcase2020_task4.baseline.models import WeakBaseline"
   ]
  },
  {
   "cell_type": "code",
   "execution_count": 3,
   "metadata": {
    "collapsed": false,
    "jupyter": {
     "outputs_hidden": false
    },
    "pycharm": {
     "name": "#%%\n"
    }
   },
   "outputs": [],
   "source": [
    "# ==== set the log ====\n",
    "import logging\n",
    "import logging.config\n",
    "from dcase2020.util.log import DEFAULT_LOGGING\n",
    "logging.config.dictConfig(DEFAULT_LOGGING)\n",
    "log = logging.getLogger(__name__)"
   ]
  },
  {
   "cell_type": "code",
   "execution_count": 4,
   "metadata": {
    "collapsed": false,
    "jupyter": {
     "outputs_hidden": false
    },
    "pycharm": {
     "name": "#%%\n"
    }
   },
   "outputs": [],
   "source": [
    "# ==== reset the seed for reproductability ====\n",
    "reset_seed(1234)"
   ]
  },
  {
   "cell_type": "markdown",
   "metadata": {},
   "source": [
    "# Prepare the data"
   ]
  },
  {
   "cell_type": "code",
   "execution_count": 17,
   "metadata": {
    "collapsed": false,
    "jupyter": {
     "outputs_hidden": false
    },
    "pycharm": {
     "name": "#%%\n"
    }
   },
   "outputs": [
    {
     "name": "stdout",
     "output_type": "stream",
     "text": [
      "\u001b[1;34mDEBUG --- datasetManager.__init__ >>> ../dataset/DESED/dataset/audio/dcase2020_dataset_22050.hdf5\u001b[0m\n",
      "\u001b[1;37mINFO --- datasetManager._load_metadata >>> Reading metadata: ../dataset/DESED/dataset/metadata/train/weak.tsv\u001b[0m\n",
      "\u001b[1;37mINFO --- datasetManager._load_metadata >>> Reading metadata: ../dataset/DESED/dataset/metadata/train/unlabel_in_domain.tsv\u001b[0m\n",
      "\u001b[1;37mINFO --- datasetManager._load_metadata >>> Reading metadata: ../dataset/DESED/dataset/metadata/train/synthetic20.tsv\u001b[0m\n"
     ]
    }
   ],
   "source": [
    "# ==== load the dataset ====\n",
    "desed_metadata_root = \"../dataset/DESED/dataset/metadata\"\n",
    "desed_audio_root = \"../dataset/DESED/dataset/audio\"\n",
    "# desed_metadata_root = os.path.join(\"e:/\", \"Corpus\", \"dcase2020\", \"DESED\", \"dataset\", \"metadata\")\n",
    "# desed_audio_root = os.path.join(\"e:/\", \"Corpus\", \"dcase2020\", \"DESED\", \"dataset\", \"audio\")\n",
    "\n",
    "manager = DESEDManager(\n",
    "    desed_metadata_root, desed_audio_root,\n",
    "    sampling_rate = 22050,\n",
    "    from_disk=False,\n",
    "    nb_vector_bin=53, # The model output localisation with a résolution of ~ 18ms --> 53 temporal bins\n",
    "    verbose = 1\n",
    ")"
   ]
  },
  {
   "cell_type": "markdown",
   "metadata": {},
   "source": [
    "## Add weak and validation"
   ]
  },
  {
   "cell_type": "code",
   "execution_count": 18,
   "metadata": {
    "collapsed": false,
    "jupyter": {
     "outputs_hidden": false
    },
    "pycharm": {
     "name": "#%%\n"
    }
   },
   "outputs": [
    {
     "name": "stdout",
     "output_type": "stream",
     "text": [
      "\u001b[1;37mINFO --- datasetManager._add_train_metadata >>> Loading metadata for: weak\u001b[0m\n",
      "\u001b[1;37mINFO --- datasetManager._add_train_subset >>> Loading dataset: train, subset: weak\u001b[0m\n",
      "\u001b[1;34mDEBUG --- datasetManager._hdf_to_dict >>> hdf_file: <HDF5 file \"dcase2020_dataset_22050.hdf5\" (mode r)>\u001b[0m\n",
      "\u001b[1;34mDEBUG --- datasetManager._hdf_to_dict >>> path: DESED/dataset/audio/train/weak\u001b[0m\n"
     ]
    },
    {
     "name": "stderr",
     "output_type": "stream",
     "text": [
      "100%|██████████| 4251/4251 [00:08<00:00, 489.95it/s]"
     ]
    },
    {
     "name": "stdout",
     "output_type": "stream",
     "text": [
      "\u001b[1;37mINFO --- datasetManager._add_val_subset >>> Loading dataset: validation\u001b[0m\n",
      "\u001b[1;34mDEBUG --- datasetManager._hdf_to_dict >>> hdf_file: <HDF5 file \"dcase2020_dataset_22050.hdf5\" (mode r)>\u001b[0m\n"
     ]
    },
    {
     "name": "stderr",
     "output_type": "stream",
     "text": [
      "\n"
     ]
    },
    {
     "name": "stdout",
     "output_type": "stream",
     "text": [
      "\u001b[1;34mDEBUG --- datasetManager._hdf_to_dict >>> path: DESED/dataset/audio/validation\u001b[0m\n"
     ]
    }
   ],
   "source": [
    "manager.add_subset(\"weak\")\n",
    "manager.add_subset(\"validation\")"
   ]
  },
  {
   "cell_type": "raw",
   "metadata": {},
   "source": [
    "class MultipleDataset(Dataset):\n",
    "\n",
    "    def __init__(self, datasets):\n",
    "        super(MultipleDataset, self).__init__()\n",
    "        assert len(datasets) > 0, 'datasets should not be an empty iterable'\n",
    "        self.datasets = list(datasets)\n",
    "        for d in self.datasets:\n",
    "            assert not isinstance(d, IterableDataset), \"ConcatDataset does not support IterableDataset\"\n",
    "\n",
    "    def __len__(self):\n",
    "        return len(self.datasets[0])\n",
    "\n",
    "    def __getitem__(self, idx):\n",
    "        return [d[sample_idx] for d in self.datasets]"
   ]
  },
  {
   "cell_type": "markdown",
   "metadata": {},
   "source": [
    "# Prepare training"
   ]
  },
  {
   "cell_type": "markdown",
   "metadata": {},
   "source": [
    "## Prep dataset\n",
    "\n",
    "- We want both the weak and strong ground truth --> the *weak* and *strong* parameters to True"
   ]
  },
  {
   "cell_type": "code",
   "execution_count": 19,
   "metadata": {},
   "outputs": [],
   "source": [
    "augments = [\n",
    "    # signal_augmentation.Noise(0.5, target_snr=15),\n",
    "    # signal_augmentation.RandomTimeDropout(0.5, dropout=0.2)\n",
    "]\n",
    "\n",
    "train_dataset = DESEDDataset(manager, train=True, val=False, weak=True, strong=False, augments=augments, cached=True)\n",
    "val_dataset = DESEDDataset(manager, train=False, val=True, weak=True, strong=False, augments=[], cached=True)"
   ]
  },
  {
   "cell_type": "code",
   "execution_count": 20,
   "metadata": {},
   "outputs": [
    {
     "data": {
      "text/plain": [
       "(1465, 1058)"
      ]
     },
     "execution_count": 20,
     "metadata": {},
     "output_type": "execute_result"
    }
   ],
   "source": [
    "len(train_dataset), len(val_dataset)"
   ]
  },
  {
   "cell_type": "markdown",
   "metadata": {},
   "source": [
    "## model\n",
    "\n",
    "This model is the same than the weak baseline but have an extra output. <br />\n",
    "the loc_output is compose of a single convolution layer with nb_filters == nb_class. <br />\n",
    "Since their is some pooling layer, the *loc_ouput* have a precision of 53 bins (~= 18 ms)"
   ]
  },
  {
   "cell_type": "code",
   "execution_count": 21,
   "metadata": {
    "collapsed": false,
    "jupyter": {
     "outputs_hidden": false
    },
    "pycharm": {
     "name": "#%% Setup model and training parameters\n"
    },
    "scrolled": true
   },
   "outputs": [
    {
     "data": {
      "text/plain": [
       "WeakBaseline(\n",
       "  (features): Sequential(\n",
       "    (0): ConvPoolReLU(\n",
       "      (0): Conv2d(1, 32, kernel_size=(3, 3), stride=(1, 1), padding=(1, 1))\n",
       "      (1): MaxPool2d(kernel_size=(4, 2), stride=(4, 2), padding=0, dilation=1, ceil_mode=False)\n",
       "      (2): BatchNorm2d(32, eps=1e-05, momentum=0.1, affine=True, track_running_stats=True)\n",
       "      (3): Dropout2d(p=0.0, inplace=False)\n",
       "      (4): ReLU6(inplace=True)\n",
       "    )\n",
       "    (1): ConvPoolReLU(\n",
       "      (0): Conv2d(32, 32, kernel_size=(3, 3), stride=(1, 1), padding=(1, 1))\n",
       "      (1): MaxPool2d(kernel_size=(4, 2), stride=(4, 2), padding=0, dilation=1, ceil_mode=False)\n",
       "      (2): BatchNorm2d(32, eps=1e-05, momentum=0.1, affine=True, track_running_stats=True)\n",
       "      (3): Dropout2d(p=0.3, inplace=False)\n",
       "      (4): ReLU6(inplace=True)\n",
       "    )\n",
       "    (2): ConvPoolReLU(\n",
       "      (0): Conv2d(32, 32, kernel_size=(3, 3), stride=(1, 1), padding=(1, 1))\n",
       "      (1): MaxPool2d(kernel_size=(4, 2), stride=(4, 2), padding=0, dilation=1, ceil_mode=False)\n",
       "      (2): BatchNorm2d(32, eps=1e-05, momentum=0.1, affine=True, track_running_stats=True)\n",
       "      (3): Dropout2d(p=0.3, inplace=False)\n",
       "      (4): ReLU6(inplace=True)\n",
       "    )\n",
       "    (3): Conv2d(32, 32, kernel_size=(1, 1), stride=(1, 1))\n",
       "    (4): ReLU6()\n",
       "  )\n",
       "  (classifier): Sequential(\n",
       "    (0): Flatten()\n",
       "    (1): Dropout(p=0.5, inplace=False)\n",
       "    (2): Linear(in_features=1696, out_features=10, bias=True)\n",
       "  )\n",
       ")"
      ]
     },
     "execution_count": 21,
     "metadata": {},
     "output_type": "execute_result"
    }
   ],
   "source": [
    "torch.cuda.empty_cache() \n",
    "\n",
    "model = WeakBaseline()\n",
    "model.cuda()"
   ]
  },
  {
   "cell_type": "code",
   "execution_count": 22,
   "metadata": {
    "scrolled": true
   },
   "outputs": [
    {
     "name": "stdout",
     "output_type": "stream",
     "text": [
      "==================================================================================\n",
      "                               Kernel Shape      Output Shape  Params  \\\n",
      "Layer                                                                   \n",
      "0_features.0.Conv2d_0         [1, 32, 3, 3]  [1, 32, 64, 431]   320.0   \n",
      "1_features.0.MaxPool2d_1                  -  [1, 32, 16, 215]       -   \n",
      "2_features.0.BatchNorm2d_2             [32]  [1, 32, 16, 215]    64.0   \n",
      "3_features.0.Dropout2d_3                  -  [1, 32, 16, 215]       -   \n",
      "4_features.0.ReLU6_4                      -  [1, 32, 16, 215]       -   \n",
      "5_features.1.Conv2d_0        [32, 32, 3, 3]  [1, 32, 16, 215]  9.248k   \n",
      "6_features.1.MaxPool2d_1                  -   [1, 32, 4, 107]       -   \n",
      "7_features.1.BatchNorm2d_2             [32]   [1, 32, 4, 107]    64.0   \n",
      "8_features.1.Dropout2d_3                  -   [1, 32, 4, 107]       -   \n",
      "9_features.1.ReLU6_4                      -   [1, 32, 4, 107]       -   \n",
      "10_features.2.Conv2d_0       [32, 32, 3, 3]   [1, 32, 4, 107]  9.248k   \n",
      "11_features.2.MaxPool2d_1                 -    [1, 32, 1, 53]       -   \n",
      "12_features.2.BatchNorm2d_2            [32]    [1, 32, 1, 53]    64.0   \n",
      "13_features.2.Dropout2d_3                 -    [1, 32, 1, 53]       -   \n",
      "14_features.2.ReLU6_4                     -    [1, 32, 1, 53]       -   \n",
      "15_features.Conv2d_3         [32, 32, 1, 1]    [1, 32, 1, 53]  1.056k   \n",
      "16_features.ReLU6_4                       -    [1, 32, 1, 53]       -   \n",
      "17_classifier.Flatten_0                   -         [1, 1696]       -   \n",
      "18_classifier.Dropout_1                   -         [1, 1696]       -   \n",
      "19_classifier.Linear_2           [1696, 10]           [1, 10]  16.97k   \n",
      "\n",
      "                             Mult-Adds  \n",
      "Layer                                   \n",
      "0_features.0.Conv2d_0        7.944192M  \n",
      "1_features.0.MaxPool2d_1             -  \n",
      "2_features.0.BatchNorm2d_2        32.0  \n",
      "3_features.0.Dropout2d_3             -  \n",
      "4_features.0.ReLU6_4                 -  \n",
      "5_features.1.Conv2d_0        31.70304M  \n",
      "6_features.1.MaxPool2d_1             -  \n",
      "7_features.1.BatchNorm2d_2        32.0  \n",
      "8_features.1.Dropout2d_3             -  \n",
      "9_features.1.ReLU6_4                 -  \n",
      "10_features.2.Conv2d_0       3.944448M  \n",
      "11_features.2.MaxPool2d_1            -  \n",
      "12_features.2.BatchNorm2d_2       32.0  \n",
      "13_features.2.Dropout2d_3            -  \n",
      "14_features.2.ReLU6_4                -  \n",
      "15_features.Conv2d_3           54.272k  \n",
      "16_features.ReLU6_4                  -  \n",
      "17_classifier.Flatten_0              -  \n",
      "18_classifier.Dropout_1              -  \n",
      "19_classifier.Linear_2          16.96k  \n",
      "----------------------------------------------------------------------------------\n",
      "                          Totals\n",
      "Total params             37.034k\n",
      "Trainable params         37.034k\n",
      "Non-trainable params         0.0\n",
      "Mult-Adds             43.663008M\n",
      "==================================================================================\n"
     ]
    }
   ],
   "source": [
    "from torchsummaryX import summary\n",
    "input_tensor = torch.zeros((1, 64, 431), dtype=torch.float)\n",
    "input_tensor = input_tensor.cuda()\n",
    "\n",
    "s = summary(model, input_tensor)\n"
   ]
  },
  {
   "cell_type": "markdown",
   "metadata": {},
   "source": [
    "## Create a custom loss function\n",
    "\n",
    "Since not all file have strong truth, it is necessary to remove those files. <br />\n",
    "For that, the strong mask is computed. If the sum of the strong ground truth is equal to 0 then it is a fake one <br />\n",
    "This file strong loss must not be taken into account."
   ]
  },
  {
   "cell_type": "markdown",
   "metadata": {},
   "source": [
    "## Training parameters (crit & callbacks & loaders & metrics)m"
   ]
  },
  {
   "cell_type": "code",
   "execution_count": 23,
   "metadata": {
    "collapsed": false,
    "jupyter": {
     "outputs_hidden": false
    },
    "pycharm": {
     "name": "#%% Setup model and training parameters\n"
    }
   },
   "outputs": [],
   "source": [
    "# training parameters\n",
    "nb_epochs = 100\n",
    "batch_size = 32\n",
    "nb_batch = len(train_dataset) // batch_size\n",
    "\n",
    "optimizers = torch.optim.Adam(model.parameters(), lr=0.003)\n",
    "criterion = nn.BCEWithLogitsLoss(reduction=\"mean\")\n",
    "\n",
    "# callbacks\n",
    "callbacks = []\n",
    "\n",
    "# tensorboard\n",
    "title = \"WeakBaseline_%s\" % (get_datetime())\n",
    "tensorboard = SummaryWriter(log_dir=Path(\"../tensorboard/%s\" % title), comment=\"weak baseline\")\n",
    "\n",
    "# loaders\n",
    "training_loader = torch.utils.data.DataLoader(train_dataset, batch_size=batch_size, shuffle=True)\n",
    "val_loader = torch.utils.data.DataLoader(val_dataset, batch_size=batch_size, shuffle=False)\n",
    "\n",
    "# Metrics\n",
    "weak_binacc_func = BinaryAccuracy()\n",
    "weak_f_func = FScore()\n"
   ]
  },
  {
   "cell_type": "code",
   "execution_count": 24,
   "metadata": {},
   "outputs": [],
   "source": [
    "def reset_all_metrics():\n",
    "    metrics = [weak_binacc_func, weak_f_func]\n",
    "    \n",
    "    for m in metrics:\n",
    "        m.reset()"
   ]
  },
  {
   "cell_type": "markdown",
   "metadata": {},
   "source": [
    "## Training functions"
   ]
  },
  {
   "cell_type": "code",
   "execution_count": 25,
   "metadata": {},
   "outputs": [
    {
     "name": "stdout",
     "output_type": "stream",
     "text": [
      "         Epoch  - %      - Losses:  Weak   - metrics:  Weak acc    | Weak F1  - Time  \n"
     ]
    }
   ],
   "source": [
    "UNDERLINE_SEQ = \"\\033[1;4m\"\n",
    "RESET_SEQ = \"\\033[0m\"\n",
    "\n",
    "\n",
    "header_form = \"{:<8.8} {:<6.6} - {:<6.6} - {:<8.8} {:<6.6} - {:<9.9} {:<12.12}| {:<9.9}- {:<6.6}\"\n",
    "value_form  = \"{:<8.8} {:<6} - {:<6} - {:<8.8} {:<6.4f} - {:<9.9} {:<10.4f}| {:<9.4f}- {:<6.4f}\"\n",
    "header = header_form.format(\n",
    "    \"\", \"Epoch\", \"%\", \"Losses:\", \"Weak \", \"metrics: \", \"Weak acc \", \"Weak F1 \",\"Time\"\n",
    ")\n",
    "\n",
    "\n",
    "train_form = value_form\n",
    "val_form = UNDERLINE_SEQ + value_form + RESET_SEQ\n",
    "\n",
    "print(header)"
   ]
  },
  {
   "cell_type": "code",
   "execution_count": 26,
   "metadata": {
    "collapsed": false,
    "jupyter": {
     "outputs_hidden": false
    },
    "pycharm": {
     "name": "#%% training function\n"
    }
   },
   "outputs": [],
   "source": [
    "def train(epoch: int):\n",
    "    start_time = time.time()\n",
    "    \n",
    "    reset_all_metrics()\n",
    "    \n",
    "    model.train()\n",
    "    print(\"\") # <-- Force new line\n",
    "    \n",
    "    for i, (X, y) in enumerate(training_loader):\n",
    "        # The DESEDDataset return a list of ground truth depending on the selecting option.\n",
    "        # If weak and strong ground truth are selected, the list order is [WEAK, STRONG]\n",
    "        # here there is only one [WEAK]\n",
    "        X = X.cuda().float()\n",
    "        y_weak = y[0].cuda().float()\n",
    "        \n",
    "        weak_logits = model(X)\n",
    "        \n",
    "        # calc the loss\n",
    "        weak_loss = criterion(weak_logits, y_weak)\n",
    "        \n",
    "        # back propagation\n",
    "        optimizers.zero_grad()\n",
    "        weak_loss.backward()\n",
    "        optimizers.step()\n",
    "        \n",
    "        with torch.set_grad_enabled(False):\n",
    "\n",
    "            # calc metrics\n",
    "            weak_pred = torch.sigmoid(weak_logits)\n",
    "\n",
    "            # tagging\n",
    "            weak_binacc = weak_binacc_func(weak_pred, y_weak)\n",
    "            weak_fscore = weak_f_func(weak_pred, y_weak)\n",
    "\n",
    "            # logs\n",
    "            print(train_form.format(\n",
    "                \"Training: \",\n",
    "                epoch + 1,\n",
    "                int(100 * (i + 1) / nb_batch),\n",
    "                \"\", weak_loss.item(),\n",
    "                \"\", weak_binacc, weak_fscore,\n",
    "                time.time() - start_time\n",
    "            ), end=\"\\r\")\n",
    "\n",
    "        # tensorboard logs\n",
    "        tensorboard.add_scalar(\"train/weak_loss\", weak_loss.item(), epoch)\n",
    "\n",
    "        tensorboard.add_scalar(\"train/weak_acc\", weak_binacc, epoch)\n",
    "        tensorboard.add_scalar(\"train/weak_f1\", weak_fscore, epoch)\n"
   ]
  },
  {
   "cell_type": "code",
   "execution_count": 27,
   "metadata": {
    "collapsed": false,
    "jupyter": {
     "outputs_hidden": false
    },
    "pycharm": {
     "name": "#%% validation function\n"
    }
   },
   "outputs": [],
   "source": [
    "def val(epoch):\n",
    "    start_time = time.time()\n",
    "\n",
    "    reset_all_metrics()\n",
    "    \n",
    "    model.eval()\n",
    "    print(\"\") # <-- Force new line\n",
    "    \n",
    "    with torch.set_grad_enabled(False):\n",
    "        for i, (X, y) in enumerate(val_loader):\n",
    "            X = X.cuda().float()\n",
    "            y_weak = y[0].cuda().float()\n",
    "\n",
    "            weak_logits = model(X)\n",
    "\n",
    "            # calc the loss\n",
    "            weak_loss = criterion(weak_logits, y_weak)\n",
    "\n",
    "             # calc metrics\n",
    "            weak_pred = torch.sigmoid(weak_logits)\n",
    "\n",
    "            # tagging\n",
    "            weak_binacc = weak_binacc_func(weak_pred, y_weak)\n",
    "            weak_fscore = weak_f_func(weak_pred, y_weak)\n",
    "\n",
    "\n",
    "            # logs\n",
    "            print(val_form.format(\n",
    "                \"Validation: \",\n",
    "                epoch + 1,\n",
    "                int(100 * (i + 1) / nb_batch),\n",
    "                \"\", weak_loss.item(),\n",
    "                \"\", weak_binacc, weak_fscore,\n",
    "                time.time() - start_time\n",
    "            ), end=\"\\r\")\n",
    "\n",
    "        # tensorboard logs\n",
    "        tensorboard.add_scalar(\"val/weak_loss\", weak_loss.item(), epoch)\n",
    "\n",
    "        tensorboard.add_scalar(\"val/weak_acc\", weak_binacc, epoch)\n",
    "        tensorboard.add_scalar(\"val/weak_f1\", weak_fscore, epoch)\n"
   ]
  },
  {
   "cell_type": "markdown",
   "metadata": {},
   "source": [
    "# Train"
   ]
  },
  {
   "cell_type": "code",
   "execution_count": 28,
   "metadata": {
    "collapsed": false,
    "jupyter": {
     "outputs_hidden": false
    },
    "pycharm": {
     "name": "#%%\n"
    }
   },
   "outputs": [
    {
     "name": "stdout",
     "output_type": "stream",
     "text": [
      "         Epoch  - %      - Losses:  Weak   - metrics:  Weak acc    | Weak F1  - Time  \n",
      "\n",
      "Training 1      - 102    -          0.3537 -           0.8463    | 0.0686   - 19.3292\n",
      "\u001b[1;4mValidati 1      - 75     -          0.3394 -           0.8557    | 0.1136   - 13.4081\u001b[0m\n",
      "Training 2      - 102    -          0.3506 -           0.8623    | 0.1875   - 0.6456\n",
      "\u001b[1;4mValidati 2      - 75     -          0.2654 -           0.8812    | 0.4401   - 0.1643\u001b[0m\n",
      "Training 3      - 102    -          0.3349 -           0.8714    | 0.2989   - 0.6108\n",
      "\u001b[1;4mValidati 3      - 75     -          0.3099 -           0.8634    | 0.4500   - 0.1594\u001b[0m\n",
      "Training 4      - 102    -          0.3218 -           0.8742    | 0.3484   - 0.5987\n",
      "\u001b[1;4mValidati 4      - 75     -          0.3333 -           0.8691    | 0.4834   - 0.1762\u001b[0m\n",
      "Training 5      - 102    -          0.3391 -           0.8790    | 0.3876   - 0.5933\n",
      "\u001b[1;4mValidati 5      - 75     -          0.3127 -           0.8810    | 0.4602   - 0.1614\u001b[0m\n",
      "Training 6      - 102    -          0.3007 -           0.8837    | 0.4322   - 0.5985\n",
      "\u001b[1;4mValidati 6      - 75     -          0.2914 -           0.8817    | 0.4626   - 0.1589\u001b[0m\n",
      "Training 7      - 102    -          0.3182 -           0.8842    | 0.4337   - 0.5936\n",
      "\u001b[1;4mValidati 7      - 75     -          0.3237 -           0.8744    | 0.4553   - 0.1583\u001b[0m\n",
      "Training 8      - 102    -          0.2638 -           0.8844    | 0.4343   - 0.5949\n",
      "\u001b[1;4mValidati 8      - 75     -          0.2454 -           0.8823    | 0.4554   - 0.1632\u001b[0m\n",
      "Training 9      - 102    -          0.2758 -           0.8901    | 0.4769   - 0.5981\n",
      "\u001b[1;4mValidati 9      - 75     -          0.2689 -           0.8908    | 0.5122   - 0.1648\u001b[0m\n",
      "Training 10     - 102    -          0.2492 -           0.8935    | 0.4995   - 0.5957\n",
      "\u001b[1;4mValidati 10     - 75     -          0.2294 -           0.8803    | 0.5176   - 0.1596\u001b[0m\n",
      "Training 11     - 102    -          0.3136 -           0.8937    | 0.5072   - 0.5933\n",
      "\u001b[1;4mValidati 11     - 75     -          0.2282 -           0.8852    | 0.4797   - 0.1594\u001b[0m\n",
      "Training 12     - 102    -          0.2489 -           0.8949    | 0.5095   - 0.5947\n",
      "\u001b[1;4mValidati 12     - 75     -          0.2204 -           0.8858    | 0.4831   - 0.1595\u001b[0m\n",
      "Training 13     - 102    -          0.3061 -           0.8951    | 0.5235   - 0.5981\n",
      "\u001b[1;4mValidati 13     - 75     -          0.2235 -           0.8858    | 0.4774   - 0.1606\u001b[0m\n",
      "Training 14     - 102    -          0.3045 -           0.8975    | 0.5364   - 0.5960\n",
      "\u001b[1;4mValidati 14     - 75     -          0.2184 -           0.8834    | 0.4981   - 0.1605\u001b[0m\n",
      "Training 15     - 102    -          0.2254 -           0.8999    | 0.5483   - 0.5934\n",
      "\u001b[1;4mValidati 15     - 75     -          0.2394 -           0.8872    | 0.5065   - 0.1609\u001b[0m\n",
      "Training 16     - 102    -          0.2528 -           0.8997    | 0.5547   - 0.5966\n",
      "\u001b[1;4mValidati 16     - 75     -          0.2247 -           0.8872    | 0.5099   - 0.1599\u001b[0m\n",
      "Training 17     - 102    -          0.2694 -           0.8987    | 0.5437   - 0.5958\n",
      "\u001b[1;4mValidati 17     - 75     -          0.2349 -           0.8841    | 0.4656   - 0.1623\u001b[0m\n",
      "Training 18     - 102    -          0.2764 -           0.8995    | 0.5538   - 0.5964\n",
      "\u001b[1;4mValidati 18     - 75     -          0.2275 -           0.8878    | 0.4893   - 0.1594\u001b[0m\n",
      "Training 19     - 102    -          0.2740 -           0.9038    | 0.5681   - 0.5961\n",
      "\u001b[1;4mValidati 19     - 75     -          0.2438 -           0.8839    | 0.5022   - 0.1613\u001b[0m\n",
      "Training 20     - 102    -          0.2710 -           0.9042    | 0.5799   - 0.5997\n",
      "\u001b[1;4mValidati 20     - 75     -          0.2234 -           0.8910    | 0.5303   - 0.1613\u001b[0m\n",
      "Training 21     - 102    -          0.2287 -           0.9053    | 0.5893   - 0.5944\n",
      "\u001b[1;4mValidati 21     - 75     -          0.2152 -           0.8872    | 0.4813   - 0.1599\u001b[0m\n",
      "Training 22     - 102    -          0.2635 -           0.9071    | 0.5971   - 0.6017\n",
      "\u001b[1;4mValidati 22     - 75     -          0.2205 -           0.8817    | 0.4708   - 0.1616\u001b[0m\n",
      "Training 23     - 102    -          0.2824 -           0.9064    | 0.5924   - 0.5945\n",
      "\u001b[1;4mValidati 23     - 75     -          0.2542 -           0.8906    | 0.5075   - 0.1588\u001b[0m\n",
      "Training 24     - 102    -          0.2349 -           0.9064    | 0.6023   - 0.5992\n",
      "\u001b[1;4mValidati 24     - 75     -          0.2337 -           0.8820    | 0.4864   - 0.1588\u001b[0m\n",
      "Training 25     - 102    -          0.2358 -           0.9109    | 0.6135   - 0.5960\n",
      "\u001b[1;4mValidati 25     - 75     -          0.2263 -           0.8889    | 0.5302   - 0.1588\u001b[0m\n",
      "Training 26     - 102    -          0.2365 -           0.9111    | 0.6274   - 0.5950\n",
      "\u001b[1;4mValidati 26     - 75     -          0.2200 -           0.8846    | 0.5048   - 0.1624\u001b[0m\n",
      "Training 27     - 102    -          0.1905 -           0.9116    | 0.6256   - 0.5950\n",
      "\u001b[1;4mValidati 27     - 75     -          0.2481 -           0.8928    | 0.5384   - 0.1603\u001b[0m\n",
      "Training 28     - 102    -          0.2751 -           0.9109    | 0.6243   - 0.5943\n",
      "\u001b[1;4mValidati 28     - 75     -          0.2209 -           0.8867    | 0.5030   - 0.1622\u001b[0m\n",
      "Training 29     - 102    -          0.2380 -           0.9133    | 0.6290   - 0.6021\n",
      "\u001b[1;4mValidati 29     - 75     -          0.2249 -           0.8858    | 0.5229   - 0.1603\u001b[0m\n",
      "Training 30     - 102    -          0.2408 -           0.9152    | 0.6434   - 0.5980\n",
      "\u001b[1;4mValidati 30     - 75     -          0.2295 -           0.8899    | 0.5276   - 0.1595\u001b[0m\n",
      "Training 31     - 102    -          0.2311 -           0.9140    | 0.6400   - 0.6000\n",
      "\u001b[1;4mValidati 31     - 75     -          0.2259 -           0.8812    | 0.4823   - 0.1597\u001b[0m\n",
      "Training 32     - 102    -          0.2443 -           0.9138    | 0.6424   - 0.5985\n",
      "\u001b[1;4mValidati 32     - 75     -          0.2320 -           0.8932    | 0.5463   - 0.1598\u001b[0m\n",
      "Training 33     - 102    -          0.1477 -           0.9159    | 0.6489   - 0.5988\n",
      "\u001b[1;4mValidati 33     - 75     -          0.2609 -           0.8903    | 0.5316   - 0.1599\u001b[0m\n",
      "Training 34     - 102    -          0.2362 -           0.9173    | 0.6576   - 0.5986\n",
      "\u001b[1;4mValidati 34     - 75     -          0.2627 -           0.8861    | 0.5378   - 0.1605\u001b[0m\n",
      "Training 35     - 102    -          0.1859 -           0.9169    | 0.6572   - 0.5970\n",
      "\u001b[1;4mValidati 35     - 75     -          0.2275 -           0.8749    | 0.4683   - 0.1604\u001b[0m\n",
      "Training 36     - 102    -          0.2481 -           0.9208    | 0.6735   - 0.5961\n",
      "\u001b[1;4mValidati 36     - 75     -          0.2355 -           0.8924    | 0.5333   - 0.1582\u001b[0m\n",
      "Training 37     - 102    -          0.1669 -           0.9167    | 0.6568   - 0.5972\n",
      "\u001b[1;4mValidati 37     - 75     -          0.2386 -           0.8948    | 0.5424   - 0.1614\u001b[0m\n",
      "Training 38     - 102    -          0.1963 -           0.9210    | 0.6781   - 0.5993\n",
      "\u001b[1;4mValidati 38     - 75     -          0.2234 -           0.8922    | 0.5400   - 0.1625\u001b[0m\n",
      "Training 39     - 102    -          0.1730 -           0.9195    | 0.6687   - 0.5983\n",
      "\u001b[1;4mValidati 39     - 75     -          0.2268 -           0.8942    | 0.5518   - 0.1596\u001b[0m\n",
      "Training 40     - 102    -          0.2067 -           0.9196    | 0.6715   - 0.5992\n",
      "\u001b[1;4mValidati 40     - 75     -          0.2322 -           0.8949    | 0.5479   - 0.1621\u001b[0m\n",
      "Training 41     - 102    -          0.2004 -           0.9205    | 0.6765   - 0.5981\n",
      "\u001b[1;4mValidati 41     - 75     -          0.2285 -           0.8869    | 0.5285   - 0.1610\u001b[0m\n",
      "Training 42     - 102    -          0.1639 -           0.9228    | 0.6877   - 0.6009\n",
      "\u001b[1;4mValidati 42     - 75     -          0.2313 -           0.8922    | 0.5348   - 0.1609\u001b[0m\n",
      "Training 43     - 102    -          0.1401 -           0.9206    | 0.6780   - 0.5999\n",
      "\u001b[1;4mValidati 43     - 75     -          0.2182 -           0.8924    | 0.5458   - 0.1598\u001b[0m\n",
      "Training 44     - 102    -          0.1927 -           0.9234    | 0.6868   - 0.6059\n",
      "\u001b[1;4mValidati 44     - 75     -          0.2253 -           0.8938    | 0.5437   - 0.1608\u001b[0m\n",
      "Training 45     - 102    -          0.1868 -           0.9236    | 0.6871   - 0.5967\n",
      "\u001b[1;4mValidati 45     - 75     -          0.2225 -           0.8944    | 0.5560   - 0.1580\u001b[0m\n",
      "Training 46     - 102    -          0.1974 -           0.9252    | 0.6961   - 0.6098\n",
      "\u001b[1;4mValidati 46     - 75     -          0.2746 -           0.8898    | 0.5421   - 0.1601\u001b[0m\n",
      "Training 47     - 102    -          0.2037 -           0.9224    | 0.6877   - 0.5959\n",
      "\u001b[1;4mValidati 47     - 75     -          0.2299 -           0.8946    | 0.5543   - 0.1578\u001b[0m\n",
      "Training 48     - 102    -          0.1878 -           0.9244    | 0.6954   - 0.5962\n",
      "\u001b[1;4mValidati 48     - 75     -          0.2183 -           0.8869    | 0.5197   - 0.1600\u001b[0m\n",
      "Training 49     - 102    -          0.1739 -           0.9260    | 0.6996   - 0.5982\n",
      "\u001b[1;4mValidati 49     - 75     -          0.2340 -           0.8927    | 0.5434   - 0.1585\u001b[0m\n",
      "Training 50     - 102    -          0.1919 -           0.9243    | 0.6934   - 0.5955\n",
      "\u001b[1;4mValidati 50     - 75     -          0.2256 -           0.8929    | 0.5396   - 0.1586\u001b[0m\n",
      "Training 51     - 102    -          0.1924 -           0.9253    | 0.6946   - 0.5961\n",
      "\u001b[1;4mValidati 51     - 75     -          0.2249 -           0.8927    | 0.5543   - 0.1578\u001b[0m\n",
      "Training 52     - 102    -          0.2889 -           0.9271    | 0.7104   - 0.5963\n",
      "\u001b[1;4mValidati 52     - 75     -          0.2286 -           0.8911    | 0.5378   - 0.1578\u001b[0m\n",
      "Training 53     - 102    -          0.1804 -           0.9263    | 0.7054   - 0.5966\n",
      "\u001b[1;4mValidati 53     - 75     -          0.2289 -           0.8926    | 0.5576   - 0.1583\u001b[0m\n",
      "Training 54     - 102    -          0.1617 -           0.9260    | 0.7027   - 0.5958\n",
      "\u001b[1;4mValidati 54     - 75     -          0.2294 -           0.8928    | 0.5392   - 0.1577\u001b[0m\n",
      "Training 55     - 102    -          0.2082 -           0.9254    | 0.6951   - 0.6002\n",
      "\u001b[1;4mValidati 55     - 75     -          0.2205 -           0.8903    | 0.5357   - 0.1594\u001b[0m\n",
      "Training 56     - 102    -          0.1697 -           0.9282    | 0.7147   - 0.5989\n",
      "\u001b[1;4mValidati 56     - 75     -          0.2278 -           0.8958    | 0.5618   - 0.1590\u001b[0m\n",
      "Training 57     - 102    -          0.2426 -           0.9303    | 0.7201   - 0.5954\n",
      "\u001b[1;4mValidati 57     - 75     -          0.2153 -           0.8947    | 0.5562   - 0.1618\u001b[0m\n",
      "Training 58     - 102    -          0.2201 -           0.9259    | 0.7029   - 0.5975\n",
      "\u001b[1;4mValidati 58     - 75     -          0.2384 -           0.8936    | 0.5554   - 0.1598\u001b[0m\n",
      "Training 59     - 102    -          0.1634 -           0.9264    | 0.7058   - 0.5992\n",
      "\u001b[1;4mValidati 59     - 75     -          0.2233 -           0.8930    | 0.5551   - 0.1607\u001b[0m\n",
      "Training 60     - 102    -          0.1996 -           0.9324    | 0.7290   - 0.6008\n",
      "\u001b[1;4mValidati 60     - 75     -          0.2230 -           0.8954    | 0.5534   - 0.1593\u001b[0m\n",
      "Training 61     - 102    -          0.1905 -           0.9281    | 0.7119   - 0.5987\n",
      "\u001b[1;4mValidati 61     - 75     -          0.2199 -           0.8935    | 0.5501   - 0.1612\u001b[0m\n",
      "Training 62     - 102    -          0.1692 -           0.9280    | 0.7143   - 0.6263\n",
      "\u001b[1;4mValidati 62     - 75     -          0.2244 -           0.8894    | 0.5310   - 0.1637\u001b[0m\n",
      "Training 63     - 102    -          0.1546 -           0.9334    | 0.7354   - 0.6187\n",
      "\u001b[1;4mValidati 63     - 75     -          0.2415 -           0.8905    | 0.5380   - 0.1845\u001b[0m\n",
      "Training 64     - 102    -          0.1366 -           0.9346    | 0.7421   - 0.6296\n",
      "\u001b[1;4mValidati 64     - 75     -          0.2303 -           0.8950    | 0.5647   - 0.1684\u001b[0m\n",
      "Training 65     - 102    -          0.1826 -           0.9312    | 0.7236   - 0.6095\n",
      "\u001b[1;4mValidati 65     - 75     -          0.2099 -           0.8897    | 0.5564   - 0.1597\u001b[0m\n",
      "Training 66     - 102    -          0.2898 -           0.9302    | 0.7238   - 0.5986\n",
      "\u001b[1;4mValidati 66     - 75     -          0.2171 -           0.8923    | 0.5520   - 0.1607\u001b[0m\n",
      "Training 67     - 102    -          0.2107 -           0.9318    | 0.7303   - 0.6002\n",
      "\u001b[1;4mValidati 67     - 75     -          0.2177 -           0.8912    | 0.5414   - 0.1623\u001b[0m\n",
      "Training 68     - 102    -          0.3021 -           0.9345    | 0.7397   - 0.6042\n",
      "\u001b[1;4mValidati 68     - 75     -          0.2250 -           0.8951    | 0.5586   - 0.1598\u001b[0m\n",
      "Training 69     - 102    -          0.2452 -           0.9300    | 0.7226   - 0.6101\n",
      "\u001b[1;4mValidati 69     - 75     -          0.2316 -           0.8945    | 0.5599   - 0.1596\u001b[0m\n",
      "Training 70     - 102    -          0.1614 -           0.9316    | 0.7306   - 0.6000\n",
      "\u001b[1;4mValidati 70     - 75     -          0.2325 -           0.8933    | 0.5464   - 0.1617\u001b[0m\n",
      "Training 71     - 102    -          0.1576 -           0.9286    | 0.7159   - 0.6154\n",
      "\u001b[1;4mValidati 71     - 75     -          0.2337 -           0.8925    | 0.5430   - 0.1595\u001b[0m\n",
      "Training 72     - 102    -          0.1799 -           0.9316    | 0.7289   - 0.5996\n",
      "\u001b[1;4mValidati 72     - 75     -          0.2298 -           0.8930    | 0.5529   - 0.1596\u001b[0m\n",
      "Training 73     - 102    -          0.2418 -           0.9368    | 0.7503   - 0.6000\n",
      "\u001b[1;4mValidati 73     - 75     -          0.2169 -           0.8889    | 0.5429   - 0.1597\u001b[0m\n",
      "Training 74     - 102    -          0.1402 -           0.9349    | 0.7427   - 0.6025\n",
      "\u001b[1;4mValidati 74     - 75     -          0.2268 -           0.8920    | 0.5444   - 0.1633\u001b[0m\n",
      "Training 75     - 102    -          0.1431 -           0.9366    | 0.7515   - 0.5969\n",
      "\u001b[1;4mValidati 75     - 75     -          0.2277 -           0.8921    | 0.5474   - 0.1602\u001b[0m\n",
      "Training 76     - 102    -          0.1411 -           0.9334    | 0.7369   - 0.5998\n",
      "\u001b[1;4mValidati 76     - 75     -          0.2266 -           0.8886    | 0.5342   - 0.1620\u001b[0m\n",
      "Training 77     - 102    -          0.2165 -           0.9352    | 0.7446   - 0.5978\n",
      "\u001b[1;4mValidati 77     - 75     -          0.2352 -           0.8940    | 0.5622   - 0.1601\u001b[0m\n",
      "Training 78     - 102    -          0.1815 -           0.9344    | 0.7373   - 0.6006\n",
      "\u001b[1;4mValidati 78     - 75     -          0.2418 -           0.8940    | 0.5562   - 0.1596\u001b[0m\n",
      "Training 79     - 102    -          0.1533 -           0.9336    | 0.7385   - 0.5993\n",
      "\u001b[1;4mValidati 79     - 75     -          0.2529 -           0.8940    | 0.5514   - 0.1593\u001b[0m\n",
      "Training 80     - 102    -          0.2200 -           0.9339    | 0.7380   - 0.6016\n",
      "\u001b[1;4mValidati 80     - 75     -          0.2343 -           0.8967    | 0.5650   - 0.1621\u001b[0m\n",
      "Training 81     - 102    -          0.1560 -           0.9360    | 0.7479   - 0.5979\n",
      "\u001b[1;4mValidati 81     - 75     -          0.2309 -           0.8951    | 0.5541   - 0.1583\u001b[0m\n",
      "Training 82     - 102    -          0.1942 -           0.9354    | 0.7443   - 0.5992\n",
      "\u001b[1;4mValidati 82     - 75     -          0.2282 -           0.8953    | 0.5669   - 0.1602\u001b[0m\n",
      "Training 83     - 102    -          0.1899 -           0.9337    | 0.7413   - 0.5994\n",
      "\u001b[1;4mValidati 83     - 75     -          0.2316 -           0.8959    | 0.5566   - 0.1602\u001b[0m\n",
      "Training 84     - 102    -          0.1601 -           0.9380    | 0.7564   - 0.5990\n",
      "\u001b[1;4mValidati 84     - 75     -          0.2349 -           0.8979    | 0.5744   - 0.1609\u001b[0m\n",
      "Training 85     - 102    -          0.2298 -           0.9352    | 0.7465   - 0.6014\n",
      "\u001b[1;4mValidati 85     - 75     -          0.2310 -           0.8908    | 0.5531   - 0.1634\u001b[0m\n",
      "Training 86     - 102    -          0.1305 -           0.9360    | 0.7499   - 0.5973\n",
      "\u001b[1;4mValidati 86     - 75     -          0.2391 -           0.8985    | 0.5702   - 0.1615\u001b[0m\n",
      "Training 87     - 102    -          0.1753 -           0.9376    | 0.7551   - 0.6270\n",
      "\u001b[1;4mValidati 87     - 75     -          0.2246 -           0.8957    | 0.5552   - 0.1631\u001b[0m\n",
      "Training 88     - 102    -          0.1537 -           0.9383    | 0.7585   - 0.6008\n",
      "\u001b[1;4mValidati 88     - 75     -          0.2340 -           0.8922    | 0.5465   - 0.1615\u001b[0m\n",
      "Training 89     - 102    -          0.1015 -           0.9376    | 0.7545   - 0.6166\n",
      "\u001b[1;4mValidati 89     - 75     -          0.2310 -           0.8924    | 0.5507   - 0.1762\u001b[0m\n",
      "Training 90     - 102    -          0.1444 -           0.9384    | 0.7579   - 0.5967\n",
      "\u001b[1;4mValidati 90     - 75     -          0.2394 -           0.8949    | 0.5584   - 0.1604\u001b[0m\n",
      "Training 91     - 102    -          0.1848 -           0.9360    | 0.7504   - 0.6128\n",
      "\u001b[1;4mValidati 91     - 75     -          0.2349 -           0.8930    | 0.5626   - 0.1626\u001b[0m\n",
      "Training 92     - 102    -          0.1927 -           0.9374    | 0.7577   - 0.5990\n",
      "\u001b[1;4mValidati 92     - 75     -          0.2317 -           0.8960    | 0.5670   - 0.1602\u001b[0m\n",
      "Training 93     - 102    -          0.1584 -           0.9392    | 0.7635   - 0.5978\n",
      "\u001b[1;4mValidati 93     - 75     -          0.2373 -           0.8935    | 0.5582   - 0.1612\u001b[0m\n",
      "Training 94     - 102    -          0.1876 -           0.9367    | 0.7547   - 0.6150\n",
      "\u001b[1;4mValidati 94     - 75     -          0.2254 -           0.8936    | 0.5498   - 0.1594\u001b[0m\n",
      "Training 95     - 102    -          0.2052 -           0.9388    | 0.7604   - 0.5987\n",
      "\u001b[1;4mValidati 95     - 75     -          0.2317 -           0.8911    | 0.5469   - 0.1589\u001b[0m\n",
      "Training 96     - 102    -          0.1344 -           0.9368    | 0.7515   - 0.5994\n",
      "\u001b[1;4mValidati 96     - 75     -          0.2331 -           0.8961    | 0.5699   - 0.1753\u001b[0m\n",
      "Training 97     - 102    -          0.1363 -           0.9389    | 0.7623   - 0.5985\n",
      "\u001b[1;4mValidati 97     - 75     -          0.2548 -           0.8967    | 0.5663   - 0.1606\u001b[0m\n",
      "Training 98     - 102    -          0.1262 -           0.9355    | 0.7484   - 0.5994\n",
      "\u001b[1;4mValidati 98     - 75     -          0.2381 -           0.8968    | 0.5691   - 0.1596\u001b[0m\n",
      "Training 99     - 102    -          0.1380 -           0.9388    | 0.7616   - 0.6014\n",
      "\u001b[1;4mValidati 99     - 75     -          0.2388 -           0.8951    | 0.5521   - 0.1618\u001b[0m\n",
      "Training 100    - 102    -          0.1455 -           0.9400    | 0.7668   - 0.6008\n",
      "\u001b[1;4mValidati 100    - 75     -          0.2294 -           0.8947    | 0.5508   - 0.1599\u001b[0m\r"
     ]
    }
   ],
   "source": [
    "print(header)\n",
    "for e in range(nb_epochs):\n",
    "    train(e)\n",
    "    val(e)"
   ]
  },
  {
   "cell_type": "markdown",
   "metadata": {},
   "source": [
    "# ♫♪.ılılıll|̲̅̅●̲̅̅|̲̅̅=̲̅̅|̲̅̅●̲̅̅|llılılı.♫♪"
   ]
  }
 ],
 "metadata": {
  "kernelspec": {
   "display_name": "dcase2020",
   "language": "python",
   "name": "dcase2020"
  },
  "language_info": {
   "codemirror_mode": {
    "name": "ipython",
    "version": 3
   },
   "file_extension": ".py",
   "mimetype": "text/x-python",
   "name": "python",
   "nbconvert_exporter": "python",
   "pygments_lexer": "ipython3",
   "version": "3.7.7"
  },
  "toc-autonumbering": true,
  "toc-showcode": false,
  "toc-showmarkdowntxt": false
 },
 "nbformat": 4,
 "nbformat_minor": 4
}
