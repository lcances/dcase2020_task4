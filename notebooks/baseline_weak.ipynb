{
 "cells": [
  {
   "cell_type": "code",
   "execution_count": 2,
   "metadata": {
    "pycharm": {
     "name": "#%% Import\n"
    }
   },
   "outputs": [],
   "source": [
    "%load_ext autoreload\n",
    "%autoreload 2"
   ]
  },
  {
   "cell_type": "code",
   "execution_count": 3,
   "metadata": {},
   "outputs": [],
   "source": [
    "import time\n",
    "import os\n",
    "from pathlib import Path\n",
    "import torch.nn as nn\n",
    "import torch.nn.functional as F\n",
    "import torch.utils.data\n",
    "from torch.utils.tensorboard import SummaryWriter\n",
    "\n",
    "import sys\n",
    "sys.path.append(\"..\")\n",
    "\n",
    "# dataset manager\n",
    "from dcase2020.datasetManager import DESEDManager\n",
    "from dcase2020.datasets import DESEDDataset\n",
    "\n",
    "# utility function & metrics & augmentation\n",
    "from metric_utils.metrics import FScore, BinaryAccuracy\n",
    "from dcase2020_task4.util.utils import get_datetime, reset_seed\n",
    "\n",
    "# models\n",
    "from dcase2020_task4.baseline.models import WeakBaseline"
   ]
  },
  {
   "cell_type": "code",
   "execution_count": 4,
   "metadata": {
    "collapsed": false,
    "jupyter": {
     "outputs_hidden": false
    },
    "pycharm": {
     "name": "#%%\n"
    }
   },
   "outputs": [],
   "source": [
    "# ==== set the log ====\n",
    "import logging\n",
    "import logging.config\n",
    "from dcase2020.util.log import DEFAULT_LOGGING\n",
    "logging.config.dictConfig(DEFAULT_LOGGING)\n",
    "log = logging.getLogger(__name__)"
   ]
  },
  {
   "cell_type": "code",
   "execution_count": 5,
   "metadata": {
    "collapsed": false,
    "jupyter": {
     "outputs_hidden": false
    },
    "pycharm": {
     "name": "#%%\n"
    }
   },
   "outputs": [],
   "source": [
    "# ==== reset the seed for reproductability ====\n",
    "reset_seed(1234)"
   ]
  },
  {
   "cell_type": "markdown",
   "metadata": {},
   "source": [
    "# Prepare the data"
   ]
  },
  {
   "cell_type": "code",
   "execution_count": 6,
   "metadata": {
    "collapsed": false,
    "jupyter": {
     "outputs_hidden": false
    },
    "pycharm": {
     "name": "#%%\n"
    }
   },
   "outputs": [
    {
     "name": "stdout",
     "output_type": "stream",
     "text": [
      "\u001b[1;34mDEBUG --- datasetManager.__init__ >>> ../dataset/DESED/dataset/audio/dcase2020_dataset_22050.hdf5\u001b[0m\n",
      "\u001b[1;37mINFO --- datasetManager._load_metadata >>> Reading metadata: ../dataset/DESED/dataset/metadata/train/weak.tsv\u001b[0m\n",
      "\u001b[1;37mINFO --- datasetManager._load_metadata >>> Reading metadata: ../dataset/DESED/dataset/metadata/train/unlabel_in_domain.tsv\u001b[0m\n",
      "\u001b[1;37mINFO --- datasetManager._load_metadata >>> Reading metadata: ../dataset/DESED/dataset/metadata/train/synthetic20.tsv\u001b[0m\n"
     ]
    },
    {
     "name": "stderr",
     "output_type": "stream",
     "text": [
      "100%|██████████| 7582/7582 [00:15<00:00, 481.61it/s]\n"
     ]
    }
   ],
   "source": [
    "# ==== load the dataset ====\n",
    "desed_metadata_root = \"../dataset/DESED/dataset/metadata\"\n",
    "desed_audio_root = \"../dataset/DESED/dataset/audio\"\n",
    "# desed_metadata_root = os.path.join(\"e:/\", \"Corpus\", \"dcase2020\", \"DESED\", \"dataset\", \"metadata\")\n",
    "# desed_audio_root = os.path.join(\"e:/\", \"Corpus\", \"dcase2020\", \"DESED\", \"dataset\", \"audio\")\n",
    "\n",
    "manager = DESEDManager(\n",
    "    desed_metadata_root, desed_audio_root,\n",
    "    sampling_rate = 22050,\n",
    "    validation_ratio=0.2,\n",
    "    from_disk=False,\n",
    "    nb_vector_bin=53, # The model output localisation with a résolution of ~ 18ms --> 53 temporal bins\n",
    "    verbose = 1\n",
    ")"
   ]
  },
  {
   "cell_type": "markdown",
   "metadata": {},
   "source": [
    "## Add weak ans synthetic20 subset"
   ]
  },
  {
   "cell_type": "code",
   "execution_count": 7,
   "metadata": {
    "collapsed": false,
    "jupyter": {
     "outputs_hidden": false
    },
    "pycharm": {
     "name": "#%%\n"
    }
   },
   "outputs": [
    {
     "name": "stdout",
     "output_type": "stream",
     "text": [
      "\u001b[1;37mINFO --- datasetManager.add_subset >>> Loading dataset: train, subset: weak\u001b[0m\n",
      "Loading dataset: train, subset: weak\n",
      "\u001b[1;34mDEBUG --- datasetManager._hdf_to_dict >>> hdf_file: <HDF5 file \"dcase2020_dataset_22050.hdf5\" (mode r)>\u001b[0m\n",
      "\u001b[1;34mDEBUG --- datasetManager._hdf_to_dict >>> path: DESED/dataset/audio/train/weak\u001b[0m\n"
     ]
    }
   ],
   "source": [
    "manager.add_subset(\"weak\")\n"
   ]
  },
  {
   "cell_type": "markdown",
   "metadata": {},
   "source": [
    "## Create the train / validation split"
   ]
  },
  {
   "cell_type": "code",
   "execution_count": 8,
   "metadata": {
    "collapsed": false,
    "jupyter": {
     "outputs_hidden": false
    },
    "pycharm": {
     "name": "#%%\n"
    }
   },
   "outputs": [
    {
     "name": "stdout",
     "output_type": "stream",
     "text": [
      "\u001b[1;37mINFO --- datasetManager.split_train_validation >>> Creating new train / validation split\u001b[0m\n",
      "\u001b[1;37mINFO --- datasetManager.split_train_validation >>> validation ratio : 0.2\u001b[0m\n"
     ]
    }
   ],
   "source": [
    "manager.split_train_validation()"
   ]
  },
  {
   "cell_type": "markdown",
   "metadata": {},
   "source": [
    "## Prep dataset"
   ]
  },
  {
   "cell_type": "code",
   "execution_count": 9,
   "metadata": {
    "collapsed": false,
    "jupyter": {
     "outputs_hidden": false
    },
    "pycharm": {
     "name": "#%%  setup augmentation and create pytorch dataset\n"
    }
   },
   "outputs": [],
   "source": [
    "augments = [\n",
    "    # signal_augmentation.Noise(0.5, target_snr=15),\n",
    "    # signal_augmentation.RandomTimeDropout(0.5, dropout=0.2)\n",
    "]\n",
    "\n",
    "train_dataset = DESEDDataset(manager, train=True, val=False, augments=augments, cached=True)\n",
    "val_dataset = DESEDDataset(manager, train=False, val=True, augments=[], cached=True)"
   ]
  },
  {
   "cell_type": "raw",
   "metadata": {},
   "source": [
    "class MultipleDataset(Dataset):\n",
    "\n",
    "    def __init__(self, datasets):\n",
    "        super(MultipleDataset, self).__init__()\n",
    "        assert len(datasets) > 0, 'datasets should not be an empty iterable'\n",
    "        self.datasets = list(datasets)\n",
    "        for d in self.datasets:\n",
    "            assert not isinstance(d, IterableDataset), \"ConcatDataset does not support IterableDataset\"\n",
    "\n",
    "    def __len__(self):\n",
    "        return len(self.datasets[0])\n",
    "\n",
    "    def __getitem__(self, idx):\n",
    "        return [d[sample_idx] for d in self.datasets]"
   ]
  },
  {
   "cell_type": "code",
   "execution_count": 10,
   "metadata": {
    "scrolled": true
   },
   "outputs": [
    {
     "data": {
      "text/plain": [
       "(1097, 243)"
      ]
     },
     "execution_count": 10,
     "metadata": {},
     "output_type": "execute_result"
    }
   ],
   "source": [
    "len(train_dataset.filenames), len(val_dataset.filenames)"
   ]
  },
  {
   "cell_type": "markdown",
   "metadata": {},
   "source": [
    "# Prepare training"
   ]
  },
  {
   "cell_type": "markdown",
   "metadata": {},
   "source": [
    "## Prep dataset\n",
    "\n",
    "- We want both the weak and strong ground truth --> the *weak* and *strong* parameters to True"
   ]
  },
  {
   "cell_type": "code",
   "execution_count": 11,
   "metadata": {},
   "outputs": [],
   "source": [
    "augments = [\n",
    "    # signal_augmentation.Noise(0.5, target_snr=15),\n",
    "    # signal_augmentation.RandomTimeDropout(0.5, dropout=0.2)\n",
    "]\n",
    "\n",
    "train_dataset = DESEDDataset(manager, train=True, val=False, weak=True, strong=False, augments=augments, cached=True)\n",
    "val_dataset = DESEDDataset(manager, train=False, val=True, weak=True, strong=False, augments=[], cached=True)"
   ]
  },
  {
   "cell_type": "markdown",
   "metadata": {},
   "source": [
    "## model\n",
    "\n",
    "This model is the same than the weak baseline but have an extra output. <br />\n",
    "the loc_output is compose of a single convolution layer with nb_filters == nb_class. <br />\n",
    "Since their is some pooling layer, the *loc_ouput* have a precision of 53 bins (~= 18 ms)"
   ]
  },
  {
   "cell_type": "code",
   "execution_count": 33,
   "metadata": {
    "collapsed": false,
    "jupyter": {
     "outputs_hidden": false
    },
    "pycharm": {
     "name": "#%% Setup model and training parameters\n"
    },
    "scrolled": true
   },
   "outputs": [
    {
     "data": {
      "text/plain": [
       "WeakBaseline(\n",
       "  (features): Sequential(\n",
       "    (0): ConvPoolReLU(\n",
       "      (0): Conv2d(1, 32, kernel_size=(3, 3), stride=(1, 1), padding=(1, 1))\n",
       "      (1): MaxPool2d(kernel_size=(4, 2), stride=(4, 2), padding=0, dilation=1, ceil_mode=False)\n",
       "      (2): BatchNorm2d(32, eps=1e-05, momentum=0.1, affine=True, track_running_stats=True)\n",
       "      (3): Dropout2d(p=0.0, inplace=False)\n",
       "      (4): ReLU6(inplace=True)\n",
       "    )\n",
       "    (1): ConvPoolReLU(\n",
       "      (0): Conv2d(32, 32, kernel_size=(3, 3), stride=(1, 1), padding=(1, 1))\n",
       "      (1): MaxPool2d(kernel_size=(4, 2), stride=(4, 2), padding=0, dilation=1, ceil_mode=False)\n",
       "      (2): BatchNorm2d(32, eps=1e-05, momentum=0.1, affine=True, track_running_stats=True)\n",
       "      (3): Dropout2d(p=0.3, inplace=False)\n",
       "      (4): ReLU6(inplace=True)\n",
       "    )\n",
       "    (2): ConvPoolReLU(\n",
       "      (0): Conv2d(32, 32, kernel_size=(3, 3), stride=(1, 1), padding=(1, 1))\n",
       "      (1): MaxPool2d(kernel_size=(4, 2), stride=(4, 2), padding=0, dilation=1, ceil_mode=False)\n",
       "      (2): BatchNorm2d(32, eps=1e-05, momentum=0.1, affine=True, track_running_stats=True)\n",
       "      (3): Dropout2d(p=0.3, inplace=False)\n",
       "      (4): ReLU6(inplace=True)\n",
       "    )\n",
       "    (3): Conv2d(32, 32, kernel_size=(1, 1), stride=(1, 1))\n",
       "    (4): ReLU6()\n",
       "  )\n",
       "  (classifier): Sequential(\n",
       "    (0): Flatten()\n",
       "    (1): Dropout(p=0.5, inplace=False)\n",
       "    (2): Linear(in_features=1696, out_features=10, bias=True)\n",
       "  )\n",
       ")"
      ]
     },
     "execution_count": 33,
     "metadata": {},
     "output_type": "execute_result"
    }
   ],
   "source": [
    "torch.cuda.empty_cache() \n",
    "\n",
    "model = WeakBaseline()\n",
    "model.cuda()"
   ]
  },
  {
   "cell_type": "code",
   "execution_count": 34,
   "metadata": {
    "scrolled": true
   },
   "outputs": [
    {
     "name": "stdout",
     "output_type": "stream",
     "text": [
      "==================================================================================\n",
      "                               Kernel Shape      Output Shape  Params  \\\n",
      "Layer                                                                   \n",
      "0_features.0.Conv2d_0         [1, 32, 3, 3]  [1, 32, 64, 431]   320.0   \n",
      "1_features.0.MaxPool2d_1                  -  [1, 32, 16, 215]       -   \n",
      "2_features.0.BatchNorm2d_2             [32]  [1, 32, 16, 215]    64.0   \n",
      "3_features.0.Dropout2d_3                  -  [1, 32, 16, 215]       -   \n",
      "4_features.0.ReLU6_4                      -  [1, 32, 16, 215]       -   \n",
      "5_features.1.Conv2d_0        [32, 32, 3, 3]  [1, 32, 16, 215]  9.248k   \n",
      "6_features.1.MaxPool2d_1                  -   [1, 32, 4, 107]       -   \n",
      "7_features.1.BatchNorm2d_2             [32]   [1, 32, 4, 107]    64.0   \n",
      "8_features.1.Dropout2d_3                  -   [1, 32, 4, 107]       -   \n",
      "9_features.1.ReLU6_4                      -   [1, 32, 4, 107]       -   \n",
      "10_features.2.Conv2d_0       [32, 32, 3, 3]   [1, 32, 4, 107]  9.248k   \n",
      "11_features.2.MaxPool2d_1                 -    [1, 32, 1, 53]       -   \n",
      "12_features.2.BatchNorm2d_2            [32]    [1, 32, 1, 53]    64.0   \n",
      "13_features.2.Dropout2d_3                 -    [1, 32, 1, 53]       -   \n",
      "14_features.2.ReLU6_4                     -    [1, 32, 1, 53]       -   \n",
      "15_features.Conv2d_3         [32, 32, 1, 1]    [1, 32, 1, 53]  1.056k   \n",
      "16_features.ReLU6_4                       -    [1, 32, 1, 53]       -   \n",
      "17_classifier.Flatten_0                   -         [1, 1696]       -   \n",
      "18_classifier.Dropout_1                   -         [1, 1696]       -   \n",
      "19_classifier.Linear_2           [1696, 10]           [1, 10]  16.97k   \n",
      "\n",
      "                             Mult-Adds  \n",
      "Layer                                   \n",
      "0_features.0.Conv2d_0        7.944192M  \n",
      "1_features.0.MaxPool2d_1             -  \n",
      "2_features.0.BatchNorm2d_2        32.0  \n",
      "3_features.0.Dropout2d_3             -  \n",
      "4_features.0.ReLU6_4                 -  \n",
      "5_features.1.Conv2d_0        31.70304M  \n",
      "6_features.1.MaxPool2d_1             -  \n",
      "7_features.1.BatchNorm2d_2        32.0  \n",
      "8_features.1.Dropout2d_3             -  \n",
      "9_features.1.ReLU6_4                 -  \n",
      "10_features.2.Conv2d_0       3.944448M  \n",
      "11_features.2.MaxPool2d_1            -  \n",
      "12_features.2.BatchNorm2d_2       32.0  \n",
      "13_features.2.Dropout2d_3            -  \n",
      "14_features.2.ReLU6_4                -  \n",
      "15_features.Conv2d_3           54.272k  \n",
      "16_features.ReLU6_4                  -  \n",
      "17_classifier.Flatten_0              -  \n",
      "18_classifier.Dropout_1              -  \n",
      "19_classifier.Linear_2          16.96k  \n",
      "----------------------------------------------------------------------------------\n",
      "                          Totals\n",
      "Total params             37.034k\n",
      "Trainable params         37.034k\n",
      "Non-trainable params         0.0\n",
      "Mult-Adds             43.663008M\n",
      "==================================================================================\n"
     ]
    }
   ],
   "source": [
    "from torchsummaryX import summary\n",
    "input_tensor = torch.zeros((1, 64, 431), dtype=torch.float)\n",
    "input_tensor = input_tensor.cuda()\n",
    "\n",
    "s = summary(model, input_tensor)\n"
   ]
  },
  {
   "cell_type": "markdown",
   "metadata": {},
   "source": [
    "## Create a custom loss function\n",
    "\n",
    "Since not all file have strong truth, it is necessary to remove those files. <br />\n",
    "For that, the strong mask is computed. If the sum of the strong ground truth is equal to 0 then it is a fake one <br />\n",
    "This file strong loss must not be taken into account."
   ]
  },
  {
   "cell_type": "markdown",
   "metadata": {},
   "source": [
    "## Training parameters (crit & callbacks & loaders & metrics)m"
   ]
  },
  {
   "cell_type": "code",
   "execution_count": 35,
   "metadata": {
    "collapsed": false,
    "jupyter": {
     "outputs_hidden": false
    },
    "pycharm": {
     "name": "#%% Setup model and training parameters\n"
    }
   },
   "outputs": [],
   "source": [
    "# training parameters\n",
    "nb_epochs = 100\n",
    "batch_size = 32\n",
    "nb_batch = len(train_dataset) // batch_size\n",
    "\n",
    "optimizers = torch.optim.Adam(model.parameters(), lr=0.003)\n",
    "criterion = nn.BCEWithLogitsLoss(reduction=\"mean\")\n",
    "\n",
    "# callbacks\n",
    "callbacks = []\n",
    "\n",
    "# tensorboard\n",
    "title = \"WeakBaseline_%s\" % (get_datetime())\n",
    "tensorboard = SummaryWriter(log_dir=Path(\"../tensorboard/%s\" % title), comment=\"weak baseline\")\n",
    "\n",
    "# loaders\n",
    "training_loader = torch.utils.data.DataLoader(train_dataset, batch_size=batch_size, shuffle=True)\n",
    "val_loader = torch.utils.data.DataLoader(val_dataset, batch_size=batch_size, shuffle=False)\n",
    "\n",
    "# Metrics\n",
    "weak_binacc_func = BinaryAccuracy()\n",
    "weak_f_func = FScore()\n"
   ]
  },
  {
   "cell_type": "code",
   "execution_count": 36,
   "metadata": {},
   "outputs": [],
   "source": [
    "def reset_all_metrics():\n",
    "    metrics = [weak_binacc_func, weak_f_func]\n",
    "    \n",
    "    for m in metrics:\n",
    "        m.reset()"
   ]
  },
  {
   "cell_type": "markdown",
   "metadata": {},
   "source": [
    "## Training functions"
   ]
  },
  {
   "cell_type": "code",
   "execution_count": 37,
   "metadata": {},
   "outputs": [
    {
     "name": "stdout",
     "output_type": "stream",
     "text": [
      "         Epoch  - %      - Losses:  Weak   - metrics:  Weak acc    | Weak F1  - Time  \n"
     ]
    }
   ],
   "source": [
    "UNDERLINE_SEQ = \"\\033[1;4m\"\n",
    "RESET_SEQ = \"\\033[0m\"\n",
    "\n",
    "\n",
    "header_form = \"{:<8.8} {:<6.6} - {:<6.6} - {:<8.8} {:<6.6} - {:<9.9} {:<12.12}| {:<9.9}- {:<6.6}\"\n",
    "value_form  = \"{:<8.8} {:<6} - {:<6} - {:<8.8} {:<6.4f} - {:<9.9} {:<10.4f}| {:<9.4f}- {:<6.4f}\"\n",
    "header = header_form.format(\n",
    "    \"\", \"Epoch\", \"%\", \"Losses:\", \"Weak \", \"metrics: \", \"Weak acc \", \"Weak F1 \",\"Time\"\n",
    ")\n",
    "\n",
    "\n",
    "train_form = value_form\n",
    "val_form = UNDERLINE_SEQ + value_form + RESET_SEQ\n",
    "\n",
    "print(header)"
   ]
  },
  {
   "cell_type": "code",
   "execution_count": 38,
   "metadata": {
    "collapsed": false,
    "jupyter": {
     "outputs_hidden": false
    },
    "pycharm": {
     "name": "#%% training function\n"
    }
   },
   "outputs": [],
   "source": [
    "def train(epoch: int):\n",
    "    start_time = time.time()\n",
    "    \n",
    "    reset_all_metrics()\n",
    "    \n",
    "    model.train()\n",
    "    print(\"\") # <-- Force new line\n",
    "    \n",
    "    for i, (X, y) in enumerate(training_loader):\n",
    "        # The DESEDDataset return a list of ground truth depending on the selecting option.\n",
    "        # If weak and strong ground truth are selected, the list order is [WEAK, STRONG]\n",
    "        # here there is only one [WEAK]\n",
    "        X = X.cuda().float()\n",
    "        y_weak = y[0].cuda().float()\n",
    "        \n",
    "        weak_logits = model(X)\n",
    "        \n",
    "        # calc the loss\n",
    "        weak_loss = criterion(weak_logits, y_weak)\n",
    "        \n",
    "        # back propagation\n",
    "        optimizers.zero_grad()\n",
    "        weak_loss.backward()\n",
    "        optimizers.step()\n",
    "        \n",
    "        with torch.set_grad_enabled(False):\n",
    "\n",
    "            # calc metrics\n",
    "            weak_pred = torch.sigmoid(weak_logits)\n",
    "\n",
    "            # tagging\n",
    "            weak_binacc = weak_binacc_func(weak_pred, y_weak)\n",
    "            weak_fscore = weak_f_func(weak_pred, y_weak)\n",
    "\n",
    "            # logs\n",
    "            print(train_form.format(\n",
    "                \"Training: \",\n",
    "                epoch + 1,\n",
    "                int(100 * (i + 1) / nb_batch),\n",
    "                \"\", weak_loss.item(),\n",
    "                \"\", weak_binacc, weak_fscore,\n",
    "                time.time() - start_time\n",
    "            ), end=\"\\r\")\n",
    "\n",
    "        # tensorboard logs\n",
    "        tensorboard.add_scalar(\"train/weak_loss\", weak_loss.item(), epoch)\n",
    "\n",
    "        tensorboard.add_scalar(\"train/weak_acc\", weak_binacc, epoch)\n",
    "        tensorboard.add_scalar(\"train/weak_f1\", weak_fscore, epoch)\n"
   ]
  },
  {
   "cell_type": "code",
   "execution_count": 39,
   "metadata": {
    "collapsed": false,
    "jupyter": {
     "outputs_hidden": false
    },
    "pycharm": {
     "name": "#%% validation function\n"
    }
   },
   "outputs": [],
   "source": [
    "def val(epoch):\n",
    "    start_time = time.time()\n",
    "\n",
    "    reset_all_metrics()\n",
    "    \n",
    "    model.eval()\n",
    "    print(\"\") # <-- Force new line\n",
    "    \n",
    "    with torch.set_grad_enabled(False):\n",
    "        for i, (X, y) in enumerate(val_loader):\n",
    "            X = X.cuda().float()\n",
    "            y_weak = y[0].cuda().float()\n",
    "\n",
    "            weak_logits = model(X)\n",
    "\n",
    "            # calc the loss\n",
    "            weak_loss = criterion(weak_logits, y_weak)\n",
    "\n",
    "             # calc metrics\n",
    "            weak_pred = torch.sigmoid(weak_logits)\n",
    "\n",
    "            # tagging\n",
    "            weak_binacc = weak_binacc_func(weak_pred, y_weak)\n",
    "            weak_fscore = weak_f_func(weak_pred, y_weak)\n",
    "\n",
    "\n",
    "            # logs\n",
    "            print(val_form.format(\n",
    "                \"Validation: \",\n",
    "                epoch + 1,\n",
    "                int(100 * (i + 1) / nb_batch),\n",
    "                \"\", weak_loss.item(),\n",
    "                \"\", weak_binacc, weak_fscore,\n",
    "                time.time() - start_time\n",
    "            ), end=\"\\r\")\n",
    "\n",
    "        # tensorboard logs\n",
    "        tensorboard.add_scalar(\"val/weak_loss\", weak_loss.item(), epoch)\n",
    "\n",
    "        tensorboard.add_scalar(\"val/weak_acc\", weak_binacc, epoch)\n",
    "        tensorboard.add_scalar(\"val/weak_f1\", weak_fscore, epoch)\n"
   ]
  },
  {
   "cell_type": "markdown",
   "metadata": {},
   "source": [
    "# Train"
   ]
  },
  {
   "cell_type": "code",
   "execution_count": 40,
   "metadata": {
    "collapsed": false,
    "jupyter": {
     "outputs_hidden": false
    },
    "pycharm": {
     "name": "#%%\n"
    }
   },
   "outputs": [
    {
     "name": "stdout",
     "output_type": "stream",
     "text": [
      "         Epoch  - %      - Losses:  Weak   - metrics:  Weak acc    | Weak F1  - Time  \n",
      "\n",
      "Training 1      - 102    -          0.4141 -           0.8434    | 0.0605   - 0.4877\n",
      "\u001b[1;4mValidati 1      - 23     -          0.3950 -           0.8518    | 0.1832   - 0.0377\u001b[0m\n",
      "Training 2      - 102    -          0.3260 -           0.8590    | 0.1841   - 0.4580\n",
      "\u001b[1;4mValidati 2      - 23     -          0.4026 -           0.8631    | 0.3126   - 0.0372\u001b[0m\n",
      "Training 3      - 102    -          0.3382 -           0.8652    | 0.2486   - 0.4549\n",
      "\u001b[1;4mValidati 3      - 23     -          0.3556 -           0.8641    | 0.2907   - 0.0375\u001b[0m\n",
      "Training 4      - 102    -          0.4294 -           0.8659    | 0.2702   - 0.4543\n",
      "\u001b[1;4mValidati 4      - 23     -          0.4137 -           0.8698    | 0.4543   - 0.0366\u001b[0m\n",
      "Training 5      - 102    -          0.2942 -           0.8755    | 0.3356   - 0.4546\n",
      "\u001b[1;4mValidati 5      - 23     -          0.3777 -           0.8705    | 0.3536   - 0.0370\u001b[0m\n",
      "Training 6      - 102    -          0.3539 -           0.8740    | 0.3510   - 0.4564\n",
      "\u001b[1;4mValidati 6      - 23     -          0.4358 -           0.8808    | 0.4188   - 0.0376\u001b[0m\n",
      "Training 7      - 102    -          0.2484 -           0.8812    | 0.4112   - 0.4553\n",
      "\u001b[1;4mValidati 7      - 23     -          0.3342 -           0.8719    | 0.3822   - 0.0366\u001b[0m\n",
      "Training 8      - 102    -          0.2966 -           0.8798    | 0.4155   - 0.4670\n",
      "\u001b[1;4mValidati 8      - 23     -          0.4029 -           0.8679    | 0.4826   - 0.0414\u001b[0m\n",
      "Training 9      - 102    -          0.2838 -           0.8843    | 0.4390   - 0.4642\n",
      "\u001b[1;4mValidati 9      - 23     -          0.3366 -           0.8792    | 0.4696   - 0.0367\u001b[0m\n",
      "Training 10     - 102    -          0.3182 -           0.8888    | 0.4738   - 0.4560\n",
      "\u001b[1;4mValidati 10     - 23     -          0.3141 -           0.8752    | 0.3932   - 0.0372\u001b[0m\n",
      "Training 11     - 102    -          0.2987 -           0.8866    | 0.4552   - 0.4537\n",
      "\u001b[1;4mValidati 11     - 23     -          0.2994 -           0.8819    | 0.4469   - 0.0368\u001b[0m\n",
      "Training 12     - 102    -          0.4689 -           0.8873    | 0.4580   - 0.4535\n",
      "\u001b[1;4mValidati 12     - 23     -          0.3288 -           0.8831    | 0.4866   - 0.0368\u001b[0m\n",
      "Training 13     - 102    -          0.2731 -           0.8894    | 0.4744   - 0.4552\n",
      "\u001b[1;4mValidati 13     - 23     -          0.3062 -           0.8808    | 0.4401   - 0.0378\u001b[0m\n",
      "Training 14     - 102    -          0.3266 -           0.8935    | 0.4993   - 0.4534\n",
      "\u001b[1;4mValidati 14     - 23     -          0.3083 -           0.8901    | 0.5149   - 0.0366\u001b[0m\n",
      "Training 15     - 102    -          0.2958 -           0.8975    | 0.5239   - 0.4536\n",
      "\u001b[1;4mValidati 15     - 23     -          0.3146 -           0.8901    | 0.5092   - 0.0368\u001b[0m\n",
      "Training 16     - 102    -          0.1349 -           0.8952    | 0.5224   - 0.4556\n",
      "\u001b[1;4mValidati 16     - 23     -          0.3067 -           0.8822    | 0.4857   - 0.0370\u001b[0m\n",
      "Training 17     - 102    -          0.3080 -           0.8948    | 0.5152   - 0.4536\n",
      "\u001b[1;4mValidati 17     - 23     -          0.2968 -           0.8885    | 0.5192   - 0.0365\u001b[0m\n",
      "Training 18     - 102    -          0.2698 -           0.8986    | 0.5358   - 0.4536\n",
      "\u001b[1;4mValidati 18     - 23     -          0.3170 -           0.8831    | 0.4755   - 0.0366\u001b[0m\n",
      "Training 19     - 102    -          0.4015 -           0.8973    | 0.5396   - 0.4532\n",
      "\u001b[1;4mValidati 19     - 23     -          0.3331 -           0.8734    | 0.4536   - 0.0365\u001b[0m\n",
      "Training 20     - 102    -          0.2232 -           0.8979    | 0.5352   - 0.4556\n",
      "\u001b[1;4mValidati 20     - 23     -          0.3027 -           0.8846    | 0.5080   - 0.0366\u001b[0m\n",
      "Training 21     - 102    -          0.2734 -           0.9026    | 0.5682   - 0.4549\n",
      "\u001b[1;4mValidati 21     - 23     -          0.2990 -           0.8866    | 0.4948   - 0.0368\u001b[0m\n",
      "Training 22     - 102    -          0.2878 -           0.9005    | 0.5624   - 0.4558\n",
      "\u001b[1;4mValidati 22     - 23     -          0.2873 -           0.8891    | 0.5267   - 0.0368\u001b[0m\n",
      "Training 23     - 102    -          0.3046 -           0.9048    | 0.5861   - 0.4557\n",
      "\u001b[1;4mValidati 23     - 23     -          0.2759 -           0.8885    | 0.5029   - 0.0373\u001b[0m\n",
      "Training 24     - 102    -          0.3528 -           0.9001    | 0.5709   - 0.4552\n",
      "\u001b[1;4mValidati 24     - 23     -          0.2774 -           0.8889    | 0.5199   - 0.0369\u001b[0m\n",
      "Training 25     - 102    -          0.2102 -           0.9027    | 0.5702   - 0.4557\n",
      "\u001b[1;4mValidati 25     - 23     -          0.2865 -           0.8941    | 0.5435   - 0.0368\u001b[0m\n",
      "Training 26     - 102    -          0.2231 -           0.9078    | 0.6040   - 0.4557\n",
      "\u001b[1;4mValidati 26     - 23     -          0.2836 -           0.8943    | 0.5513   - 0.0372\u001b[0m\n",
      "Training 27     - 102    -          0.2586 -           0.9118    | 0.6224   - 0.4558\n",
      "\u001b[1;4mValidati 27     - 23     -          0.2651 -           0.8964    | 0.5509   - 0.0367\u001b[0m\n",
      "Training 28     - 102    -          0.2553 -           0.9085    | 0.6110   - 0.4570\n",
      "\u001b[1;4mValidati 28     - 23     -          0.2777 -           0.8961    | 0.5384   - 0.0376\u001b[0m\n",
      "Training 29     - 102    -          0.1969 -           0.9114    | 0.6207   - 0.4597\n",
      "\u001b[1;4mValidati 29     - 23     -          0.2742 -           0.8904    | 0.5190   - 0.0375\u001b[0m\n",
      "Training 30     - 102    -          0.2369 -           0.9064    | 0.5974   - 0.4602\n",
      "\u001b[1;4mValidati 30     - 23     -          0.2894 -           0.8962    | 0.5638   - 0.0374\u001b[0m\n",
      "Training 31     - 102    -          0.3643 -           0.9111    | 0.6200   - 0.4566\n",
      "\u001b[1;4mValidati 31     - 23     -          0.2774 -           0.8937    | 0.5338   - 0.0369\u001b[0m\n",
      "Training 32     - 102    -          0.1583 -           0.9148    | 0.6456   - 0.4542\n",
      "\u001b[1;4mValidati 32     - 23     -          0.2786 -           0.8906    | 0.5156   - 0.0367\u001b[0m\n",
      "Training 33     - 102    -          0.2051 -           0.9104    | 0.6193   - 0.4555\n",
      "\u001b[1;4mValidati 33     - 23     -          0.2934 -           0.8891    | 0.5086   - 0.0372\u001b[0m\n",
      "Training 34     - 102    -          0.3673 -           0.9160    | 0.6452   - 0.4544\n",
      "\u001b[1;4mValidati 34     - 23     -          0.2975 -           0.8934    | 0.5362   - 0.0369\u001b[0m\n",
      "Training 35     - 102    -          0.2163 -           0.9177    | 0.6574   - 0.4562\n",
      "\u001b[1;4mValidati 35     - 23     -          0.2957 -           0.8868    | 0.4849   - 0.0372\u001b[0m\n",
      "Training 36     - 102    -          0.3152 -           0.9114    | 0.6360   - 0.4562\n",
      "\u001b[1;4mValidati 36     - 23     -          0.2692 -           0.8901    | 0.5293   - 0.0367\u001b[0m\n",
      "Training 37     - 102    -          0.3848 -           0.9133    | 0.6368   - 0.4604\n",
      "\u001b[1;4mValidati 37     - 23     -          0.2567 -           0.8940    | 0.5549   - 0.0371\u001b[0m\n",
      "Training 38     - 102    -          0.2163 -           0.9141    | 0.6468   - 0.4583\n",
      "\u001b[1;4mValidati 38     - 23     -          0.2689 -           0.8896    | 0.5229   - 0.0366\u001b[0m\n",
      "Training 39     - 102    -          0.1386 -           0.9146    | 0.6441   - 0.4547\n",
      "\u001b[1;4mValidati 39     - 23     -          0.2633 -           0.8926    | 0.5123   - 0.0368\u001b[0m\n",
      "Training 40     - 102    -          0.2692 -           0.9143    | 0.6374   - 0.4565\n",
      "\u001b[1;4mValidati 40     - 23     -          0.3052 -           0.8840    | 0.4880   - 0.0381\u001b[0m\n",
      "Training 41     - 102    -          0.1271 -           0.9206    | 0.6691   - 0.4563\n",
      "\u001b[1;4mValidati 41     - 23     -          0.3125 -           0.8943    | 0.5547   - 0.0373\u001b[0m\n",
      "Training 42     - 102    -          0.1981 -           0.9204    | 0.6734   - 0.4550\n",
      "\u001b[1;4mValidati 42     - 23     -          0.2832 -           0.8973    | 0.5448   - 0.0374\u001b[0m\n",
      "Training 43     - 102    -          0.2674 -           0.9209    | 0.6697   - 0.4557\n",
      "\u001b[1;4mValidati 43     - 23     -          0.2793 -           0.8970    | 0.5705   - 0.0366\u001b[0m\n",
      "Training 44     - 102    -          0.1959 -           0.9197    | 0.6735   - 0.4560\n",
      "\u001b[1;4mValidati 44     - 23     -          0.2645 -           0.8974    | 0.5614   - 0.0367\u001b[0m\n",
      "Training 45     - 102    -          0.2825 -           0.9197    | 0.6736   - 0.4560\n",
      "\u001b[1;4mValidati 45     - 23     -          0.3096 -           0.8965    | 0.5744   - 0.0378\u001b[0m\n",
      "Training 46     - 102    -          0.1903 -           0.9158    | 0.6489   - 0.4558\n",
      "\u001b[1;4mValidati 46     - 23     -          0.2627 -           0.8968    | 0.5642   - 0.0371\u001b[0m\n",
      "Training 47     - 102    -          0.2166 -           0.9210    | 0.6843   - 0.4566\n",
      "\u001b[1;4mValidati 47     - 23     -          0.2489 -           0.8951    | 0.5687   - 0.0369\u001b[0m\n",
      "Training 48     - 102    -          0.2086 -           0.9208    | 0.6821   - 0.4561\n",
      "\u001b[1;4mValidati 48     - 23     -          0.3206 -           0.8896    | 0.5175   - 0.0372\u001b[0m\n",
      "Training 49     - 102    -          0.2955 -           0.9221    | 0.6848   - 0.4551\n",
      "\u001b[1;4mValidati 49     - 23     -          0.2939 -           0.8914    | 0.5361   - 0.0366\u001b[0m\n",
      "Training 50     - 102    -          0.1943 -           0.9224    | 0.6857   - 0.4571\n",
      "\u001b[1;4mValidati 50     - 23     -          0.2727 -           0.8833    | 0.5022   - 0.0375\u001b[0m\n",
      "Training 51     - 102    -          0.2482 -           0.9221    | 0.6861   - 0.4570\n",
      "\u001b[1;4mValidati 51     - 23     -          0.2896 -           0.8993    | 0.5561   - 0.0369\u001b[0m\n",
      "Training 52     - 102    -          0.0999 -           0.9270    | 0.7001   - 0.4560\n",
      "\u001b[1;4mValidati 52     - 23     -          0.3129 -           0.8745    | 0.4299   - 0.0369\u001b[0m\n",
      "Training 53     - 102    -          0.1766 -           0.9281    | 0.7130   - 0.4567\n",
      "\u001b[1;4mValidati 53     - 23     -          0.2791 -           0.8956    | 0.5486   - 0.0379\u001b[0m\n",
      "Training 54     - 102    -          0.2752 -           0.9268    | 0.7021   - 0.4598\n",
      "\u001b[1;4mValidati 54     - 23     -          0.2633 -           0.8983    | 0.5555   - 0.0370\u001b[0m\n",
      "Training 55     - 102    -          0.1260 -           0.9296    | 0.7225   - 0.4560\n",
      "\u001b[1;4mValidati 55     - 23     -          0.2628 -           0.8998    | 0.5789   - 0.0383\u001b[0m\n",
      "Training 56     - 102    -          0.2341 -           0.9257    | 0.7046   - 0.4565\n",
      "\u001b[1;4mValidati 56     - 23     -          0.2627 -           0.8986    | 0.5586   - 0.0367\u001b[0m\n",
      "Training 57     - 102    -          0.2728 -           0.9286    | 0.7170   - 0.4557\n",
      "\u001b[1;4mValidati 57     - 23     -          0.2520 -           0.8925    | 0.5458   - 0.0371\u001b[0m\n",
      "Training 58     - 102    -          0.2235 -           0.9281    | 0.7084   - 0.4591\n",
      "\u001b[1;4mValidati 58     - 23     -          0.2739 -           0.8945    | 0.5338   - 0.0385\u001b[0m\n",
      "Training 59     - 102    -          0.2903 -           0.9268    | 0.7036   - 0.4564\n",
      "\u001b[1;4mValidati 59     - 23     -          0.2730 -           0.8896    | 0.5342   - 0.0371\u001b[0m\n",
      "Training 60     - 102    -          0.2857 -           0.9254    | 0.7002   - 0.4618\n",
      "\u001b[1;4mValidati 60     - 23     -          0.2755 -           0.8873    | 0.5337   - 0.0393\u001b[0m\n",
      "Training 61     - 102    -          0.2658 -           0.9308    | 0.7241   - 0.4578\n",
      "\u001b[1;4mValidati 61     - 23     -          0.2660 -           0.8977    | 0.5772   - 0.0372\u001b[0m\n",
      "Training 62     - 102    -          0.1265 -           0.9320    | 0.7341   - 0.4561\n",
      "\u001b[1;4mValidati 62     - 23     -          0.2669 -           0.8943    | 0.5461   - 0.0369\u001b[0m\n",
      "Training 63     - 102    -          0.1809 -           0.9292    | 0.7219   - 0.4552\n",
      "\u001b[1;4mValidati 63     - 23     -          0.2619 -           0.8968    | 0.5724   - 0.0372\u001b[0m\n",
      "Training 64     - 102    -          0.1884 -           0.9300    | 0.7242   - 0.4560\n",
      "\u001b[1;4mValidati 64     - 23     -          0.2804 -           0.8914    | 0.5674   - 0.0373\u001b[0m\n",
      "Training 65     - 102    -          0.1322 -           0.9301    | 0.7221   - 0.4546\n",
      "\u001b[1;4mValidati 65     - 23     -          0.2656 -           0.8944    | 0.5470   - 0.0369\u001b[0m\n",
      "Training 66     - 102    -          0.1880 -           0.9271    | 0.7096   - 0.4539\n",
      "\u001b[1;4mValidati 66     - 23     -          0.2660 -           0.8880    | 0.5521   - 0.0366\u001b[0m\n",
      "Training 67     - 102    -          0.1952 -           0.9267    | 0.7112   - 0.4564\n",
      "\u001b[1;4mValidati 67     - 23     -          0.2780 -           0.9025    | 0.5890   - 0.0375\u001b[0m\n",
      "Training 68     - 102    -          0.1412 -           0.9326    | 0.7343   - 0.4567\n",
      "\u001b[1;4mValidati 68     - 23     -          0.3014 -           0.8820    | 0.4934   - 0.0369\u001b[0m\n",
      "Training 69     - 102    -          0.1435 -           0.9306    | 0.7270   - 0.4598\n",
      "\u001b[1;4mValidati 69     - 23     -          0.2661 -           0.8913    | 0.5456   - 0.0365\u001b[0m\n",
      "Training 70     - 102    -          0.1942 -           0.9312    | 0.7276   - 0.4561\n",
      "\u001b[1;4mValidati 70     - 23     -          0.2611 -           0.8971    | 0.5704   - 0.0366\u001b[0m\n",
      "Training 71     - 102    -          0.1521 -           0.9295    | 0.7211   - 0.4567\n",
      "\u001b[1;4mValidati 71     - 23     -          0.2724 -           0.8934    | 0.5225   - 0.0371\u001b[0m\n",
      "Training 72     - 102    -          0.1039 -           0.9342    | 0.7404   - 0.4569\n",
      "\u001b[1;4mValidati 72     - 23     -          0.2611 -           0.8979    | 0.5840   - 0.0367\u001b[0m\n",
      "Training 73     - 102    -          0.2754 -           0.9284    | 0.7205   - 0.4561\n",
      "\u001b[1;4mValidati 73     - 23     -          0.2601 -           0.8998    | 0.5776   - 0.0367\u001b[0m\n",
      "Training 74     - 102    -          0.1541 -           0.9272    | 0.7079   - 0.4535\n",
      "\u001b[1;4mValidati 74     - 23     -          0.2745 -           0.8913    | 0.5340   - 0.0367\u001b[0m\n",
      "Training 75     - 102    -          0.1451 -           0.9364    | 0.7482   - 0.4555\n",
      "\u001b[1;4mValidati 75     - 23     -          0.2806 -           0.8839    | 0.5506   - 0.0367\u001b[0m\n",
      "Training 76     - 102    -          0.1594 -           0.9325    | 0.7341   - 0.4541\n",
      "\u001b[1;4mValidati 76     - 23     -          0.2719 -           0.8859    | 0.5265   - 0.0368\u001b[0m\n",
      "Training 77     - 102    -          0.2069 -           0.9316    | 0.7298   - 0.4568\n",
      "\u001b[1;4mValidati 77     - 23     -          0.2790 -           0.8927    | 0.5711   - 0.0370\u001b[0m\n",
      "Training 78     - 102    -          0.2574 -           0.9339    | 0.7394   - 0.4548\n",
      "\u001b[1;4mValidati 78     - 23     -          0.2599 -           0.8988    | 0.5757   - 0.0367\u001b[0m\n",
      "Training 79     - 102    -          0.2326 -           0.9377    | 0.7559   - 0.4556\n",
      "\u001b[1;4mValidati 79     - 23     -          0.2661 -           0.8943    | 0.5616   - 0.0369\u001b[0m\n",
      "Training 80     - 102    -          0.1557 -           0.9373    | 0.7543   - 0.4557\n",
      "\u001b[1;4mValidati 80     - 23     -          0.2536 -           0.8992    | 0.6023   - 0.0380\u001b[0m\n",
      "Training 81     - 102    -          0.1469 -           0.9340    | 0.7381   - 0.4575\n",
      "\u001b[1;4mValidati 81     - 23     -          0.2700 -           0.8936    | 0.5733   - 0.0370\u001b[0m\n",
      "Training 82     - 102    -          0.1207 -           0.9354    | 0.7481   - 0.4577\n",
      "\u001b[1;4mValidati 82     - 23     -          0.2555 -           0.8906    | 0.5399   - 0.0369\u001b[0m\n",
      "Training 83     - 102    -          0.2710 -           0.9389    | 0.7663   - 0.4564\n",
      "\u001b[1;4mValidati 83     - 23     -          0.2427 -           0.8968    | 0.5767   - 0.0371\u001b[0m\n",
      "Training 84     - 102    -          0.1688 -           0.9349    | 0.7412   - 0.4572\n",
      "\u001b[1;4mValidati 84     - 23     -          0.2637 -           0.8990    | 0.5943   - 0.0370\u001b[0m\n",
      "Training 85     - 102    -          0.1105 -           0.9364    | 0.7559   - 0.4566\n",
      "\u001b[1;4mValidati 85     - 23     -          0.2587 -           0.8951    | 0.5636   - 0.0368\u001b[0m\n",
      "Training 86     - 102    -          0.1813 -           0.9334    | 0.7421   - 0.4592\n",
      "\u001b[1;4mValidati 86     - 23     -          0.2772 -           0.8936    | 0.5406   - 0.0370\u001b[0m\n",
      "Training 87     - 102    -          0.2000 -           0.9379    | 0.7609   - 0.4575\n",
      "\u001b[1;4mValidati 87     - 23     -          0.2604 -           0.8958    | 0.5533   - 0.0380\u001b[0m\n",
      "Training 88     - 102    -          0.1255 -           0.9379    | 0.7583   - 0.4561\n",
      "\u001b[1;4mValidati 88     - 23     -          0.2700 -           0.8921    | 0.5718   - 0.0366\u001b[0m\n",
      "Training 89     - 102    -          0.2898 -           0.9312    | 0.7242   - 0.4563\n",
      "\u001b[1;4mValidati 89     - 23     -          0.2678 -           0.8934    | 0.5367   - 0.0368\u001b[0m\n",
      "Training 90     - 102    -          0.1834 -           0.9371    | 0.7573   - 0.4570\n",
      "\u001b[1;4mValidati 90     - 23     -          0.2647 -           0.8965    | 0.5487   - 0.0386\u001b[0m\n",
      "Training 91     - 102    -          0.0899 -           0.9417    | 0.7701   - 0.4565\n",
      "\u001b[1;4mValidati 91     - 23     -          0.2587 -           0.8961    | 0.5867   - 0.0366\u001b[0m\n",
      "Training 92     - 102    -          0.2053 -           0.9375    | 0.7557   - 0.4564\n",
      "\u001b[1;4mValidati 92     - 23     -          0.2769 -           0.8854    | 0.5111   - 0.0371\u001b[0m\n",
      "Training 93     - 102    -          0.1305 -           0.9363    | 0.7549   - 0.4564\n",
      "\u001b[1;4mValidati 93     - 23     -          0.2703 -           0.8936    | 0.5728   - 0.0368\u001b[0m\n",
      "Training 94     - 102    -          0.0791 -           0.9418    | 0.7751   - 0.4661\n",
      "\u001b[1;4mValidati 94     - 23     -          0.2689 -           0.8992    | 0.5851   - 0.0411\u001b[0m\n",
      "Training 95     - 102    -          0.1701 -           0.9387    | 0.7640   - 0.4688\n",
      "\u001b[1;4mValidati 95     - 23     -          0.2511 -           0.8958    | 0.5728   - 0.0369\u001b[0m\n",
      "Training 96     - 102    -          0.2203 -           0.9399    | 0.7673   - 0.4565\n",
      "\u001b[1;4mValidati 96     - 23     -          0.2489 -           0.8978    | 0.5831   - 0.0367\u001b[0m\n",
      "Training 97     - 102    -          0.2291 -           0.9363    | 0.7525   - 0.4564\n",
      "\u001b[1;4mValidati 97     - 23     -          0.2835 -           0.8828    | 0.4813   - 0.0367\u001b[0m\n",
      "Training 98     - 102    -          0.1617 -           0.9399    | 0.7683   - 0.4554\n",
      "\u001b[1;4mValidati 98     - 23     -          0.2616 -           0.9007    | 0.5979   - 0.0371\u001b[0m\n",
      "Training 99     - 102    -          0.1390 -           0.9391    | 0.7663   - 0.4563\n",
      "\u001b[1;4mValidati 99     - 23     -          0.2598 -           0.8930    | 0.5619   - 0.0368\u001b[0m\n",
      "Training 100    - 102    -          0.1487 -           0.9382    | 0.7596   - 0.4573\n",
      "\u001b[1;4mValidati 100    - 23     -          0.2562 -           0.8908    | 0.5631   - 0.0375\u001b[0m\r"
     ]
    }
   ],
   "source": [
    "print(header)\n",
    "for e in range(nb_epochs):\n",
    "    train(e)\n",
    "    val(e)"
   ]
  },
  {
   "cell_type": "markdown",
   "metadata": {},
   "source": [
    "# ♫♪.ılılıll|̲̅̅●̲̅̅|̲̅̅=̲̅̅|̲̅̅●̲̅̅|llılılı.♫♪"
   ]
  }
 ],
 "metadata": {
  "kernelspec": {
   "display_name": "dcase2020",
   "language": "python",
   "name": "dcase2020"
  },
  "language_info": {
   "codemirror_mode": {
    "name": "ipython",
    "version": 3
   },
   "file_extension": ".py",
   "mimetype": "text/x-python",
   "name": "python",
   "nbconvert_exporter": "python",
   "pygments_lexer": "ipython3",
   "version": "3.7.7"
  },
  "toc-autonumbering": true,
  "toc-showcode": false,
  "toc-showmarkdowntxt": false
 },
 "nbformat": 4,
 "nbformat_minor": 4
}
