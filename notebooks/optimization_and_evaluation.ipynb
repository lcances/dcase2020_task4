{
 "cells": [
  {
   "cell_type": "code",
   "execution_count": 1,
   "metadata": {
    "pycharm": {
     "name": "#%% Import\n"
    }
   },
   "outputs": [],
   "source": [
    "%load_ext autoreload\n",
    "%autoreload 2"
   ]
  },
  {
   "cell_type": "markdown",
   "metadata": {},
   "source": [
    "# Import"
   ]
  },
  {
   "cell_type": "code",
   "execution_count": 2,
   "metadata": {},
   "outputs": [],
   "source": [
    "import time\n",
    "import os\n",
    "from pathlib import Path\n",
    "import torch.nn as nn\n",
    "import torch.nn.functional as F\n",
    "import torch.utils.data\n",
    "from torch.utils.tensorboard import SummaryWriter\n",
    "\n",
    "import sys\n",
    "sys.path.append(\"..\")\n",
    "\n",
    "import numpy\n",
    "from tqdm import tqdm\n",
    "\n",
    "# dataset manager\n",
    "from dcase2020.datasetManager import DESEDManager\n",
    "from dcase2020.datasets import DESEDDataset\n",
    "\n",
    "# utility function & metrics & augmentation\n",
    "from metric_utils.metrics import FScore, BinaryAccuracy\n",
    "from dcase2020_task4.util.utils import get_datetime, reset_seed\n",
    "from dcase2020_task4.util.checkpoint import CheckPoint\n"
   ]
  },
  {
   "cell_type": "code",
   "execution_count": 3,
   "metadata": {
    "collapsed": false,
    "jupyter": {
     "outputs_hidden": false
    },
    "pycharm": {
     "name": "#%%\n"
    }
   },
   "outputs": [],
   "source": [
    "# ==== set the log ====\n",
    "import logging\n",
    "import logging.config\n",
    "from dcase2020.util.log import DEFAULT_LOGGING\n",
    "logging.config.dictConfig(DEFAULT_LOGGING)\n",
    "log = logging.getLogger(__name__)"
   ]
  },
  {
   "cell_type": "code",
   "execution_count": 4,
   "metadata": {
    "collapsed": false,
    "jupyter": {
     "outputs_hidden": false
    },
    "pycharm": {
     "name": "#%%\n"
    }
   },
   "outputs": [],
   "source": [
    "# ==== reset the seed for reproductability ====\n",
    "reset_seed(1234)"
   ]
  },
  {
   "cell_type": "markdown",
   "metadata": {},
   "source": [
    "# Prepare the data"
   ]
  },
  {
   "cell_type": "code",
   "execution_count": 5,
   "metadata": {
    "collapsed": false,
    "jupyter": {
     "outputs_hidden": false
    },
    "pycharm": {
     "name": "#%%\n"
    }
   },
   "outputs": [
    {
     "name": "stdout",
     "output_type": "stream",
     "text": [
      "\u001b[1;34mDEBUG --- datasetManager.__init__ >>> ../dataset/DESED/dataset/audio/dcase2020_dataset_22050.hdf5\u001b[0m\n",
      "\u001b[1;37mINFO --- datasetManager._load_metadata >>> Reading metadata: ../dataset/DESED/dataset/metadata/train/weak.tsv\u001b[0m\n",
      "\u001b[1;37mINFO --- datasetManager._load_metadata >>> Reading metadata: ../dataset/DESED/dataset/metadata/train/unlabel_in_domain.tsv\u001b[0m\n",
      "\u001b[1;37mINFO --- datasetManager._load_metadata >>> Reading metadata: ../dataset/DESED/dataset/metadata/train/synthetic20.tsv\u001b[0m\n"
     ]
    }
   ],
   "source": [
    "# ==== load the dataset ====\n",
    "desed_metadata_root = \"../dataset/DESED/dataset/metadata\"\n",
    "desed_audio_root = \"../dataset/DESED/dataset/audio\"\n",
    "\n",
    "manager = DESEDManager(\n",
    "    desed_metadata_root, desed_audio_root,\n",
    "    sampling_rate = 22050,\n",
    "    from_disk=False,\n",
    "    nb_vector_bin=431, # there is no temporal reduction in this model\n",
    "    verbose = 1\n",
    ")"
   ]
  },
  {
   "cell_type": "markdown",
   "metadata": {},
   "source": [
    "## Add weak ans synthetic20 subset"
   ]
  },
  {
   "cell_type": "code",
   "execution_count": 6,
   "metadata": {
    "collapsed": false,
    "jupyter": {
     "outputs_hidden": false
    },
    "pycharm": {
     "name": "#%%\n"
    }
   },
   "outputs": [
    {
     "name": "stderr",
     "output_type": "stream",
     "text": [
      "100%|██████████| 4251/4251 [00:08<00:00, 483.08it/s]"
     ]
    },
    {
     "name": "stdout",
     "output_type": "stream",
     "text": [
      "\u001b[1;37mINFO --- datasetManager._add_val_subset >>> Loading dataset: validation\u001b[0m\n",
      "\u001b[1;34mDEBUG --- datasetManager._hdf_to_dict >>> hdf_file: <HDF5 file \"dcase2020_dataset_22050.hdf5\" (mode r)>\u001b[0m\n"
     ]
    },
    {
     "name": "stderr",
     "output_type": "stream",
     "text": [
      "\n"
     ]
    },
    {
     "name": "stdout",
     "output_type": "stream",
     "text": [
      "\u001b[1;34mDEBUG --- datasetManager._hdf_to_dict >>> path: DESED/dataset/audio/validation\u001b[0m\n"
     ]
    }
   ],
   "source": [
    "manager.add_subset(\"validation\")"
   ]
  },
  {
   "cell_type": "markdown",
   "metadata": {},
   "source": [
    "# Prepare dataset and model"
   ]
  },
  {
   "cell_type": "markdown",
   "metadata": {},
   "source": [
    "## Prep dataset\n",
    "\n",
    "- We want both the weak and strong ground truth --> the *weak* and *strong* parameters to True\n",
    "- only the validation subset is needed"
   ]
  },
  {
   "cell_type": "code",
   "execution_count": 7,
   "metadata": {},
   "outputs": [],
   "source": [
    "val_dataset = DESEDDataset(manager, train=False, val=True, weak=True, strong=True, augments=[], cached=True)\n",
    "val_loader = torch.utils.data.DataLoader(val_dataset, batch_size=64, shuffle=False)"
   ]
  },
  {
   "cell_type": "markdown",
   "metadata": {},
   "source": [
    "## Prep model"
   ]
  },
  {
   "cell_type": "markdown",
   "metadata": {},
   "source": [
    "### dcase2019_system"
   ]
  },
  {
   "cell_type": "code",
   "execution_count": 8,
   "metadata": {},
   "outputs": [],
   "source": [
    "from dcase2020_task4.dcase2019.models import dcase2019_model"
   ]
  },
  {
   "cell_type": "code",
   "execution_count": 9,
   "metadata": {},
   "outputs": [
    {
     "data": {
      "text/plain": [
       "<All keys matched successfully>"
      ]
     },
     "execution_count": 9,
     "metadata": {},
     "output_type": "execute_result"
    }
   ],
   "source": [
    "best_model = dcase2019_model()\n",
    "best_model.cuda()\n",
    "best_model.eval() # <-- for consistency in scoring (deactivate dropout and batchNorm)\n",
    "\n",
    "checkpoint = torch.load(\"../models/best_dcase2019.torch\")\n",
    "best_model.load_state_dict(checkpoint[\"state_dict\"])"
   ]
  },
  {
   "cell_type": "markdown",
   "metadata": {},
   "source": [
    "## Perform prediction on validation dataset"
   ]
  },
  {
   "cell_type": "code",
   "execution_count": 11,
   "metadata": {},
   "outputs": [
    {
     "name": "stdout",
     "output_type": "stream",
     "text": [
      " 100 %\r"
     ]
    }
   ],
   "source": [
    "weak_y_true, strong_y_true = None, None\n",
    "weak_y_pred, strong_y_pred = None, None\n",
    "y_filenames = list(val_dataset.X.keys())\n",
    "\n",
    "with torch.set_grad_enabled(False):\n",
    "    for i, (X, y) in enumerate(val_loader):\n",
    "        weak_y, strong_y = y\n",
    "        weak_y, strong_y = weak_y.cuda(), strong_y.cuda()\n",
    "        X = X.cuda()\n",
    "        \n",
    "        weak_logits, strong_logits = best_model(X)\n",
    "        \n",
    "        weak_pred = torch.sigmoid(weak_logits)\n",
    "        strong_pred = torch.sigmoid(strong_logits)\n",
    "        \n",
    "        # accumulate prediction and ground truth\n",
    "        if i == 0:\n",
    "            weak_y_true = weak_y.cpu()\n",
    "            strong_y_true = strong_y.cpu()\n",
    "\n",
    "            weak_y_pred =  weak_pred.cpu()\n",
    "            strong_y_pred =  strong_pred.cpu()\n",
    "        else:\n",
    "            weak_y_true = torch.cat((weak_y_true, weak_y.cpu()), dim=0)\n",
    "            strong_y_true = torch.cat((strong_y_true, strong_y.cpu()), dim=0)\n",
    "\n",
    "            weak_y_pred =  torch.cat((weak_y_pred, weak_pred.cpu()), dim=0)\n",
    "            strong_y_pred =  torch.cat((strong_y_pred, strong_pred.cpu()), dim=0)\n",
    "        \n",
    "        print(\" %d %%\" % int(100 * (i + 1) / len(val_loader)), end=\"\\r\")"
   ]
  },
  {
   "cell_type": "code",
   "execution_count": 12,
   "metadata": {},
   "outputs": [
    {
     "data": {
      "text/plain": [
       "(torch.Size([1058, 10]),\n",
       " torch.Size([1058, 10]),\n",
       " torch.Size([1058, 10, 431]),\n",
       " torch.Size([1058, 10, 431]),\n",
       " 1058)"
      ]
     },
     "execution_count": 12,
     "metadata": {},
     "output_type": "execute_result"
    }
   ],
   "source": [
    "weak_y_true.shape, weak_y_pred.shape, strong_y_true.shape, strong_y_pred.shape, len(y_filenames)"
   ]
  },
  {
   "cell_type": "markdown",
   "metadata": {},
   "source": [
    "# Audio tagging threshold Optimization"
   ]
  },
  {
   "cell_type": "code",
   "execution_count": 13,
   "metadata": {},
   "outputs": [],
   "source": [
    "classwise_f1 = FScore(dim=0)\n",
    "def simulated_anealing(y_pred, y_true, macro_iteration = 50, micro_iteration = 400):\n",
    "    weak_y_pred_ = y_pred.clone().detach()\n",
    "\n",
    "    classwise_f1(weak_y_pred_, weak_y_true)\n",
    "    start_f1 = classwise_f1.value\n",
    "\n",
    "    min_delta = 10e-7\n",
    "    delta_ratio = 0.2\n",
    "#     macro_iteration = 30\n",
    "#     micro_iteration = 400\n",
    "\n",
    "    history = {\n",
    "        \"best_f1\": [[] for _ in range(10)],\n",
    "        \"f1\": [],\n",
    "        \"delta_ratio\": []\n",
    "    }\n",
    "\n",
    "    best_thresholds = torch.ones(10) * 0.5\n",
    "    best_f1 = start_f1.clone().detach()\n",
    "\n",
    "    total_iteration = macro_iteration * micro_iteration\n",
    "    \n",
    "    for M in range(macro_iteration):\n",
    "        thresholds = torch.ones(10) * 0.5\n",
    "        delta_ratio = 0.3\n",
    "        delta_decay = ( (min_delta + delta_ratio) / micro_iteration )\n",
    "\n",
    "        for m in range(micro_iteration):\n",
    "            bin_y_pred = y_pred.clone().detach()\n",
    "\n",
    "            # calc new threhsold\n",
    "            r = torch.normal(mean=thresholds, std=0.4)\n",
    "            delta = r * delta_ratio\n",
    "            new_thresholds = thresholds + delta\n",
    "            delta_ratio -= delta_decay\n",
    "            history[\"delta_ratio\"].append(delta_ratio)\n",
    "\n",
    "            # apply threshold\n",
    "            weak_y_pred_[bin_y_pred > new_thresholds] = 1\n",
    "            weak_y_pred_[bin_y_pred <= new_thresholds] = 0\n",
    "\n",
    "            # calc new f1\n",
    "            classwise_f1(weak_y_pred_, weak_y_true)\n",
    "            new_f1 = classwise_f1.value\n",
    "            history[\"f1\"].append(new_f1)\n",
    "\n",
    "            # check\n",
    "            for i in range(10):\n",
    "                if new_f1[i] > best_f1[i]:\n",
    "#                     print(new_f1[i], \" > \", best_f1[i])\n",
    "                    best_f1[i] = new_f1[i]\n",
    "                    best_thresholds[i] = new_thresholds[i]\n",
    "                    thresholds[i] = best_thresholds[i]\n",
    "                    history[\"best_f1\"][i].append(best_f1[i])\n",
    "#                     print(best_thresholds)\n",
    "\n",
    "            step = M * micro_iteration + m\n",
    "            print(\"%2.2f / 100.0 (%%)\" % ((step / total_iteration) * 100), end=\"\\r\")\n",
    "            \n",
    "    return start_f1, best_f1, best_thresholds, history"
   ]
  },
  {
   "cell_type": "code",
   "execution_count": 14,
   "metadata": {
    "scrolled": true
   },
   "outputs": [
    {
     "name": "stdout",
     "output_type": "stream",
     "text": [
      "99.99 / 100.0 (%)\r"
     ]
    }
   ],
   "source": [
    "initial_f1, best_f1, best_at_thresholds, history = simulated_anealing(weak_y_pred, weak_y_true, 20, 400)"
   ]
  },
  {
   "cell_type": "code",
   "execution_count": 15,
   "metadata": {},
   "outputs": [
    {
     "data": {
      "text/plain": [
       "(tensor(0.6882), tensor(0.7030))"
      ]
     },
     "execution_count": 15,
     "metadata": {},
     "output_type": "execute_result"
    }
   ],
   "source": [
    "torch.mean(initial_f1), torch.mean(best_f1)"
   ]
  },
  {
   "cell_type": "code",
   "execution_count": 16,
   "metadata": {},
   "outputs": [
    {
     "data": {
      "text/plain": [
       "tensor([0.3663, 0.1117, 0.9624, 0.9105, 0.9772, 0.5160, 0.5000, 0.4193, 0.5802,\n",
       "        0.2022])"
      ]
     },
     "execution_count": 16,
     "metadata": {},
     "output_type": "execute_result"
    }
   ],
   "source": [
    "best_at_thresholds"
   ]
  },
  {
   "cell_type": "markdown",
   "metadata": {},
   "source": [
    "# pruning of strong prediction"
   ]
  },
  {
   "cell_type": "markdown",
   "metadata": {},
   "source": [
    "## Apply best tagging threshold"
   ]
  },
  {
   "cell_type": "code",
   "execution_count": 17,
   "metadata": {},
   "outputs": [],
   "source": [
    "best_weak_y_pred = weak_y_pred.clone().detach()\n",
    "\n",
    "best_weak_y_pred[best_weak_y_pred > best_at_thresholds] = 1\n",
    "best_weak_y_pred[best_weak_y_pred <= best_at_thresholds] = 0"
   ]
  },
  {
   "cell_type": "code",
   "execution_count": 18,
   "metadata": {},
   "outputs": [
    {
     "data": {
      "text/plain": [
       "(torch.Size([1058, 10]), torch.Size([1058, 10, 431]))"
      ]
     },
     "execution_count": 18,
     "metadata": {},
     "output_type": "execute_result"
    }
   ],
   "source": [
    "best_weak_y_pred.shape, strong_y_pred.shape"
   ]
  },
  {
   "cell_type": "code",
   "execution_count": 19,
   "metadata": {},
   "outputs": [],
   "source": [
    "# Prune the result of fill the missing curve with 0 segments\n",
    "def prune_prediction(strong_y_pred, weak_y_pred):\n",
    "    \"\"\" Prune the strong prediciton by zeroing all classes that are not predicted. \"\"\"\n",
    "    pruned_strong_y_pred = strong_y_pred.clone().detach()\n",
    "    \n",
    "    for index in range(len(pruned_strong_y_pred)):\n",
    "        cls_result = weak_y_pred[index]\n",
    "        \n",
    "        # Create a full mask using repeat\n",
    "        length = strong_y_pred.size()[-1]\n",
    "        cls_mask = cls_result.unsqueeze(1).repeat(1, length)\n",
    "        pruned_strong_y_pred[index] *= cls_mask\n",
    "                \n",
    "    return pruned_strong_y_pred"
   ]
  },
  {
   "cell_type": "code",
   "execution_count": 20,
   "metadata": {},
   "outputs": [],
   "source": [
    "pruned_strong_y_pred = prune_prediction(strong_y_pred, best_weak_y_pred)"
   ]
  },
  {
   "cell_type": "markdown",
   "metadata": {},
   "source": [
    "### Sanity check and visualization"
   ]
  },
  {
   "cell_type": "code",
   "execution_count": 21,
   "metadata": {},
   "outputs": [
    {
     "data": {
      "text/plain": [
       "(tensor([0., 0., 0., 0., 0., 0., 0., 0., 0., 1.]),\n",
       " tensor([[0.0000, 0.0000, 0.0000,  ..., 0.0000, 0.0000, 0.0000],\n",
       "         [0.0000, 0.0000, 0.0000,  ..., 0.0000, 0.0000, 0.0000],\n",
       "         [0.0000, 0.0000, 0.0000,  ..., 0.0000, 0.0000, 0.0000],\n",
       "         ...,\n",
       "         [0.0000, 0.0000, 0.0000,  ..., 0.0000, 0.0000, 0.0000],\n",
       "         [0.0000, 0.0000, 0.0000,  ..., 0.0000, 0.0000, 0.0000],\n",
       "         [0.2967, 0.1147, 0.1788,  ..., 0.0047, 0.0092, 0.0386]]))"
      ]
     },
     "execution_count": 21,
     "metadata": {},
     "output_type": "execute_result"
    }
   ],
   "source": [
    "best_weak_y_pred[1], pruned_strong_y_pred[1]"
   ]
  },
  {
   "cell_type": "code",
   "execution_count": 23,
   "metadata": {},
   "outputs": [
    {
     "data": {
      "image/png": "[encoded data removed]",
      "text/plain": [
       "<Figure size 1080x432 with 1 Axes>"
      ]
     },
     "metadata": {
      "needs_background": "light"
     },
     "output_type": "display_data"
    }
   ],
   "source": [
    "import matplotlib.pyplot as plt\n",
    "\n",
    "class_list = list(DESEDManager.cls_dict.keys())\n",
    "plt.figure(0, figsize=(15, 6))\n",
    "\n",
    "for i, class_name in enumerate(class_list):\n",
    "    plt.plot(pruned_strong_y_pred[1][i], label=class_name)\n",
    "\n",
    "plt.legend()\n",
    "plt.show()"
   ]
  },
  {
   "cell_type": "markdown",
   "metadata": {},
   "source": [
    "# localization Optimization"
   ]
  },
  {
   "cell_type": "code",
   "execution_count": 24,
   "metadata": {},
   "outputs": [],
   "source": [
    "# pip install -i https://test.pypi.org/simple/ aeseg"
   ]
  },
  {
   "cell_type": "code",
   "execution_count": 25,
   "metadata": {},
   "outputs": [],
   "source": [
    "from aeseg.Encoder import Encoder\n",
    "from aeseg.optimizers import GenOptimizer, DichotomicOptimizer\n",
    "from aeseg.core import eb_evaluator, sb_evaluator"
   ]
  },
  {
   "cell_type": "code",
   "execution_count": 26,
   "metadata": {},
   "outputs": [],
   "source": [
    "def load_csv(path):\n",
    "    with open(path, \"r\") as f:\n",
    "        data = f.read().splitlines()[1:]\n",
    "    return data"
   ]
  },
  {
   "cell_type": "code",
   "execution_count": 27,
   "metadata": {},
   "outputs": [
    {
     "data": {
      "text/plain": [
       "(torch.Size([1058, 431, 10]), torch.Size([1058, 431, 10]))"
      ]
     },
     "execution_count": 27,
     "metadata": {},
     "output_type": "execute_result"
    }
   ],
   "source": [
    "## Optimizer take data in the following shape (file, seq, class)\n",
    "strong_y_true = strong_y_true.permute(0, 2, 1)\n",
    "pruned_strong_y_pred = pruned_strong_y_pred.permute(0, 2, 1)\n",
    "strong_y_true.shape, pruned_strong_y_pred.shape"
   ]
  },
  {
   "cell_type": "code",
   "execution_count": null,
   "metadata": {},
   "outputs": [],
   "source": [
    "def class_wise_optimization(optimizer, class_to_monitor, strong_y_true, strong_pred, filenames, method=\"threshold\"):\n",
    "    class_wise_results = {}\n",
    "    \n",
    "    for cl in class_to_monitor:\n",
    "        optimizer.fit(\n",
    "            strong_y_true, strong_pred, filenames,\n",
    "            monitor=[\"class_wise\", cl, \"f_measure\", \"f_measure\"],\n",
    "            method=method,\n",
    "            verbose=1)\n",
    "        \n",
    "        parameters, score = optimizer.best\n",
    "        print(cl, parameters, score)\n",
    "        class_wise_results[cl] = (parameters, score)\n",
    "        \n",
    "    return class_wise_results\n",
    "\n",
    "\n",
    "def get_class_dependant_parameters(class_wise_results, class_list):\n",
    "    class_dependant_parameters = {}\n",
    "    for cl in class_list:\n",
    "        for param in class_wise_results[cl][0]:\n",
    "            if param not in class_dependant_parameters.keys():\n",
    "                class_dependant_parameters[param] = []\n",
    "            class_dependant_parameters[param].append(class_wise_results[cl][0][param])\n",
    "            \n",
    "    # TODO find better way\n",
    "    # for \"smooth\" common parameters, remove list\n",
    "    class_dependant_parameters[\"smooth\"] = class_dependant_parameters[\"smooth\"][0]\n",
    "    return class_dependant_parameters"
   ]
  },
  {
   "cell_type": "code",
   "execution_count": null,
   "metadata": {},
   "outputs": [],
   "source": [
    "class_list = list(DESEDManager.cls_dict.keys())\n",
    "\n",
    "# Create the encoder that will be used\n",
    "encoder = Encoder(\n",
    "    classes=class_list,\n",
    "    temporal_precision = 50,  # ms\n",
    "    clip_length = 10,          # s\n",
    "    minimal_segment_step = 150 # ms\n",
    ")\n",
    "\n",
    "val_csv_y_true= load_csv(os.path.join(desed_metadata_root, \"validation\", \"validation.tsv\"))"
   ]
  },
  {
   "cell_type": "markdown",
   "metadata": {},
   "source": [
    "## Absolute threshold"
   ]
  },
  {
   "cell_type": "code",
   "execution_count": null,
   "metadata": {
    "scrolled": true
   },
   "outputs": [],
   "source": [
    "optimizer = DichotomicOptimizer(\n",
    "    {\n",
    "        \"threshold\": (0.01, 0.90),\n",
    "        \"smooth\": \"smoothMovingAvg\",\n",
    "        \"window_len\": (5, 27)\n",
    "    },\n",
    "    \n",
    "    encoder = encoder,\n",
    "    step = 6,\n",
    "    nb_recurse = 8,\n",
    "    nb_process = 5\n",
    ")\n",
    "\n",
    "class_wise_results = class_wise_optimization(\n",
    "    optimizer,\n",
    "    class_list,\n",
    "    method=\"threshold\",\n",
    "    strong_y_true=val_csv_y_true,\n",
    "    strong_pred=pruned_strong_y_pred.numpy(),\n",
    "    filenames=y_filenames\n",
    ")"
   ]
  },
  {
   "cell_type": "markdown",
   "metadata": {},
   "source": [
    "## Hysteresis thresholding"
   ]
  },
  {
   "cell_type": "code",
   "execution_count": 241,
   "metadata": {
    "ExecuteTime": {
     "end_time": "2019-06-05T23:35:34.068674Z",
     "start_time": "2019-06-05T18:50:30.082131Z"
    },
    "scrolled": true
   },
   "outputs": [
    {
     "name": "stderr",
     "output_type": "stream",
     "text": [
      "\n",
      "\n",
      "\n",
      "\n",
      "\n",
      "\n",
      "\n",
      "\n",
      "\n",
      "\n",
      "\n",
      "\n",
      "\n",
      "  0%|          | 0/1728 [00:00<?, ?it/s]\u001b[A\u001b[A\u001b[A\u001b[A\u001b[A\u001b[A\u001b[A\u001b[A\u001b[A\u001b[A\u001b[A\u001b[A\u001b[A"
     ]
    },
    {
     "ename": "IndexError",
     "evalue": "list index out of range",
     "output_type": "error",
     "traceback": [
      "\u001b[0;31m---------------------------------------------------------------------------\u001b[0m",
      "\u001b[0;31mRemoteTraceback\u001b[0m                           Traceback (most recent call last)",
      "\u001b[0;31mRemoteTraceback\u001b[0m: \n\"\"\"\nTraceback (most recent call last):\n  File \"/users/samova/lcances/.miniconda3/envs/dcase2020/lib/python3.7/multiprocessing/pool.py\", line 121, in worker\n    result = (True, func(*args, **kwds))\n  File \"/users/samova/lcances/.miniconda3/envs/dcase2020/lib/python3.7/site-packages/aeseg/optimizers.py\", line 41, in evaluate\n  File \"/users/samova/lcances/.miniconda3/envs/dcase2020/lib/python3.7/site-packages/aeseg/Encoder.py\", line 130, in encode\n  File \"/users/samova/lcances/.miniconda3/envs/dcase2020/lib/python3.7/site-packages/aeseg/Encoder.py\", line 331, in __encode_using_hysteresis\nIndexError: list index out of range\n\"\"\"",
      "\nThe above exception was the direct cause of the following exception:\n",
      "\u001b[0;31mIndexError\u001b[0m                                Traceback (most recent call last)",
      "\u001b[0;32m<ipython-input-241-089057c9d575>\u001b[0m in \u001b[0;36m<module>\u001b[0;34m\u001b[0m\n\u001b[1;32m     21\u001b[0m     \u001b[0mstrong_y_true\u001b[0m\u001b[0;34m=\u001b[0m\u001b[0mstrong_y_true\u001b[0m\u001b[0;34m,\u001b[0m\u001b[0;34m\u001b[0m\u001b[0;34m\u001b[0m\u001b[0m\n\u001b[1;32m     22\u001b[0m     \u001b[0mstrong_pred\u001b[0m\u001b[0;34m=\u001b[0m\u001b[0mpruned_strong_y_pred\u001b[0m\u001b[0;34m.\u001b[0m\u001b[0mnumpy\u001b[0m\u001b[0;34m(\u001b[0m\u001b[0;34m)\u001b[0m\u001b[0;34m,\u001b[0m\u001b[0;34m\u001b[0m\u001b[0;34m\u001b[0m\u001b[0m\n\u001b[0;32m---> 23\u001b[0;31m     \u001b[0mfilenames\u001b[0m\u001b[0;34m=\u001b[0m\u001b[0my_filenames\u001b[0m\u001b[0;34m\u001b[0m\u001b[0;34m\u001b[0m\u001b[0m\n\u001b[0m\u001b[1;32m     24\u001b[0m )\n",
      "\u001b[0;32m<ipython-input-211-0c27c2b1bfb8>\u001b[0m in \u001b[0;36mclass_wise_optimization\u001b[0;34m(optimizer, class_to_monitor, strong_y_true, strong_pred, filenames, method)\u001b[0m\n\u001b[1;32m      7\u001b[0m             \u001b[0mmonitor\u001b[0m\u001b[0;34m=\u001b[0m\u001b[0;34m[\u001b[0m\u001b[0;34m\"class_wise\"\u001b[0m\u001b[0;34m,\u001b[0m \u001b[0mcl\u001b[0m\u001b[0;34m,\u001b[0m \u001b[0;34m\"f_measure\"\u001b[0m\u001b[0;34m,\u001b[0m \u001b[0;34m\"f_measure\"\u001b[0m\u001b[0;34m]\u001b[0m\u001b[0;34m,\u001b[0m\u001b[0;34m\u001b[0m\u001b[0;34m\u001b[0m\u001b[0m\n\u001b[1;32m      8\u001b[0m             \u001b[0mmethod\u001b[0m\u001b[0;34m=\u001b[0m\u001b[0mmethod\u001b[0m\u001b[0;34m,\u001b[0m\u001b[0;34m\u001b[0m\u001b[0;34m\u001b[0m\u001b[0m\n\u001b[0;32m----> 9\u001b[0;31m             verbose=1)\n\u001b[0m\u001b[1;32m     10\u001b[0m \u001b[0;34m\u001b[0m\u001b[0m\n\u001b[1;32m     11\u001b[0m         \u001b[0mparameters\u001b[0m\u001b[0;34m,\u001b[0m \u001b[0mscore\u001b[0m \u001b[0;34m=\u001b[0m \u001b[0moptimizer\u001b[0m\u001b[0;34m.\u001b[0m\u001b[0mbest\u001b[0m\u001b[0;34m\u001b[0m\u001b[0;34m\u001b[0m\u001b[0m\n",
      "\u001b[0;32m~/.miniconda3/envs/dcase2020/lib/python3.7/site-packages/aeseg/optimizers.py\u001b[0m in \u001b[0;36mfit\u001b[0;34m(self, y_true, y_pred, filenames, monitor, verbose, method)\u001b[0m\n",
      "\u001b[0;32m~/.miniconda3/envs/dcase2020/lib/python3.7/multiprocessing/pool.py\u001b[0m in \u001b[0;36mget\u001b[0;34m(self, timeout)\u001b[0m\n\u001b[1;32m    655\u001b[0m             \u001b[0;32mreturn\u001b[0m \u001b[0mself\u001b[0m\u001b[0;34m.\u001b[0m\u001b[0m_value\u001b[0m\u001b[0;34m\u001b[0m\u001b[0;34m\u001b[0m\u001b[0m\n\u001b[1;32m    656\u001b[0m         \u001b[0;32melse\u001b[0m\u001b[0;34m:\u001b[0m\u001b[0;34m\u001b[0m\u001b[0;34m\u001b[0m\u001b[0m\n\u001b[0;32m--> 657\u001b[0;31m             \u001b[0;32mraise\u001b[0m \u001b[0mself\u001b[0m\u001b[0;34m.\u001b[0m\u001b[0m_value\u001b[0m\u001b[0;34m\u001b[0m\u001b[0;34m\u001b[0m\u001b[0m\n\u001b[0m\u001b[1;32m    658\u001b[0m \u001b[0;34m\u001b[0m\u001b[0m\n\u001b[1;32m    659\u001b[0m     \u001b[0;32mdef\u001b[0m \u001b[0m_set\u001b[0m\u001b[0;34m(\u001b[0m\u001b[0mself\u001b[0m\u001b[0;34m,\u001b[0m \u001b[0mi\u001b[0m\u001b[0;34m,\u001b[0m \u001b[0mobj\u001b[0m\u001b[0;34m)\u001b[0m\u001b[0;34m:\u001b[0m\u001b[0;34m\u001b[0m\u001b[0;34m\u001b[0m\u001b[0m\n",
      "\u001b[0;31mIndexError\u001b[0m: list index out of range"
     ]
    }
   ],
   "source": [
    "# Perform the optimization ON TEST\n",
    "# Create the optimizer\n",
    "optimizer = DichotomicOptimizer(\n",
    "    {\n",
    "        \"high\": (0.01, 0.99),\n",
    "        \"low\": (0.01, 0.99),\n",
    "#         \"smooth\": \"smoothMovingAvg\",\n",
    "        \"window_len\": (3, 27)\n",
    "    },\n",
    "    \n",
    "    encoder = encoder,\n",
    "    step = 6,\n",
    "    nb_recurse = 8,\n",
    "    nb_process = 5\n",
    ")\n",
    "\n",
    "class_wise_results = class_wise_optimization(\n",
    "    optimizer,\n",
    "    class_list,\n",
    "    method=\"hysteresis\",\n",
    "    strong_y_true=strong_y_true,\n",
    "    strong_pred=pruned_strong_y_pred.numpy(),\n",
    "    filenames=y_filenames\n",
    ")"
   ]
  },
  {
   "cell_type": "code",
   "execution_count": 87,
   "metadata": {
    "ExecuteTime": {
     "end_time": "2019-06-06T05:49:07.672707Z",
     "start_time": "2019-06-06T05:49:07.615719Z"
    }
   },
   "outputs": [],
   "source": [
    "best_parameters = get_class_dependant_parameters(class_wise_results, class_list)"
   ]
  },
  {
   "cell_type": "code",
   "execution_count": 88,
   "metadata": {
    "ExecuteTime": {
     "end_time": "2019-06-06T05:49:28.567651Z",
     "start_time": "2019-06-06T05:49:09.882468Z"
    }
   },
   "outputs": [
    {
     "name": "stdout",
     "output_type": "stream",
     "text": [
      "Event based metrics (onset-offset)\n",
      "========================================\n",
      "  Evaluated length                  : 10161.15 sec\n",
      "  Evaluated files                   : 1168 \n",
      "  Evaluate onset                    : True \n",
      "  Evaluate offset                   : True \n",
      "  T collar                          : 200.00 ms\n",
      "  Offset (length)                   : 20.00 %\n",
      "\n",
      "  Overall metrics (micro-average)\n",
      "  ======================================\n",
      "  F-measure\n",
      "    F-measure (F1)                  : 36.63 %\n",
      "    Precision                       : 40.38 %\n",
      "    Recall                          : 33.52 %\n",
      "  Error rate\n",
      "    Error rate (ER)                 : 1.13 \n",
      "    Substitution rate               : 0.03 \n",
      "    Deletion rate                   : 0.64 \n",
      "    Insertion rate                  : 0.47 \n",
      "\n",
      "  Class-wise average metrics (macro-average)\n",
      "  ======================================\n",
      "  F-measure\n",
      "    F-measure (F1)                  : 37.88 %\n",
      "    Precision                       : 39.53 %\n",
      "    Recall                          : 36.98 %\n",
      "  Error rate\n",
      "    Error rate (ER)                 : 1.21 \n",
      "    Deletion rate                   : 0.63 \n",
      "    Insertion rate                  : 0.58 \n",
      "  \n",
      "\n",
      "  Class-wise metrics\n",
      "  ======================================\n",
      "    Event label  | Nref    Nsys  | F        Pre      Rec    | ER       Del      Ins    |\n",
      "    ------------ | -----   ----- | ------   ------   ------ | ------   ------   ------ |\n",
      "    Alarm_bell.. | 418     326   | 39.2%    44.8%    34.9%  | 1.08     0.65     0.43   |\n",
      "    Blender      | 96      115   | 35.1%    32.2%    38.5%  | 1.43     0.61     0.81   |\n",
      "    Cat          | 340     272   | 41.5%    46.7%    37.4%  | 1.05     0.63     0.43   |\n",
      "    Dishes       | 492     386   | 27.6%    31.3%    24.6%  | 1.29     0.75     0.54   |\n",
      "    Dog          | 577     387   | 18.7%    23.3%    15.6%  | 1.36     0.84     0.51   |\n",
      "    Electric_s.. | 65      68    | 43.6%    42.6%    44.6%  | 1.15     0.55     0.60   |\n",
      "    Frying       | 91      101   | 34.4%    32.7%    36.3%  | 1.38     0.64     0.75   |\n",
      "    Running_wa.. | 230     300   | 27.5%    24.3%    31.7%  | 1.67     0.68     0.99   |\n",
      "    Speech       | 1662    1328  | 43.1%    48.5%    38.7%  | 1.02     0.61     0.41   |\n",
      "    Vacuum_cle.. | 92      90    | 68.1%    68.9%    67.4%  | 0.63     0.33     0.30   |\n",
      "\n",
      "\n"
     ]
    }
   ],
   "source": [
    "# check test\n",
    "best_parameters = get_class_dependant_parameters(class_wise_results, class_list)\n",
    "\n",
    "segments = encoder.encode(\n",
    "    val_strong_pred,\n",
    "    method=\"hysteresis\",\n",
    "    **best_parameters\n",
    ")\n",
    "to_evaluate = encoder.parse(segments, val_filenames)\n",
    "evaluator = eb_evaluator(val_csv_y_true, to_evaluate)\n",
    "print(evaluator)"
   ]
  },
  {
   "cell_type": "markdown",
   "metadata": {},
   "source": [
    "# ♫♪.ılılıll|̲̅̅●̲̅̅|̲̅̅=̲̅̅|̲̅̅●̲̅̅|llılılı.♫♪"
   ]
  }
 ],
 "metadata": {
  "kernelspec": {
   "display_name": "dcase2020",
   "language": "python",
   "name": "dcase2020"
  },
  "language_info": {
   "codemirror_mode": {
    "name": "ipython",
    "version": 3
   },
   "file_extension": ".py",
   "mimetype": "text/x-python",
   "name": "python",
   "nbconvert_exporter": "python",
   "pygments_lexer": "ipython3",
   "version": "3.7.7"
  }
 },
 "nbformat": 4,
 "nbformat_minor": 4
}
