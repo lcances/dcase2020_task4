{
 "cells": [
  {
   "cell_type": "code",
   "execution_count": 1,
   "metadata": {
    "pycharm": {
     "name": "#%% Import\n"
    }
   },
   "outputs": [],
   "source": [
    "%load_ext autoreload\n",
    "%autoreload 2"
   ]
  },
  {
   "cell_type": "code",
   "execution_count": 2,
   "metadata": {},
   "outputs": [],
   "source": [
    "import time\n",
    "import os\n",
    "from pathlib import Path\n",
    "import torch.nn as nn\n",
    "import torch.nn.functional as F\n",
    "import torch.utils.data\n",
    "from torch.utils.tensorboard import SummaryWriter\n",
    "\n",
    "import sys\n",
    "sys.path.append(\"..\")\n",
    "\n",
    "# dataset manager\n",
    "from dcase2020.datasetManager import DESEDManager\n",
    "from dcase2020.datasets import DESEDDataset\n",
    "\n",
    "# utility function & metrics & augmentation\n",
    "from metric_utils.metrics import FScore, BinaryAccuracy\n",
    "from dcase2020_task4.util.utils import get_datetime, reset_seed\n",
    "\n",
    "# models\n",
    "from dcase2020_task4.dcase2019.models import dcase2019_model"
   ]
  },
  {
   "cell_type": "code",
   "execution_count": 3,
   "metadata": {
    "collapsed": false,
    "jupyter": {
     "outputs_hidden": false
    },
    "pycharm": {
     "name": "#%%\n"
    }
   },
   "outputs": [],
   "source": [
    "# ==== set the log ====\n",
    "import logging\n",
    "import logging.config\n",
    "from dcase2020.util.log import DEFAULT_LOGGING\n",
    "logging.config.dictConfig(DEFAULT_LOGGING)\n",
    "log = logging.getLogger(__name__)"
   ]
  },
  {
   "cell_type": "code",
   "execution_count": 4,
   "metadata": {
    "collapsed": false,
    "jupyter": {
     "outputs_hidden": false
    },
    "pycharm": {
     "name": "#%%\n"
    }
   },
   "outputs": [],
   "source": [
    "# ==== reset the seed for reproductability ====\n",
    "reset_seed(1234)"
   ]
  },
  {
   "cell_type": "markdown",
   "metadata": {},
   "source": [
    "# Prepare the data"
   ]
  },
  {
   "cell_type": "code",
   "execution_count": 5,
   "metadata": {
    "collapsed": false,
    "jupyter": {
     "outputs_hidden": false
    },
    "pycharm": {
     "name": "#%%\n"
    }
   },
   "outputs": [
    {
     "name": "stdout",
     "output_type": "stream",
     "text": [
      "\u001b[1;34mDEBUG --- datasetManager.__init__ >>> ../dataset/DESED/dataset/audio/dcase2020_dataset_22050.hdf5\u001b[0m\n",
      "\u001b[1;37mINFO --- datasetManager._load_metadata >>> Reading metadata: ../dataset/DESED/dataset/metadata/train/weak.tsv\u001b[0m\n",
      "\u001b[1;37mINFO --- datasetManager._load_metadata >>> Reading metadata: ../dataset/DESED/dataset/metadata/train/unlabel_in_domain.tsv\u001b[0m\n",
      "\u001b[1;37mINFO --- datasetManager._load_metadata >>> Reading metadata: ../dataset/DESED/dataset/metadata/train/synthetic20.tsv\u001b[0m\n"
     ]
    },
    {
     "name": "stderr",
     "output_type": "stream",
     "text": [
      "100%|██████████| 7582/7582 [00:15<00:00, 477.23it/s]\n"
     ]
    }
   ],
   "source": [
    "# ==== load the dataset ====\n",
    "desed_metadata_root = \"../dataset/DESED/dataset/metadata\"\n",
    "desed_audio_root = \"../dataset/DESED/dataset/audio\"\n",
    "# desed_metadata_root = os.path.join(\"e:/\", \"Corpus\", \"dcase2020\", \"DESED\", \"dataset\", \"metadata\")\n",
    "# desed_audio_root = os.path.join(\"e:/\", \"Corpus\", \"dcase2020\", \"DESED\", \"dataset\", \"audio\")\n",
    "\n",
    "manager = DESEDManager(\n",
    "    desed_metadata_root, desed_audio_root,\n",
    "    sampling_rate = 22050,\n",
    "    validation_ratio=0.2,\n",
    "    from_disk=False,\n",
    "    nb_vector_bin=431, # there is no temporal reduction in this model\n",
    "    verbose = 1\n",
    ")"
   ]
  },
  {
   "cell_type": "markdown",
   "metadata": {},
   "source": [
    "## Add weak ans synthetic20 subset"
   ]
  },
  {
   "cell_type": "code",
   "execution_count": 6,
   "metadata": {
    "collapsed": false,
    "jupyter": {
     "outputs_hidden": false
    },
    "pycharm": {
     "name": "#%%\n"
    }
   },
   "outputs": [
    {
     "name": "stdout",
     "output_type": "stream",
     "text": [
      "\u001b[1;37mINFO --- datasetManager.add_subset >>> Loading dataset: train, subset: weak\u001b[0m\n",
      "Loading dataset: train, subset: weak\n",
      "\u001b[1;34mDEBUG --- datasetManager._hdf_to_dict >>> hdf_file: <HDF5 file \"dcase2020_dataset_22050.hdf5\" (mode r)>\u001b[0m\n",
      "\u001b[1;34mDEBUG --- datasetManager._hdf_to_dict >>> path: DESED/dataset/audio/train/weak\u001b[0m\n",
      "\u001b[1;37mINFO --- datasetManager.add_subset >>> Loading dataset: train, subset: synthetic20\u001b[0m\n",
      "Loading dataset: train, subset: synthetic20\n",
      "\u001b[1;34mDEBUG --- datasetManager._hdf_to_dict >>> hdf_file: <HDF5 file \"dcase2020_dataset_22050.hdf5\" (mode r)>\u001b[0m\n",
      "\u001b[1;34mDEBUG --- datasetManager._hdf_to_dict >>> path: DESED/dataset/audio/train/synthetic20\u001b[0m\n"
     ]
    }
   ],
   "source": [
    "manager.add_subset(\"weak\")\n",
    "manager.add_subset(\"synthetic20\")"
   ]
  },
  {
   "cell_type": "markdown",
   "metadata": {},
   "source": [
    "## Create the train / validation split"
   ]
  },
  {
   "cell_type": "code",
   "execution_count": 7,
   "metadata": {
    "collapsed": false,
    "jupyter": {
     "outputs_hidden": false
    },
    "pycharm": {
     "name": "#%%\n"
    }
   },
   "outputs": [
    {
     "name": "stdout",
     "output_type": "stream",
     "text": [
      "\u001b[1;37mINFO --- datasetManager.split_train_validation >>> Creating new train / validation split\u001b[0m\n",
      "\u001b[1;37mINFO --- datasetManager.split_train_validation >>> validation ratio : 0.2\u001b[0m\n"
     ]
    }
   ],
   "source": [
    "manager.split_train_validation()"
   ]
  },
  {
   "cell_type": "markdown",
   "metadata": {},
   "source": [
    "## Prep dataset"
   ]
  },
  {
   "cell_type": "code",
   "execution_count": 8,
   "metadata": {
    "collapsed": false,
    "jupyter": {
     "outputs_hidden": false
    },
    "pycharm": {
     "name": "#%%  setup augmentation and create pytorch dataset\n"
    }
   },
   "outputs": [],
   "source": [
    "augments = [\n",
    "    # signal_augmentation.Noise(0.5, target_snr=15),\n",
    "    # signal_augmentation.RandomTimeDropout(0.5, dropout=0.2)\n",
    "]\n",
    "\n",
    "train_dataset = DESEDDataset(manager, train=True, val=False, augments=augments, cached=True)\n",
    "val_dataset = DESEDDataset(manager, train=False, val=True, augments=[], cached=True)"
   ]
  },
  {
   "cell_type": "raw",
   "metadata": {},
   "source": [
    "class MultipleDataset(Dataset):\n",
    "\n",
    "    def __init__(self, datasets):\n",
    "        super(MultipleDataset, self).__init__()\n",
    "        assert len(datasets) > 0, 'datasets should not be an empty iterable'\n",
    "        self.datasets = list(datasets)\n",
    "        for d in self.datasets:\n",
    "            assert not isinstance(d, IterableDataset), \"ConcatDataset does not support IterableDataset\"\n",
    "\n",
    "    def __len__(self):\n",
    "        return len(self.datasets[0])\n",
    "\n",
    "    def __getitem__(self, idx):\n",
    "        return [d[sample_idx] for d in self.datasets]"
   ]
  },
  {
   "cell_type": "code",
   "execution_count": 9,
   "metadata": {
    "scrolled": true
   },
   "outputs": [
    {
     "data": {
      "text/plain": [
       "(3218, 706)"
      ]
     },
     "execution_count": 9,
     "metadata": {},
     "output_type": "execute_result"
    }
   ],
   "source": [
    "len(train_dataset.filenames), len(val_dataset.filenames)"
   ]
  },
  {
   "cell_type": "markdown",
   "metadata": {},
   "source": [
    "# Prepare training"
   ]
  },
  {
   "cell_type": "markdown",
   "metadata": {},
   "source": [
    "## Prep dataset\n",
    "\n",
    "- We want both the weak and strong ground truth --> the *weak* and *strong* parameters to True"
   ]
  },
  {
   "cell_type": "code",
   "execution_count": 10,
   "metadata": {},
   "outputs": [],
   "source": [
    "augments = [\n",
    "    # signal_augmentation.Noise(0.5, target_snr=15),\n",
    "    # signal_augmentation.RandomTimeDropout(0.5, dropout=0.2)\n",
    "]\n",
    "\n",
    "train_dataset = DESEDDataset(manager, train=True, val=False, weak=True, strong=True, augments=augments, cached=True)\n",
    "val_dataset = DESEDDataset(manager, train=False, val=True, weak=True, strong=True, augments=[], cached=True)"
   ]
  },
  {
   "cell_type": "markdown",
   "metadata": {},
   "source": [
    "## model\n",
    "\n",
    "This model is the same than the weak baseline but have an extra output. <br />\n",
    "the loc_output is compose of a single convolution layer with nb_filters == nb_class. <br />\n",
    "Since their is some pooling layer, the *loc_ouput* have a precision of 53 bins (~= 18 ms)"
   ]
  },
  {
   "cell_type": "code",
   "execution_count": 11,
   "metadata": {
    "collapsed": false,
    "jupyter": {
     "outputs_hidden": false
    },
    "pycharm": {
     "name": "#%% Setup model and training parameters\n"
    },
    "scrolled": true
   },
   "outputs": [
    {
     "data": {
      "text/plain": [
       "dcase2019_model(\n",
       "  (features): Sequential(\n",
       "    (0): ConvBNReLUPool(\n",
       "      (0): Conv2d(1, 64, kernel_size=(3, 3), stride=(1, 1), padding=(1, 1))\n",
       "      (1): BatchNorm2d(64, eps=1e-05, momentum=0.1, affine=True, track_running_stats=True)\n",
       "      (2): Dropout2d(p=0.0, inplace=False)\n",
       "      (3): ReLU6(inplace=True)\n",
       "      (4): MaxPool2d(kernel_size=(4, 1), stride=(4, 1), padding=0, dilation=1, ceil_mode=False)\n",
       "    )\n",
       "    (1): ConvBNReLUPool(\n",
       "      (0): Conv2d(64, 64, kernel_size=(3, 3), stride=(1, 1), padding=(1, 1))\n",
       "      (1): BatchNorm2d(64, eps=1e-05, momentum=0.1, affine=True, track_running_stats=True)\n",
       "      (2): Dropout2d(p=0.0, inplace=False)\n",
       "      (3): ReLU6(inplace=True)\n",
       "      (4): MaxPool2d(kernel_size=(4, 1), stride=(4, 1), padding=0, dilation=1, ceil_mode=False)\n",
       "    )\n",
       "    (2): ConvBNReLUPool(\n",
       "      (0): Conv2d(64, 64, kernel_size=(3, 3), stride=(1, 1), padding=(1, 1))\n",
       "      (1): BatchNorm2d(64, eps=1e-05, momentum=0.1, affine=True, track_running_stats=True)\n",
       "      (2): Dropout2d(p=0.0, inplace=False)\n",
       "      (3): ReLU6(inplace=True)\n",
       "      (4): MaxPool2d(kernel_size=(4, 1), stride=(4, 1), padding=0, dilation=1, ceil_mode=False)\n",
       "    )\n",
       "  )\n",
       "  (bi_gru): GRU(64, 64, batch_first=True, bidirectional=True)\n",
       "  (strong_classifier): Sequential(\n",
       "    (0): Linear(in_features=128, out_features=64, bias=True)\n",
       "    (1): ReLU(inplace=True)\n",
       "    (2): Linear(in_features=64, out_features=10, bias=True)\n",
       "  )\n",
       "  (g_avg_pool): AdaptiveAvgPool1d(output_size=1)\n",
       "  (g_max_pool): AdaptiveMaxPool1d(output_size=1)\n",
       "  (weak_classifier): Sequential(\n",
       "    (0): Linear(in_features=20, out_features=1024, bias=True)\n",
       "    (1): ReLU(inplace=True)\n",
       "    (2): Linear(in_features=1024, out_features=10, bias=True)\n",
       "  )\n",
       ")"
      ]
     },
     "execution_count": 11,
     "metadata": {},
     "output_type": "execute_result"
    }
   ],
   "source": [
    "model = dcase2019_model()\n",
    "model.cuda()"
   ]
  },
  {
   "cell_type": "code",
   "execution_count": 12,
   "metadata": {},
   "outputs": [
    {
     "name": "stdout",
     "output_type": "stream",
     "text": [
      "=====================================================================================\n",
      "                                 Kernel Shape      Output Shape   Params  \\\n",
      "Layer                                                                      \n",
      "0_features.0.Conv2d_0           [1, 64, 3, 3]  [2, 64, 64, 431]    640.0   \n",
      "1_features.0.BatchNorm2d_1               [64]  [2, 64, 64, 431]    128.0   \n",
      "2_features.0.Dropout2d_2                    -  [2, 64, 64, 431]        -   \n",
      "3_features.0.ReLU6_3                        -  [2, 64, 64, 431]        -   \n",
      "4_features.0.MaxPool2d_4                    -  [2, 64, 16, 431]        -   \n",
      "5_features.1.Conv2d_0          [64, 64, 3, 3]  [2, 64, 16, 431]  36.928k   \n",
      "6_features.1.BatchNorm2d_1               [64]  [2, 64, 16, 431]    128.0   \n",
      "7_features.1.Dropout2d_2                    -  [2, 64, 16, 431]        -   \n",
      "8_features.1.ReLU6_3                        -  [2, 64, 16, 431]        -   \n",
      "9_features.1.MaxPool2d_4                    -   [2, 64, 4, 431]        -   \n",
      "10_features.2.Conv2d_0         [64, 64, 3, 3]   [2, 64, 4, 431]  36.928k   \n",
      "11_features.2.BatchNorm2d_1              [64]   [2, 64, 4, 431]    128.0   \n",
      "12_features.2.Dropout2d_2                   -   [2, 64, 4, 431]        -   \n",
      "13_features.2.ReLU6_3                       -   [2, 64, 4, 431]        -   \n",
      "14_features.2.MaxPool2d_4                   -   [2, 64, 1, 431]        -   \n",
      "15_bi_gru                                   -     [2, 431, 128]   49.92k   \n",
      "16_strong_classifier.Linear_0       [128, 64]      [2, 431, 64]   8.256k   \n",
      "17_strong_classifier.ReLU_1                 -      [2, 431, 64]        -   \n",
      "18_strong_classifier.Linear_2        [64, 10]      [2, 431, 10]    650.0   \n",
      "19_g_avg_pool                               -        [2, 10, 1]        -   \n",
      "20_g_max_pool                               -        [2, 10, 1]        -   \n",
      "21_weak_classifier.Linear_0        [20, 1024]         [2, 1024]  21.504k   \n",
      "22_weak_classifier.ReLU_1                   -         [2, 1024]        -   \n",
      "23_weak_classifier.Linear_2        [1024, 10]           [2, 10]   10.25k   \n",
      "\n",
      "                                 Mult-Adds  \n",
      "Layer                                       \n",
      "0_features.0.Conv2d_0           15.888384M  \n",
      "1_features.0.BatchNorm2d_1            64.0  \n",
      "2_features.0.Dropout2d_2                 -  \n",
      "3_features.0.ReLU6_3                     -  \n",
      "4_features.0.MaxPool2d_4                 -  \n",
      "5_features.1.Conv2d_0          254.214144M  \n",
      "6_features.1.BatchNorm2d_1            64.0  \n",
      "7_features.1.Dropout2d_2                 -  \n",
      "8_features.1.ReLU6_3                     -  \n",
      "9_features.1.MaxPool2d_4                 -  \n",
      "10_features.2.Conv2d_0          63.553536M  \n",
      "11_features.2.BatchNorm2d_1           64.0  \n",
      "12_features.2.Dropout2d_2                -  \n",
      "13_features.2.ReLU6_3                    -  \n",
      "14_features.2.MaxPool2d_4                -  \n",
      "15_bi_gru                          49.152k  \n",
      "16_strong_classifier.Linear_0       8.192k  \n",
      "17_strong_classifier.ReLU_1              -  \n",
      "18_strong_classifier.Linear_2        640.0  \n",
      "19_g_avg_pool                            -  \n",
      "20_g_max_pool                            -  \n",
      "21_weak_classifier.Linear_0         20.48k  \n",
      "22_weak_classifier.ReLU_1                -  \n",
      "23_weak_classifier.Linear_2         10.24k  \n",
      "-------------------------------------------------------------------------------------\n",
      "                          Totals\n",
      "Total params             165.46k\n",
      "Trainable params         165.46k\n",
      "Non-trainable params         0.0\n",
      "Mult-Adds             333.74496M\n",
      "=====================================================================================\n"
     ]
    }
   ],
   "source": [
    "from torchsummaryX import summary\n",
    "input_tensor = torch.zeros((2, 64, 431), dtype=torch.float)\n",
    "input_tensor = input_tensor.cuda()\n",
    "\n",
    "s = summary(model, input_tensor)\n"
   ]
  },
  {
   "cell_type": "markdown",
   "metadata": {},
   "source": [
    "## Create a custom loss function\n",
    "\n",
    "Since not all file have strong truth, it is necessary to remove those files. <br />\n",
    "For that, the strong mask is computed. If the sum of the strong ground truth is equal to 0 then it is a fake one <br />\n",
    "This file strong loss must not be taken into account."
   ]
  },
  {
   "cell_type": "code",
   "execution_count": 13,
   "metadata": {},
   "outputs": [],
   "source": [
    "def weak_synth_loss(logits_weak, logits_strong, y_weak, y_strong, reduce: str = \"mean\"):\n",
    "    assert reduce in [\"mean\", \"sum\"], \"support only \\\"mean\\\" and \\\"sum\\\"\"\n",
    "    \n",
    "    #  Reduction function\n",
    "    if reduce == \"mean\":\n",
    "        reduce_fn = torch.mean\n",
    "    elif reduce == \"sum\":\n",
    "        reduce_fn = torch.sum\n",
    "    \n",
    "    # based on Binary Cross Entropy loss\n",
    "    weak_criterion = nn.BCEWithLogitsLoss(reduction=\"none\")\n",
    "    strong_criterion = nn.BCEWithLogitsLoss(reduction=\"none\")\n",
    "    \n",
    "    # calc separate loss function\n",
    "    weak_bce = weak_criterion(logits_weak, y_weak)\n",
    "    strong_bce = strong_criterion(logits_strong, y_strong)\n",
    "    \n",
    "    weak_bce = reduce_fn(weak_bce, dim=1)\n",
    "    strong_bce = reduce_fn(strong_bce, dim=(1, 2))\n",
    "    \n",
    "    # calc strong mask\n",
    "    strong_mask = torch.clamp(torch.sum(y_strong, dim=(1, 2)), 0, 1) # vector of 0 or 1\n",
    "    strong_mask = strong_mask.detach() # declared not to need gradients\n",
    "    \n",
    "    # Output the different loss for logging purpose\n",
    "    weak_loss = reduce_fn(weak_bce)\n",
    "    strong_loss = reduce_fn(strong_mask * strong_bce)\n",
    "    total_loss = reduce_fn(weak_bce + strong_mask * strong_bce)\n",
    "    \n",
    "    return weak_loss, strong_loss, total_loss"
   ]
  },
  {
   "cell_type": "markdown",
   "metadata": {},
   "source": [
    "## Training parameters (crit & callbacks & loaders & metrics)m"
   ]
  },
  {
   "cell_type": "code",
   "execution_count": 14,
   "metadata": {
    "collapsed": false,
    "jupyter": {
     "outputs_hidden": false
    },
    "pycharm": {
     "name": "#%% Setup model and training parameters\n"
    }
   },
   "outputs": [],
   "source": [
    "# training parameters\n",
    "nb_epochs = 100\n",
    "batch_size = 32\n",
    "nb_batch = len(train_dataset) // batch_size\n",
    "\n",
    "optimizers = torch.optim.Adam(model.parameters(), lr=0.003)\n",
    "\n",
    "# callbacks\n",
    "callbacks = []\n",
    "\n",
    "# tensorboard\n",
    "title = \"WeakBaseline_%s\" % (get_datetime())\n",
    "tensorboard = SummaryWriter(log_dir=Path(\"../tensorboard/%s\" % title), comment=\"weak baseline\")\n",
    "\n",
    "# loaders\n",
    "training_loader = torch.utils.data.DataLoader(train_dataset, batch_size=batch_size, shuffle=True)\n",
    "val_loader = torch.utils.data.DataLoader(val_dataset, batch_size=batch_size, shuffle=False)\n",
    "\n",
    "# Metrics\n",
    "weak_binacc_func = BinaryAccuracy()\n",
    "strong_binacc_func = BinaryAccuracy()\n",
    "weak_f_func = FScore()\n",
    "strong_f_func = FScore()"
   ]
  },
  {
   "cell_type": "code",
   "execution_count": 15,
   "metadata": {},
   "outputs": [],
   "source": [
    "def reset_all_metrics():\n",
    "    metrics = [weak_binacc_func, strong_binacc_func, weak_f_func, strong_f_func]\n",
    "    \n",
    "    for m in metrics:\n",
    "        m.reset()"
   ]
  },
  {
   "cell_type": "markdown",
   "metadata": {},
   "source": [
    "## Training functions"
   ]
  },
  {
   "cell_type": "code",
   "execution_count": 16,
   "metadata": {},
   "outputs": [
    {
     "name": "stdout",
     "output_type": "stream",
     "text": [
      "         Epoch  - %      - Losses:  Weak  | Strong  | Total  - metrics:  Weak acc  | Strong acc  | Weak F1  | Strong F1  - Time  \n"
     ]
    }
   ],
   "source": [
    "UNDERLINE_SEQ = \"\\033[1;4m\"\n",
    "RESET_SEQ = \"\\033[0m\"\n",
    "\n",
    "header_form = \"{:<8.8} {:<6.6} - {:<6.6} - {:<8.8} {:<6.6}| {:<8.8}| {:<6.6} - {:<9.9} {:<10.10}| {:<12.12}| {:<9.9}| {:<11.11}- {:<6.6}\"\n",
    "\n",
    "value_form  = \"{:<8.8} {:<6} - {:<6} - {:<8.8} {:<6.4f}| {:<8.4f}| {:<6.4f} - {:<9.9} {:<10.4f}| {:<12.4f}| {:<9.4f}| {:<11.4f}- {:<6.4f}\"\n",
    "\n",
    "train_form = value_form\n",
    "val_form = UNDERLINE_SEQ + value_form + RESET_SEQ\n",
    "\n",
    "header = header_form.format(\n",
    "    \"\", \"Epoch\", \"%\", \"Losses:\", \"Weak \", \"Strong \", \"Total \", \"metrics: \", \"Weak acc \", \"Strong acc \", \"Weak F1 \", \"Strong F1\", \"Time\"\n",
    ")\n",
    "\n",
    "print(header)"
   ]
  },
  {
   "cell_type": "code",
   "execution_count": 17,
   "metadata": {
    "collapsed": false,
    "jupyter": {
     "outputs_hidden": false
    },
    "pycharm": {
     "name": "#%% training function\n"
    }
   },
   "outputs": [],
   "source": [
    "def train(epoch: int):\n",
    "    start_time = time.time()\n",
    "    \n",
    "    reset_all_metrics()\n",
    "    \n",
    "    model.train()\n",
    "    print(\"\") # <-- Force new line\n",
    "    \n",
    "    for i, (X, y) in enumerate(training_loader):\n",
    "        # The DESEDDataset return a list of ground truth depending on the selecting option.\n",
    "        # If weak and strong ground truth are selected, the list order is [WEAK, STRONG]\n",
    "        # here there is only one [WEAK]\n",
    "        X = X.cuda().float()\n",
    "        y_weak = y[0].cuda().float()\n",
    "        y_strong = y[1].cuda().float()\n",
    "        \n",
    "        weak_logits, strong_logits = model(X)\n",
    "        \n",
    "        # calc the loss\n",
    "        weak_loss, strong_loss, total_loss = weak_synth_loss(\n",
    "            weak_logits, strong_logits,\n",
    "            y_weak, y_strong,\n",
    "            reduce=\"mean\"\n",
    "        )\n",
    "        \n",
    "        # calc metrics\n",
    "        weak_pred = torch.sigmoid(weak_logits)\n",
    "        strong_pred = torch.sigmoid(strong_logits)\n",
    "        \n",
    "        # tagging\n",
    "        weak_binacc = weak_binacc_func(weak_pred, y_weak)\n",
    "        weak_fscore = weak_f_func(weak_pred, y_weak)\n",
    "        \n",
    "        # loc\n",
    "        strong_binacc = strong_binacc_func(strong_pred, y_strong)\n",
    "        strong_fscore = strong_f_func(strong_pred, y_strong)\n",
    "        \n",
    "        \n",
    "        # back propagation\n",
    "        optimizers.zero_grad()\n",
    "        total_loss.backward()\n",
    "        optimizers.step()\n",
    "        \n",
    "        # logs\n",
    "        print(train_form.format(\n",
    "            \"Training: \",\n",
    "            epoch + 1,\n",
    "            int(100 * (i + 1) / len(training_loader)),\n",
    "            \"\", weak_loss.item(), strong_loss.item(), total_loss.item(),\n",
    "            \"\", weak_binacc, strong_binacc, weak_fscore, strong_fscore,\n",
    "            time.time() - start_time\n",
    "        ), end=\"\\r\")\n",
    "        \n",
    "    # tensorboard logs\n",
    "    tensorboard.add_scalar(\"train/weak_loss\", weak_loss.item(), epoch)\n",
    "    tensorboard.add_scalar(\"train/strong_loss\", strong_loss.item(), epoch)\n",
    "    tensorboard.add_scalar(\"train/total_loss\", total_loss.item(), epoch)\n",
    "    \n",
    "    tensorboard.add_scalar(\"train/weak_acc\", weak_binacc, epoch)\n",
    "    tensorboard.add_scalar(\"train/strong_acc\", strong_binacc, epoch)\n",
    "    tensorboard.add_scalar(\"train/weak_f1\", weak_fscore, epoch)\n",
    "    tensorboard.add_scalar(\"train/strong_f1\", strong_fscore, epoch)"
   ]
  },
  {
   "cell_type": "code",
   "execution_count": 18,
   "metadata": {
    "collapsed": false,
    "jupyter": {
     "outputs_hidden": false
    },
    "pycharm": {
     "name": "#%% validation function\n"
    }
   },
   "outputs": [],
   "source": [
    "def val(epoch):\n",
    "    start_time = time.time()\n",
    "\n",
    "        \n",
    "    reset_all_metrics()\n",
    "    \n",
    "    model.eval()\n",
    "    print(\"\") # <-- Force new line\n",
    "    \n",
    "    with torch.set_grad_enabled(False):\n",
    "        for i, (X, y) in enumerate(val_loader):\n",
    "            X = X.cuda().float()\n",
    "            y_weak = y[0].cuda().float()\n",
    "            y_strong = y[1].cuda().float()\n",
    "\n",
    "            weak_logits, strong_logits = model(X)\n",
    "\n",
    "            # calc the loss\n",
    "            weak_loss, strong_loss, total_loss = weak_synth_loss(\n",
    "                weak_logits, strong_logits,\n",
    "                y_weak, y_strong,\n",
    "                reduce=\"mean\"\n",
    "            )\n",
    "            \n",
    "             # calc metrics\n",
    "            weak_pred = torch.sigmoid(weak_logits)\n",
    "            strong_pred = torch.sigmoid(strong_logits)\n",
    "\n",
    "            # tagging\n",
    "            weak_binacc = weak_binacc_func(weak_pred, y_weak)\n",
    "            weak_fscore = weak_f_func(weak_pred, y_weak)\n",
    "\n",
    "            # loc\n",
    "            strong_binacc = strong_binacc_func(strong_pred, y_strong)\n",
    "            strong_fscore = strong_f_func(strong_pred, y_strong)\n",
    "\n",
    "            # logs\n",
    "            print(val_form.format(\n",
    "                \"Validation: \",\n",
    "                epoch + 1,\n",
    "                int(100 * (i + 1) / len(val_loader)),\n",
    "                \"\", weak_loss.item(), strong_loss.item(), total_loss.item(),\n",
    "                \"\", weak_binacc, strong_binacc, weak_fscore, strong_fscore,\n",
    "                time.time() - start_time\n",
    "            ), end=\"\\r\")\n",
    "\n",
    "        # tensorboard logs\n",
    "        tensorboard.add_scalar(\"val/weak_loss\", weak_loss.item(), epoch)\n",
    "        tensorboard.add_scalar(\"val/strong_loss\", strong_loss.item(), epoch)\n",
    "        tensorboard.add_scalar(\"val/total_loss\", total_loss.item(), epoch)\n",
    "\n",
    "        tensorboard.add_scalar(\"val/weak_acc\", weak_binacc, epoch)\n",
    "        tensorboard.add_scalar(\"val/strong_acc\", strong_binacc, epoch)\n",
    "        tensorboard.add_scalar(\"val/weak_f1\", weak_fscore, epoch)\n",
    "        tensorboard.add_scalar(\"val/strong_f1\", strong_fscore, epoch)"
   ]
  },
  {
   "cell_type": "markdown",
   "metadata": {},
   "source": [
    "# Train"
   ]
  },
  {
   "cell_type": "code",
   "execution_count": 19,
   "metadata": {
    "collapsed": false,
    "jupyter": {
     "outputs_hidden": false
    },
    "pycharm": {
     "name": "#%%\n"
    }
   },
   "outputs": [
    {
     "name": "stdout",
     "output_type": "stream",
     "text": [
      "         Epoch  - %      - Losses:  Weak  | Strong  | Total  - metrics:  Weak acc  | Strong acc  | Weak F1  | Strong F1  - Time  \n",
      "\n",
      "Training 1      - 100    -          0.3545| 0.0826  | 0.4372 -           0.8337    | 0.9576      | 0.2799   | 0.0007     - 46.1124\n",
      "\u001b[1;4mValidati 1      - 100    -          0.4430| 0.2166  | 0.6596 -           0.8380    | 0.9652      | 0.2862   | 0.0289     - 9.5326\u001b[0m\n",
      "Training 2      - 100    -          0.3089| 0.0893  | 0.3982 -           0.8448    | 0.9604      | 0.3519   | 0.1045     - 5.8214\n",
      "\u001b[1;4mValidati 2      - 100    -          0.6919| 0.2321  | 0.9240 -           0.8457    | 0.9571      | 0.4133   | 0.1789     - 0.4848\u001b[0m\n",
      "Training 3      - 100    -          0.3450| 0.1278  | 0.4729 -           0.8636    | 0.9639      | 0.4285   | 0.2327     - 5.7160\n",
      "\u001b[1;4mValidati 3      - 100    -          0.4698| 0.2540  | 0.7237 -           0.8605    | 0.9568      | 0.4266   | 0.2237     - 0.4893\u001b[0m\n",
      "Training 4      - 100    -          0.2743| 0.0455  | 0.3198 -           0.8760    | 0.9583      | 0.5140   | 0.3180     - 5.7429\n",
      "\u001b[1;4mValidati 4      - 100    -          0.3831| 0.2635  | 0.6467 -           0.8644    | 0.9540      | 0.4651   | 0.2876     - 0.4917\u001b[0m\n",
      "Training 5      - 100    -          0.2258| 0.0559  | 0.2817 -           0.8899    | 0.9566      | 0.6037   | 0.3484     - 5.8266\n",
      "\u001b[1;4mValidati 5      - 100    -          0.4658| 0.2603  | 0.7261 -           0.8792    | 0.9553      | 0.5184   | 0.2860     - 0.4993\u001b[0m\n",
      "Training 6      - 100    -          0.2214| 0.0713  | 0.2928 -           0.9019    | 0.9575      | 0.6628   | 0.3797     - 5.7445\n",
      "\u001b[1;4mValidati 6      - 100    -          0.4168| 0.2254  | 0.6423 -           0.8992    | 0.9625      | 0.6292   | 0.3445     - 0.4892\u001b[0m\n",
      "Training 7      - 100    -          0.2793| 0.0680  | 0.3474 -           0.9127    | 0.9576      | 0.7092   | 0.4085     - 5.7014\n",
      "\u001b[1;4mValidati 7      - 100    -          0.4254| 0.2285  | 0.6539 -           0.9064    | 0.9579      | 0.6874   | 0.3809     - 0.4850\u001b[0m\n",
      "Training 8      - 100    -          0.2500| 0.0906  | 0.3405 -           0.9226    | 0.9565      | 0.7481   | 0.4260     - 5.7306\n",
      "\u001b[1;4mValidati 8      - 100    -          0.4430| 0.2468  | 0.6898 -           0.8976    | 0.9527      | 0.6326   | 0.3652     - 0.4841\u001b[0m\n",
      "Training 9      - 100    -          0.1076| 0.0557  | 0.1633 -           0.9263    | 0.9578      | 0.7630   | 0.4451     - 5.7746\n",
      "\u001b[1;4mValidati 9      - 100    -          0.4121| 0.2068  | 0.6189 -           0.9295    | 0.9583      | 0.7766   | 0.4298     - 0.4929\u001b[0m\n",
      "Training 10     - 100    -          0.1389| 0.0487  | 0.1876 -           0.9338    | 0.9592      | 0.7891   | 0.4659     - 5.7830\n",
      "\u001b[1;4mValidati 10     - 100    -          0.4280| 0.2026  | 0.6306 -           0.9177    | 0.9590      | 0.7385   | 0.4065     - 0.4866\u001b[0m\n",
      "Training 11     - 100    -          0.2146| 0.0556  | 0.2702 -           0.9348    | 0.9584      | 0.7938   | 0.4686     - 5.8328\n",
      "\u001b[1;4mValidati 11     - 100    -          0.4591| 0.2125  | 0.6716 -           0.9333    | 0.9604      | 0.7863   | 0.4369     - 0.4937\u001b[0m\n",
      "Training 12     - 100    -          0.2312| 0.0676  | 0.2988 -           0.9406    | 0.9593      | 0.8150   | 0.4877     - 5.8858\n",
      "\u001b[1;4mValidati 12     - 100    -          0.4326| 0.2120  | 0.6447 -           0.9230    | 0.9567      | 0.7544   | 0.4250     - 0.5091\u001b[0m\n",
      "Training 13     - 100    -          0.0758| 0.0363  | 0.1121 -           0.9455    | 0.9595      | 0.8308   | 0.5000     - 5.8538\n",
      "\u001b[1;4mValidati 13     - 100    -          0.3982| 0.2083  | 0.6065 -           0.9251    | 0.9627      | 0.7676   | 0.4434     - 0.4909\u001b[0m\n",
      "Training 14     - 100    -          0.1101| 0.0570  | 0.1672 -           0.9472    | 0.9601      | 0.8366   | 0.5010     - 5.8092\n",
      "\u001b[1;4mValidati 14     - 100    -          0.4848| 0.2019  | 0.6867 -           0.9295    | 0.9644      | 0.7857   | 0.4455     - 0.4947\u001b[0m\n",
      "Training 15     - 100    -          0.1118| 0.0599  | 0.1717 -           0.9515    | 0.9612      | 0.8508   | 0.5186     - 5.7772\n",
      "\u001b[1;4mValidati 15     - 100    -          0.4341| 0.2246  | 0.6587 -           0.9356    | 0.9642      | 0.8098   | 0.4714     - 0.4890\u001b[0m\n",
      "Training 16     - 100    -          0.1352| 0.0549  | 0.1901 -           0.9538    | 0.9614      | 0.8589   | 0.5268     - 5.8332\n",
      "\u001b[1;4mValidati 16     - 100    -          0.4026| 0.1971  | 0.5997 -           0.9416    | 0.9606      | 0.8196   | 0.4794     - 0.4996\u001b[0m\n",
      "Training 17     - 100    -          0.1365| 0.0311  | 0.1676 -           0.9523    | 0.9620      | 0.8541   | 0.5332     - 5.8796\n",
      "\u001b[1;4mValidati 17     - 100    -          0.3883| 0.2076  | 0.5959 -           0.9371    | 0.9595      | 0.7957   | 0.4768     - 0.4871\u001b[0m\n",
      "Training 18     - 100    -          0.0811| 0.0475  | 0.1287 -           0.9568    | 0.9629      | 0.8682   | 0.5421     - 5.8340\n",
      "\u001b[1;4mValidati 18     - 100    -          0.4593| 0.2073  | 0.6666 -           0.9329    | 0.9633      | 0.7739   | 0.4825     - 0.4947\u001b[0m\n",
      "Training 19     - 100    -          0.0394| 0.0312  | 0.0706 -           0.9613    | 0.9634      | 0.8830   | 0.5540     - 5.7866\n",
      "\u001b[1;4mValidati 19     - 100    -          0.3954| 0.2039  | 0.5993 -           0.9341    | 0.9551      | 0.7901   | 0.4463     - 0.4911\u001b[0m\n",
      "Training 20     - 100    -          0.1000| 0.0517  | 0.1517 -           0.9622    | 0.9636      | 0.8851   | 0.5567     - 5.7968\n",
      "\u001b[1;4mValidati 20     - 100    -          0.4173| 0.2061  | 0.6234 -           0.9375    | 0.9658      | 0.7980   | 0.4841     - 0.4931\u001b[0m\n",
      "Training 21     - 100    -          0.0887| 0.0342  | 0.1230 -           0.9616    | 0.9627      | 0.8837   | 0.5544     - 5.8352\n",
      "\u001b[1;4mValidati 21     - 100    -          0.4388| 0.1967  | 0.6355 -           0.8880    | 0.9569      | 0.6621   | 0.3489     - 0.5030\u001b[0m\n",
      "Training 22     - 100    -          0.1442| 0.0162  | 0.1603 -           0.9663    | 0.9639      | 0.8977   | 0.5622     - 5.8001\n",
      "\u001b[1;4mValidati 22     - 100    -          0.4046| 0.1985  | 0.6030 -           0.9439    | 0.9648      | 0.8281   | 0.5073     - 0.4891\u001b[0m\n",
      "Training 23     - 100    -          0.0500| 0.0244  | 0.0745 -           0.9669    | 0.9635      | 0.8995   | 0.5579     - 5.8394\n",
      "\u001b[1;4mValidati 23     - 100    -          0.4217| 0.2121  | 0.6338 -           0.9420    | 0.9592      | 0.8181   | 0.4877     - 0.4935\u001b[0m\n",
      "Training 24     - 100    -          0.0589| 0.0123  | 0.0712 -           0.9675    | 0.9637      | 0.9018   | 0.5653     - 5.8471\n",
      "\u001b[1;4mValidati 24     - 100    -          0.4225| 0.2317  | 0.6542 -           0.9450    | 0.9612      | 0.8310   | 0.5058     - 0.5012\u001b[0m\n",
      "Training 25     - 100    -          0.0805| 0.0363  | 0.1168 -           0.9649    | 0.9635      | 0.8945   | 0.5664     - 5.8121\n",
      "\u001b[1;4mValidati 25     - 100    -          0.4417| 0.1965  | 0.6383 -           0.9462    | 0.9642      | 0.8132   | 0.5071     - 0.5091\u001b[0m\n",
      "Training 26     - 100    -          0.1136| 0.0446  | 0.1583 -           0.9706    | 0.9642      | 0.9116   | 0.5733     - 5.8388\n",
      "\u001b[1;4mValidati 26     - 100    -          0.4271| 0.2141  | 0.6412 -           0.9219    | 0.9478      | 0.7563   | 0.3873     - 0.5119\u001b[0m\n",
      "Training 27     - 100    -          0.0750| 0.0433  | 0.1183 -           0.9708    | 0.9636      | 0.9122   | 0.5697     - 5.8282\n",
      "\u001b[1;4mValidati 27     - 100    -          0.4466| 0.2017  | 0.6484 -           0.9433    | 0.9627      | 0.8050   | 0.5022     - 0.4999\u001b[0m\n",
      "Training 28     - 100    -          0.0718| 0.0409  | 0.1127 -           0.9719    | 0.9646      | 0.9155   | 0.5773     - 5.8855\n",
      "\u001b[1;4mValidati 28     - 100    -          0.4002| 0.2136  | 0.6138 -           0.9446    | 0.9597      | 0.8279   | 0.4923     - 0.5022\u001b[0m\n",
      "Training 29     - 100    -          0.0483| 0.0168  | 0.0650 -           0.9757    | 0.9640      | 0.9275   | 0.5766     - 5.8642\n",
      "\u001b[1;4mValidati 29     - 100    -          0.3937| 0.2292  | 0.6229 -           0.9455    | 0.9636      | 0.8317   | 0.5049     - 0.4966\u001b[0m\n",
      "Training 30     - 100    -          0.1501| 0.0381  | 0.1882 -           0.9729    | 0.9642      | 0.9187   | 0.5764     - 5.8791\n",
      "\u001b[1;4mValidati 30     - 100    -          0.4435| 0.2072  | 0.6507 -           0.9363    | 0.9641      | 0.7863   | 0.5138     - 0.5013\u001b[0m\n",
      "Training 31     - 100    -          0.0527| 0.0228  | 0.0755 -           0.9734    | 0.9645      | 0.9202   | 0.5805     - 5.7968\n",
      "\u001b[1;4mValidati 31     - 100    -          0.4174| 0.2188  | 0.6362 -           0.9474    | 0.9652      | 0.8350   | 0.5064     - 0.5023\u001b[0m\n",
      "Training 32     - 100    -          0.1027| 0.0392  | 0.1419 -           0.9760    | 0.9645      | 0.9285   | 0.5823     - 5.8670\n",
      "\u001b[1;4mValidati 32     - 100    -          0.3824| 0.1939  | 0.5763 -           0.9417    | 0.9624      | 0.8226   | 0.4970     - 0.4968\u001b[0m\n",
      "Training 33     - 100    -          0.0548| 0.0411  | 0.0960 -           0.9744    | 0.9629      | 0.9231   | 0.5710     - 5.8469\n",
      "\u001b[1;4mValidati 33     - 100    -          0.4204| 0.1960  | 0.6164 -           0.9398    | 0.9577      | 0.8104   | 0.4706     - 0.4941\u001b[0m\n",
      "Training 34     - 100    -          0.0975| 0.0922  | 0.1897 -           0.9743    | 0.9632      | 0.9230   | 0.5695     - 5.8330\n",
      "\u001b[1;4mValidati 34     - 100    -          0.4139| 0.2208  | 0.6347 -           0.9374    | 0.9620      | 0.8060   | 0.4890     - 0.5082\u001b[0m\n",
      "Training 35     - 100    -          0.0322| 0.0207  | 0.0529 -           0.9761    | 0.9652      | 0.9283   | 0.5872     - 5.9010\n",
      "\u001b[1;4mValidati 35     - 100    -          0.4138| 0.2251  | 0.6389 -           0.9424    | 0.9649      | 0.8213   | 0.4996     - 0.5030\u001b[0m\n",
      "Training 36     - 100    -          0.0458| 0.0194  | 0.0652 -           0.9786    | 0.9661      | 0.9360   | 0.5979     - 5.8648\n",
      "\u001b[1;4mValidati 36     - 100    -          0.4080| 0.1966  | 0.6045 -           0.9433    | 0.9652      | 0.8220   | 0.4932     - 0.4995\u001b[0m\n",
      "Training 37     - 100    -          0.0547| 0.0440  | 0.0987 -           0.9787    | 0.9655      | 0.9363   | 0.5910     - 5.8192\n",
      "\u001b[1;4mValidati 37     - 100    -          0.4038| 0.2216  | 0.6254 -           0.9389    | 0.9629      | 0.8183   | 0.5112     - 0.4959\u001b[0m\n",
      "Training 38     - 100    -          0.0952| 0.0483  | 0.1435 -           0.9809    | 0.9655      | 0.9435   | 0.5974     - 5.8795\n",
      "\u001b[1;4mValidati 38     - 100    -          0.4613| 0.2071  | 0.6684 -           0.9485    | 0.9630      | 0.8407   | 0.5138     - 0.4876\u001b[0m\n",
      "Training 39     - 100    -          0.0890| 0.0338  | 0.1227 -           0.9807    | 0.9651      | 0.9425   | 0.5916     - 5.9265\n",
      "\u001b[1;4mValidati 39     - 100    -          0.4044| 0.2208  | 0.6252 -           0.9276    | 0.9636      | 0.7757   | 0.4610     - 0.5150\u001b[0m\n",
      "Training 40     - 100    -          0.0387| 0.0312  | 0.0699 -           0.9750    | 0.9655      | 0.9243   | 0.5852     - 5.8487\n",
      "\u001b[1;4mValidati 40     - 100    -          0.4253| 0.2153  | 0.6407 -           0.9452    | 0.9628      | 0.8328   | 0.5193     - 0.4966\u001b[0m\n",
      "Training 41     - 100    -          0.0358| 0.0147  | 0.0506 -           0.9795    | 0.9651      | 0.9389   | 0.5919     - 5.9002\n",
      "\u001b[1;4mValidati 41     - 100    -          0.4057| 0.2204  | 0.6261 -           0.9440    | 0.9625      | 0.8264   | 0.5109     - 0.4902\u001b[0m\n",
      "Training 42     - 100    -          0.0353| 0.0303  | 0.0656 -           0.9799    | 0.9654      | 0.9402   | 0.5951     - 5.8587\n",
      "\u001b[1;4mValidati 42     - 100    -          0.3539| 0.2156  | 0.5695 -           0.9484    | 0.9651      | 0.8376   | 0.5059     - 0.4981\u001b[0m\n",
      "Training 43     - 100    -          0.0933| 0.0301  | 0.1234 -           0.9816    | 0.9656      | 0.9456   | 0.5990     - 5.8277\n",
      "\u001b[1;4mValidati 43     - 100    -          0.4222| 0.2131  | 0.6353 -           0.9492    | 0.9678      | 0.8412   | 0.5122     - 0.4937\u001b[0m\n",
      "Training 44     - 100    -          0.0258| 0.0360  | 0.0618 -           0.9810    | 0.9661      | 0.9431   | 0.6015     - 5.8915\n",
      "\u001b[1;4mValidati 44     - 100    -          0.4201| 0.1880  | 0.6081 -           0.9493    | 0.9657      | 0.8431   | 0.5211     - 0.5144\u001b[0m\n",
      "Training 45     - 100    -          0.0228| 0.0180  | 0.0408 -           0.9864    | 0.9653      | 0.9596   | 0.6016     - 5.8981\n",
      "\u001b[1;4mValidati 45     - 100    -          0.4004| 0.2026  | 0.6030 -           0.9401    | 0.9586      | 0.8204   | 0.5119     - 0.4928\u001b[0m\n",
      "Training 46     - 100    -          0.0428| 0.0202  | 0.0630 -           0.9821    | 0.9660      | 0.9464   | 0.6022     - 5.9682\n",
      "\u001b[1;4mValidati 46     - 100    -          0.4604| 0.2240  | 0.6845 -           0.9376    | 0.9674      | 0.7860   | 0.4871     - 0.4919\u001b[0m\n",
      "Training 47     - 76     -          0.0455| 0.0261  | 0.0716 -           0.9809    | 0.9672      | 0.9424   | 0.6089     - 4.5000\r"
     ]
    },
    {
     "ename": "RuntimeError",
     "evalue": "cuDNN error: CUDNN_STATUS_EXECUTION_FAILED (_cudnn_rnn_backward_input at /opt/conda/conda-bld/pytorch_1587428398394/work/aten/src/ATen/native/cudnn/RNN.cpp:931)\nframe #0: c10::Error::Error(c10::SourceLocation, std::string const&) + 0x4e (0x7f5803628b5e in /users/samova/lcances/.miniconda3/envs/dcase2020/lib/python3.7/site-packages/torch/lib/libc10.so)\nframe #1: <unknown function> + 0xd9f507 (0x7f58045f4507 in /users/samova/lcances/.miniconda3/envs/dcase2020/lib/python3.7/site-packages/torch/lib/libtorch_cuda.so)\nframe #2: at::native::_cudnn_rnn_backward(at::Tensor const&, c10::ArrayRef<at::Tensor>, long, at::Tensor const&, at::Tensor const&, at::Tensor const&, at::Tensor const&, at::Tensor const&, at::Tensor const&, at::Tensor const&, long, long, long, bool, double, bool, bool, c10::ArrayRef<long>, at::Tensor const&, at::Tensor const&, std::array<bool, 4ul>) + 0x1a9 (0x7f58045f6819 in /users/samova/lcances/.miniconda3/envs/dcase2020/lib/python3.7/site-packages/torch/lib/libtorch_cuda.so)\nframe #3: <unknown function> + 0xe245ad (0x7f58046795ad in /users/samova/lcances/.miniconda3/envs/dcase2020/lib/python3.7/site-packages/torch/lib/libtorch_cuda.so)\nframe #4: <unknown function> + 0xe25d43 (0x7f580467ad43 in /users/samova/lcances/.miniconda3/envs/dcase2020/lib/python3.7/site-packages/torch/lib/libtorch_cuda.so)\nframe #5: <unknown function> + 0x2866a60 (0x7f582d070a60 in /users/samova/lcances/.miniconda3/envs/dcase2020/lib/python3.7/site-packages/torch/lib/libtorch_cpu.so)\nframe #6: <unknown function> + 0x28d9eb3 (0x7f582d0e3eb3 in /users/samova/lcances/.miniconda3/envs/dcase2020/lib/python3.7/site-packages/torch/lib/libtorch_cpu.so)\nframe #7: torch::autograd::generated::CudnnRnnBackward::apply(std::vector<at::Tensor, std::allocator<at::Tensor> >&&) + 0x708 (0x7f582ce25338 in /users/samova/lcances/.miniconda3/envs/dcase2020/lib/python3.7/site-packages/torch/lib/libtorch_cpu.so)\nframe #8: <unknown function> + 0x2ae8215 (0x7f582d2f2215 in /users/samova/lcances/.miniconda3/envs/dcase2020/lib/python3.7/site-packages/torch/lib/libtorch_cpu.so)\nframe #9: torch::autograd::Engine::evaluate_function(std::shared_ptr<torch::autograd::GraphTask>&, torch::autograd::Node*, torch::autograd::InputBuffer&) + 0x16f3 (0x7f582d2ef513 in /users/samova/lcances/.miniconda3/envs/dcase2020/lib/python3.7/site-packages/torch/lib/libtorch_cpu.so)\nframe #10: torch::autograd::Engine::thread_main(std::shared_ptr<torch::autograd::GraphTask> const&, bool) + 0x3d2 (0x7f582d2f02f2 in /users/samova/lcances/.miniconda3/envs/dcase2020/lib/python3.7/site-packages/torch/lib/libtorch_cpu.so)\nframe #11: torch::autograd::Engine::thread_init(int) + 0x39 (0x7f582d2e8969 in /users/samova/lcances/.miniconda3/envs/dcase2020/lib/python3.7/site-packages/torch/lib/libtorch_cpu.so)\nframe #12: torch::autograd::python::PythonEngine::thread_init(int) + 0x38 (0x7f5854512558 in /users/samova/lcances/.miniconda3/envs/dcase2020/lib/python3.7/site-packages/torch/lib/libtorch_python.so)\nframe #13: <unknown function> + 0xc819d (0x7f586701319d in /users/samova/lcances/.miniconda3/envs/dcase2020/lib/python3.7/site-packages/zmq/backend/cython/../../../../.././libstdc++.so.6)\nframe #14: <unknown function> + 0x76db (0x7f586a3586db in /lib/x86_64-linux-gnu/libpthread.so.0)\nframe #15: clone + 0x3f (0x7f586a08188f in /lib/x86_64-linux-gnu/libc.so.6)\n",
     "output_type": "error",
     "traceback": [
      "\u001b[0;31m---------------------------------------------------------------------------\u001b[0m",
      "\u001b[0;31mRuntimeError\u001b[0m                              Traceback (most recent call last)",
      "\u001b[0;32m<ipython-input-19-456a26719248>\u001b[0m in \u001b[0;36m<module>\u001b[0;34m\u001b[0m\n\u001b[1;32m      5\u001b[0m \u001b[0mprint\u001b[0m\u001b[0;34m(\u001b[0m\u001b[0mheader\u001b[0m\u001b[0;34m)\u001b[0m\u001b[0;34m\u001b[0m\u001b[0;34m\u001b[0m\u001b[0m\n\u001b[1;32m      6\u001b[0m \u001b[0;32mfor\u001b[0m \u001b[0me\u001b[0m \u001b[0;32min\u001b[0m \u001b[0mrange\u001b[0m\u001b[0;34m(\u001b[0m\u001b[0mnb_epochs\u001b[0m\u001b[0;34m)\u001b[0m\u001b[0;34m:\u001b[0m\u001b[0;34m\u001b[0m\u001b[0;34m\u001b[0m\u001b[0m\n\u001b[0;32m----> 7\u001b[0;31m     \u001b[0mtrain\u001b[0m\u001b[0;34m(\u001b[0m\u001b[0me\u001b[0m\u001b[0;34m)\u001b[0m\u001b[0;34m\u001b[0m\u001b[0;34m\u001b[0m\u001b[0m\n\u001b[0m\u001b[1;32m      8\u001b[0m     \u001b[0mval\u001b[0m\u001b[0;34m(\u001b[0m\u001b[0me\u001b[0m\u001b[0;34m)\u001b[0m\u001b[0;34m\u001b[0m\u001b[0;34m\u001b[0m\u001b[0m\n",
      "\u001b[0;32m<ipython-input-17-af4417f6a036>\u001b[0m in \u001b[0;36mtrain\u001b[0;34m(epoch)\u001b[0m\n\u001b[1;32m     39\u001b[0m         \u001b[0;31m# back propagation\u001b[0m\u001b[0;34m\u001b[0m\u001b[0;34m\u001b[0m\u001b[0;34m\u001b[0m\u001b[0m\n\u001b[1;32m     40\u001b[0m         \u001b[0moptimizers\u001b[0m\u001b[0;34m.\u001b[0m\u001b[0mzero_grad\u001b[0m\u001b[0;34m(\u001b[0m\u001b[0;34m)\u001b[0m\u001b[0;34m\u001b[0m\u001b[0;34m\u001b[0m\u001b[0m\n\u001b[0;32m---> 41\u001b[0;31m         \u001b[0mtotal_loss\u001b[0m\u001b[0;34m.\u001b[0m\u001b[0mbackward\u001b[0m\u001b[0;34m(\u001b[0m\u001b[0;34m)\u001b[0m\u001b[0;34m\u001b[0m\u001b[0;34m\u001b[0m\u001b[0m\n\u001b[0m\u001b[1;32m     42\u001b[0m         \u001b[0moptimizers\u001b[0m\u001b[0;34m.\u001b[0m\u001b[0mstep\u001b[0m\u001b[0;34m(\u001b[0m\u001b[0;34m)\u001b[0m\u001b[0;34m\u001b[0m\u001b[0;34m\u001b[0m\u001b[0m\n\u001b[1;32m     43\u001b[0m \u001b[0;34m\u001b[0m\u001b[0m\n",
      "\u001b[0;32m~/.miniconda3/envs/dcase2020/lib/python3.7/site-packages/torch/tensor.py\u001b[0m in \u001b[0;36mbackward\u001b[0;34m(self, gradient, retain_graph, create_graph)\u001b[0m\n\u001b[1;32m    196\u001b[0m                 \u001b[0mproducts\u001b[0m\u001b[0;34m.\u001b[0m \u001b[0mDefaults\u001b[0m \u001b[0mto\u001b[0m\u001b[0;31m \u001b[0m\u001b[0;31m`\u001b[0m\u001b[0;31m`\u001b[0m\u001b[0;32mFalse\u001b[0m\u001b[0;31m`\u001b[0m\u001b[0;31m`\u001b[0m\u001b[0;34m.\u001b[0m\u001b[0;34m\u001b[0m\u001b[0;34m\u001b[0m\u001b[0m\n\u001b[1;32m    197\u001b[0m         \"\"\"\n\u001b[0;32m--> 198\u001b[0;31m         \u001b[0mtorch\u001b[0m\u001b[0;34m.\u001b[0m\u001b[0mautograd\u001b[0m\u001b[0;34m.\u001b[0m\u001b[0mbackward\u001b[0m\u001b[0;34m(\u001b[0m\u001b[0mself\u001b[0m\u001b[0;34m,\u001b[0m \u001b[0mgradient\u001b[0m\u001b[0;34m,\u001b[0m \u001b[0mretain_graph\u001b[0m\u001b[0;34m,\u001b[0m \u001b[0mcreate_graph\u001b[0m\u001b[0;34m)\u001b[0m\u001b[0;34m\u001b[0m\u001b[0;34m\u001b[0m\u001b[0m\n\u001b[0m\u001b[1;32m    199\u001b[0m \u001b[0;34m\u001b[0m\u001b[0m\n\u001b[1;32m    200\u001b[0m     \u001b[0;32mdef\u001b[0m \u001b[0mregister_hook\u001b[0m\u001b[0;34m(\u001b[0m\u001b[0mself\u001b[0m\u001b[0;34m,\u001b[0m \u001b[0mhook\u001b[0m\u001b[0;34m)\u001b[0m\u001b[0;34m:\u001b[0m\u001b[0;34m\u001b[0m\u001b[0;34m\u001b[0m\u001b[0m\n",
      "\u001b[0;32m~/.miniconda3/envs/dcase2020/lib/python3.7/site-packages/torch/autograd/__init__.py\u001b[0m in \u001b[0;36mbackward\u001b[0;34m(tensors, grad_tensors, retain_graph, create_graph, grad_variables)\u001b[0m\n\u001b[1;32m     98\u001b[0m     Variable._execution_engine.run_backward(\n\u001b[1;32m     99\u001b[0m         \u001b[0mtensors\u001b[0m\u001b[0;34m,\u001b[0m \u001b[0mgrad_tensors\u001b[0m\u001b[0;34m,\u001b[0m \u001b[0mretain_graph\u001b[0m\u001b[0;34m,\u001b[0m \u001b[0mcreate_graph\u001b[0m\u001b[0;34m,\u001b[0m\u001b[0;34m\u001b[0m\u001b[0;34m\u001b[0m\u001b[0m\n\u001b[0;32m--> 100\u001b[0;31m         allow_unreachable=True)  # allow_unreachable flag\n\u001b[0m\u001b[1;32m    101\u001b[0m \u001b[0;34m\u001b[0m\u001b[0m\n\u001b[1;32m    102\u001b[0m \u001b[0;34m\u001b[0m\u001b[0m\n",
      "\u001b[0;31mRuntimeError\u001b[0m: cuDNN error: CUDNN_STATUS_EXECUTION_FAILED (_cudnn_rnn_backward_input at /opt/conda/conda-bld/pytorch_1587428398394/work/aten/src/ATen/native/cudnn/RNN.cpp:931)\nframe #0: c10::Error::Error(c10::SourceLocation, std::string const&) + 0x4e (0x7f5803628b5e in /users/samova/lcances/.miniconda3/envs/dcase2020/lib/python3.7/site-packages/torch/lib/libc10.so)\nframe #1: <unknown function> + 0xd9f507 (0x7f58045f4507 in /users/samova/lcances/.miniconda3/envs/dcase2020/lib/python3.7/site-packages/torch/lib/libtorch_cuda.so)\nframe #2: at::native::_cudnn_rnn_backward(at::Tensor const&, c10::ArrayRef<at::Tensor>, long, at::Tensor const&, at::Tensor const&, at::Tensor const&, at::Tensor const&, at::Tensor const&, at::Tensor const&, at::Tensor const&, long, long, long, bool, double, bool, bool, c10::ArrayRef<long>, at::Tensor const&, at::Tensor const&, std::array<bool, 4ul>) + 0x1a9 (0x7f58045f6819 in /users/samova/lcances/.miniconda3/envs/dcase2020/lib/python3.7/site-packages/torch/lib/libtorch_cuda.so)\nframe #3: <unknown function> + 0xe245ad (0x7f58046795ad in /users/samova/lcances/.miniconda3/envs/dcase2020/lib/python3.7/site-packages/torch/lib/libtorch_cuda.so)\nframe #4: <unknown function> + 0xe25d43 (0x7f580467ad43 in /users/samova/lcances/.miniconda3/envs/dcase2020/lib/python3.7/site-packages/torch/lib/libtorch_cuda.so)\nframe #5: <unknown function> + 0x2866a60 (0x7f582d070a60 in /users/samova/lcances/.miniconda3/envs/dcase2020/lib/python3.7/site-packages/torch/lib/libtorch_cpu.so)\nframe #6: <unknown function> + 0x28d9eb3 (0x7f582d0e3eb3 in /users/samova/lcances/.miniconda3/envs/dcase2020/lib/python3.7/site-packages/torch/lib/libtorch_cpu.so)\nframe #7: torch::autograd::generated::CudnnRnnBackward::apply(std::vector<at::Tensor, std::allocator<at::Tensor> >&&) + 0x708 (0x7f582ce25338 in /users/samova/lcances/.miniconda3/envs/dcase2020/lib/python3.7/site-packages/torch/lib/libtorch_cpu.so)\nframe #8: <unknown function> + 0x2ae8215 (0x7f582d2f2215 in /users/samova/lcances/.miniconda3/envs/dcase2020/lib/python3.7/site-packages/torch/lib/libtorch_cpu.so)\nframe #9: torch::autograd::Engine::evaluate_function(std::shared_ptr<torch::autograd::GraphTask>&, torch::autograd::Node*, torch::autograd::InputBuffer&) + 0x16f3 (0x7f582d2ef513 in /users/samova/lcances/.miniconda3/envs/dcase2020/lib/python3.7/site-packages/torch/lib/libtorch_cpu.so)\nframe #10: torch::autograd::Engine::thread_main(std::shared_ptr<torch::autograd::GraphTask> const&, bool) + 0x3d2 (0x7f582d2f02f2 in /users/samova/lcances/.miniconda3/envs/dcase2020/lib/python3.7/site-packages/torch/lib/libtorch_cpu.so)\nframe #11: torch::autograd::Engine::thread_init(int) + 0x39 (0x7f582d2e8969 in /users/samova/lcances/.miniconda3/envs/dcase2020/lib/python3.7/site-packages/torch/lib/libtorch_cpu.so)\nframe #12: torch::autograd::python::PythonEngine::thread_init(int) + 0x38 (0x7f5854512558 in /users/samova/lcances/.miniconda3/envs/dcase2020/lib/python3.7/site-packages/torch/lib/libtorch_python.so)\nframe #13: <unknown function> + 0xc819d (0x7f586701319d in /users/samova/lcances/.miniconda3/envs/dcase2020/lib/python3.7/site-packages/zmq/backend/cython/../../../../.././libstdc++.so.6)\nframe #14: <unknown function> + 0x76db (0x7f586a3586db in /lib/x86_64-linux-gnu/libpthread.so.0)\nframe #15: clone + 0x3f (0x7f586a08188f in /lib/x86_64-linux-gnu/libc.so.6)\n"
     ]
    }
   ],
   "source": [
    "# tensorboard\n",
    "title = \"dcase2019_system_%s\" % (get_datetime())\n",
    "tensorboard = SummaryWriter(log_dir=Path(\"../tensorboard/%s\" % title), comment=\"weak baseline\")\n",
    "\n",
    "print(header)\n",
    "for e in range(nb_epochs):\n",
    "    train(e)\n",
    "    val(e)"
   ]
  },
  {
   "cell_type": "markdown",
   "metadata": {},
   "source": [
    "# ♫♪.ılılıll|̲̅̅●̲̅̅|̲̅̅=̲̅̅|̲̅̅●̲̅̅|llılılı.♫♪"
   ]
  }
 ],
 "metadata": {
  "kernelspec": {
   "display_name": "dcase2020",
   "language": "python",
   "name": "dcase2020"
  },
  "language_info": {
   "codemirror_mode": {
    "name": "ipython",
    "version": 3
   },
   "file_extension": ".py",
   "mimetype": "text/x-python",
   "name": "python",
   "nbconvert_exporter": "python",
   "pygments_lexer": "ipython3",
   "version": "3.7.7"
  },
  "toc-autonumbering": true,
  "toc-showcode": false,
  "toc-showmarkdowntxt": false
 },
 "nbformat": 4,
 "nbformat_minor": 4
}
