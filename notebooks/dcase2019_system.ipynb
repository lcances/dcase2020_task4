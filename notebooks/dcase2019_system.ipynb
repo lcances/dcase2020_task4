{
 "cells": [
  {
   "cell_type": "code",
   "execution_count": 52,
   "metadata": {
    "pycharm": {
     "name": "#%% Import\n"
    }
   },
   "outputs": [
    {
     "name": "stdout",
     "output_type": "stream",
     "text": [
      "The autoreload extension is already loaded. To reload it, use:\n",
      "  %reload_ext autoreload\n"
     ]
    }
   ],
   "source": [
    "%load_ext autoreload\n",
    "%autoreload 2"
   ]
  },
  {
   "cell_type": "code",
   "execution_count": 53,
   "metadata": {},
   "outputs": [],
   "source": [
    "import time\n",
    "import os\n",
    "from pathlib import Path\n",
    "import torch.nn as nn\n",
    "import torch.nn.functional as F\n",
    "import torch.utils.data\n",
    "from torch.utils.tensorboard import SummaryWriter\n",
    "\n",
    "import sys\n",
    "sys.path.append(\"..\")\n",
    "\n",
    "import numpy\n",
    "from tqdm import tqdm\n",
    "\n",
    "# dataset manager\n",
    "from dcase2020.datasetManager import DESEDManager\n",
    "from dcase2020.datasets import DESEDDataset\n",
    "\n",
    "# utility function & metrics & augmentation\n",
    "from metric_utils.metrics import FScore, BinaryAccuracy\n",
    "from dcase2020_task4.util.utils import get_datetime, reset_seed\n",
    "from dcase2020_task4.util.checkpoint import CheckPoint\n",
    "\n",
    "# models\n",
    "from dcase2020_task4.dcase2019.models import dcase2019_model"
   ]
  },
  {
   "cell_type": "code",
   "execution_count": 54,
   "metadata": {
    "collapsed": false,
    "jupyter": {
     "outputs_hidden": false
    },
    "pycharm": {
     "name": "#%%\n"
    }
   },
   "outputs": [],
   "source": [
    "# ==== set the log ====\n",
    "import logging\n",
    "import logging.config\n",
    "from dcase2020.util.log import DEFAULT_LOGGING\n",
    "logging.config.dictConfig(DEFAULT_LOGGING)\n",
    "log = logging.getLogger(__name__)"
   ]
  },
  {
   "cell_type": "code",
   "execution_count": 55,
   "metadata": {
    "collapsed": false,
    "jupyter": {
     "outputs_hidden": false
    },
    "pycharm": {
     "name": "#%%\n"
    }
   },
   "outputs": [],
   "source": [
    "# ==== reset the seed for reproductability ====\n",
    "reset_seed(1234)"
   ]
  },
  {
   "cell_type": "markdown",
   "metadata": {},
   "source": [
    "# Prepare the data"
   ]
  },
  {
   "cell_type": "code",
   "execution_count": 56,
   "metadata": {
    "collapsed": false,
    "jupyter": {
     "outputs_hidden": false
    },
    "pycharm": {
     "name": "#%%\n"
    }
   },
   "outputs": [
    {
     "name": "stdout",
     "output_type": "stream",
     "text": [
      "\u001b[1;34mDEBUG --- datasetManager.__init__ >>> ../dataset/DESED/dataset/audio/dcase2020_dataset_22050.hdf5\u001b[0m\n",
      "\u001b[1;37mINFO --- datasetManager._load_metadata >>> Reading metadata: ../dataset/DESED/dataset/metadata/train/weak.tsv\u001b[0m\n",
      "\u001b[1;37mINFO --- datasetManager._load_metadata >>> Reading metadata: ../dataset/DESED/dataset/metadata/train/unlabel_in_domain.tsv\u001b[0m\n",
      "\u001b[1;37mINFO --- datasetManager._load_metadata >>> Reading metadata: ../dataset/DESED/dataset/metadata/train/synthetic20.tsv\u001b[0m\n"
     ]
    }
   ],
   "source": [
    "# ==== load the dataset ====\n",
    "desed_metadata_root = \"../dataset/DESED/dataset/metadata\"\n",
    "desed_audio_root = \"../dataset/DESED/dataset/audio\"\n",
    "# desed_metadata_root = os.path.join(\"e:/\", \"Corpus\", \"dcase2020\", \"DESED\", \"dataset\", \"metadata\")\n",
    "# desed_audio_root = os.path.join(\"e:/\", \"Corpus\", \"dcase2020\", \"DESED\", \"dataset\", \"audio\")\n",
    "\n",
    "manager = DESEDManager(\n",
    "    desed_metadata_root, desed_audio_root,\n",
    "    sampling_rate = 22050,\n",
    "    from_disk=False,\n",
    "    nb_vector_bin=431, # there is no temporal reduction in this model\n",
    "    verbose = 1\n",
    ")"
   ]
  },
  {
   "cell_type": "markdown",
   "metadata": {},
   "source": [
    "## Add weak ans synthetic20 subset"
   ]
  },
  {
   "cell_type": "code",
   "execution_count": 57,
   "metadata": {
    "collapsed": false,
    "jupyter": {
     "outputs_hidden": false
    },
    "pycharm": {
     "name": "#%%\n"
    }
   },
   "outputs": [
    {
     "name": "stdout",
     "output_type": "stream",
     "text": [
      "\u001b[1;37mINFO --- datasetManager._add_train_metadata >>> Loading metadata for: weak\u001b[0m\n",
      "\u001b[1;37mINFO --- datasetManager._add_train_subset >>> Loading dataset: train, subset: weak\u001b[0m\n",
      "\u001b[1;34mDEBUG --- datasetManager._hdf_to_dict >>> hdf_file: <HDF5 file \"dcase2020_dataset_22050.hdf5\" (mode r)>\u001b[0m\n",
      "\u001b[1;34mDEBUG --- datasetManager._hdf_to_dict >>> path: DESED/dataset/audio/train/weak\u001b[0m\n",
      "\u001b[1;37mINFO --- datasetManager._add_train_metadata >>> Loading metadata for: synthetic20\u001b[0m\n"
     ]
    },
    {
     "name": "stderr",
     "output_type": "stream",
     "text": [
      "\n",
      "\n",
      "  0%|          | 0/7582 [00:00<?, ?it/s]\u001b[A\u001b[A\n",
      "\n",
      "  1%|          | 52/7582 [00:00<00:14, 513.79it/s]\u001b[A\u001b[A\n",
      "\n",
      "  1%|▏         | 100/7582 [00:00<00:14, 502.13it/s]\u001b[A\u001b[A\n",
      "\n",
      "  2%|▏         | 152/7582 [00:00<00:14, 506.41it/s]\u001b[A\u001b[A\n",
      "\n",
      "  3%|▎         | 202/7582 [00:00<00:14, 500.93it/s]\u001b[A\u001b[A\n",
      "\n",
      "  3%|▎         | 248/7582 [00:00<00:15, 484.85it/s]\u001b[A\u001b[A\n",
      "\n",
      "  4%|▍         | 301/7582 [00:00<00:14, 496.97it/s]\u001b[A\u001b[A\n",
      "\n",
      "  5%|▍         | 354/7582 [00:00<00:14, 504.20it/s]\u001b[A\u001b[A\n",
      "\n",
      "  5%|▌         | 401/7582 [00:00<00:14, 492.36it/s]\u001b[A\u001b[A\n",
      "\n",
      "  6%|▌         | 448/7582 [00:00<00:15, 474.17it/s]\u001b[A\u001b[A\n",
      "\n",
      "  7%|▋         | 494/7582 [00:01<00:15, 462.38it/s]\u001b[A\u001b[A\n",
      "\n",
      "  7%|▋         | 543/7582 [00:01<00:14, 469.32it/s]\u001b[A\u001b[A\n",
      "\n",
      "  8%|▊         | 594/7582 [00:01<00:14, 479.72it/s]\u001b[A\u001b[A\n",
      "\n",
      "  8%|▊         | 642/7582 [00:01<00:14, 477.09it/s]\u001b[A\u001b[A\n",
      "\n",
      "  9%|▉         | 690/7582 [00:01<00:14, 474.80it/s]\u001b[A\u001b[A\n",
      "\n",
      " 10%|▉         | 738/7582 [00:01<00:14, 467.83it/s]\u001b[A\u001b[A\n",
      "\n",
      " 10%|█         | 796/7582 [00:01<00:13, 494.05it/s]\u001b[A\u001b[A\n",
      "\n",
      " 11%|█         | 846/7582 [00:01<00:13, 488.17it/s]\u001b[A\u001b[A\n",
      "\n",
      " 12%|█▏        | 896/7582 [00:01<00:13, 485.20it/s]\u001b[A\u001b[A\n",
      "\n",
      " 12%|█▏        | 945/7582 [00:01<00:13, 482.01it/s]\u001b[A\u001b[A\n",
      "\n",
      " 13%|█▎        | 1000/7582 [00:02<00:13, 499.62it/s]\u001b[A\u001b[A\n",
      "\n",
      " 14%|█▍        | 1065/7582 [00:02<00:12, 534.80it/s]\u001b[A\u001b[A\n",
      "\n",
      " 15%|█▍        | 1121/7582 [00:02<00:11, 540.37it/s]\u001b[A\u001b[A\n",
      "\n",
      " 16%|█▌        | 1177/7582 [00:02<00:11, 543.87it/s]\u001b[A\u001b[A\n",
      "\n",
      " 16%|█▌        | 1232/7582 [00:02<00:11, 531.74it/s]\u001b[A\u001b[A\n",
      "\n",
      " 17%|█▋        | 1286/7582 [00:02<00:12, 519.43it/s]\u001b[A\u001b[A\n",
      "\n",
      " 18%|█▊        | 1347/7582 [00:02<00:11, 539.88it/s]\u001b[A\u001b[A\n",
      "\n",
      " 19%|█▊        | 1405/7582 [00:02<00:11, 548.68it/s]\u001b[A\u001b[A\n",
      "\n",
      " 19%|█▉        | 1461/7582 [00:02<00:11, 528.16it/s]\u001b[A\u001b[A\n",
      "\n",
      " 20%|█▉        | 1515/7582 [00:02<00:11, 521.60it/s]\u001b[A\u001b[A\n",
      "\n",
      " 21%|██        | 1568/7582 [00:03<00:11, 522.89it/s]\u001b[A\u001b[A\n",
      "\n",
      " 21%|██▏       | 1621/7582 [00:03<00:11, 516.60it/s]\u001b[A\u001b[A\n",
      "\n",
      " 22%|██▏       | 1673/7582 [00:03<00:11, 513.19it/s]\u001b[A\u001b[A\n",
      "\n",
      " 23%|██▎       | 1725/7582 [00:03<00:11, 499.00it/s]\u001b[A\u001b[A\n",
      "\n",
      " 23%|██▎       | 1777/7582 [00:03<00:11, 502.34it/s]\u001b[A\u001b[A\n",
      "\n",
      " 24%|██▍       | 1832/7582 [00:03<00:11, 513.21it/s]\u001b[A\u001b[A\n",
      "\n",
      " 25%|██▍       | 1885/7582 [00:03<00:11, 516.70it/s]\u001b[A\u001b[A\n",
      "\n",
      " 26%|██▌       | 1937/7582 [00:03<00:11, 501.66it/s]\u001b[A\u001b[A\n",
      "\n",
      " 26%|██▌       | 1988/7582 [00:03<00:11, 490.31it/s]\u001b[A\u001b[A\n",
      "\n",
      " 27%|██▋       | 2038/7582 [00:04<00:11, 463.71it/s]\u001b[A\u001b[A\n",
      "\n",
      " 28%|██▊       | 2087/7582 [00:04<00:11, 468.96it/s]\u001b[A\u001b[A\n",
      "\n",
      " 28%|██▊       | 2151/7582 [00:04<00:10, 509.30it/s]\u001b[A\u001b[A\n",
      "\n",
      " 29%|██▉       | 2209/7582 [00:04<00:10, 526.37it/s]\u001b[A\u001b[A\n",
      "\n",
      " 30%|██▉       | 2267/7582 [00:04<00:09, 539.07it/s]\u001b[A\u001b[A\n",
      "\n",
      " 31%|███       | 2324/7582 [00:04<00:09, 544.79it/s]\u001b[A\u001b[A\n",
      "\n",
      " 31%|███▏      | 2380/7582 [00:04<00:09, 536.23it/s]\u001b[A\u001b[A\n",
      "\n",
      " 32%|███▏      | 2443/7582 [00:04<00:09, 561.06it/s]\u001b[A\u001b[A\n",
      "\n",
      " 33%|███▎      | 2500/7582 [00:04<00:09, 538.46it/s]\u001b[A\u001b[A\n",
      "\n",
      " 34%|███▎      | 2555/7582 [00:05<00:09, 523.72it/s]\u001b[A\u001b[A\n",
      "\n",
      " 34%|███▍      | 2608/7582 [00:05<00:09, 515.12it/s]\u001b[A\u001b[A\n",
      "\n",
      " 35%|███▌      | 2668/7582 [00:05<00:09, 533.99it/s]\u001b[A\u001b[A\n",
      "\n",
      " 36%|███▌      | 2724/7582 [00:05<00:08, 540.37it/s]\u001b[A\u001b[A\n",
      "\n",
      " 37%|███▋      | 2779/7582 [00:05<00:09, 527.99it/s]\u001b[A\u001b[A\n",
      "\n",
      " 37%|███▋      | 2833/7582 [00:05<00:09, 526.23it/s]\u001b[A\u001b[A\n",
      "\n",
      " 38%|███▊      | 2886/7582 [00:05<00:09, 520.58it/s]\u001b[A\u001b[A\n",
      "\n",
      " 39%|███▉      | 2939/7582 [00:05<00:09, 515.67it/s]\u001b[A\u001b[A\n",
      "\n",
      " 39%|███▉      | 2991/7582 [00:05<00:09, 497.98it/s]\u001b[A\u001b[A\n",
      "\n",
      " 40%|████      | 3042/7582 [00:05<00:09, 488.79it/s]\u001b[A\u001b[A\n",
      "\n",
      " 41%|████      | 3092/7582 [00:06<00:09, 489.70it/s]\u001b[A\u001b[A\n",
      "\n",
      " 42%|████▏     | 3150/7582 [00:06<00:08, 513.68it/s]\u001b[A\u001b[A\n",
      "\n",
      " 42%|████▏     | 3209/7582 [00:06<00:08, 533.38it/s]\u001b[A\u001b[A\n",
      "\n",
      " 43%|████▎     | 3263/7582 [00:06<00:08, 508.60it/s]\u001b[A\u001b[A\n",
      "\n",
      " 44%|████▍     | 3319/7582 [00:06<00:08, 522.61it/s]\u001b[A\u001b[A\n",
      "\n",
      " 44%|████▍     | 3372/7582 [00:06<00:08, 517.20it/s]\u001b[A\u001b[A\n",
      "\n",
      " 45%|████▌     | 3425/7582 [00:06<00:08, 503.87it/s]\u001b[A\u001b[A\n",
      "\n",
      " 46%|████▌     | 3480/7582 [00:06<00:07, 515.55it/s]\u001b[A\u001b[A\n",
      "\n",
      " 47%|████▋     | 3539/7582 [00:06<00:07, 534.34it/s]\u001b[A\u001b[A\n",
      "\n",
      " 47%|████▋     | 3593/7582 [00:07<00:07, 527.81it/s]\u001b[A\u001b[A\n",
      "\n",
      " 48%|████▊     | 3648/7582 [00:07<00:07, 531.90it/s]\u001b[A\u001b[A\n",
      "\n",
      " 49%|████▉     | 3707/7582 [00:07<00:07, 546.56it/s]\u001b[A\u001b[A\n",
      "\n",
      " 50%|████▉     | 3765/7582 [00:07<00:06, 555.26it/s]\u001b[A\u001b[A\n",
      "\n",
      " 50%|█████     | 3821/7582 [00:07<00:06, 555.11it/s]\u001b[A\u001b[A\n",
      "\n",
      " 51%|█████     | 3877/7582 [00:07<00:06, 533.05it/s]\u001b[A\u001b[A\n",
      "\n",
      " 52%|█████▏    | 3931/7582 [00:07<00:07, 519.49it/s]\u001b[A\u001b[A\n",
      "\n",
      " 53%|█████▎    | 3984/7582 [00:07<00:07, 511.88it/s]\u001b[A\u001b[A\n",
      "\n",
      " 53%|█████▎    | 4036/7582 [00:07<00:07, 499.96it/s]\u001b[A\u001b[A\n",
      "\n",
      " 54%|█████▍    | 4087/7582 [00:07<00:07, 495.90it/s]\u001b[A\u001b[A\n",
      "\n",
      " 55%|█████▍    | 4137/7582 [00:08<00:06, 495.19it/s]\u001b[A\u001b[A\n",
      "\n",
      " 55%|█████▌    | 4195/7582 [00:08<00:06, 516.84it/s]\u001b[A\u001b[A\n",
      "\n",
      " 56%|█████▌    | 4264/7582 [00:08<00:05, 556.21it/s]\u001b[A\u001b[A\n",
      "\n",
      " 57%|█████▋    | 4321/7582 [00:08<00:05, 554.88it/s]\u001b[A\u001b[A\n",
      "\n",
      " 58%|█████▊    | 4378/7582 [00:08<00:05, 546.26it/s]\u001b[A\u001b[A\n",
      "\n",
      " 58%|█████▊    | 4434/7582 [00:08<00:05, 538.56it/s]\u001b[A\u001b[A\n",
      "\n",
      " 59%|█████▉    | 4490/7582 [00:08<00:05, 543.93it/s]\u001b[A\u001b[A\n",
      "\n",
      " 60%|█████▉    | 4548/7582 [00:08<00:05, 552.93it/s]\u001b[A\u001b[A\n",
      "\n",
      " 61%|██████    | 4610/7582 [00:08<00:05, 569.54it/s]\u001b[A\u001b[A\n",
      "\n",
      " 62%|██████▏   | 4668/7582 [00:08<00:05, 545.99it/s]\u001b[A\u001b[A\n",
      "\n",
      " 62%|██████▏   | 4724/7582 [00:09<00:05, 512.37it/s]\u001b[A\u001b[A\n",
      "\n",
      " 63%|██████▎   | 4782/7582 [00:09<00:05, 530.64it/s]\u001b[A\u001b[A\n",
      "\n",
      " 64%|██████▍   | 4838/7582 [00:09<00:05, 536.74it/s]\u001b[A\u001b[A\n",
      "\n",
      " 65%|██████▍   | 4893/7582 [00:09<00:05, 537.46it/s]\u001b[A\u001b[A\n",
      "\n",
      " 65%|██████▌   | 4948/7582 [00:09<00:04, 539.37it/s]\u001b[A\u001b[A\n",
      "\n",
      " 66%|██████▌   | 5003/7582 [00:09<00:05, 511.31it/s]\u001b[A\u001b[A\n",
      "\n",
      " 67%|██████▋   | 5055/7582 [00:09<00:05, 502.90it/s]\u001b[A\u001b[A\n",
      "\n",
      " 67%|██████▋   | 5106/7582 [00:09<00:05, 462.04it/s]\u001b[A\u001b[A\n",
      "\n",
      " 68%|██████▊   | 5156/7582 [00:09<00:05, 471.54it/s]\u001b[A\u001b[A\n",
      "\n",
      " 69%|██████▊   | 5204/7582 [00:10<00:05, 473.84it/s]\u001b[A\u001b[A\n",
      "\n",
      " 69%|██████▉   | 5267/7582 [00:10<00:04, 511.19it/s]\u001b[A\u001b[A\n",
      "\n",
      " 70%|███████   | 5328/7582 [00:10<00:04, 535.52it/s]\u001b[A\u001b[A\n",
      "\n",
      " 71%|███████   | 5389/7582 [00:10<00:03, 553.70it/s]\u001b[A\u001b[A\n",
      "\n",
      " 72%|███████▏  | 5446/7582 [00:10<00:03, 544.80it/s]\u001b[A\u001b[A\n",
      "\n",
      " 73%|███████▎  | 5506/7582 [00:10<00:03, 560.02it/s]\u001b[A\u001b[A\n",
      "\n",
      " 73%|███████▎  | 5568/7582 [00:10<00:03, 576.54it/s]\u001b[A\u001b[A\n",
      "\n",
      " 74%|███████▍  | 5627/7582 [00:10<00:03, 562.74it/s]\u001b[A\u001b[A\n",
      "\n",
      " 75%|███████▍  | 5684/7582 [00:10<00:03, 550.34it/s]\u001b[A\u001b[A\n",
      "\n",
      " 76%|███████▌  | 5745/7582 [00:11<00:03, 564.77it/s]\u001b[A\u001b[A\n",
      "\n",
      " 77%|███████▋  | 5802/7582 [00:11<00:03, 553.87it/s]\u001b[A\u001b[A\n",
      "\n",
      " 77%|███████▋  | 5859/7582 [00:11<00:03, 556.89it/s]\u001b[A\u001b[A\n",
      "\n",
      " 78%|███████▊  | 5915/7582 [00:11<00:02, 557.11it/s]\u001b[A\u001b[A\n",
      "\n",
      " 79%|███████▉  | 5971/7582 [00:11<00:02, 549.65it/s]\u001b[A\u001b[A\n",
      "\n",
      " 79%|███████▉  | 6027/7582 [00:11<00:02, 545.23it/s]\u001b[A\u001b[A\n",
      "\n",
      " 80%|████████  | 6082/7582 [00:11<00:02, 517.06it/s]\u001b[A\u001b[A\n",
      "\n",
      " 81%|████████  | 6135/7582 [00:11<00:02, 499.13it/s]\u001b[A\u001b[A\n",
      "\n",
      " 82%|████████▏ | 6195/7582 [00:11<00:02, 525.16it/s]\u001b[A\u001b[A\n",
      "\n",
      " 83%|████████▎ | 6256/7582 [00:11<00:02, 547.05it/s]\u001b[A\u001b[A\n",
      "\n",
      " 83%|████████▎ | 6312/7582 [00:12<00:02, 543.17it/s]\u001b[A\u001b[A\n",
      "\n",
      " 84%|████████▍ | 6367/7582 [00:12<00:02, 545.10it/s]\u001b[A\u001b[A\n",
      "\n",
      " 85%|████████▍ | 6424/7582 [00:12<00:02, 550.79it/s]\u001b[A\u001b[A\n",
      "\n",
      " 85%|████████▌ | 6480/7582 [00:12<00:02, 537.48it/s]\u001b[A\u001b[A\n",
      "\n",
      " 86%|████████▌ | 6534/7582 [00:12<00:01, 530.84it/s]\u001b[A\u001b[A\n",
      "\n",
      " 87%|████████▋ | 6598/7582 [00:12<00:01, 557.84it/s]\u001b[A\u001b[A\n",
      "\n",
      " 88%|████████▊ | 6655/7582 [00:12<00:01, 537.73it/s]\u001b[A\u001b[A\n",
      "\n",
      " 88%|████████▊ | 6710/7582 [00:12<00:01, 521.24it/s]\u001b[A\u001b[A\n",
      "\n",
      " 89%|████████▉ | 6770/7582 [00:12<00:01, 540.03it/s]\u001b[A\u001b[A\n",
      "\n",
      " 90%|█████████ | 6830/7582 [00:13<00:01, 555.44it/s]\u001b[A\u001b[A\n",
      "\n",
      " 91%|█████████ | 6887/7582 [00:13<00:01, 543.18it/s]\u001b[A\u001b[A\n",
      "\n",
      " 92%|█████████▏| 6942/7582 [00:13<00:01, 537.65it/s]\u001b[A\u001b[A\n",
      "\n",
      " 92%|█████████▏| 6997/7582 [00:13<00:01, 537.87it/s]\u001b[A\u001b[A\n",
      "\n",
      " 93%|█████████▎| 7051/7582 [00:13<00:00, 537.48it/s]\u001b[A\u001b[A\n",
      "\n",
      " 94%|█████████▎| 7107/7582 [00:13<00:00, 543.39it/s]\u001b[A\u001b[A\n",
      "\n",
      " 94%|█████████▍| 7163/7582 [00:13<00:00, 547.54it/s]\u001b[A\u001b[A\n",
      "\n",
      " 95%|█████████▌| 7218/7582 [00:13<00:00, 535.63it/s]\u001b[A\u001b[A\n",
      "\n",
      " 96%|█████████▌| 7272/7582 [00:13<00:00, 519.06it/s]\u001b[A\u001b[A\n",
      "\n",
      " 97%|█████████▋| 7325/7582 [00:13<00:00, 511.36it/s]\u001b[A\u001b[A\n",
      "\n",
      " 97%|█████████▋| 7377/7582 [00:14<00:00, 509.97it/s]\u001b[A\u001b[A\n",
      "\n",
      " 98%|█████████▊| 7430/7582 [00:14<00:00, 514.09it/s]\u001b[A\u001b[A\n",
      "\n",
      " 99%|█████████▊| 7483/7582 [00:14<00:00, 518.18it/s]\u001b[A\u001b[A\n",
      "\n",
      "100%|██████████| 7582/7582 [00:14<00:00, 524.94it/s]\u001b[A\u001b[A"
     ]
    },
    {
     "name": "stdout",
     "output_type": "stream",
     "text": [
      "\u001b[1;37mINFO --- datasetManager._add_train_subset >>> Loading dataset: train, subset: synthetic20\u001b[0m\n",
      "\u001b[1;34mDEBUG --- datasetManager._hdf_to_dict >>> hdf_file: <HDF5 file \"dcase2020_dataset_22050.hdf5\" (mode r)>\u001b[0m\n"
     ]
    },
    {
     "name": "stderr",
     "output_type": "stream",
     "text": [
      "\n"
     ]
    },
    {
     "name": "stdout",
     "output_type": "stream",
     "text": [
      "\u001b[1;34mDEBUG --- datasetManager._hdf_to_dict >>> path: DESED/dataset/audio/train/synthetic20\u001b[0m\n"
     ]
    },
    {
     "name": "stderr",
     "output_type": "stream",
     "text": [
      "\n",
      "\n",
      "  0%|          | 0/4251 [00:00<?, ?it/s]\u001b[A\u001b[A\n",
      "\n",
      "  1%|▏         | 61/4251 [00:00<00:06, 602.79it/s]\u001b[A\u001b[A\n",
      "\n",
      "  3%|▎         | 115/4251 [00:00<00:07, 553.14it/s]\u001b[A\u001b[A\n",
      "\n",
      "  4%|▍         | 163/4251 [00:00<00:07, 528.60it/s]\u001b[A\u001b[A\n",
      "\n",
      "  5%|▌         | 224/4251 [00:00<00:07, 549.59it/s]\u001b[A\u001b[A\n",
      "\n",
      "  7%|▋         | 279/4251 [00:00<00:07, 548.91it/s]\u001b[A\u001b[A\n",
      "\n",
      "  8%|▊         | 325/4251 [00:00<00:08, 487.65it/s]\u001b[A\u001b[A\n",
      "\n",
      "  9%|▉         | 384/4251 [00:00<00:07, 513.74it/s]\u001b[A\u001b[A\n",
      "\n",
      " 10%|█         | 440/4251 [00:00<00:07, 524.47it/s]\u001b[A\u001b[A\n",
      "\n",
      " 12%|█▏        | 497/4251 [00:00<00:06, 536.72it/s]\u001b[A\u001b[A\n",
      "\n",
      " 13%|█▎        | 550/4251 [00:01<00:07, 523.82it/s]\u001b[A\u001b[A\n",
      "\n",
      " 14%|█▍        | 602/4251 [00:01<00:07, 517.31it/s]\u001b[A\u001b[A\n",
      "\n",
      " 15%|█▌        | 654/4251 [00:01<00:08, 431.74it/s]\u001b[A\u001b[A\n",
      "\n",
      " 16%|█▋        | 700/4251 [00:01<00:08, 430.40it/s]\u001b[A\u001b[A\n",
      "\n",
      " 18%|█▊        | 759/4251 [00:01<00:07, 468.19it/s]\u001b[A\u001b[A\n",
      "\n",
      " 19%|█▉        | 813/4251 [00:01<00:07, 485.17it/s]\u001b[A\u001b[A\n",
      "\n",
      " 20%|██        | 864/4251 [00:01<00:06, 483.94it/s]\u001b[A\u001b[A\n",
      "\n",
      " 22%|██▏       | 914/4251 [00:01<00:07, 473.26it/s]\u001b[A\u001b[A\n",
      "\n",
      " 23%|██▎       | 967/4251 [00:01<00:06, 488.39it/s]\u001b[A\u001b[A\n",
      "\n",
      " 24%|██▍       | 1025/4251 [00:02<00:06, 510.80it/s]\u001b[A\u001b[A\n",
      "\n",
      " 25%|██▌       | 1077/4251 [00:02<00:06, 498.59it/s]\u001b[A\u001b[A\n",
      "\n",
      " 27%|██▋       | 1128/4251 [00:02<00:06, 496.57it/s]\u001b[A\u001b[A\n",
      "\n",
      " 28%|██▊       | 1179/4251 [00:02<00:06, 471.03it/s]\u001b[A\u001b[A\n",
      "\n",
      " 29%|██▉       | 1228/4251 [00:02<00:06, 474.52it/s]\u001b[A\u001b[A\n",
      "\n",
      " 30%|███       | 1281/4251 [00:02<00:06, 489.85it/s]\u001b[A\u001b[A\n",
      "\n",
      " 31%|███▏      | 1335/4251 [00:02<00:05, 503.68it/s]\u001b[A\u001b[A\n",
      "\n",
      " 33%|███▎      | 1393/4251 [00:02<00:05, 521.51it/s]\u001b[A\u001b[A\n",
      "\n",
      " 34%|███▍      | 1446/4251 [00:02<00:05, 513.98it/s]\u001b[A\u001b[A\n",
      "\n",
      " 35%|███▌      | 1500/4251 [00:02<00:05, 520.89it/s]\u001b[A\u001b[A\n",
      "\n",
      " 37%|███▋      | 1553/4251 [00:03<00:05, 509.12it/s]\u001b[A\u001b[A\n",
      "\n",
      " 38%|███▊      | 1609/4251 [00:03<00:05, 523.12it/s]\u001b[A\u001b[A\n",
      "\n",
      " 39%|███▉      | 1662/4251 [00:03<00:04, 518.38it/s]\u001b[A\u001b[A\n",
      "\n",
      " 41%|████      | 1722/4251 [00:03<00:04, 538.04it/s]\u001b[A\u001b[A\n",
      "\n",
      " 42%|████▏     | 1777/4251 [00:03<00:04, 509.77it/s]\u001b[A\u001b[A\n",
      "\n",
      " 43%|████▎     | 1834/4251 [00:03<00:04, 524.92it/s]\u001b[A\u001b[A\n",
      "\n",
      " 45%|████▍     | 1892/4251 [00:03<00:04, 537.55it/s]\u001b[A\u001b[A\n",
      "\n",
      " 46%|████▌     | 1947/4251 [00:03<00:04, 518.98it/s]\u001b[A\u001b[A\n",
      "\n",
      " 47%|████▋     | 2003/4251 [00:03<00:04, 530.24it/s]\u001b[A\u001b[A\n",
      "\n",
      " 48%|████▊     | 2057/4251 [00:04<00:04, 479.53it/s]\u001b[A\u001b[A\n",
      "\n",
      " 50%|████▉     | 2118/4251 [00:04<00:04, 510.14it/s]\u001b[A\u001b[A\n",
      "\n",
      " 51%|█████     | 2171/4251 [00:04<00:04, 500.21it/s]\u001b[A\u001b[A\n",
      "\n",
      " 52%|█████▏    | 2225/4251 [00:04<00:03, 510.65it/s]\u001b[A\u001b[A\n",
      "\n",
      " 54%|█████▎    | 2281/4251 [00:04<00:03, 523.98it/s]\u001b[A\u001b[A\n",
      "\n",
      " 55%|█████▍    | 2335/4251 [00:04<00:03, 519.37it/s]\u001b[A\u001b[A\n",
      "\n",
      " 56%|█████▌    | 2390/4251 [00:04<00:03, 527.71it/s]\u001b[A\u001b[A\n",
      "\n",
      " 57%|█████▋    | 2444/4251 [00:04<00:03, 520.23it/s]\u001b[A\u001b[A\n",
      "\n",
      " 59%|█████▊    | 2497/4251 [00:04<00:03, 522.79it/s]\u001b[A\u001b[A\n",
      "\n",
      " 60%|█████▉    | 2550/4251 [00:05<00:03, 485.76it/s]\u001b[A\u001b[A\n",
      "\n",
      " 61%|██████    | 2600/4251 [00:05<00:03, 471.55it/s]\u001b[A\u001b[A\n",
      "\n",
      " 62%|██████▏   | 2648/4251 [00:05<00:03, 472.31it/s]\u001b[A\u001b[A\n",
      "\n",
      " 63%|██████▎   | 2696/4251 [00:05<00:03, 460.15it/s]\u001b[A\u001b[A\n",
      "\n",
      " 65%|██████▍   | 2744/4251 [00:05<00:03, 464.54it/s]\u001b[A\u001b[A\n",
      "\n",
      " 66%|██████▌   | 2791/4251 [00:05<00:03, 444.93it/s]\u001b[A\u001b[A\n",
      "\n",
      " 67%|██████▋   | 2836/4251 [00:05<00:03, 423.24it/s]\u001b[A\u001b[A\n",
      "\n",
      " 68%|██████▊   | 2879/4251 [00:05<00:03, 421.93it/s]\u001b[A\u001b[A\n",
      "\n",
      " 69%|██████▊   | 2922/4251 [00:05<00:03, 422.45it/s]\u001b[A\u001b[A\n",
      "\n",
      " 70%|██████▉   | 2969/4251 [00:06<00:02, 433.00it/s]\u001b[A\u001b[A\n",
      "\n",
      " 71%|███████   | 3013/4251 [00:06<00:02, 423.36it/s]\u001b[A\u001b[A\n",
      "\n",
      " 72%|███████▏  | 3056/4251 [00:06<00:02, 421.93it/s]\u001b[A\u001b[A\n",
      "\n",
      " 73%|███████▎  | 3101/4251 [00:06<00:02, 428.22it/s]\u001b[A\u001b[A\n",
      "\n",
      " 74%|███████▍  | 3144/4251 [00:06<00:02, 422.67it/s]\u001b[A\u001b[A\n",
      "\n",
      " 75%|███████▌  | 3195/4251 [00:06<00:02, 445.11it/s]\u001b[A\u001b[A\n",
      "\n",
      " 76%|███████▋  | 3247/4251 [00:06<00:02, 464.90it/s]\u001b[A\u001b[A\n",
      "\n",
      " 78%|███████▊  | 3296/4251 [00:06<00:02, 471.99it/s]\u001b[A\u001b[A\n",
      "\n",
      " 79%|███████▊  | 3344/4251 [00:06<00:02, 448.91it/s]\u001b[A\u001b[A\n",
      "\n",
      " 80%|███████▉  | 3390/4251 [00:06<00:02, 426.57it/s]\u001b[A\u001b[A\n",
      "\n",
      " 81%|████████  | 3442/4251 [00:07<00:01, 450.22it/s]\u001b[A\u001b[A\n",
      "\n",
      " 82%|████████▏ | 3489/4251 [00:07<00:01, 455.76it/s]\u001b[A\u001b[A\n",
      "\n",
      " 83%|████████▎ | 3538/4251 [00:07<00:01, 463.18it/s]\u001b[A\u001b[A\n",
      "\n",
      " 84%|████████▍ | 3585/4251 [00:07<00:01, 458.67it/s]\u001b[A\u001b[A\n",
      "\n",
      " 86%|████████▌ | 3640/4251 [00:07<00:01, 482.29it/s]\u001b[A\u001b[A\n",
      "\n",
      " 87%|████████▋ | 3695/4251 [00:07<00:01, 499.79it/s]\u001b[A\u001b[A\n",
      "\n",
      " 88%|████████▊ | 3746/4251 [00:07<00:01, 476.42it/s]\u001b[A\u001b[A\n",
      "\n",
      " 89%|████████▉ | 3795/4251 [00:07<00:00, 469.60it/s]\u001b[A\u001b[A\n",
      "\n",
      " 90%|█████████ | 3844/4251 [00:07<00:00, 473.46it/s]\u001b[A\u001b[A\n",
      "\n",
      " 92%|█████████▏| 3892/4251 [00:08<00:00, 474.92it/s]\u001b[A\u001b[A\n",
      "\n",
      " 93%|█████████▎| 3944/4251 [00:08<00:00, 484.91it/s]\u001b[A\u001b[A\n",
      "\n",
      " 94%|█████████▍| 4002/4251 [00:08<00:00, 508.28it/s]\u001b[A\u001b[A\n",
      "\n",
      " 96%|█████████▌| 4061/4251 [00:08<00:00, 527.88it/s]\u001b[A\u001b[A\n",
      "\n",
      " 97%|█████████▋| 4115/4251 [00:08<00:00, 490.85it/s]\u001b[A\u001b[A\n",
      "\n",
      " 98%|█████████▊| 4165/4251 [00:08<00:00, 473.61it/s]\u001b[A\u001b[A\n",
      "\n",
      "100%|██████████| 4251/4251 [00:08<00:00, 486.03it/s]\u001b[A\u001b[A"
     ]
    },
    {
     "name": "stdout",
     "output_type": "stream",
     "text": [
      "\u001b[1;37mINFO --- datasetManager._add_val_subset >>> Loading dataset: validation\u001b[0m\n"
     ]
    },
    {
     "name": "stderr",
     "output_type": "stream",
     "text": [
      "\n"
     ]
    },
    {
     "name": "stdout",
     "output_type": "stream",
     "text": [
      "\u001b[1;34mDEBUG --- datasetManager._hdf_to_dict >>> hdf_file: <HDF5 file \"dcase2020_dataset_22050.hdf5\" (mode r)>\u001b[0m\n",
      "\u001b[1;34mDEBUG --- datasetManager._hdf_to_dict >>> path: DESED/dataset/audio/validation\u001b[0m\n"
     ]
    }
   ],
   "source": [
    "manager.add_subset(\"weak\")\n",
    "manager.add_subset(\"synthetic20\")\n",
    "manager.add_subset(\"validation\")"
   ]
  },
  {
   "cell_type": "markdown",
   "metadata": {},
   "source": [
    "# Prepare training"
   ]
  },
  {
   "cell_type": "markdown",
   "metadata": {},
   "source": [
    "## Prep dataset\n",
    "\n",
    "- We want both the weak and strong ground truth --> the *weak* and *strong* parameters to True"
   ]
  },
  {
   "cell_type": "code",
   "execution_count": 58,
   "metadata": {},
   "outputs": [],
   "source": [
    "augments = [\n",
    "    # signal_augmentation.Noise(0.5, target_snr=15),\n",
    "    # signal_augmentation.RandomTimeDropout(0.5, dropout=0.2)\n",
    "]\n",
    "\n",
    "train_dataset = DESEDDataset(manager, train=True, val=False, weak=True, strong=True, augments=augments, cached=True)\n",
    "val_dataset = DESEDDataset(manager, train=False, val=True, weak=True, strong=True, augments=[], cached=True)"
   ]
  },
  {
   "cell_type": "code",
   "execution_count": 59,
   "metadata": {
    "scrolled": true
   },
   "outputs": [
    {
     "data": {
      "text/plain": [
       "(4049, 1058)"
      ]
     },
     "execution_count": 59,
     "metadata": {},
     "output_type": "execute_result"
    }
   ],
   "source": [
    "len(train_dataset.filenames), len(val_dataset.filenames)"
   ]
  },
  {
   "cell_type": "markdown",
   "metadata": {},
   "source": [
    "## model\n",
    "\n",
    "This model is the same than the weak baseline but have an extra output. <br />\n",
    "the loc_output is compose of a single convolution layer with nb_filters == nb_class. <br />\n",
    "Since their is some pooling layer, the *loc_ouput* have a precision of 53 bins (~= 18 ms)"
   ]
  },
  {
   "cell_type": "code",
   "execution_count": 60,
   "metadata": {
    "collapsed": false,
    "jupyter": {
     "outputs_hidden": false
    },
    "pycharm": {
     "name": "#%% Setup model and training parameters\n"
    },
    "scrolled": true
   },
   "outputs": [
    {
     "data": {
      "text/plain": [
       "dcase2019_model(\n",
       "  (features): Sequential(\n",
       "    (0): ConvBNReLUPool(\n",
       "      (0): Conv2d(1, 64, kernel_size=(3, 3), stride=(1, 1), padding=(1, 1))\n",
       "      (1): BatchNorm2d(64, eps=1e-05, momentum=0.1, affine=True, track_running_stats=True)\n",
       "      (2): Dropout2d(p=0.0, inplace=False)\n",
       "      (3): ReLU6(inplace=True)\n",
       "      (4): MaxPool2d(kernel_size=(4, 1), stride=(4, 1), padding=0, dilation=1, ceil_mode=False)\n",
       "    )\n",
       "    (1): ConvBNReLUPool(\n",
       "      (0): Conv2d(64, 64, kernel_size=(3, 3), stride=(1, 1), padding=(1, 1))\n",
       "      (1): BatchNorm2d(64, eps=1e-05, momentum=0.1, affine=True, track_running_stats=True)\n",
       "      (2): Dropout2d(p=0.0, inplace=False)\n",
       "      (3): ReLU6(inplace=True)\n",
       "      (4): MaxPool2d(kernel_size=(4, 1), stride=(4, 1), padding=0, dilation=1, ceil_mode=False)\n",
       "    )\n",
       "    (2): ConvBNReLUPool(\n",
       "      (0): Conv2d(64, 64, kernel_size=(3, 3), stride=(1, 1), padding=(1, 1))\n",
       "      (1): BatchNorm2d(64, eps=1e-05, momentum=0.1, affine=True, track_running_stats=True)\n",
       "      (2): Dropout2d(p=0.0, inplace=False)\n",
       "      (3): ReLU6(inplace=True)\n",
       "      (4): MaxPool2d(kernel_size=(4, 1), stride=(4, 1), padding=0, dilation=1, ceil_mode=False)\n",
       "    )\n",
       "  )\n",
       "  (bi_gru): GRU(64, 64, batch_first=True, bidirectional=True)\n",
       "  (strong_classifier): Sequential(\n",
       "    (0): Linear(in_features=128, out_features=64, bias=True)\n",
       "    (1): ReLU(inplace=True)\n",
       "    (2): Linear(in_features=64, out_features=10, bias=True)\n",
       "  )\n",
       "  (g_avg_pool): AdaptiveAvgPool1d(output_size=1)\n",
       "  (g_max_pool): AdaptiveMaxPool1d(output_size=1)\n",
       "  (weak_classifier): Sequential(\n",
       "    (0): Linear(in_features=20, out_features=1024, bias=True)\n",
       "    (1): ReLU(inplace=True)\n",
       "    (2): Linear(in_features=1024, out_features=10, bias=True)\n",
       "  )\n",
       ")"
      ]
     },
     "execution_count": 60,
     "metadata": {},
     "output_type": "execute_result"
    }
   ],
   "source": [
    "torch.cuda.empty_cache() \n",
    "model = dcase2019_model()\n",
    "model.cuda()"
   ]
  },
  {
   "cell_type": "code",
   "execution_count": 61,
   "metadata": {},
   "outputs": [
    {
     "name": "stdout",
     "output_type": "stream",
     "text": [
      "=====================================================================================\n",
      "                                 Kernel Shape      Output Shape   Params  \\\n",
      "Layer                                                                      \n",
      "0_features.0.Conv2d_0           [1, 64, 3, 3]  [2, 64, 64, 431]    640.0   \n",
      "1_features.0.BatchNorm2d_1               [64]  [2, 64, 64, 431]    128.0   \n",
      "2_features.0.Dropout2d_2                    -  [2, 64, 64, 431]        -   \n",
      "3_features.0.ReLU6_3                        -  [2, 64, 64, 431]        -   \n",
      "4_features.0.MaxPool2d_4                    -  [2, 64, 16, 431]        -   \n",
      "5_features.1.Conv2d_0          [64, 64, 3, 3]  [2, 64, 16, 431]  36.928k   \n",
      "6_features.1.BatchNorm2d_1               [64]  [2, 64, 16, 431]    128.0   \n",
      "7_features.1.Dropout2d_2                    -  [2, 64, 16, 431]        -   \n",
      "8_features.1.ReLU6_3                        -  [2, 64, 16, 431]        -   \n",
      "9_features.1.MaxPool2d_4                    -   [2, 64, 4, 431]        -   \n",
      "10_features.2.Conv2d_0         [64, 64, 3, 3]   [2, 64, 4, 431]  36.928k   \n",
      "11_features.2.BatchNorm2d_1              [64]   [2, 64, 4, 431]    128.0   \n",
      "12_features.2.Dropout2d_2                   -   [2, 64, 4, 431]        -   \n",
      "13_features.2.ReLU6_3                       -   [2, 64, 4, 431]        -   \n",
      "14_features.2.MaxPool2d_4                   -   [2, 64, 1, 431]        -   \n",
      "15_bi_gru                                   -     [2, 431, 128]   49.92k   \n",
      "16_strong_classifier.Linear_0       [128, 64]      [2, 431, 64]   8.256k   \n",
      "17_strong_classifier.ReLU_1                 -      [2, 431, 64]        -   \n",
      "18_strong_classifier.Linear_2        [64, 10]      [2, 431, 10]    650.0   \n",
      "19_g_avg_pool                               -        [2, 10, 1]        -   \n",
      "20_g_max_pool                               -        [2, 10, 1]        -   \n",
      "21_weak_classifier.Linear_0        [20, 1024]         [2, 1024]  21.504k   \n",
      "22_weak_classifier.ReLU_1                   -         [2, 1024]        -   \n",
      "23_weak_classifier.Linear_2        [1024, 10]           [2, 10]   10.25k   \n",
      "\n",
      "                                 Mult-Adds  \n",
      "Layer                                       \n",
      "0_features.0.Conv2d_0           15.888384M  \n",
      "1_features.0.BatchNorm2d_1            64.0  \n",
      "2_features.0.Dropout2d_2                 -  \n",
      "3_features.0.ReLU6_3                     -  \n",
      "4_features.0.MaxPool2d_4                 -  \n",
      "5_features.1.Conv2d_0          254.214144M  \n",
      "6_features.1.BatchNorm2d_1            64.0  \n",
      "7_features.1.Dropout2d_2                 -  \n",
      "8_features.1.ReLU6_3                     -  \n",
      "9_features.1.MaxPool2d_4                 -  \n",
      "10_features.2.Conv2d_0          63.553536M  \n",
      "11_features.2.BatchNorm2d_1           64.0  \n",
      "12_features.2.Dropout2d_2                -  \n",
      "13_features.2.ReLU6_3                    -  \n",
      "14_features.2.MaxPool2d_4                -  \n",
      "15_bi_gru                          49.152k  \n",
      "16_strong_classifier.Linear_0       8.192k  \n",
      "17_strong_classifier.ReLU_1              -  \n",
      "18_strong_classifier.Linear_2        640.0  \n",
      "19_g_avg_pool                            -  \n",
      "20_g_max_pool                            -  \n",
      "21_weak_classifier.Linear_0         20.48k  \n",
      "22_weak_classifier.ReLU_1                -  \n",
      "23_weak_classifier.Linear_2         10.24k  \n",
      "-------------------------------------------------------------------------------------\n",
      "                          Totals\n",
      "Total params             165.46k\n",
      "Trainable params         165.46k\n",
      "Non-trainable params         0.0\n",
      "Mult-Adds             333.74496M\n",
      "=====================================================================================\n"
     ]
    }
   ],
   "source": [
    "from torchsummaryX import summary\n",
    "input_tensor = torch.zeros((2, 64, 431), dtype=torch.float)\n",
    "input_tensor = input_tensor.cuda()\n",
    "\n",
    "s = summary(model, input_tensor)\n"
   ]
  },
  {
   "cell_type": "markdown",
   "metadata": {},
   "source": [
    "## Create a custom loss function\n",
    "\n",
    "Since not all file have strong truth, it is necessary to remove those files. <br />\n",
    "For that, the strong mask is computed. If the sum of the strong ground truth is equal to 0 then it is a fake one <br />\n",
    "This file strong loss must not be taken into account."
   ]
  },
  {
   "cell_type": "code",
   "execution_count": 62,
   "metadata": {},
   "outputs": [],
   "source": [
    "def weak_synth_loss(logits_weak, logits_strong, y_weak, y_strong, reduce: str = \"mean\"):\n",
    "    assert reduce in [\"mean\", \"sum\"], \"support only \\\"mean\\\" and \\\"sum\\\"\"\n",
    "    \n",
    "    #  Reduction function\n",
    "    if reduce == \"mean\":\n",
    "        reduce_fn = torch.mean\n",
    "    elif reduce == \"sum\":\n",
    "        reduce_fn = torch.sum\n",
    "    \n",
    "    # based on Binary Cross Entropy loss\n",
    "    weak_criterion = nn.BCEWithLogitsLoss(reduction=\"none\")\n",
    "    strong_criterion = nn.BCEWithLogitsLoss(reduction=\"none\")\n",
    "    \n",
    "    # calc separate loss function\n",
    "    weak_bce = weak_criterion(logits_weak, y_weak)\n",
    "    strong_bce = strong_criterion(logits_strong, y_strong)\n",
    "    \n",
    "    weak_bce = reduce_fn(weak_bce, dim=1)\n",
    "    strong_bce = reduce_fn(strong_bce, dim=(1, 2))\n",
    "    \n",
    "    # calc strong mask\n",
    "    strong_mask = torch.clamp(torch.sum(y_strong, dim=(1, 2)), 0, 1) # vector of 0 or 1\n",
    "#     strong_mask = strong_mask.detach() # declared not to need gradients\n",
    "    \n",
    "    # Output the different loss for logging purpose\n",
    "    weak_loss = reduce_fn(weak_bce)\n",
    "    strong_loss = reduce_fn(strong_mask * strong_bce)\n",
    "    total_loss = reduce_fn(weak_bce + strong_mask * strong_bce)\n",
    "    \n",
    "    return weak_loss, strong_loss, total_loss"
   ]
  },
  {
   "cell_type": "markdown",
   "metadata": {},
   "source": [
    "## Training parameters (crit & callbacks & loaders & metrics)m"
   ]
  },
  {
   "cell_type": "code",
   "execution_count": 63,
   "metadata": {
    "collapsed": false,
    "jupyter": {
     "outputs_hidden": false
    },
    "pycharm": {
     "name": "#%% Setup model and training parameters\n"
    }
   },
   "outputs": [],
   "source": [
    "# training parameters\n",
    "nb_epochs = 100\n",
    "batch_size = 32\n",
    "nb_batch = len(train_dataset) // batch_size\n",
    "\n",
    "optimizer = torch.optim.Adam(model.parameters(), lr=0.003)\n",
    "\n",
    "# callbacks\n",
    "checkpoint = CheckPoint(model, optimizer, mode=\"max\", name=\"../models/best_dcase2019.torch\")\n",
    "callbacks = []\n",
    "\n",
    "# tensorboard\n",
    "title = \"WeakBaseline_%s\" % (get_datetime())\n",
    "tensorboard = SummaryWriter(log_dir=Path(\"../tensorboard/%s\" % title), comment=\"weak baseline\")\n",
    "\n",
    "# loaders\n",
    "training_loader = torch.utils.data.DataLoader(train_dataset, batch_size=batch_size, shuffle=True)\n",
    "val_loader = torch.utils.data.DataLoader(val_dataset, batch_size=batch_size, shuffle=False)\n",
    "\n",
    "# Metrics\n",
    "weak_binacc_func = BinaryAccuracy()\n",
    "strong_binacc_func = BinaryAccuracy()\n",
    "weak_f_func = FScore()\n",
    "strong_f_func = FScore()\n",
    "metrics = [weak_binacc_func, strong_binacc_func, weak_f_func, strong_f_func]"
   ]
  },
  {
   "cell_type": "code",
   "execution_count": 64,
   "metadata": {},
   "outputs": [],
   "source": [
    "def reset_all_metrics(metrics):\n",
    "    for m in metrics:\n",
    "        m.reset()"
   ]
  },
  {
   "cell_type": "markdown",
   "metadata": {},
   "source": [
    "## Training functions"
   ]
  },
  {
   "cell_type": "code",
   "execution_count": 65,
   "metadata": {},
   "outputs": [
    {
     "name": "stdout",
     "output_type": "stream",
     "text": [
      "         Epoch  - %      - Losses:  Weak  | Strong  | Total  - metrics:  Weak acc  | Strong acc  | Weak F1  | Strong F1  - Time  \n"
     ]
    }
   ],
   "source": [
    "UNDERLINE_SEQ = \"\\033[1;4m\"\n",
    "RESET_SEQ = \"\\033[0m\"\n",
    "\n",
    "header_form = \"{:<8.8} {:<6.6} - {:<6.6} - {:<8.8} {:<6.6}| {:<8.8}| {:<6.6} - {:<9.9} {:<10.10}| {:<12.12}| {:<9.9}| {:<11.11}- {:<6.6}\"\n",
    "\n",
    "value_form  = \"{:<8.8} {:<6} - {:<6} - {:<8.8} {:<6.4f}| {:<8.4f}| {:<6.4f} - {:<9.9} {:<10.4f}| {:<12.4f}| {:<9.4f}| {:<11.4f}- {:<6.4f}\"\n",
    "\n",
    "train_form = value_form\n",
    "val_form = UNDERLINE_SEQ + value_form + RESET_SEQ\n",
    "\n",
    "header = header_form.format(\n",
    "    \"\", \"Epoch\", \"%\", \"Losses:\", \"Weak \", \"Strong \", \"Total \", \"metrics: \", \"Weak acc \", \"Strong acc \", \"Weak F1 \", \"Strong F1\", \"Time\"\n",
    ")\n",
    "\n",
    "print(header)"
   ]
  },
  {
   "cell_type": "code",
   "execution_count": 66,
   "metadata": {
    "collapsed": false,
    "jupyter": {
     "outputs_hidden": false
    },
    "pycharm": {
     "name": "#%% training function\n"
    }
   },
   "outputs": [],
   "source": [
    "def train(epoch: int):\n",
    "    start_time = time.time()\n",
    "    \n",
    "    reset_all_metrics(metrics)\n",
    "    \n",
    "    model.train()\n",
    "    print(\"\") # <-- Force new line\n",
    "    \n",
    "    for i, (X, y) in enumerate(training_loader):\n",
    "        # The DESEDDataset return a list of ground truth depending on the selecting option.\n",
    "        # If weak and strong ground truth are selected, the list order is [WEAK, STRONG]\n",
    "        # here there is only one [WEAK]\n",
    "        X = X.cuda().float()\n",
    "        y_weak = y[0].cuda().float()\n",
    "        y_strong = y[1].cuda().float()\n",
    "        \n",
    "        weak_logits, strong_logits = model(X)\n",
    "        \n",
    "        # calc the loss\n",
    "        weak_loss, strong_loss, total_loss = weak_synth_loss(\n",
    "            weak_logits, strong_logits,\n",
    "            y_weak, y_strong,\n",
    "            reduce=\"mean\"\n",
    "        )\n",
    "        \n",
    "        # back propagation\n",
    "        optimizer.zero_grad()\n",
    "        total_loss.backward()\n",
    "        optimizer.step()\n",
    "        \n",
    "        with torch.set_grad_enabled(False):\n",
    "            # calc metrics\n",
    "            weak_pred = torch.sigmoid(weak_logits)\n",
    "            strong_pred = torch.sigmoid(strong_logits)\n",
    "\n",
    "            # tagging\n",
    "            weak_binacc = weak_binacc_func(weak_pred, y_weak)\n",
    "            weak_fscore = weak_f_func(weak_pred, y_weak)\n",
    "\n",
    "            # loc\n",
    "            strong_binacc = strong_binacc_func(strong_pred, y_strong)\n",
    "            strong_fscore = strong_f_func(strong_pred, y_strong)\n",
    "        \n",
    "            # logs\n",
    "            print(train_form.format(\n",
    "                \"Training: \",\n",
    "                epoch + 1,\n",
    "                int(100 * (i + 1) / len(training_loader)),\n",
    "                \"\", weak_loss.item(), strong_loss.item(), total_loss.item(),\n",
    "                \"\", weak_binacc, strong_binacc, weak_fscore, strong_fscore,\n",
    "                time.time() - start_time\n",
    "            ), end=\"\\r\")\n",
    "\n",
    "        # tensorboard logs\n",
    "        tensorboard.add_scalar(\"train/weak_loss\", weak_loss.item(), epoch)\n",
    "        tensorboard.add_scalar(\"train/strong_loss\", strong_loss.item(), epoch)\n",
    "        tensorboard.add_scalar(\"train/total_loss\", total_loss.item(), epoch)\n",
    "\n",
    "        tensorboard.add_scalar(\"train/weak_acc\", weak_binacc, epoch)\n",
    "        tensorboard.add_scalar(\"train/strong_acc\", strong_binacc, epoch)\n",
    "        tensorboard.add_scalar(\"train/weak_f1\", weak_fscore, epoch)\n",
    "        tensorboard.add_scalar(\"train/strong_f1\", strong_fscore, epoch)"
   ]
  },
  {
   "cell_type": "code",
   "execution_count": 67,
   "metadata": {
    "collapsed": false,
    "jupyter": {
     "outputs_hidden": false
    },
    "pycharm": {
     "name": "#%% validation function\n"
    }
   },
   "outputs": [],
   "source": [
    "def val(epoch):\n",
    "    start_time = time.time()\n",
    "\n",
    "        \n",
    "    reset_all_metrics(metrics)\n",
    "    \n",
    "    model.eval()\n",
    "    print(\"\") # <-- Force new line\n",
    "    \n",
    "    with torch.set_grad_enabled(False):\n",
    "        for i, (X, y) in enumerate(val_loader):\n",
    "            X = X.cuda().float()\n",
    "            y_weak = y[0].cuda().float()\n",
    "            y_strong = y[1].cuda().float()\n",
    "\n",
    "            weak_logits, strong_logits = model(X)\n",
    "\n",
    "            # calc the loss\n",
    "            weak_loss, strong_loss, total_loss = weak_synth_loss(\n",
    "                weak_logits, strong_logits,\n",
    "                y_weak, y_strong,\n",
    "                reduce=\"mean\"\n",
    "            )\n",
    "            \n",
    "             # calc metrics\n",
    "            weak_pred = torch.sigmoid(weak_logits)\n",
    "            strong_pred = torch.sigmoid(strong_logits)\n",
    "\n",
    "            # tagging\n",
    "            weak_binacc = weak_binacc_func(weak_pred, y_weak)\n",
    "            weak_fscore = weak_f_func(weak_pred, y_weak)\n",
    "\n",
    "            # loc\n",
    "            strong_binacc = strong_binacc_func(strong_pred, y_strong)\n",
    "            strong_fscore = strong_f_func(strong_pred, y_strong)\n",
    "            \n",
    "            # The interesting metric here is the weak F1\n",
    "            checkpoint.step(weak_fscore)\n",
    "\n",
    "            # logs\n",
    "            print(val_form.format(\n",
    "                \"Validation: \",\n",
    "                epoch + 1,\n",
    "                int(100 * (i + 1) / len(val_loader)),\n",
    "                \"\", weak_loss.item(), strong_loss.item(), total_loss.item(),\n",
    "                \"\", weak_binacc, strong_binacc, weak_fscore, strong_fscore,\n",
    "                time.time() - start_time\n",
    "            ), end=\"\\r\")\n",
    "\n",
    "        # tensorboard logs\n",
    "        tensorboard.add_scalar(\"val/weak_loss\", weak_loss.item(), epoch)\n",
    "        tensorboard.add_scalar(\"val/strong_loss\", strong_loss.item(), epoch)\n",
    "        tensorboard.add_scalar(\"val/total_loss\", total_loss.item(), epoch)\n",
    "\n",
    "        tensorboard.add_scalar(\"val/weak_acc\", weak_binacc, epoch)\n",
    "        tensorboard.add_scalar(\"val/strong_acc\", strong_binacc, epoch)\n",
    "        tensorboard.add_scalar(\"val/weak_f1\", weak_fscore, epoch)\n",
    "        tensorboard.add_scalar(\"val/strong_f1\", strong_fscore, epoch)"
   ]
  },
  {
   "cell_type": "markdown",
   "metadata": {},
   "source": [
    "# Train"
   ]
  },
  {
   "cell_type": "code",
   "execution_count": 68,
   "metadata": {
    "collapsed": false,
    "jupyter": {
     "outputs_hidden": false
    },
    "pycharm": {
     "name": "#%%\n"
    },
    "scrolled": true
   },
   "outputs": [
    {
     "name": "stdout",
     "output_type": "stream",
     "text": [
      "         Epoch  - %      - Losses:  Weak  | Strong  | Total  - metrics:  Weak acc  | Strong acc  | Weak F1  | Strong F1  - Time  \n",
      "\n",
      "Training 1      - 100    -          0.3251| 0.0915  | 0.4166 -           0.8347    | 0.9555      | 0.2694   | 0.0170     - 63.7409\n",
      "\n",
      "\u001b[1;37mINFO --- checkpoint.step >>> Best performance reached: saving the model\u001b[0m\n",
      "\u001b[1;4mValidati 1      - 5      -          0.3774| 0.2619  | 0.6392 -           0.8500    | 0.9139      | 0.1587   | 0.0988     - 0.0863\u001b[0m\n",
      "\u001b[1;37mINFO --- checkpoint.step >>> Best performance reached: saving the model\u001b[0m\n",
      "\u001b[1;4mValidati 1      - 8      -          0.3344| 0.2308  | 0.5652 -           0.8563    | 0.9178      | 0.2391   | 0.1110     - 0.1290\u001b[0m\n",
      "\u001b[1;37mINFO --- checkpoint.step >>> Best performance reached: saving the model\u001b[0m\n",
      "\u001b[1;4mValidati 1      - 11     -          0.3948| 0.2641  | 0.6589 -           0.8531    | 0.9127      | 0.2400   | 0.0958     - 0.1704\u001b[0m\n",
      "\u001b[1;37mINFO --- checkpoint.step >>> Best performance reached: saving the model\u001b[0m\n",
      "\u001b[1;4mValidati 1      - 14     -          0.3557| 0.2726  | 0.6283 -           0.8562    | 0.9092      | 0.2607   | 0.0946     - 0.2113\u001b[0m\n",
      "\u001b[1;37mINFO --- checkpoint.step >>> Best performance reached: saving the model\u001b[0m\n",
      "\u001b[1;4mValidati 1      - 41     -          0.3450| 0.2807  | 0.6257 -           0.8574    | 0.9091      | 0.2810   | 0.0895     - 0.4380\u001b[0m\n",
      "\u001b[1;37mINFO --- checkpoint.step >>> Best performance reached: saving the model\u001b[0m\n",
      "\u001b[1;4mValidati 1      - 44     -          0.3617| 0.2754  | 0.6372 -           0.8577    | 0.9084      | 0.2845   | 0.0873     - 0.4788\u001b[0m\n",
      "\u001b[1;37mINFO --- checkpoint.step >>> Best performance reached: saving the model\u001b[0m\n",
      "\u001b[1;4mValidati 1      - 47     -          0.3805| 0.2517  | 0.6322 -           0.8580    | 0.9094      | 0.2863   | 0.0915     - 0.5177\u001b[0m\n",
      "\u001b[1;37mINFO --- checkpoint.step >>> Best performance reached: saving the model\u001b[0m\n",
      "\u001b[1;4mValidati 1      - 100    -          0.2596| 0.2161  | 0.4757 -           0.8551    | 0.9109      | 0.2445   | 0.0930     - 0.9366\u001b[0m\n",
      "Training 2      - 100    -          0.2974| 0.0770  | 0.3744 -           0.8546    | 0.9602      | 0.3622   | 0.1671     - 7.3236\n",
      "\n",
      "\u001b[1;37mINFO --- checkpoint.step >>> Best performance reached: saving the model\u001b[0m\n",
      "\u001b[1;4mValidati 2      - 2      -          0.3388| 0.2564  | 0.5953 -           0.8656    | 0.9163      | 0.3385   | 0.1343     - 0.0385\u001b[0m\n",
      "\u001b[1;37mINFO --- checkpoint.step >>> Best performance reached: saving the model\u001b[0m\n",
      "\u001b[1;4mValidati 2      - 5      -          0.3112| 0.2300  | 0.5412 -           0.8719    | 0.9194      | 0.4021   | 0.1288     - 0.0746\u001b[0m\n",
      "\u001b[1;37mINFO --- checkpoint.step >>> Best performance reached: saving the model\u001b[0m\n",
      "\u001b[1;4mValidati 2      - 11     -          0.3520| 0.2169  | 0.5688 -           0.8711    | 0.9237      | 0.4437   | 0.2171     - 0.1328\u001b[0m\n",
      "\u001b[1;37mINFO --- checkpoint.step >>> Best performance reached: saving the model\u001b[0m\n",
      "\u001b[1;4mValidati 2      - 14     -          0.3197| 0.2497  | 0.5693 -           0.8738    | 0.9203      | 0.4613   | 0.2173     - 0.1694\u001b[0m\n",
      "\u001b[1;37mINFO --- checkpoint.step >>> Best performance reached: saving the model\u001b[0m\n",
      "\u001b[1;4mValidati 2      - 17     -          0.2875| 0.2199  | 0.5074 -           0.8760    | 0.9207      | 0.4654   | 0.2170     - 0.2052\u001b[0m\n",
      "\u001b[1;37mINFO --- checkpoint.step >>> Best performance reached: saving the model\u001b[0m\n",
      "\u001b[1;4mValidati 2      - 23     -          0.3463| 0.2215  | 0.5679 -           0.8766    | 0.9211      | 0.4776   | 0.2280     - 0.2639\u001b[0m\n",
      "\u001b[1;37mINFO --- checkpoint.step >>> Best performance reached: saving the model\u001b[0m\n",
      "\u001b[1;4mValidati 2      - 100    -          0.3402| 0.2455  | 0.5857 -           0.8714    | 0.9222      | 0.4531   | 0.2029     - 0.8327\u001b[0m\n",
      "Training 3      - 100    -          0.2371| 0.0723  | 0.3093 -           0.8730    | 0.9606      | 0.5028   | 0.2980     - 7.4087\n",
      "\u001b[1;4mValidati 3      - 8      -          0.2438| 0.1791  | 0.4229 -           0.8854    | 0.9275      | 0.4822   | 0.3481     - 0.0689\u001b[0m\n",
      "\u001b[1;37mINFO --- checkpoint.step >>> Best performance reached: saving the model\u001b[0m\n",
      "\u001b[1;4mValidati 3      - 11     -          0.2941| 0.2054  | 0.4995 -           0.8859    | 0.9279      | 0.4992   | 0.3747     - 0.1068\u001b[0m\n",
      "\u001b[1;37mINFO --- checkpoint.step >>> Best performance reached: saving the model\u001b[0m\n",
      "\u001b[1;4mValidati 3      - 14     -          0.2721| 0.2429  | 0.5149 -           0.8888    | 0.9263      | 0.5173   | 0.3868     - 0.1436\u001b[0m\n",
      "\u001b[1;37mINFO --- checkpoint.step >>> Best performance reached: saving the model\u001b[0m\n",
      "\u001b[1;4mValidati 3      - 20     -          0.2609| 0.2064  | 0.4673 -           0.8902    | 0.9274      | 0.5206   | 0.3951     - 0.2035\u001b[0m\n",
      "\u001b[1;37mINFO --- checkpoint.step >>> Best performance reached: saving the model\u001b[0m\n",
      "\u001b[1;4mValidati 3      - 23     -          0.3154| 0.2175  | 0.5329 -           0.8883    | 0.9273      | 0.5273   | 0.4065     - 0.2407\u001b[0m\n",
      "\u001b[1;37mINFO --- checkpoint.step >>> Best performance reached: saving the model\u001b[0m\n",
      "\u001b[1;4mValidati 3      - 26     -          0.2494| 0.1944  | 0.4439 -           0.8910    | 0.9284      | 0.5280   | 0.4087     - 0.2791\u001b[0m\n",
      "\u001b[1;37mINFO --- checkpoint.step >>> Best performance reached: saving the model\u001b[0m\n",
      "\u001b[1;4mValidati 3      - 29     -          0.2863| 0.1881  | 0.4744 -           0.8916    | 0.9289      | 0.5323   | 0.3992     - 0.3166\u001b[0m\n",
      "\u001b[1;37mINFO --- checkpoint.step >>> Best performance reached: saving the model\u001b[0m\n",
      "\u001b[1;4mValidati 3      - 38     -          0.3161| 0.2266  | 0.5427 -           0.8916    | 0.9290      | 0.5348   | 0.4037     - 0.3986\u001b[0m\n",
      "\u001b[1;37mINFO --- checkpoint.step >>> Best performance reached: saving the model\u001b[0m\n",
      "\u001b[1;4mValidati 3      - 76     -          0.2787| 0.2295  | 0.5082 -           0.8915    | 0.9269      | 0.5425   | 0.4125     - 0.7093\u001b[0m\n",
      "\u001b[1;37mINFO --- checkpoint.step >>> Best performance reached: saving the model\u001b[0m\n",
      "\u001b[1;4mValidati 3      - 85     -          0.2690| 0.2201  | 0.4891 -           0.8926    | 0.9267      | 0.5434   | 0.4110     - 0.7948\u001b[0m\n",
      "\u001b[1;37mINFO --- checkpoint.step >>> Best performance reached: saving the model\u001b[0m\n",
      "\u001b[1;4mValidati 3      - 100    -          0.2771| 0.2116  | 0.4887 -           0.8908    | 0.9273      | 0.5360   | 0.3793     - 0.9128\u001b[0m\n",
      "Training 4      - 100    -          0.2286| 0.0708  | 0.2994 -           0.8883    | 0.9589      | 0.5982   | 0.3506     - 7.2782\n",
      "\n",
      "\u001b[1;37mINFO --- checkpoint.step >>> Best performance reached: saving the model\u001b[0m\n",
      "\u001b[1;4mValidati 4      - 8      -          0.2307| 0.1703  | 0.4009 -           0.8969    | 0.9286      | 0.5609   | 0.3803     - 0.0843\u001b[0m\n",
      "\u001b[1;37mINFO --- checkpoint.step >>> Best performance reached: saving the model\u001b[0m\n",
      "\u001b[1;4mValidati 4      - 11     -          0.2634| 0.1947  | 0.4581 -           0.8992    | 0.9300      | 0.5834   | 0.4115     - 0.1214\u001b[0m\n",
      "\u001b[1;37mINFO --- checkpoint.step >>> Best performance reached: saving the model\u001b[0m\n",
      "\u001b[1;4mValidati 4      - 14     -          0.2529| 0.2208  | 0.4737 -           0.8975    | 0.9286      | 0.5898   | 0.4226     - 0.1574\u001b[0m\n",
      "\u001b[1;37mINFO --- checkpoint.step >>> Best performance reached: saving the model\u001b[0m\n",
      "\u001b[1;4mValidati 4      - 17     -          0.2554| 0.2080  | 0.4634 -           0.8990    | 0.9282      | 0.5924   | 0.4176     - 0.1940\u001b[0m\n",
      "\u001b[1;37mINFO --- checkpoint.step >>> Best performance reached: saving the model\u001b[0m\n",
      "\u001b[1;4mValidati 4      - 23     -          0.2857| 0.2084  | 0.4941 -           0.8957    | 0.9295      | 0.5964   | 0.4374     - 0.2528\u001b[0m\n",
      "\u001b[1;37mINFO --- checkpoint.step >>> Best performance reached: saving the model\u001b[0m\n",
      "\u001b[1;4mValidati 4      - 26     -          0.2228| 0.1874  | 0.4102 -           0.8990    | 0.9297      | 0.6020   | 0.4358     - 0.2893\u001b[0m\n",
      "\u001b[1;37mINFO --- checkpoint.step >>> Best performance reached: saving the model\u001b[0m\n",
      "\u001b[1;4mValidati 4      - 29     -          0.2332| 0.1695  | 0.4027 -           0.9009    | 0.9308      | 0.6085   | 0.4301     - 0.3268\u001b[0m\n",
      "\u001b[1;37mINFO --- checkpoint.step >>> Best performance reached: saving the model\u001b[0m\n",
      "\u001b[1;4mValidati 4      - 100    -          0.3111| 0.2440  | 0.5552 -           0.8972    | 0.9300      | 0.5979   | 0.4083     - 0.8615\u001b[0m\n",
      "Training 5      - 100    -          0.2278| 0.0952  | 0.3229 -           0.9020    | 0.9579      | 0.6635   | 0.3731     - 7.3167\n",
      "\u001b[1;4mValidati 5      - 100    -          0.3252| 0.2360  | 0.5612 -           0.8882    | 0.9273      | 0.5838   | 0.3959     - 0.7277\u001b[0m\n",
      "Training 6      - 100    -          0.2465| 0.1077  | 0.3541 -           0.9115    | 0.9561      | 0.7055   | 0.3846     - 7.2709\n",
      "\u001b[1;4mValidati 6      - 100    -          0.3530| 0.2290  | 0.5820 -           0.8947    | 0.9313      | 0.5602   | 0.4165     - 0.7282\u001b[0m\n",
      "Training 7      - 100    -          0.1813| 0.0514  | 0.2327 -           0.9211    | 0.9547      | 0.7430   | 0.3968     - 7.4363\n",
      "\u001b[1;4mValidati 7      - 17     -          0.2151| 0.1890  | 0.4042 -           0.9036    | 0.9315      | 0.6107   | 0.4952     - 0.1374\u001b[0m\n",
      "\u001b[1;37mINFO --- checkpoint.step >>> Best performance reached: saving the model\u001b[0m\n",
      "\u001b[1;4mValidati 7      - 20     -          0.2410| 0.1881  | 0.4292 -           0.9040    | 0.9314      | 0.6140   | 0.4955     - 0.1759\u001b[0m\n",
      "\u001b[1;37mINFO --- checkpoint.step >>> Best performance reached: saving the model\u001b[0m\n",
      "\u001b[1;4mValidati 7      - 23     -          0.2831| 0.2022  | 0.4854 -           0.9031    | 0.9310      | 0.6197   | 0.4988     - 0.2128\u001b[0m\n",
      "\u001b[1;37mINFO --- checkpoint.step >>> Best performance reached: saving the model\u001b[0m\n",
      "\u001b[1;4mValidati 7      - 26     -          0.2072| 0.1838  | 0.3910 -           0.9069    | 0.9315      | 0.6320   | 0.4994     - 0.2492\u001b[0m\n",
      "\u001b[1;37mINFO --- checkpoint.step >>> Best performance reached: saving the model\u001b[0m\n",
      "\u001b[1;4mValidati 7      - 29     -          0.1947| 0.1608  | 0.3555 -           0.9097    | 0.9323      | 0.6435   | 0.4967     - 0.2864\u001b[0m\n",
      "\u001b[1;37mINFO --- checkpoint.step >>> Best performance reached: saving the model\u001b[0m\n",
      "\u001b[1;4mValidati 7      - 32     -          0.2113| 0.2046  | 0.4159 -           0.9108    | 0.9328      | 0.6491   | 0.4989     - 0.3231\u001b[0m\n",
      "\u001b[1;37mINFO --- checkpoint.step >>> Best performance reached: saving the model\u001b[0m\n",
      "\u001b[1;4mValidati 7      - 38     -          0.2577| 0.2098  | 0.4675 -           0.9120    | 0.9326      | 0.6542   | 0.4959     - 0.3824\u001b[0m\n",
      "\u001b[1;37mINFO --- checkpoint.step >>> Best performance reached: saving the model\u001b[0m\n",
      "\u001b[1;4mValidati 7      - 100    -          0.2724| 0.2247  | 0.4972 -           0.9083    | 0.9308      | 0.6092   | 0.4610     - 0.8617\u001b[0m\n",
      "Training 8      - 100    -          0.1871| 0.0674  | 0.2544 -           0.9276    | 0.9552      | 0.7664   | 0.4112     - 7.5496\n",
      "\u001b[1;4mValidati 8      - 38     -          0.2682| 0.2271  | 0.4953 -           0.9065    | 0.9245      | 0.6604   | 0.5023     - 0.2933\u001b[0m\n",
      "\u001b[1;37mINFO --- checkpoint.step >>> Best performance reached: saving the model\u001b[0m\n",
      "\u001b[1;4mValidati 8      - 79     -          0.2244| 0.2119  | 0.4363 -           0.9058    | 0.9224      | 0.6640   | 0.5034     - 0.6400\u001b[0m\n",
      "\u001b[1;37mINFO --- checkpoint.step >>> Best performance reached: saving the model\u001b[0m\n",
      "\u001b[1;4mValidati 8      - 100    -          0.3521| 0.2309  | 0.5830 -           0.9038    | 0.9228      | 0.6466   | 0.4641     - 0.8042\u001b[0m\n",
      "Training 9      - 100    -          0.2112| 0.1079  | 0.3192 -           0.9325    | 0.9551      | 0.7842   | 0.4258     - 7.4437\n",
      "\n",
      "\u001b[1;37mINFO --- checkpoint.step >>> Best performance reached: saving the model\u001b[0m\n",
      "\u001b[1;4mValidati 9      - 29     -          0.1817| 0.1878  | 0.3695 -           0.9116    | 0.9187      | 0.6750   | 0.4957     - 0.2407\u001b[0m\n",
      "\u001b[1;37mINFO --- checkpoint.step >>> Best performance reached: saving the model\u001b[0m\n",
      "\u001b[1;4mValidati 9      - 38     -          0.2916| 0.2338  | 0.5253 -           0.9118    | 0.9194      | 0.6763   | 0.4975     - 0.3216\u001b[0m\n",
      "\u001b[1;37mINFO --- checkpoint.step >>> Best performance reached: saving the model\u001b[0m\n",
      "\u001b[1;4mValidati 9      - 50     -          0.2452| 0.2181  | 0.4633 -           0.9116    | 0.9178      | 0.6767   | 0.4950     - 0.4270\u001b[0m\n",
      "\u001b[1;37mINFO --- checkpoint.step >>> Best performance reached: saving the model\u001b[0m\n",
      "\u001b[1;4mValidati 9      - 55     -          0.2559| 0.2419  | 0.4978 -           0.9122    | 0.9165      | 0.6820   | 0.4919     - 0.4869\u001b[0m\n",
      "\u001b[1;37mINFO --- checkpoint.step >>> Best performance reached: saving the model\u001b[0m\n",
      "\u001b[1;4mValidati 9      - 100    -          0.3330| 0.2100  | 0.5430 -           0.9088    | 0.9183      | 0.6632   | 0.4623     - 0.8337\u001b[0m\n",
      "Training 10     - 100    -          0.1461| 0.0738  | 0.2199 -           0.9375    | 0.9546      | 0.8018   | 0.4353     - 7.4447\n",
      "\u001b[1;4mValidati 10     - 100    -          0.2923| 0.2474  | 0.5398 -           0.9060    | 0.9328      | 0.6182   | 0.4919     - 0.7711\u001b[0m\n",
      "Training 11     - 100    -          0.1070| 0.0515  | 0.1585 -           0.9408    | 0.9556      | 0.8132   | 0.4487     - 7.5633\n",
      "\u001b[1;4mValidati 11     - 100    -          0.3004| 0.2254  | 0.5259 -           0.8962    | 0.9251      | 0.6235   | 0.4588     - 0.7511\u001b[0m\n",
      "Training 12     - 100    -          0.2304| 0.0390  | 0.2695 -           0.9419    | 0.9566      | 0.8177   | 0.4566     - 7.4521\n",
      "\u001b[1;4mValidati 12     - 100    -          0.2660| 0.2021  | 0.4681 -           0.9014    | 0.9298      | 0.6339   | 0.4704     - 0.7864\u001b[0m\n",
      "Training 13     - 100    -          0.1556| 0.0674  | 0.2230 -           0.9477    | 0.9579      | 0.8353   | 0.4796     - 7.6363\n",
      "\u001b[1;4mValidati 13     - 32     -          0.2112| 0.2091  | 0.4203 -           0.9128    | 0.9367      | 0.6848   | 0.5416     - 0.2482\u001b[0m\n",
      "\u001b[1;37mINFO --- checkpoint.step >>> Best performance reached: saving the model\u001b[0m\n",
      "\u001b[1;4mValidati 13     - 35     -          0.1887| 0.1743  | 0.3630 -           0.9141    | 0.9368      | 0.6868   | 0.5382     - 0.2863\u001b[0m\n",
      "\u001b[1;37mINFO --- checkpoint.step >>> Best performance reached: saving the model\u001b[0m\n",
      "\u001b[1;4mValidati 13     - 38     -          0.2400| 0.2096  | 0.4496 -           0.9142    | 0.9370      | 0.6886   | 0.5433     - 0.3354\u001b[0m\n",
      "\u001b[1;37mINFO --- checkpoint.step >>> Best performance reached: saving the model\u001b[0m\n",
      "\u001b[1;4mValidati 13     - 58     -          0.2182| 0.1765  | 0.3947 -           0.9145    | 0.9355      | 0.6962   | 0.5429     - 0.5161\u001b[0m\n",
      "\u001b[1;37mINFO --- checkpoint.step >>> Best performance reached: saving the model\u001b[0m\n",
      "\u001b[1;4mValidati 13     - 61     -          0.2242| 0.2249  | 0.4492 -           0.9150    | 0.9350      | 0.6985   | 0.5417     - 0.5534\u001b[0m\n",
      "\u001b[1;37mINFO --- checkpoint.step >>> Best performance reached: saving the model\u001b[0m\n",
      "\u001b[1;4mValidati 13     - 64     -          0.2292| 0.2015  | 0.4307 -           0.9153    | 0.9354      | 0.6997   | 0.5440     - 0.5907\u001b[0m\n",
      "\u001b[1;37mINFO --- checkpoint.step >>> Best performance reached: saving the model\u001b[0m\n",
      "\u001b[1;4mValidati 13     - 70     -          0.2094| 0.1984  | 0.4078 -           0.9156    | 0.9357      | 0.7015   | 0.5481     - 0.6508\u001b[0m\n",
      "\u001b[1;37mINFO --- checkpoint.step >>> Best performance reached: saving the model\u001b[0m\n",
      "\u001b[1;4mValidati 13     - 79     -          0.2419| 0.1884  | 0.4303 -           0.9154    | 0.9360      | 0.7016   | 0.5502     - 0.7337\u001b[0m\n",
      "\u001b[1;37mINFO --- checkpoint.step >>> Best performance reached: saving the model\u001b[0m\n",
      "\u001b[1;4mValidati 13     - 100    -          0.2818| 0.2106  | 0.4924 -           0.9126    | 0.9355      | 0.6505   | 0.5087     - 0.8987\u001b[0m\n",
      "Training 14     - 100    -          0.1713| 0.0666  | 0.2380 -           0.9502    | 0.9588      | 0.8452   | 0.4847     - 7.4242\n",
      "\u001b[1;4mValidati 14     - 100    -          0.3031| 0.2193  | 0.5224 -           0.9050    | 0.9366      | 0.6493   | 0.4947     - 0.7526\u001b[0m\n",
      "Training 15     - 100    -          0.0918| 0.0354  | 0.1272 -           0.9527    | 0.9592      | 0.8534   | 0.4968     - 7.5098\n",
      "\u001b[1;4mValidati 15     - 100    -          0.3327| 0.2395  | 0.5722 -           0.9060    | 0.9351      | 0.6000   | 0.4961     - 0.7910\u001b[0m\n",
      "Training 16     - 100    -          0.1584| 0.0415  | 0.1999 -           0.9530    | 0.9584      | 0.8535   | 0.5004     - 7.5044\n",
      "\u001b[1;4mValidati 16     - 100    -          0.3201| 0.2026  | 0.5227 -           0.9100    | 0.9369      | 0.6454   | 0.5102     - 0.7327\u001b[0m\n",
      "Training 17     - 100    -          0.0703| 0.0215  | 0.0918 -           0.9557    | 0.9605      | 0.8636   | 0.5156     - 7.4036\n",
      "\u001b[1;4mValidati 17     - 35     -          0.1808| 0.1820  | 0.3627 -           0.9143    | 0.9352      | 0.7027   | 0.5528     - 0.2689\u001b[0m\n",
      "\u001b[1;37mINFO --- checkpoint.step >>> Best performance reached: saving the model\u001b[0m\n",
      "\u001b[1;4mValidati 17     - 38     -          0.2560| 0.2155  | 0.4715 -           0.9154    | 0.9353      | 0.7070   | 0.5547     - 0.3067\u001b[0m\n",
      "\u001b[1;37mINFO --- checkpoint.step >>> Best performance reached: saving the model\u001b[0m\n",
      "\u001b[1;4mValidati 17     - 41     -          0.1920| 0.1785  | 0.3704 -           0.9158    | 0.9351      | 0.7109   | 0.5584     - 0.3437\u001b[0m\n",
      "\u001b[1;37mINFO --- checkpoint.step >>> Best performance reached: saving the model\u001b[0m\n",
      "\u001b[1;4mValidati 17     - 47     -          0.2493| 0.1905  | 0.4398 -           0.9164    | 0.9350      | 0.7118   | 0.5560     - 0.4038\u001b[0m\n",
      "\u001b[1;37mINFO --- checkpoint.step >>> Best performance reached: saving the model\u001b[0m\n",
      "\u001b[1;4mValidati 17     - 50     -          0.1958| 0.1847  | 0.3805 -           0.9167    | 0.9350      | 0.7133   | 0.5547     - 0.4504\u001b[0m\n",
      "\u001b[1;37mINFO --- checkpoint.step >>> Best performance reached: saving the model\u001b[0m\n",
      "\u001b[1;4mValidati 17     - 55     -          0.2423| 0.2096  | 0.4520 -           0.9176    | 0.9339      | 0.7191   | 0.5528     - 0.5097\u001b[0m\n",
      "\u001b[1;37mINFO --- checkpoint.step >>> Best performance reached: saving the model\u001b[0m\n",
      "\u001b[1;4mValidati 17     - 100    -          0.3342| 0.2157  | 0.5498 -           0.9141    | 0.9337      | 0.6961   | 0.5150     - 0.8427\u001b[0m\n",
      "Training 18     - 100    -          0.1140| 0.0291  | 0.1431 -           0.9589    | 0.9592      | 0.8737   | 0.5148     - 7.4036\n",
      "\u001b[1;4mValidati 18     - 100    -          0.2746| 0.1877  | 0.4623 -           0.9103    | 0.9327      | 0.6531   | 0.5188     - 0.7547\u001b[0m\n",
      "Training 19     - 100    -          0.2227| 0.0504  | 0.2730 -           0.9575    | 0.9612      | 0.8682   | 0.5274     - 7.4564\n",
      "\u001b[1;4mValidati 19     - 100    -          0.3147| 0.1836  | 0.4984 -           0.9023    | 0.9341      | 0.6609   | 0.5070     - 0.7288\u001b[0m\n",
      "Training 20     - 100    -          0.0854| 0.0220  | 0.1074 -           0.9585    | 0.9613      | 0.8719   | 0.5299     - 7.3576\n",
      "\u001b[1;4mValidati 20     - 100    -          0.2910| 0.2231  | 0.5141 -           0.9014    | 0.9340      | 0.6201   | 0.5156     - 0.7407\u001b[0m\n",
      "Training 21     - 100    -          0.1693| 0.0440  | 0.2133 -           0.9619    | 0.9612      | 0.8829   | 0.5349     - 7.4928\n",
      "\u001b[1;4mValidati 21     - 88     -          0.1624| 0.1520  | 0.3144 -           0.9176    | 0.9380      | 0.7192   | 0.5765     - 0.6696\u001b[0m\n",
      "\u001b[1;37mINFO --- checkpoint.step >>> Best performance reached: saving the model\u001b[0m\n",
      "\u001b[1;4mValidati 21     - 100    -          0.3124| 0.2066  | 0.5190 -           0.9141    | 0.9378      | 0.6978   | 0.5356     - 0.7834\u001b[0m\n",
      "Training 22     - 100    -          0.1247| 0.0430  | 0.1677 -           0.9657    | 0.9620      | 0.8953   | 0.5442     - 7.3537\n",
      "\u001b[1;4mValidati 22     - 50     -          0.2157| 0.1807  | 0.3964 -           0.9160    | 0.9350      | 0.7134   | 0.5678     - 0.3720\u001b[0m\n",
      "\u001b[1;37mINFO --- checkpoint.step >>> Best performance reached: saving the model\u001b[0m\n",
      "\u001b[1;4mValidati 22     - 52     -          0.1376| 0.1808  | 0.3183 -           0.9186    | 0.9342      | 0.7228   | 0.5663     - 0.4128\u001b[0m\n",
      "\u001b[1;37mINFO --- checkpoint.step >>> Best performance reached: saving the model\u001b[0m\n",
      "\u001b[1;4mValidati 22     - 55     -          0.2581| 0.2106  | 0.4687 -           0.9192    | 0.9337      | 0.7265   | 0.5657     - 0.4486\u001b[0m\n",
      "\u001b[1;37mINFO --- checkpoint.step >>> Best performance reached: saving the model\u001b[0m\n",
      "\u001b[1;4mValidati 22     - 88     -          0.1523| 0.1383  | 0.2905 -           0.9198    | 0.9344      | 0.7299   | 0.5751     - 0.7055\u001b[0m\n",
      "\u001b[1;37mINFO --- checkpoint.step >>> Best performance reached: saving the model\u001b[0m\n",
      "\u001b[1;4mValidati 22     - 100    -          0.2951| 0.1814  | 0.4766 -           0.9159    | 0.9346      | 0.7068   | 0.5342     - 0.8167\u001b[0m\n",
      "Training 23     - 100    -          0.0524| 0.0176  | 0.0700 -           0.9665    | 0.9618      | 0.8978   | 0.5459     - 7.4104\n",
      "\u001b[1;4mValidati 23     - 100    -          0.2884| 0.2283  | 0.5167 -           0.9146    | 0.9385      | 0.6534   | 0.5280     - 0.7714\u001b[0m\n",
      "Training 24     - 100    -          0.0951| 0.0228  | 0.1179 -           0.9654    | 0.9615      | 0.8945   | 0.5448     - 7.6024\n",
      "\u001b[1;4mValidati 24     - 44     -          0.2497| 0.2199  | 0.4696 -           0.9219    | 0.9405      | 0.7291   | 0.5834     - 0.3437\u001b[0m\n",
      "\u001b[1;37mINFO --- checkpoint.step >>> Best performance reached: saving the model\u001b[0m\n",
      "\u001b[1;4mValidati 24     - 47     -          0.2662| 0.1765  | 0.4428 -           0.9229    | 0.9408      | 0.7318   | 0.5825     - 0.3804\u001b[0m\n",
      "\u001b[1;37mINFO --- checkpoint.step >>> Best performance reached: saving the model\u001b[0m\n",
      "\u001b[1;4mValidati 24     - 50     -          0.1790| 0.1714  | 0.3504 -           0.9230    | 0.9409      | 0.7329   | 0.5823     - 0.4182\u001b[0m\n",
      "\u001b[1;37mINFO --- checkpoint.step >>> Best performance reached: saving the model\u001b[0m\n",
      "\u001b[1;4mValidati 24     - 52     -          0.1964| 0.1971  | 0.3935 -           0.9236    | 0.9402      | 0.7364   | 0.5786     - 0.4561\u001b[0m\n",
      "\u001b[1;37mINFO --- checkpoint.step >>> Best performance reached: saving the model\u001b[0m\n",
      "\u001b[1;4mValidati 24     - 55     -          0.2989| 0.2307  | 0.5295 -           0.9235    | 0.9395      | 0.7375   | 0.5769     - 0.4935\u001b[0m\n",
      "\u001b[1;37mINFO --- checkpoint.step >>> Best performance reached: saving the model\u001b[0m\n",
      "\u001b[1;4mValidati 24     - 85     -          0.1720| 0.2032  | 0.3752 -           0.9230    | 0.9388      | 0.7368   | 0.5778     - 0.7342\u001b[0m\n",
      "\u001b[1;37mINFO --- checkpoint.step >>> Best performance reached: saving the model\u001b[0m\n",
      "\u001b[1;4mValidati 24     - 100    -          0.2672| 0.1966  | 0.4638 -           0.9189    | 0.9387      | 0.7131   | 0.5365     - 0.8530\u001b[0m\n",
      "Training 25     - 100    -          0.1112| 0.0463  | 0.1575 -           0.9658    | 0.9613      | 0.8956   | 0.5426     - 7.5215\n",
      "\u001b[1;4mValidati 25     - 100    -          0.3152| 0.2305  | 0.5457 -           0.9160    | 0.9385      | 0.6656   | 0.5278     - 0.7554\u001b[0m\n",
      "Training 26     - 100    -          0.0888| 0.0321  | 0.1209 -           0.9679    | 0.9617      | 0.9021   | 0.5480     - 7.4285\n",
      "\u001b[1;4mValidati 26     - 100    -          0.3047| 0.2020  | 0.5068 -           0.9108    | 0.9363      | 0.6925   | 0.5221     - 0.7603\u001b[0m\n",
      "Training 27     - 100    -          0.0672| 0.0359  | 0.1030 -           0.9692    | 0.9618      | 0.9065   | 0.5523     - 7.6129\n",
      "\u001b[1;4mValidati 27     - 100    -          0.2766| 0.1978  | 0.4744 -           0.9099    | 0.9284      | 0.6410   | 0.5072     - 0.7479\u001b[0m\n",
      "Training 28     - 100    -          0.1079| 0.0253  | 0.1332 -           0.9703    | 0.9623      | 0.9096   | 0.5552     - 7.3690\n",
      "\u001b[1;4mValidati 28     - 100    -          0.3241| 0.2363  | 0.5604 -           0.8813    | 0.9247      | 0.6042   | 0.4530     - 0.7237\u001b[0m\n",
      "Training 29     - 100    -          0.0929| 0.0349  | 0.1278 -           0.9734    | 0.9625      | 0.9193   | 0.5590     - 7.4608\n",
      "\u001b[1;4mValidati 29     - 100    -          0.2770| 0.2439  | 0.5209 -           0.9113    | 0.9212      | 0.6969   | 0.4998     - 0.7819\u001b[0m\n",
      "Training 30     - 100    -          0.1140| 0.0250  | 0.1390 -           0.9706    | 0.9619      | 0.9110   | 0.5549     - 7.4016\n",
      "\u001b[1;4mValidati 30     - 100    -          0.2972| 0.2171  | 0.5142 -           0.9122    | 0.9373      | 0.6950   | 0.5241     - 0.7360\u001b[0m\n",
      "Training 31     - 100    -          0.0831| 0.0217  | 0.1047 -           0.9744    | 0.9625      | 0.9227   | 0.5617     - 7.4408\n",
      "\u001b[1;4mValidati 31     - 100    -          0.3044| 0.2068  | 0.5112 -           0.9151    | 0.9354      | 0.6973   | 0.5315     - 0.7413\u001b[0m\n",
      "Training 32     - 100    -          0.0943| 0.0397  | 0.1340 -           0.9730    | 0.9628      | 0.9183   | 0.5636     - 7.4963\n",
      "\u001b[1;4mValidati 32     - 100    -          0.3090| 0.2279  | 0.5370 -           0.9102    | 0.9344      | 0.6827   | 0.5202     - 0.7958\u001b[0m\n",
      "Training 33     - 100    -          0.0690| 0.0233  | 0.0923 -           0.9763    | 0.9626      | 0.9282   | 0.5643     - 7.4532\n",
      "\u001b[1;4mValidati 33     - 100    -          0.3202| 0.2068  | 0.5270 -           0.9113    | 0.9337      | 0.6599   | 0.5288     - 0.7280\u001b[0m\n",
      "Training 34     - 100    -          0.1237| 0.0603  | 0.1840 -           0.9738    | 0.9627      | 0.9204   | 0.5639     - 7.3682\n",
      "\u001b[1;4mValidati 34     - 100    -          0.2966| 0.1838  | 0.4804 -           0.9131    | 0.9355      | 0.7005   | 0.5336     - 0.7500\u001b[0m\n",
      "Training 35     - 100    -          0.0203| 0.0349  | 0.0552 -           0.9767    | 0.9635      | 0.9296   | 0.5728     - 7.4556\n",
      "\u001b[1;4mValidati 35     - 100    -          0.3335| 0.2274  | 0.5608 -           0.9150    | 0.9389      | 0.7024   | 0.5402     - 0.7569\u001b[0m\n",
      "Training 36     - 100    -          0.0435| 0.0195  | 0.0631 -           0.9782    | 0.9639      | 0.9345   | 0.5752     - 7.4432\n",
      "\u001b[1;4mValidati 36     - 100    -          0.2588| 0.1807  | 0.4395 -           0.9075    | 0.9339      | 0.6851   | 0.5216     - 0.7416\u001b[0m\n",
      "Training 37     - 100    -          0.0495| 0.0383  | 0.0878 -           0.9802    | 0.9649      | 0.9399   | 0.5836     - 7.4456\n",
      "\u001b[1;4mValidati 37     - 52     -          0.1928| 0.1952  | 0.3879 -           0.9198    | 0.9305      | 0.7380   | 0.5645     - 0.4103\u001b[0m\n",
      "\u001b[1;37mINFO --- checkpoint.step >>> Best performance reached: saving the model\u001b[0m\n",
      "\u001b[1;4mValidati 37     - 55     -          0.2880| 0.2204  | 0.5085 -           0.9202    | 0.9301      | 0.7403   | 0.5645     - 0.4495\u001b[0m\n",
      "\u001b[1;37mINFO --- checkpoint.step >>> Best performance reached: saving the model\u001b[0m\n",
      "\u001b[1;4mValidati 37     - 100    -          0.3129| 0.2396  | 0.5525 -           0.9149    | 0.9312      | 0.7112   | 0.5319     - 0.8031\u001b[0m\n",
      "Training 38     - 100    -          0.0230| 0.0138  | 0.0368 -           0.9778    | 0.9628      | 0.9330   | 0.5691     - 7.4631\n",
      "\u001b[1;4mValidati 38     - 100    -          0.3197| 0.2331  | 0.5529 -           0.9034    | 0.9288      | 0.6741   | 0.5039     - 0.7403\u001b[0m\n",
      "Training 39     - 100    -          0.0385| 0.0228  | 0.0613 -           0.9784    | 0.9642      | 0.9349   | 0.5814     - 7.4110\n",
      "\u001b[1;4mValidati 39     - 100    -          0.2887| 0.2101  | 0.4988 -           0.9136    | 0.9307      | 0.6688   | 0.5148     - 0.7476\u001b[0m\n",
      "Training 40     - 100    -          0.0954| 0.0306  | 0.1261 -           0.9776    | 0.9637      | 0.9323   | 0.5765     - 7.4075\n",
      "\u001b[1;4mValidati 40     - 100    -          0.3292| 0.2232  | 0.5525 -           0.9145    | 0.9332      | 0.7048   | 0.5309     - 0.7673\u001b[0m\n",
      "Training 41     - 100    -          0.0523| 0.0599  | 0.1121 -           0.9815    | 0.9629      | 0.9446   | 0.5738     - 7.5409\n",
      "\u001b[1;4mValidati 41     - 100    -          0.2973| 0.1914  | 0.4888 -           0.9142    | 0.9306      | 0.7019   | 0.5306     - 0.7407\u001b[0m\n",
      "Training 42     - 100    -          0.0464| 0.0377  | 0.0841 -           0.9758    | 0.9624      | 0.9267   | 0.5666     - 7.4056\n",
      "\u001b[1;4mValidati 42     - 100    -          0.2851| 0.1973  | 0.4824 -           0.9131    | 0.9308      | 0.6700   | 0.5279     - 0.7441\u001b[0m\n",
      "Training 43     - 100    -          0.0358| 0.0205  | 0.0563 -           0.9803    | 0.9623      | 0.9408   | 0.5693     - 7.3885\n",
      "\u001b[1;4mValidati 43     - 100    -          0.2788| 0.1796  | 0.4584 -           0.9098    | 0.9340      | 0.7021   | 0.5367     - 0.7656\u001b[0m\n",
      "Training 44     - 100    -          0.0509| 0.0197  | 0.0706 -           0.9818    | 0.9633      | 0.9455   | 0.5775     - 7.4591\n",
      "\u001b[1;4mValidati 44     - 100    -          0.2800| 0.1971  | 0.4772 -           0.9174    | 0.9322      | 0.6719   | 0.5372     - 0.7438\u001b[0m\n",
      "Training 45     - 100    -          0.1498| 0.0404  | 0.1903 -           0.9817    | 0.9628      | 0.9449   | 0.5756     - 7.4571\n",
      "\u001b[1;4mValidati 45     - 100    -          0.3195| 0.2185  | 0.5380 -           0.9123    | 0.9348      | 0.6611   | 0.5230     - 0.7386\u001b[0m\n",
      "Training 46     - 100    -          0.0318| 0.0188  | 0.0506 -           0.9822    | 0.9635      | 0.9465   | 0.5826     - 7.4504\n",
      "\u001b[1;4mValidati 46     - 100    -          0.3099| 0.2459  | 0.5558 -           0.9198    | 0.9315      | 0.7132   | 0.5239     - 0.7871\u001b[0m\n",
      "Training 47     - 100    -          0.0711| 0.0573  | 0.1283 -           0.9804    | 0.9627      | 0.9411   | 0.5756     - 7.3968\n",
      "\u001b[1;4mValidati 47     - 100    -          0.3005| 0.2068  | 0.5073 -           0.9085    | 0.9294      | 0.6899   | 0.5171     - 0.7234\u001b[0m\n",
      "Training 48     - 100    -          0.0324| 0.0266  | 0.0590 -           0.9825    | 0.9625      | 0.9476   | 0.5758     - 7.3397\n",
      "\u001b[1;4mValidati 48     - 100    -          0.3136| 0.2237  | 0.5373 -           0.9096    | 0.9296      | 0.6618   | 0.5185     - 0.7425\u001b[0m\n",
      "Training 49     - 100    -          0.0763| 0.0478  | 0.1241 -           0.9782    | 0.9622      | 0.9346   | 0.5678     - 7.4892\n",
      "\u001b[1;4mValidati 49     - 100    -          0.3041| 0.2036  | 0.5077 -           0.9134    | 0.9355      | 0.7106   | 0.5449     - 0.7551\u001b[0m\n",
      "Training 50     - 100    -          0.0408| 0.0271  | 0.0679 -           0.9835    | 0.9646      | 0.9503   | 0.5880     - 7.3697\n",
      "\u001b[1;4mValidati 50     - 100    -          0.3236| 0.2191  | 0.5428 -           0.9128    | 0.9257      | 0.6675   | 0.4969     - 0.7440\u001b[0m\n",
      "Training 51     - 100    -          0.1309| 0.0529  | 0.1838 -           0.9853    | 0.9645      | 0.9555   | 0.5899     - 7.3700\n",
      "\u001b[1;4mValidati 51     - 58     -          0.3007| 0.2231  | 0.5238 -           0.9250    | 0.9337      | 0.7402   | 0.5545     - 0.4477\u001b[0m\n",
      "\u001b[1;37mINFO --- checkpoint.step >>> Best performance reached: saving the model\u001b[0m\n",
      "\u001b[1;4mValidati 51     - 100    -          0.3309| 0.2084  | 0.5393 -           0.9198    | 0.9333      | 0.6827   | 0.5158     - 0.7766\u001b[0m\n",
      "Training 52     - 100    -          0.0378| 0.0436  | 0.0813 -           0.9829    | 0.9640      | 0.9486   | 0.5865     - 7.4767\n",
      "\u001b[1;4mValidati 52     - 100    -          0.2964| 0.1850  | 0.4814 -           0.9159    | 0.9274      | 0.7097   | 0.5275     - 0.7588\u001b[0m\n",
      "Training 53     - 100    -          0.0603| 0.0534  | 0.1137 -           0.9815    | 0.9632      | 0.9443   | 0.5768     - 7.4001\n",
      "\u001b[1;4mValidati 53     - 100    -          0.2958| 0.2065  | 0.5022 -           0.9125    | 0.9304      | 0.6702   | 0.5196     - 0.7268\u001b[0m\n",
      "Training 54     - 100    -          0.0688| 0.0334  | 0.1022 -           0.9852    | 0.9635      | 0.9557   | 0.5847     - 7.3014\n",
      "\u001b[1;4mValidati 54     - 100    -          0.2834| 0.2173  | 0.5007 -           0.9128    | 0.9359      | 0.7016   | 0.5359     - 0.7534\u001b[0m\n",
      "Training 55     - 100    -          0.0381| 0.0197  | 0.0579 -           0.9843    | 0.9638      | 0.9529   | 0.5854     - 7.4575\n",
      "\u001b[1;4mValidati 55     - 55     -          0.3912| 0.2427  | 0.6340 -           0.9232    | 0.9374      | 0.7395   | 0.5826     - 0.4126\u001b[0m\n",
      "\u001b[1;37mINFO --- checkpoint.step >>> Best performance reached: saving the model\u001b[0m\n",
      "\u001b[1;4mValidati 55     - 58     -          0.2447| 0.2022  | 0.4469 -           0.9244    | 0.9377      | 0.7430   | 0.5842     - 0.4500\u001b[0m\n",
      "\u001b[1;37mINFO --- checkpoint.step >>> Best performance reached: saving the model\u001b[0m\n",
      "\u001b[1;4mValidati 55     - 100    -          0.3221| 0.2207  | 0.5428 -           0.9187    | 0.9373      | 0.7157   | 0.5466     - 0.7594\u001b[0m\n",
      "Training 56     - 100    -          0.0850| 0.0184  | 0.1034 -           0.9865    | 0.9653      | 0.9594   | 0.5984     - 7.3265\n",
      "\u001b[1;4mValidati 56     - 55     -          0.3813| 0.2497  | 0.6310 -           0.9206    | 0.9276      | 0.7423   | 0.5524     - 0.4123\u001b[0m\n",
      "\u001b[1;37mINFO --- checkpoint.step >>> Best performance reached: saving the model\u001b[0m\n",
      "\u001b[1;4mValidati 56     - 64     -          0.4315| 0.2280  | 0.6595 -           0.9214    | 0.9276      | 0.7447   | 0.5541     - 0.4920\u001b[0m\n",
      "\u001b[1;37mINFO --- checkpoint.step >>> Best performance reached: saving the model\u001b[0m\n",
      "\u001b[1;4mValidati 56     - 100    -          0.3078| 0.2211  | 0.5289 -           0.9167    | 0.9291      | 0.7179   | 0.5228     - 0.7575\u001b[0m\n",
      "Training 57     - 100    -          0.0206| 0.0306  | 0.0512 -           0.9854    | 0.9652      | 0.9563   | 0.5986     - 7.3374\n",
      "\u001b[1;4mValidati 57     - 100    -          0.3278| 0.1814  | 0.5092 -           0.9096    | 0.9346      | 0.6579   | 0.5236     - 0.7565\u001b[0m\n",
      "Training 58     - 100    -          0.0329| 0.0301  | 0.0630 -           0.9858    | 0.9647      | 0.9577   | 0.5921     - 7.4396\n",
      "\u001b[1;4mValidati 58     - 100    -          0.2832| 0.1904  | 0.4736 -           0.9140    | 0.9275      | 0.6742   | 0.5198     - 0.7234\u001b[0m\n",
      "Training 59     - 100    -          0.0798| 0.0284  | 0.1082 -           0.9798    | 0.9640      | 0.9400   | 0.5828     - 7.3528\n",
      "\u001b[1;4mValidati 59     - 100    -          0.2870| 0.2226  | 0.5096 -           0.9127    | 0.9283      | 0.7033   | 0.5150     - 0.7235\u001b[0m\n",
      "Training 60     - 100    -          0.0628| 0.0184  | 0.0813 -           0.9851    | 0.9641      | 0.9556   | 0.5886     - 7.4239\n",
      "\u001b[1;4mValidati 60     - 100    -          0.2931| 0.1980  | 0.4912 -           0.9160    | 0.9366      | 0.7071   | 0.5435     - 0.7999\u001b[0m\n",
      "Training 61     - 100    -          0.0797| 0.0582  | 0.1380 -           0.9859    | 0.9655      | 0.9579   | 0.6006     - 7.4712\n",
      "\u001b[1;4mValidati 61     - 100    -          0.3430| 0.1997  | 0.5427 -           0.9147    | 0.9320      | 0.6801   | 0.5317     - 0.7280\u001b[0m\n",
      "Training 62     - 100    -          0.0366| 0.0269  | 0.0636 -           0.9839    | 0.9645      | 0.9513   | 0.5908     - 7.3581\n",
      "\u001b[1;4mValidati 62     - 100    -          0.3090| 0.1774  | 0.4864 -           0.9116    | 0.9304      | 0.6652   | 0.5316     - 0.7410\u001b[0m\n",
      "Training 63     - 100    -          0.0224| 0.0174  | 0.0399 -           0.9841    | 0.9646      | 0.9523   | 0.5924     - 7.4772\n",
      "\u001b[1;4mValidati 63     - 100    -          0.2873| 0.1782  | 0.4656 -           0.8959    | 0.9133      | 0.6418   | 0.4633     - 0.7786\u001b[0m\n",
      "Training 64     - 100    -          0.0353| 0.0285  | 0.0637 -           0.9848    | 0.9658      | 0.9542   | 0.6000     - 7.4683\n",
      "\u001b[1;4mValidati 64     - 100    -          0.2965| 0.2074  | 0.5039 -           0.9084    | 0.9229      | 0.6872   | 0.5024     - 0.7427\u001b[0m\n",
      "Training 65     - 100    -          0.0062| 0.0183  | 0.0246 -           0.9850    | 0.9637      | 0.9546   | 0.5880     - 7.4607\n",
      "\u001b[1;4mValidati 65     - 100    -          0.3029| 0.1873  | 0.4902 -           0.9174    | 0.9351      | 0.7140   | 0.5478     - 0.7501\u001b[0m\n",
      "Training 66     - 100    -          0.0398| 0.0415  | 0.0813 -           0.9885    | 0.9649      | 0.9654   | 0.5993     - 7.3853\n",
      "\u001b[1;4mValidati 66     - 100    -          0.2778| 0.1991  | 0.4770 -           0.9143    | 0.9358      | 0.7088   | 0.5412     - 0.7389\u001b[0m\n",
      "Training 67     - 100    -          0.0251| 0.0248  | 0.0499 -           0.9854    | 0.9641      | 0.9562   | 0.5910     - 7.4088\n",
      "\u001b[1;4mValidati 67     - 100    -          0.2855| 0.1970  | 0.4825 -           0.9134    | 0.9370      | 0.6995   | 0.5368     - 0.7451\u001b[0m\n",
      "Training 68     - 100    -          0.1014| 0.0253  | 0.1267 -           0.9834    | 0.9639      | 0.9505   | 0.5866     - 7.3985\n",
      "\u001b[1;4mValidati 68     - 100    -          0.2946| 0.2070  | 0.5017 -           0.9057    | 0.9328      | 0.6750   | 0.5172     - 0.7562\u001b[0m\n",
      "Training 69     - 100    -          0.0676| 0.0167  | 0.0843 -           0.9854    | 0.9653      | 0.9565   | 0.5971     - 7.4903\n",
      "\u001b[1;4mValidati 69     - 29     -          0.2621| 0.1378  | 0.3999 -           0.9219    | 0.9374      | 0.7366   | 0.5934     - 0.2219\u001b[0m\n",
      "\u001b[1;37mINFO --- checkpoint.step >>> Best performance reached: saving the model\u001b[0m\n",
      "\u001b[1;4mValidati 69     - 38     -          0.3505| 0.2068  | 0.5573 -           0.9245    | 0.9380      | 0.7469   | 0.5950     - 0.3044\u001b[0m\n",
      "\u001b[1;37mINFO --- checkpoint.step >>> Best performance reached: saving the model\u001b[0m\n",
      "\u001b[1;4mValidati 69     - 44     -          0.4231| 0.2232  | 0.6464 -           0.9254    | 0.9377      | 0.7524   | 0.5965     - 0.3638\u001b[0m\n",
      "\u001b[1;37mINFO --- checkpoint.step >>> Best performance reached: saving the model\u001b[0m\n",
      "\u001b[1;4mValidati 69     - 47     -          0.3073| 0.1943  | 0.5016 -           0.9264    | 0.9380      | 0.7559   | 0.5963     - 0.4041\u001b[0m\n",
      "\u001b[1;37mINFO --- checkpoint.step >>> Best performance reached: saving the model\u001b[0m\n",
      "\u001b[1;4mValidati 69     - 50     -          0.2935| 0.1912  | 0.4847 -           0.9270    | 0.9381      | 0.7589   | 0.5955     - 0.4421\u001b[0m\n",
      "\u001b[1;37mINFO --- checkpoint.step >>> Best performance reached: saving the model\u001b[0m\n",
      "\u001b[1;4mValidati 69     - 52     -          0.2565| 0.2071  | 0.4636 -           0.9283    | 0.9370      | 0.7638   | 0.5911     - 0.4805\u001b[0m\n",
      "\u001b[1;37mINFO --- checkpoint.step >>> Best performance reached: saving the model\u001b[0m\n",
      "\u001b[1;4mValidati 69     - 55     -          0.3112| 0.2110  | 0.5223 -           0.9289    | 0.9365      | 0.7668   | 0.5904     - 0.5184\u001b[0m\n",
      "\u001b[1;37mINFO --- checkpoint.step >>> Best performance reached: saving the model\u001b[0m\n",
      "\u001b[1;4mValidati 69     - 100    -          0.2997| 0.2234  | 0.5231 -           0.9212    | 0.9364      | 0.7311   | 0.5525     - 0.8599\u001b[0m\n",
      "Training 70     - 100    -          0.0621| 0.0435  | 0.1056 -           0.9882    | 0.9656      | 0.9646   | 0.6026     - 7.3430\n",
      "\u001b[1;4mValidati 70     - 100    -          0.3512| 0.2185  | 0.5697 -           0.9118    | 0.9337      | 0.6766   | 0.5321     - 0.7222\u001b[0m\n",
      "Training 71     - 100    -          0.0407| 0.0292  | 0.0699 -           0.9862    | 0.9643      | 0.9587   | 0.5937     - 7.3937\n",
      "\u001b[1;4mValidati 71     - 100    -          0.2869| 0.2046  | 0.4915 -           0.9080    | 0.9290      | 0.6765   | 0.5109     - 0.7764\u001b[0m\n",
      "Training 72     - 100    -          0.0212| 0.0176  | 0.0387 -           0.9850    | 0.9650      | 0.9549   | 0.5951     - 7.4960\n",
      "\u001b[1;4mValidati 72     - 100    -          0.2996| 0.2082  | 0.5077 -           0.9152    | 0.9344      | 0.6730   | 0.5282     - 0.7448\u001b[0m\n",
      "Training 73     - 100    -          0.0069| 0.0339  | 0.0409 -           0.9868    | 0.9654      | 0.9602   | 0.5993     - 7.4460\n",
      "\u001b[1;4mValidati 73     - 100    -          0.3097| 0.2280  | 0.5378 -           0.9175    | 0.9292      | 0.7059   | 0.5201     - 0.7452\u001b[0m\n",
      "Training 74     - 100    -          0.0044| 0.0179  | 0.0223 -           0.9906    | 0.9655      | 0.9721   | 0.6047     - 7.3942\n",
      "\u001b[1;4mValidati 74     - 100    -          0.2790| 0.1973  | 0.4764 -           0.9208    | 0.9339      | 0.6953   | 0.5331     - 0.7666\u001b[0m\n",
      "Training 75     - 100    -          0.0447| 0.0087  | 0.0534 -           0.9881    | 0.9653      | 0.9640   | 0.6018     - 7.5169\n",
      "\u001b[1;4mValidati 75     - 100    -          0.2934| 0.2343  | 0.5277 -           0.9200    | 0.9397      | 0.6845   | 0.5439     - 0.7382\u001b[0m\n",
      "Training 76     - 100    -          0.0231| 0.0248  | 0.0479 -           0.9814    | 0.9648      | 0.9441   | 0.5918     - 7.3833\n",
      "\u001b[1;4mValidati 76     - 100    -          0.3325| 0.2038  | 0.5363 -           0.9016    | 0.9358      | 0.6377   | 0.5118     - 0.7395\u001b[0m\n",
      "Training 77     - 100    -          0.0181| 0.0245  | 0.0426 -           0.9813    | 0.9651      | 0.9442   | 0.5929     - 7.5440\n",
      "\u001b[1;4mValidati 77     - 100    -          0.2959| 0.2080  | 0.5039 -           0.9121    | 0.9358      | 0.6941   | 0.5321     - 0.7689\u001b[0m\n",
      "Training 78     - 100    -          0.0215| 0.0291  | 0.0507 -           0.9849    | 0.9654      | 0.9548   | 0.5952     - 7.3942\n",
      "\u001b[1;4mValidati 78     - 100    -          0.3298| 0.1965  | 0.5263 -           0.9175    | 0.9359      | 0.7132   | 0.5384     - 0.7193\u001b[0m\n",
      "Training 79     - 100    -          0.0367| 0.0204  | 0.0571 -           0.9879    | 0.9665      | 0.9639   | 0.6082     - 7.3844\n",
      "\u001b[1;4mValidati 79     - 100    -          0.3192| 0.2240  | 0.5432 -           0.9175    | 0.9390      | 0.7195   | 0.5499     - 0.7477\u001b[0m\n",
      "Training 80     - 100    -          0.0635| 0.0484  | 0.1119 -           0.9891    | 0.9653      | 0.9675   | 0.6025     - 7.4934\n",
      "\u001b[1;4mValidati 80     - 100    -          0.3099| 0.2219  | 0.5318 -           0.9153    | 0.9361      | 0.7040   | 0.5336     - 0.7533\u001b[0m\n",
      "Training 81     - 100    -          0.0333| 0.0190  | 0.0523 -           0.9860    | 0.9651      | 0.9582   | 0.6003     - 7.4806\n",
      "\u001b[1;4mValidati 81     - 100    -          0.2937| 0.2056  | 0.4993 -           0.9201    | 0.9358      | 0.7227   | 0.5390     - 0.7226\u001b[0m\n",
      "Training 82     - 100    -          0.0392| 0.0312  | 0.0704 -           0.9886    | 0.9653      | 0.9661   | 0.6012     - 7.3285\n",
      "\u001b[1;4mValidati 82     - 100    -          0.3144| 0.2207  | 0.5350 -           0.9153    | 0.9330      | 0.7144   | 0.5405     - 0.7675\u001b[0m\n",
      "Training 83     - 100    -          0.0358| 0.0331  | 0.0690 -           0.9895    | 0.9661      | 0.9685   | 0.6075     - 7.5555\n",
      "\u001b[1;4mValidati 83     - 100    -          0.3070| 0.2240  | 0.5310 -           0.9161    | 0.9327      | 0.7154   | 0.5380     - 0.7444\u001b[0m\n",
      "Training 84     - 100    -          0.0403| 0.0146  | 0.0549 -           0.9816    | 0.9653      | 0.9452   | 0.5955     - 7.3900\n",
      "\u001b[1;4mValidati 84     - 100    -          0.2872| 0.2212  | 0.5084 -           0.9138    | 0.9371      | 0.7039   | 0.5386     - 0.7372\u001b[0m\n",
      "Training 85     - 100    -          0.0145| 0.0334  | 0.0479 -           0.9874    | 0.9662      | 0.9619   | 0.6077     - 7.3522\n",
      "\u001b[1;4mValidati 85     - 100    -          0.2922| 0.2067  | 0.4990 -           0.9176    | 0.9299      | 0.7186   | 0.5272     - 0.7551\u001b[0m\n",
      "Training 86     - 100    -          0.0012| 0.0173  | 0.0185 -           0.9902    | 0.9648      | 0.9706   | 0.6010     - 7.4897\n",
      "\u001b[1;4mValidati 86     - 100    -          0.2928| 0.1966  | 0.4894 -           0.9062    | 0.9225      | 0.6723   | 0.4874     - 0.7361\u001b[0m\n",
      "Training 87     - 100    -          0.0068| 0.0130  | 0.0198 -           0.9902    | 0.9649      | 0.9705   | 0.6008     - 7.4469\n",
      "\u001b[1;4mValidati 87     - 100    -          0.3058| 0.2122  | 0.5180 -           0.9168    | 0.9344      | 0.7108   | 0.5361     - 0.7464\u001b[0m\n",
      "Training 88     - 100    -          0.0016| 0.0118  | 0.0134 -           0.9880    | 0.9652      | 0.9642   | 0.6006     - 7.4591\n",
      "\u001b[1;4mValidati 88     - 100    -          0.2849| 0.2019  | 0.4868 -           0.8964    | 0.9272      | 0.6281   | 0.4767     - 0.7602\u001b[0m\n",
      "Training 89     - 100    -          0.0137| 0.0394  | 0.0531 -           0.9843    | 0.9653      | 0.9534   | 0.6002     - 7.3480\n",
      "\u001b[1;4mValidati 89     - 100    -          0.2959| 0.2091  | 0.5050 -           0.9156    | 0.9336      | 0.6664   | 0.5229     - 0.7243\u001b[0m\n",
      "Training 90     - 100    -          0.0383| 0.0172  | 0.0554 -           0.9849    | 0.9651      | 0.9545   | 0.5967     - 7.2782\n",
      "\u001b[1;4mValidati 90     - 100    -          0.2943| 0.2103  | 0.5045 -           0.9169    | 0.9359      | 0.7059   | 0.5363     - 0.7380\u001b[0m\n",
      "Training 91     - 100    -          0.0017| 0.0110  | 0.0127 -           0.9876    | 0.9658      | 0.9630   | 0.6036     - 7.4206\n",
      "\u001b[1;4mValidati 91     - 100    -          0.3272| 0.2177  | 0.5449 -           0.9138    | 0.9368      | 0.7125   | 0.5507     - 0.7400\u001b[0m\n",
      "Training 92     - 100    -          0.0509| 0.0334  | 0.0843 -           0.9898    | 0.9659      | 0.9697   | 0.6079     - 7.3220\n",
      "\u001b[1;4mValidati 92     - 100    -          0.2911| 0.2005  | 0.4916 -           0.9138    | 0.9350      | 0.7131   | 0.5473     - 0.7262\u001b[0m\n",
      "Training 93     - 100    -          0.0451| 0.0097  | 0.0547 -           0.9874    | 0.9642      | 0.9622   | 0.5956     - 7.2846\n",
      "\u001b[1;4mValidati 93     - 100    -          0.2916| 0.2044  | 0.4960 -           0.9102    | 0.9393      | 0.6906   | 0.5458     - 0.7357\u001b[0m\n",
      "Training 94     - 100    -          0.0311| 0.0127  | 0.0438 -           0.9851    | 0.9651      | 0.9554   | 0.5930     - 7.3801\n",
      "\u001b[1;4mValidati 94     - 100    -          0.3194| 0.2240  | 0.5434 -           0.9155    | 0.9401      | 0.6716   | 0.5537     - 0.7436\u001b[0m\n",
      "Training 95     - 100    -          0.0419| 0.0412  | 0.0831 -           0.9881    | 0.9664      | 0.9647   | 0.6081     - 7.4561\n",
      "\u001b[1;4mValidati 95     - 100    -          0.2801| 0.2213  | 0.5015 -           0.9112    | 0.9334      | 0.6875   | 0.5160     - 0.7492\u001b[0m\n",
      "Training 96     - 100    -          0.0117| 0.0140  | 0.0256 -           0.9871    | 0.9658      | 0.9612   | 0.6019     - 7.4027\n",
      "\u001b[1;4mValidati 96     - 100    -          0.3036| 0.2123  | 0.5159 -           0.9122    | 0.9299      | 0.6963   | 0.5147     - 0.7681\u001b[0m\n",
      "Training 97     - 100    -          0.0027| 0.0215  | 0.0242 -           0.9906    | 0.9660      | 0.9722   | 0.6090     - 7.5057\n",
      "\u001b[1;4mValidati 97     - 100    -          0.2937| 0.2156  | 0.5093 -           0.9163    | 0.9359      | 0.7101   | 0.5420     - 0.7359\u001b[0m\n",
      "Training 98     - 100    -          0.0381| 0.0194  | 0.0576 -           0.9904    | 0.9663      | 0.9711   | 0.6114     - 7.3889\n",
      "\u001b[1;4mValidati 98     - 100    -          0.3029| 0.2174  | 0.5203 -           0.9151    | 0.9385      | 0.6757   | 0.5471     - 0.7454\u001b[0m\n",
      "Training 99     - 100    -          0.0261| 0.0241  | 0.0502 -           0.9915    | 0.9658      | 0.9746   | 0.6099     - 7.3746\n",
      "\u001b[1;4mValidati 99     - 100    -          0.2974| 0.2243  | 0.5217 -           0.9210    | 0.9362      | 0.7262   | 0.5490     - 0.7567\u001b[0m\n",
      "Training 100    - 100    -          0.0385| 0.0226  | 0.0611 -           0.9883    | 0.9659      | 0.9653   | 0.6082     - 7.4691\n",
      "\u001b[1;4mValidati 100    - 100    -          0.2683| 0.2166  | 0.4849 -           0.9168    | 0.9337      | 0.7084   | 0.5306     - 0.7452\u001b[0m\r"
     ]
    }
   ],
   "source": [
    "# tensorboard\n",
    "title = \"dcase2019_system_%s\" % (get_datetime())\n",
    "tensorboard = SummaryWriter(log_dir=Path(\"../tensorboard/%s\" % title), comment=\"weak baseline\")\n",
    "\n",
    "print(header)\n",
    "for e in range(nb_epochs):\n",
    "    train(e)\n",
    "    val(e)"
   ]
  },
  {
   "cell_type": "markdown",
   "metadata": {},
   "source": [
    "# Optimization before evaluation - ♫♪.ılılıll|̲̅̅●̲̅̅|̲̅̅=̲̅̅|̲̅̅●̲̅̅|llılılı.♫♪\n",
    "At this stage, we will work with the output of the best epoch on the validation dataset. The process is done into 3 stages\n",
    "- The optimization of tagging performance using simulating annealing\n",
    "- The pruning of the strong prediction\n",
    "- The optimization of the localization system using aeseg (hysteresis thresholding)"
   ]
  },
  {
   "cell_type": "markdown",
   "metadata": {},
   "source": [
    "## Load best state "
   ]
  },
  {
   "cell_type": "code",
   "execution_count": 69,
   "metadata": {},
   "outputs": [
    {
     "data": {
      "text/plain": [
       "<All keys matched successfully>"
      ]
     },
     "execution_count": 69,
     "metadata": {},
     "output_type": "execute_result"
    }
   ],
   "source": [
    "best_model = dcase2019_model()\n",
    "best_model.cuda()\n",
    "best_model.eval() # <-- for consistency in scoring (deactivate dropout and batchNorm)\n",
    "\n",
    "checkpoint = torch.load(\"../models/best_dcase2019.torch\")\n",
    "best_model.load_state_dict(checkpoint[\"state_dict\"])"
   ]
  },
  {
   "cell_type": "markdown",
   "metadata": {},
   "source": [
    "## Perform prediction on validation dataset"
   ]
  },
  {
   "cell_type": "code",
   "execution_count": 70,
   "metadata": {},
   "outputs": [
    {
     "name": "stdout",
     "output_type": "stream",
     "text": [
      " 100 %\r"
     ]
    }
   ],
   "source": [
    "weak_y_true, strong_y_true = None, None\n",
    "weak_y_pred, strong_y_pred = None, None\n",
    "y_filenames = list(val_dataset.X.keys())\n",
    "\n",
    "with torch.set_grad_enabled(False):\n",
    "    for i, (X, y) in enumerate(val_loader):\n",
    "        weak_y, strong_y = y\n",
    "        weak_y, strong_y = weak_y.cuda(), strong_y.cuda()\n",
    "        X = X.cuda()\n",
    "        \n",
    "        weak_logits, strong_logits = model(X)\n",
    "        \n",
    "        weak_pred = torch.sigmoid(weak_logits)\n",
    "        strong_pred = torch.sigmoid(strong_logits)\n",
    "        \n",
    "        # accumulate prediction and ground truth\n",
    "        if i == 0:\n",
    "            weak_y_true = weak_y.cpu()\n",
    "            strong_y_true = strong_y.cpu()\n",
    "\n",
    "            weak_y_pred =  weak_pred.cpu()\n",
    "            strong_y_pred =  strong_pred.cpu()\n",
    "        else:\n",
    "            weak_y_true = torch.cat((weak_y_true, weak_y.cpu()), dim=0)\n",
    "            strong_y_true = torch.cat((strong_y_true, strong_y.cpu()), dim=0)\n",
    "\n",
    "            weak_y_pred =  torch.cat((weak_y_pred, weak_pred.cpu()), dim=0)\n",
    "            strong_y_pred =  torch.cat((strong_y_pred, strong_pred.cpu()), dim=0)\n",
    "        \n",
    "        print(\" %d %%\" % int(100 * (i + 1) / len(val_loader)), end=\"\\r\")"
   ]
  },
  {
   "cell_type": "code",
   "execution_count": 71,
   "metadata": {},
   "outputs": [
    {
     "data": {
      "text/plain": [
       "(torch.Size([1058, 10]),\n",
       " torch.Size([1058, 10]),\n",
       " torch.Size([1058, 10, 431]),\n",
       " torch.Size([1058, 10, 431]),\n",
       " 1058)"
      ]
     },
     "execution_count": 71,
     "metadata": {},
     "output_type": "execute_result"
    }
   ],
   "source": [
    "weak_y_true.shape, weak_y_pred.shape, strong_y_true.shape, strong_y_pred.shape, len(y_filenames)"
   ]
  },
  {
   "cell_type": "markdown",
   "metadata": {},
   "source": [
    "## Audio tagging threshold Optimization"
   ]
  },
  {
   "cell_type": "code",
   "execution_count": 72,
   "metadata": {},
   "outputs": [],
   "source": [
    "classwise_f1 = FScore(dim=0)\n",
    "def simulated_anealing(y_pred, y_true, macro_iteration = 50, micro_iteration = 400):\n",
    "    weak_y_pred_ = y_pred.clone().detach()\n",
    "\n",
    "    start_f1 = classwise_f1(weak_y_pred_, weak_y_true)\n",
    "\n",
    "    min_delta = 10e-7\n",
    "    delta_ratio = 0.2\n",
    "#     macro_iteration = 30\n",
    "#     micro_iteration = 400\n",
    "\n",
    "    history = {\n",
    "        \"best_f1\": [[] for _ in range(10)],\n",
    "        \"f1\": [],\n",
    "        \"delta_ratio\": []\n",
    "    }\n",
    "\n",
    "    best_thresholds = torch.ones(10) * 0.5\n",
    "    best_f1 = start_f1.clone().detach()\n",
    "\n",
    "    total_iteration = macro_iteration * micro_iteration\n",
    "    \n",
    "    for M in range(macro_iteration):\n",
    "        thresholds = torch.ones(10) * 0.5\n",
    "        delta_ratio = 0.2\n",
    "        delta_decay = ( (min_delta + delta_ratio) / micro_iteration )\n",
    "\n",
    "        for m in range(micro_iteration):\n",
    "            bin_y_pred = y_pred.clone().detach()\n",
    "\n",
    "            # calc new threhsold\n",
    "            r = torch.normal(mean=thresholds, std=0.4)\n",
    "            delta = r * delta_ratio\n",
    "            new_thresholds = thresholds + delta\n",
    "            delta_ratio -= delta_decay\n",
    "            history[\"delta_ratio\"].append(delta_ratio)\n",
    "\n",
    "            # apply threshold\n",
    "            weak_y_pred_[bin_y_pred > new_thresholds] = 1\n",
    "            weak_y_pred_[bin_y_pred <= new_thresholds] = 0\n",
    "\n",
    "            # calc new f1\n",
    "            new_f1 = classwise_f1(weak_y_pred_, weak_y_true)\n",
    "            history[\"f1\"].append(new_f1)\n",
    "\n",
    "            # check\n",
    "            for i in range(10):\n",
    "                if new_f1[i] > best_f1[i]:\n",
    "#                     print(new_f1[i], \" > \", best_f1[i])\n",
    "                    best_f1[i] = new_f1[i]\n",
    "                    best_thresholds[i] = new_thresholds[i]\n",
    "                    thresholds[i] = best_thresholds[i]\n",
    "                    history[\"best_f1\"][i].append(best_f1[i])\n",
    "\n",
    "            step = M * micro_iteration + m\n",
    "            print(\"%2.2f / 100.0 (%%)\" % ((step / total_iteration) * 100), end=\"\\r\")\n",
    "            \n",
    "    return start_f1, best_f1, best_thresholds, history"
   ]
  },
  {
   "cell_type": "code",
   "execution_count": 73,
   "metadata": {
    "scrolled": true
   },
   "outputs": [
    {
     "name": "stdout",
     "output_type": "stream",
     "text": [
      "99.99 / 100.0 (%)\r"
     ]
    }
   ],
   "source": [
    "initial_f1, best_f1, best_at_thresholds, history = simulated_anealing(weak_y_pred, weak_y_true, 20, 400)"
   ]
  },
  {
   "cell_type": "code",
   "execution_count": 74,
   "metadata": {},
   "outputs": [
    {
     "data": {
      "text/plain": [
       "(tensor(0.6400), tensor(0.6429))"
      ]
     },
     "execution_count": 74,
     "metadata": {},
     "output_type": "execute_result"
    }
   ],
   "source": [
    "torch.mean(initial_f1), torch.mean(best_f1)"
   ]
  },
  {
   "cell_type": "code",
   "execution_count": 75,
   "metadata": {},
   "outputs": [
    {
     "data": {
      "text/plain": [
       "tensor([0.5000, 0.5000, 0.7808, 0.5524, 0.8155, 0.5000, 0.5000, 0.6511, 0.6245,\n",
       "        0.6663])"
      ]
     },
     "execution_count": 75,
     "metadata": {},
     "output_type": "execute_result"
    }
   ],
   "source": [
    "best_at_thresholds"
   ]
  },
  {
   "cell_type": "markdown",
   "metadata": {},
   "source": [
    "## Apply new threshold and perform pruning on strong prediction"
   ]
  },
  {
   "cell_type": "code",
   "execution_count": 76,
   "metadata": {},
   "outputs": [],
   "source": [
    "best_weak_y_pred = weak_y_pred.clone().detach()\n",
    "\n",
    "best_weak_y_pred[best_weak_y_pred > best_at_thresholds] = 1\n",
    "best_weak_y_pred[best_weak_y_pred <= best_at_thresholds] = 0"
   ]
  },
  {
   "cell_type": "code",
   "execution_count": 77,
   "metadata": {},
   "outputs": [
    {
     "data": {
      "text/plain": [
       "(torch.Size([1058, 10]), torch.Size([1058, 10, 431]))"
      ]
     },
     "execution_count": 77,
     "metadata": {},
     "output_type": "execute_result"
    }
   ],
   "source": [
    "best_weak_y_pred.shape, strong_y_pred.shape"
   ]
  },
  {
   "cell_type": "code",
   "execution_count": 78,
   "metadata": {},
   "outputs": [],
   "source": [
    "# Prune the result of fill the missing curve with 0 segments\n",
    "def prune_prediction(strong_y_pred, weak_y_pred):\n",
    "    \"\"\" Prune the strong prediciton by zeroing all classes that are not predicted. \"\"\"\n",
    "    pruned_strong_y_pred = strong_y_pred.clone().detach()\n",
    "    \n",
    "    for index in range(len(pruned_strong_y_pred)):\n",
    "        cls_result = weak_y_pred[index]\n",
    "        \n",
    "        # Create a full mask using repeat\n",
    "        length = strong_y_pred.size()[-1]\n",
    "        cls_mask = cls_result.unsqueeze(1).repeat(1, length)\n",
    "        pruned_strong_y_pred[index] *= cls_mask\n",
    "                \n",
    "    return pruned_strong_y_pred"
   ]
  },
  {
   "cell_type": "code",
   "execution_count": 79,
   "metadata": {},
   "outputs": [],
   "source": [
    "pruned_strong_y_pred = prune_prediction(strong_y_pred, best_weak_y_pred)"
   ]
  },
  {
   "cell_type": "markdown",
   "metadata": {},
   "source": [
    "### Sanity check and visualization"
   ]
  },
  {
   "cell_type": "code",
   "execution_count": 80,
   "metadata": {},
   "outputs": [
    {
     "data": {
      "text/plain": [
       "(tensor([0., 0., 0., 0., 0., 0., 0., 0., 0., 1.]),\n",
       " tensor([[0.0000, 0.0000, 0.0000,  ..., 0.0000, 0.0000, 0.0000],\n",
       "         [0.0000, 0.0000, 0.0000,  ..., 0.0000, 0.0000, 0.0000],\n",
       "         [0.0000, 0.0000, 0.0000,  ..., 0.0000, 0.0000, 0.0000],\n",
       "         ...,\n",
       "         [0.0000, 0.0000, 0.0000,  ..., 0.0000, 0.0000, 0.0000],\n",
       "         [0.0000, 0.0000, 0.0000,  ..., 0.0000, 0.0000, 0.0000],\n",
       "         [0.2572, 0.3861, 0.4987,  ..., 0.0025, 0.0031, 0.0331]]))"
      ]
     },
     "execution_count": 80,
     "metadata": {},
     "output_type": "execute_result"
    }
   ],
   "source": [
    "best_weak_y_pred[1], pruned_strong_y_pred[1]"
   ]
  },
  {
   "cell_type": "code",
   "execution_count": 81,
   "metadata": {},
   "outputs": [
    {
     "data": {
      "image/png": "[encoded data removed]",
      "text/plain": [
       "<Figure size 1080x432 with 1 Axes>"
      ]
     },
     "metadata": {
      "needs_background": "light"
     },
     "output_type": "display_data"
    }
   ],
   "source": [
    "import matplotlib.pyplot as plt\n",
    "\n",
    "class_list = list(DESEDManager.cls_dict.keys())\n",
    "plt.figure(0, figsize=(15, 6))\n",
    "\n",
    "for i, class_name in enumerate(class_list):\n",
    "    plt.plot(pruned_strong_y_pred[1][i], label=class_name)\n",
    "\n",
    "plt.legend()\n",
    "plt.show()"
   ]
  },
  {
   "cell_type": "markdown",
   "metadata": {},
   "source": [
    "# Perform segmentation of the prediction curves"
   ]
  },
  {
   "cell_type": "code",
   "execution_count": 82,
   "metadata": {},
   "outputs": [],
   "source": [
    "# pip install -i https://test.pypi.org/simple/ aeseg"
   ]
  },
  {
   "cell_type": "code",
   "execution_count": 83,
   "metadata": {},
   "outputs": [],
   "source": [
    "from aeseg.Encoder import Encoder\n",
    "from aeseg.optimizers import GenOptimizer, DichotomicOptimizer\n",
    "from aeseg.core import eb_evaluator, sb_evaluator"
   ]
  },
  {
   "cell_type": "code",
   "execution_count": 84,
   "metadata": {},
   "outputs": [],
   "source": [
    "def load_csv(path):\n",
    "    with open(path, \"r\") as f:\n",
    "        data = f.read().splitlines()[1:]\n",
    "    return data"
   ]
  },
  {
   "cell_type": "code",
   "execution_count": 85,
   "metadata": {},
   "outputs": [
    {
     "data": {
      "text/plain": [
       "(torch.Size([1058, 431, 10]), torch.Size([1058, 431, 10]))"
      ]
     },
     "execution_count": 85,
     "metadata": {},
     "output_type": "execute_result"
    }
   ],
   "source": [
    "## Optimizer take data in the following shape (file, seq, class)\n",
    "strong_y_true = strong_y_true.permute(0, 2, 1)\n",
    "pruned_strong_y_pred = pruned_strong_y_pred.permute(0, 2, 1)\n",
    "strong_y_true.shape, pruned_strong_y_pred.shape"
   ]
  },
  {
   "cell_type": "code",
   "execution_count": 86,
   "metadata": {},
   "outputs": [],
   "source": [
    "def class_wise_optimization(optimizer, class_to_monitor, strong_y_true, strong_pred, filenames, method=\"threshold\"):\n",
    "    class_wise_results = {}\n",
    "    \n",
    "    for cl in class_to_monitor:\n",
    "        optimizer.fit(\n",
    "            strong_y_true, strong_pred, filenames,\n",
    "            monitor=[\"class_wise\", cl, \"f_measure\", \"f_measure\"],\n",
    "            method=method,\n",
    "            verbose=1)\n",
    "        \n",
    "        parameters, score = optimizer.best\n",
    "        print(cl, parameters, score)\n",
    "        class_wise_results[cl] = (parameters, score)\n",
    "        \n",
    "    return class_wise_results\n",
    "\n",
    "\n",
    "def get_class_dependant_parameters(class_wise_results, class_list):\n",
    "    class_dependant_parameters = {}\n",
    "    for cl in class_list:\n",
    "        for param in class_wise_results[cl][0]:\n",
    "            if param not in class_dependant_parameters.keys():\n",
    "                class_dependant_parameters[param] = []\n",
    "            class_dependant_parameters[param].append(class_wise_results[cl][0][param])\n",
    "            \n",
    "    # TODO find better way\n",
    "    # for \"smooth\" common parameters, remove list\n",
    "    class_dependant_parameters[\"smooth\"] = class_dependant_parameters[\"smooth\"][0]\n",
    "    return class_dependant_parameters"
   ]
  },
  {
   "cell_type": "code",
   "execution_count": 87,
   "metadata": {},
   "outputs": [],
   "source": [
    "class_list = list(DESEDManager.cls_dict.keys())\n",
    "\n",
    "# Create the encoder that will be used\n",
    "encoder = Encoder(\n",
    "    classes=class_list,\n",
    "    temporal_precision = 50,  # ms\n",
    "    clip_length = 10,          # s\n",
    "    minimal_segment_step = 150 # ms\n",
    ")\n",
    "\n",
    "val_csv_y_true= load_csv(os.path.join(desed_metadata_root, \"validation\", \"validation.tsv\"))"
   ]
  },
  {
   "cell_type": "markdown",
   "metadata": {},
   "source": [
    "## Absolute threshold"
   ]
  },
  {
   "cell_type": "code",
   "execution_count": null,
   "metadata": {
    "scrolled": true
   },
   "outputs": [],
   "source": [
    "optimizer = DichotomicOptimizer(\n",
    "    {\n",
    "        \"threshold\": (0.01, 0.90),\n",
    "        \"smooth\": \"smoothMovingAvg\",\n",
    "        \"window_len\": (5, 27)\n",
    "    },\n",
    "    \n",
    "    encoder = encoder,\n",
    "    step = 6,\n",
    "    nb_recurse = 8,\n",
    "    nb_process = 5\n",
    ")\n",
    "\n",
    "class_wise_results = class_wise_optimization(\n",
    "    optimizer,\n",
    "    class_list,\n",
    "    method=\"threshold\",\n",
    "    strong_y_true=val_csv_y_true,\n",
    "    strong_pred=pruned_strong_y_pred.numpy(),\n",
    "    filenames=y_filenames\n",
    ")"
   ]
  },
  {
   "cell_type": "code",
   "execution_count": 89,
   "metadata": {
    "ExecuteTime": {
     "end_time": "2019-06-06T05:49:07.672707Z",
     "start_time": "2019-06-06T05:49:07.615719Z"
    }
   },
   "outputs": [],
   "source": [
    "best_parameters = get_class_dependant_parameters(class_wise_results, class_list)"
   ]
  },
  {
   "cell_type": "code",
   "execution_count": 95,
   "metadata": {},
   "outputs": [
    {
     "name": "stdout",
     "output_type": "stream",
     "text": [
      "threshold      : [0.8077932007619048, 0.787688, 0.36812160000000005, 0.9, 0.35367360000000003, 0.23318249472000002, 0.01571766857142857, 0.011932665904761905, 0.22503004160000004, 0.5921951809015873]\n",
      "smooth         : smoothMovingAvg\n",
      "window_len     : [8.697109942857143, 11.803439999999998, 13.946666666666667, 9.853818294857142, 27.0, 8.683605333333334, 26.035776, 27.0, 20.918436266666667, 27.0]\n"
     ]
    }
   ],
   "source": [
    "for key, value in best_parameters.items():\n",
    "    print(\"{:<15}: {}\".format(key, value))"
   ]
  },
  {
   "cell_type": "code",
   "execution_count": 93,
   "metadata": {
    "ExecuteTime": {
     "end_time": "2019-06-06T05:49:28.567651Z",
     "start_time": "2019-06-06T05:49:09.882468Z"
    }
   },
   "outputs": [
    {
     "name": "stdout",
     "output_type": "stream",
     "text": [
      "Event based metrics (onset-offset)\n",
      "========================================\n",
      "  Evaluated length                  : 10459.12 sec\n",
      "  Evaluated files                   : 1168 \n",
      "  Evaluate onset                    : True \n",
      "  Evaluate offset                   : True \n",
      "  T collar                          : 200.00 ms\n",
      "  Offset (length)                   : 20.00 %\n",
      "\n",
      "  Overall metrics (micro-average)\n",
      "  ======================================\n",
      "  F-measure\n",
      "    F-measure (F1)                  : 26.02 %\n",
      "    Precision                       : 30.80 %\n",
      "    Recall                          : 22.52 %\n",
      "  Error rate\n",
      "    Error rate (ER)                 : 1.26 \n",
      "    Substitution rate               : 0.02 \n",
      "    Deletion rate                   : 0.76 \n",
      "    Insertion rate                  : 0.49 \n",
      "\n",
      "  Class-wise average metrics (macro-average)\n",
      "  ======================================\n",
      "  F-measure\n",
      "    F-measure (F1)                  : 25.43 %\n",
      "    Precision                       : 28.03 %\n",
      "    Recall                          : 23.87 %\n",
      "  Error rate\n",
      "    Error rate (ER)                 : 1.43 \n",
      "    Deletion rate                   : 0.76 \n",
      "    Insertion rate                  : 0.67 \n",
      "  \n",
      "\n",
      "  Class-wise metrics\n",
      "  ======================================\n",
      "    Event label  | Nref    Nsys  | F        Pre      Rec    | ER       Del      Ins    |\n",
      "    ------------ | -----   ----- | ------   ------   ------ | ------   ------   ------ |\n",
      "    Alarm_bell.. | 420     310   | 32.6%    38.4%    28.3%  | 1.17     0.72     0.45   |\n",
      "    Blender      | 96      77    | 13.9%    15.6%    12.5%  | 1.55     0.88     0.68   |\n",
      "    Cat          | 341     331   | 24.7%    25.1%    24.3%  | 1.48     0.76     0.73   |\n",
      "    Dishes       | 567     376   | 18.7%    23.4%    15.5%  | 1.35     0.84     0.51   |\n",
      "    Dog          | 570     396   | 16.1%    19.7%    13.7%  | 1.42     0.86     0.56   |\n",
      "    Electric_s.. | 65      55    | 36.7%    40.0%    33.8%  | 1.17     0.66     0.51   |\n",
      "    Frying       | 94      155   | 8.0%     6.5%     10.6%  | 2.44     0.89     1.54   |\n",
      "    Running_wa.. | 237     221   | 25.8%    26.7%    24.9%  | 1.43     0.75     0.68   |\n",
      "    Speech       | 1754    1072  | 30.9%    40.8%    24.9%  | 1.11     0.75     0.36   |\n",
      "    Vacuum_cle.. | 92      104   | 46.9%    44.2%    50.0%  | 1.13     0.50     0.63   |\n",
      "\n",
      "\n"
     ]
    }
   ],
   "source": [
    "# check test\n",
    "best_parameters = get_class_dependant_parameters(class_wise_results, class_list)\n",
    "\n",
    "segments = encoder.encode(\n",
    "    pruned_strong_y_pred.numpy(),\n",
    "    method=\"threshold\",\n",
    "    **best_parameters\n",
    ")\n",
    "to_evaluate = encoder.parse(segments, y_filenames)\n",
    "evaluator = eb_evaluator(val_csv_y_true, to_evaluate)\n",
    "print(evaluator)"
   ]
  },
  {
   "cell_type": "markdown",
   "metadata": {},
   "source": [
    "## Hysteresis thresholding"
   ]
  },
  {
   "cell_type": "code",
   "execution_count": 241,
   "metadata": {
    "ExecuteTime": {
     "end_time": "2019-06-05T23:35:34.068674Z",
     "start_time": "2019-06-05T18:50:30.082131Z"
    },
    "scrolled": true
   },
   "outputs": [
    {
     "name": "stderr",
     "output_type": "stream",
     "text": [
      "\n",
      "\n",
      "\n",
      "\n",
      "\n",
      "\n",
      "\n",
      "\n",
      "\n",
      "\n",
      "\n",
      "\n",
      "\n",
      "  0%|          | 0/1728 [00:00<?, ?it/s]\u001b[A\u001b[A\u001b[A\u001b[A\u001b[A\u001b[A\u001b[A\u001b[A\u001b[A\u001b[A\u001b[A\u001b[A\u001b[A"
     ]
    },
    {
     "ename": "IndexError",
     "evalue": "list index out of range",
     "output_type": "error",
     "traceback": [
      "\u001b[0;31m---------------------------------------------------------------------------\u001b[0m",
      "\u001b[0;31mRemoteTraceback\u001b[0m                           Traceback (most recent call last)",
      "\u001b[0;31mRemoteTraceback\u001b[0m: \n\"\"\"\nTraceback (most recent call last):\n  File \"/users/samova/lcances/.miniconda3/envs/dcase2020/lib/python3.7/multiprocessing/pool.py\", line 121, in worker\n    result = (True, func(*args, **kwds))\n  File \"/users/samova/lcances/.miniconda3/envs/dcase2020/lib/python3.7/site-packages/aeseg/optimizers.py\", line 41, in evaluate\n  File \"/users/samova/lcances/.miniconda3/envs/dcase2020/lib/python3.7/site-packages/aeseg/Encoder.py\", line 130, in encode\n  File \"/users/samova/lcances/.miniconda3/envs/dcase2020/lib/python3.7/site-packages/aeseg/Encoder.py\", line 331, in __encode_using_hysteresis\nIndexError: list index out of range\n\"\"\"",
      "\nThe above exception was the direct cause of the following exception:\n",
      "\u001b[0;31mIndexError\u001b[0m                                Traceback (most recent call last)",
      "\u001b[0;32m<ipython-input-241-089057c9d575>\u001b[0m in \u001b[0;36m<module>\u001b[0;34m\u001b[0m\n\u001b[1;32m     21\u001b[0m     \u001b[0mstrong_y_true\u001b[0m\u001b[0;34m=\u001b[0m\u001b[0mstrong_y_true\u001b[0m\u001b[0;34m,\u001b[0m\u001b[0;34m\u001b[0m\u001b[0;34m\u001b[0m\u001b[0m\n\u001b[1;32m     22\u001b[0m     \u001b[0mstrong_pred\u001b[0m\u001b[0;34m=\u001b[0m\u001b[0mpruned_strong_y_pred\u001b[0m\u001b[0;34m.\u001b[0m\u001b[0mnumpy\u001b[0m\u001b[0;34m(\u001b[0m\u001b[0;34m)\u001b[0m\u001b[0;34m,\u001b[0m\u001b[0;34m\u001b[0m\u001b[0;34m\u001b[0m\u001b[0m\n\u001b[0;32m---> 23\u001b[0;31m     \u001b[0mfilenames\u001b[0m\u001b[0;34m=\u001b[0m\u001b[0my_filenames\u001b[0m\u001b[0;34m\u001b[0m\u001b[0;34m\u001b[0m\u001b[0m\n\u001b[0m\u001b[1;32m     24\u001b[0m )\n",
      "\u001b[0;32m<ipython-input-211-0c27c2b1bfb8>\u001b[0m in \u001b[0;36mclass_wise_optimization\u001b[0;34m(optimizer, class_to_monitor, strong_y_true, strong_pred, filenames, method)\u001b[0m\n\u001b[1;32m      7\u001b[0m             \u001b[0mmonitor\u001b[0m\u001b[0;34m=\u001b[0m\u001b[0;34m[\u001b[0m\u001b[0;34m\"class_wise\"\u001b[0m\u001b[0;34m,\u001b[0m \u001b[0mcl\u001b[0m\u001b[0;34m,\u001b[0m \u001b[0;34m\"f_measure\"\u001b[0m\u001b[0;34m,\u001b[0m \u001b[0;34m\"f_measure\"\u001b[0m\u001b[0;34m]\u001b[0m\u001b[0;34m,\u001b[0m\u001b[0;34m\u001b[0m\u001b[0;34m\u001b[0m\u001b[0m\n\u001b[1;32m      8\u001b[0m             \u001b[0mmethod\u001b[0m\u001b[0;34m=\u001b[0m\u001b[0mmethod\u001b[0m\u001b[0;34m,\u001b[0m\u001b[0;34m\u001b[0m\u001b[0;34m\u001b[0m\u001b[0m\n\u001b[0;32m----> 9\u001b[0;31m             verbose=1)\n\u001b[0m\u001b[1;32m     10\u001b[0m \u001b[0;34m\u001b[0m\u001b[0m\n\u001b[1;32m     11\u001b[0m         \u001b[0mparameters\u001b[0m\u001b[0;34m,\u001b[0m \u001b[0mscore\u001b[0m \u001b[0;34m=\u001b[0m \u001b[0moptimizer\u001b[0m\u001b[0;34m.\u001b[0m\u001b[0mbest\u001b[0m\u001b[0;34m\u001b[0m\u001b[0;34m\u001b[0m\u001b[0m\n",
      "\u001b[0;32m~/.miniconda3/envs/dcase2020/lib/python3.7/site-packages/aeseg/optimizers.py\u001b[0m in \u001b[0;36mfit\u001b[0;34m(self, y_true, y_pred, filenames, monitor, verbose, method)\u001b[0m\n",
      "\u001b[0;32m~/.miniconda3/envs/dcase2020/lib/python3.7/multiprocessing/pool.py\u001b[0m in \u001b[0;36mget\u001b[0;34m(self, timeout)\u001b[0m\n\u001b[1;32m    655\u001b[0m             \u001b[0;32mreturn\u001b[0m \u001b[0mself\u001b[0m\u001b[0;34m.\u001b[0m\u001b[0m_value\u001b[0m\u001b[0;34m\u001b[0m\u001b[0;34m\u001b[0m\u001b[0m\n\u001b[1;32m    656\u001b[0m         \u001b[0;32melse\u001b[0m\u001b[0;34m:\u001b[0m\u001b[0;34m\u001b[0m\u001b[0;34m\u001b[0m\u001b[0m\n\u001b[0;32m--> 657\u001b[0;31m             \u001b[0;32mraise\u001b[0m \u001b[0mself\u001b[0m\u001b[0;34m.\u001b[0m\u001b[0m_value\u001b[0m\u001b[0;34m\u001b[0m\u001b[0;34m\u001b[0m\u001b[0m\n\u001b[0m\u001b[1;32m    658\u001b[0m \u001b[0;34m\u001b[0m\u001b[0m\n\u001b[1;32m    659\u001b[0m     \u001b[0;32mdef\u001b[0m \u001b[0m_set\u001b[0m\u001b[0;34m(\u001b[0m\u001b[0mself\u001b[0m\u001b[0;34m,\u001b[0m \u001b[0mi\u001b[0m\u001b[0;34m,\u001b[0m \u001b[0mobj\u001b[0m\u001b[0;34m)\u001b[0m\u001b[0;34m:\u001b[0m\u001b[0;34m\u001b[0m\u001b[0;34m\u001b[0m\u001b[0m\n",
      "\u001b[0;31mIndexError\u001b[0m: list index out of range"
     ]
    }
   ],
   "source": [
    "# Perform the optimization ON TEST\n",
    "# Create the optimizer\n",
    "optimizer = DichotomicOptimizer(\n",
    "    {\n",
    "        \"high\": (0.01, 0.99),\n",
    "        \"low\": (0.01, 0.99),\n",
    "#         \"smooth\": \"smoothMovingAvg\",\n",
    "        \"window_len\": (3, 27)\n",
    "    },\n",
    "    \n",
    "    encoder = encoder,\n",
    "    step = 6,\n",
    "    nb_recurse = 8,\n",
    "    nb_process = 5\n",
    ")\n",
    "\n",
    "class_wise_results = class_wise_optimization(\n",
    "    optimizer,\n",
    "    class_list,\n",
    "    method=\"hysteresis\",\n",
    "    strong_y_true=strong_y_true,\n",
    "    strong_pred=pruned_strong_y_pred.numpy(),\n",
    "    filenames=y_filenames\n",
    ")"
   ]
  },
  {
   "cell_type": "code",
   "execution_count": 87,
   "metadata": {
    "ExecuteTime": {
     "end_time": "2019-06-06T05:49:07.672707Z",
     "start_time": "2019-06-06T05:49:07.615719Z"
    }
   },
   "outputs": [],
   "source": [
    "best_parameters = get_class_dependant_parameters(class_wise_results, class_list)"
   ]
  },
  {
   "cell_type": "code",
   "execution_count": 88,
   "metadata": {
    "ExecuteTime": {
     "end_time": "2019-06-06T05:49:28.567651Z",
     "start_time": "2019-06-06T05:49:09.882468Z"
    }
   },
   "outputs": [
    {
     "name": "stdout",
     "output_type": "stream",
     "text": [
      "Event based metrics (onset-offset)\n",
      "========================================\n",
      "  Evaluated length                  : 10161.15 sec\n",
      "  Evaluated files                   : 1168 \n",
      "  Evaluate onset                    : True \n",
      "  Evaluate offset                   : True \n",
      "  T collar                          : 200.00 ms\n",
      "  Offset (length)                   : 20.00 %\n",
      "\n",
      "  Overall metrics (micro-average)\n",
      "  ======================================\n",
      "  F-measure\n",
      "    F-measure (F1)                  : 36.63 %\n",
      "    Precision                       : 40.38 %\n",
      "    Recall                          : 33.52 %\n",
      "  Error rate\n",
      "    Error rate (ER)                 : 1.13 \n",
      "    Substitution rate               : 0.03 \n",
      "    Deletion rate                   : 0.64 \n",
      "    Insertion rate                  : 0.47 \n",
      "\n",
      "  Class-wise average metrics (macro-average)\n",
      "  ======================================\n",
      "  F-measure\n",
      "    F-measure (F1)                  : 37.88 %\n",
      "    Precision                       : 39.53 %\n",
      "    Recall                          : 36.98 %\n",
      "  Error rate\n",
      "    Error rate (ER)                 : 1.21 \n",
      "    Deletion rate                   : 0.63 \n",
      "    Insertion rate                  : 0.58 \n",
      "  \n",
      "\n",
      "  Class-wise metrics\n",
      "  ======================================\n",
      "    Event label  | Nref    Nsys  | F        Pre      Rec    | ER       Del      Ins    |\n",
      "    ------------ | -----   ----- | ------   ------   ------ | ------   ------   ------ |\n",
      "    Alarm_bell.. | 418     326   | 39.2%    44.8%    34.9%  | 1.08     0.65     0.43   |\n",
      "    Blender      | 96      115   | 35.1%    32.2%    38.5%  | 1.43     0.61     0.81   |\n",
      "    Cat          | 340     272   | 41.5%    46.7%    37.4%  | 1.05     0.63     0.43   |\n",
      "    Dishes       | 492     386   | 27.6%    31.3%    24.6%  | 1.29     0.75     0.54   |\n",
      "    Dog          | 577     387   | 18.7%    23.3%    15.6%  | 1.36     0.84     0.51   |\n",
      "    Electric_s.. | 65      68    | 43.6%    42.6%    44.6%  | 1.15     0.55     0.60   |\n",
      "    Frying       | 91      101   | 34.4%    32.7%    36.3%  | 1.38     0.64     0.75   |\n",
      "    Running_wa.. | 230     300   | 27.5%    24.3%    31.7%  | 1.67     0.68     0.99   |\n",
      "    Speech       | 1662    1328  | 43.1%    48.5%    38.7%  | 1.02     0.61     0.41   |\n",
      "    Vacuum_cle.. | 92      90    | 68.1%    68.9%    67.4%  | 0.63     0.33     0.30   |\n",
      "\n",
      "\n"
     ]
    }
   ],
   "source": [
    "# check test\n",
    "best_parameters = get_class_dependant_parameters(class_wise_results, class_list)\n",
    "\n",
    "segments = encoder.encode(\n",
    "    val_strong_pred,\n",
    "    method=\"hysteresis\",\n",
    "    **best_parameters\n",
    ")\n",
    "to_evaluate = encoder.parse(segments, val_filenames)\n",
    "evaluator = eb_evaluator(val_csv_y_true, to_evaluate)\n",
    "print(evaluator)"
   ]
  },
  {
   "cell_type": "markdown",
   "metadata": {},
   "source": [
    "# ♫♪.ılılıll|̲̅̅●̲̅̅|̲̅̅=̲̅̅|̲̅̅●̲̅̅|llılılı.♫♪"
   ]
  }
 ],
 "metadata": {
  "kernelspec": {
   "display_name": "dcase2020",
   "language": "python",
   "name": "dcase2020"
  },
  "language_info": {
   "codemirror_mode": {
    "name": "ipython",
    "version": 3
   },
   "file_extension": ".py",
   "mimetype": "text/x-python",
   "name": "python",
   "nbconvert_exporter": "python",
   "pygments_lexer": "ipython3",
   "version": "3.7.7"
  },
  "toc-autonumbering": true,
  "toc-showcode": false,
  "toc-showmarkdowntxt": false
 },
 "nbformat": 4,
 "nbformat_minor": 4
}
