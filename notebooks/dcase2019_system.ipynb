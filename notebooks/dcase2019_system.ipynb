{
 "cells": [
  {
   "cell_type": "code",
   "execution_count": 2,
   "metadata": {
    "pycharm": {
     "name": "#%% Import\n"
    }
   },
   "outputs": [],
   "source": [
    "%load_ext autoreload\n",
    "%autoreload 2"
   ]
  },
  {
   "cell_type": "code",
   "execution_count": 3,
   "metadata": {},
   "outputs": [],
   "source": [
    "import time\n",
    "import os\n",
    "from pathlib import Path\n",
    "import torch.nn as nn\n",
    "import torch.nn.functional as F\n",
    "import torch.utils.data\n",
    "from torch.utils.tensorboard import SummaryWriter\n",
    "\n",
    "import sys\n",
    "sys.path.append(\"..\")\n",
    "\n",
    "import numpy\n",
    "from tqdm import tqdm\n",
    "\n",
    "# dataset manager\n",
    "from dcase2020.datasetManager import DESEDManager\n",
    "from dcase2020.datasets import DESEDDataset\n",
    "\n",
    "# utility function & metrics & augmentation\n",
    "from metric_utils.metrics import FScore, BinaryAccuracy\n",
    "from dcase2020_task4.util.utils import get_datetime, reset_seed\n",
    "from dcase2020_task4.util.checkpoint import CheckPoint\n",
    "\n",
    "# models\n",
    "from dcase2020_task4.dcase2019.models import dcase2019_model"
   ]
  },
  {
   "cell_type": "code",
   "execution_count": 4,
   "metadata": {
    "collapsed": false,
    "jupyter": {
     "outputs_hidden": false
    },
    "pycharm": {
     "name": "#%%\n"
    }
   },
   "outputs": [],
   "source": [
    "# ==== set the log ====\n",
    "import logging\n",
    "import logging.config\n",
    "from dcase2020.util.log import DEFAULT_LOGGING\n",
    "logging.config.dictConfig(DEFAULT_LOGGING)\n",
    "log = logging.getLogger(__name__)"
   ]
  },
  {
   "cell_type": "code",
   "execution_count": 5,
   "metadata": {
    "collapsed": false,
    "jupyter": {
     "outputs_hidden": false
    },
    "pycharm": {
     "name": "#%%\n"
    }
   },
   "outputs": [],
   "source": [
    "# ==== reset the seed for reproductability ====\n",
    "reset_seed(1234)"
   ]
  },
  {
   "cell_type": "markdown",
   "metadata": {},
   "source": [
    "# Prepare the data"
   ]
  },
  {
   "cell_type": "code",
   "execution_count": 27,
   "metadata": {
    "collapsed": false,
    "jupyter": {
     "outputs_hidden": false
    },
    "pycharm": {
     "name": "#%%\n"
    }
   },
   "outputs": [
    {
     "name": "stdout",
     "output_type": "stream",
     "text": [
      "\u001b[1;34mDEBUG --- datasetManager.__init__ >>> ../dataset/DESED/dataset/audio/dcase2020_dataset_22050.hdf5\u001b[0m\n",
      "\u001b[1;37mINFO --- datasetManager._load_metadata >>> Reading metadata: ../dataset/DESED/dataset/metadata/train/weak.tsv\u001b[0m\n",
      "\u001b[1;37mINFO --- datasetManager._load_metadata >>> Reading metadata: ../dataset/DESED/dataset/metadata/train/unlabel_in_domain.tsv\u001b[0m\n",
      "\u001b[1;37mINFO --- datasetManager._load_metadata >>> Reading metadata: ../dataset/DESED/dataset/metadata/train/synthetic20.tsv\u001b[0m\n"
     ]
    }
   ],
   "source": [
    "# ==== load the dataset ====\n",
    "desed_metadata_root = \"../dataset/DESED/dataset/metadata\"\n",
    "desed_audio_root = \"../dataset/DESED/dataset/audio\"\n",
    "# desed_metadata_root = os.path.join(\"e:/\", \"Corpus\", \"dcase2020\", \"DESED\", \"dataset\", \"metadata\")\n",
    "# desed_audio_root = os.path.join(\"e:/\", \"Corpus\", \"dcase2020\", \"DESED\", \"dataset\", \"audio\")\n",
    "\n",
    "manager = DESEDManager(\n",
    "    desed_metadata_root, desed_audio_root,\n",
    "    sampling_rate = 22050,\n",
    "    from_disk=False,\n",
    "    nb_vector_bin=431, # there is no temporal reduction in this model\n",
    "    verbose = 1\n",
    ")"
   ]
  },
  {
   "cell_type": "markdown",
   "metadata": {},
   "source": [
    "## Add weak ans synthetic20 subset"
   ]
  },
  {
   "cell_type": "code",
   "execution_count": 28,
   "metadata": {
    "collapsed": false,
    "jupyter": {
     "outputs_hidden": false
    },
    "pycharm": {
     "name": "#%%\n"
    }
   },
   "outputs": [
    {
     "name": "stdout",
     "output_type": "stream",
     "text": [
      "\u001b[1;37mINFO --- datasetManager._add_train_metadata >>> Loading metadata for: weak\u001b[0m\n",
      "\u001b[1;37mINFO --- datasetManager._add_train_subset >>> Loading dataset: train, subset: weak\u001b[0m\n",
      "\u001b[1;34mDEBUG --- datasetManager._hdf_to_dict >>> hdf_file: <HDF5 file \"dcase2020_dataset_22050.hdf5\" (mode r)>\u001b[0m\n",
      "\u001b[1;34mDEBUG --- datasetManager._hdf_to_dict >>> path: DESED/dataset/audio/train/weak\u001b[0m\n",
      "\u001b[1;37mINFO --- datasetManager._add_train_metadata >>> Loading metadata for: synthetic20\u001b[0m\n"
     ]
    },
    {
     "name": "stderr",
     "output_type": "stream",
     "text": [
      "100%|██████████| 7582/7582 [00:14<00:00, 511.38it/s]"
     ]
    },
    {
     "name": "stdout",
     "output_type": "stream",
     "text": [
      "\u001b[1;37mINFO --- datasetManager._add_train_subset >>> Loading dataset: train, subset: synthetic20\u001b[0m\n",
      "\u001b[1;34mDEBUG --- datasetManager._hdf_to_dict >>> hdf_file: <HDF5 file \"dcase2020_dataset_22050.hdf5\" (mode r)>\u001b[0m\n"
     ]
    },
    {
     "name": "stderr",
     "output_type": "stream",
     "text": [
      "\n"
     ]
    },
    {
     "name": "stdout",
     "output_type": "stream",
     "text": [
      "\u001b[1;34mDEBUG --- datasetManager._hdf_to_dict >>> path: DESED/dataset/audio/train/synthetic20\u001b[0m\n"
     ]
    },
    {
     "name": "stderr",
     "output_type": "stream",
     "text": [
      "100%|██████████| 4251/4251 [00:09<00:00, 472.10it/s]"
     ]
    },
    {
     "name": "stdout",
     "output_type": "stream",
     "text": [
      "\u001b[1;37mINFO --- datasetManager._add_val_subset >>> Loading dataset: validation\u001b[0m\n",
      "\u001b[1;34mDEBUG --- datasetManager._hdf_to_dict >>> hdf_file: <HDF5 file \"dcase2020_dataset_22050.hdf5\" (mode r)>\u001b[0m\n"
     ]
    },
    {
     "name": "stderr",
     "output_type": "stream",
     "text": [
      "\n"
     ]
    },
    {
     "name": "stdout",
     "output_type": "stream",
     "text": [
      "\u001b[1;34mDEBUG --- datasetManager._hdf_to_dict >>> path: DESED/dataset/audio/validation\u001b[0m\n"
     ]
    }
   ],
   "source": [
    "manager.add_subset(\"weak\")\n",
    "manager.add_subset(\"synthetic20\")\n",
    "manager.add_subset(\"validation\")"
   ]
  },
  {
   "cell_type": "markdown",
   "metadata": {},
   "source": [
    "# Prepare training"
   ]
  },
  {
   "cell_type": "markdown",
   "metadata": {},
   "source": [
    "## Prep dataset\n",
    "\n",
    "- We want both the weak and strong ground truth --> the *weak* and *strong* parameters to True"
   ]
  },
  {
   "cell_type": "code",
   "execution_count": 29,
   "metadata": {},
   "outputs": [],
   "source": [
    "augments = [\n",
    "    # signal_augmentation.Noise(0.5, target_snr=15),\n",
    "    # signal_augmentation.RandomTimeDropout(0.5, dropout=0.2)\n",
    "]\n",
    "\n",
    "train_dataset = DESEDDataset(manager, train=True, val=False, weak=True, strong=True, augments=augments, cached=True)\n",
    "val_dataset = DESEDDataset(manager, train=False, val=True, weak=True, strong=True, augments=[], cached=True)"
   ]
  },
  {
   "cell_type": "code",
   "execution_count": 30,
   "metadata": {
    "scrolled": true
   },
   "outputs": [
    {
     "data": {
      "text/plain": [
       "(4049, 1058)"
      ]
     },
     "execution_count": 30,
     "metadata": {},
     "output_type": "execute_result"
    }
   ],
   "source": [
    "len(train_dataset.filenames), len(val_dataset.filenames)"
   ]
  },
  {
   "cell_type": "markdown",
   "metadata": {},
   "source": [
    "## model\n",
    "\n",
    "This model is the same than the weak baseline but have an extra output. <br />\n",
    "the loc_output is compose of a single convolution layer with nb_filters == nb_class. <br />\n",
    "Since their is some pooling layer, the *loc_ouput* have a precision of 53 bins (~= 18 ms)"
   ]
  },
  {
   "cell_type": "code",
   "execution_count": 31,
   "metadata": {
    "collapsed": false,
    "jupyter": {
     "outputs_hidden": false
    },
    "pycharm": {
     "name": "#%% Setup model and training parameters\n"
    },
    "scrolled": true
   },
   "outputs": [
    {
     "data": {
      "text/plain": [
       "dcase2019_model(\n",
       "  (features): Sequential(\n",
       "    (0): ConvBNReLUPool(\n",
       "      (0): Conv2d(1, 64, kernel_size=(3, 3), stride=(1, 1), padding=(1, 1))\n",
       "      (1): BatchNorm2d(64, eps=1e-05, momentum=0.1, affine=True, track_running_stats=True)\n",
       "      (2): Dropout2d(p=0.0, inplace=False)\n",
       "      (3): ReLU6(inplace=True)\n",
       "      (4): MaxPool2d(kernel_size=(4, 1), stride=(4, 1), padding=0, dilation=1, ceil_mode=False)\n",
       "    )\n",
       "    (1): ConvBNReLUPool(\n",
       "      (0): Conv2d(64, 64, kernel_size=(3, 3), stride=(1, 1), padding=(1, 1))\n",
       "      (1): BatchNorm2d(64, eps=1e-05, momentum=0.1, affine=True, track_running_stats=True)\n",
       "      (2): Dropout2d(p=0.0, inplace=False)\n",
       "      (3): ReLU6(inplace=True)\n",
       "      (4): MaxPool2d(kernel_size=(4, 1), stride=(4, 1), padding=0, dilation=1, ceil_mode=False)\n",
       "    )\n",
       "    (2): ConvBNReLUPool(\n",
       "      (0): Conv2d(64, 64, kernel_size=(3, 3), stride=(1, 1), padding=(1, 1))\n",
       "      (1): BatchNorm2d(64, eps=1e-05, momentum=0.1, affine=True, track_running_stats=True)\n",
       "      (2): Dropout2d(p=0.0, inplace=False)\n",
       "      (3): ReLU6(inplace=True)\n",
       "      (4): MaxPool2d(kernel_size=(4, 1), stride=(4, 1), padding=0, dilation=1, ceil_mode=False)\n",
       "    )\n",
       "  )\n",
       "  (bi_gru): GRU(64, 64, batch_first=True, bidirectional=True)\n",
       "  (strong_classifier): Sequential(\n",
       "    (0): Linear(in_features=128, out_features=64, bias=True)\n",
       "    (1): ReLU(inplace=True)\n",
       "    (2): Linear(in_features=64, out_features=10, bias=True)\n",
       "  )\n",
       "  (g_avg_pool): AdaptiveAvgPool1d(output_size=1)\n",
       "  (g_max_pool): AdaptiveMaxPool1d(output_size=1)\n",
       "  (weak_classifier): Sequential(\n",
       "    (0): Linear(in_features=20, out_features=1024, bias=True)\n",
       "    (1): ReLU(inplace=True)\n",
       "    (2): Linear(in_features=1024, out_features=10, bias=True)\n",
       "  )\n",
       ")"
      ]
     },
     "execution_count": 31,
     "metadata": {},
     "output_type": "execute_result"
    }
   ],
   "source": [
    "torch.cuda.empty_cache() \n",
    "model = dcase2019_model()\n",
    "model.cuda()"
   ]
  },
  {
   "cell_type": "code",
   "execution_count": 32,
   "metadata": {},
   "outputs": [
    {
     "name": "stdout",
     "output_type": "stream",
     "text": [
      "=====================================================================================\n",
      "                                 Kernel Shape      Output Shape   Params  \\\n",
      "Layer                                                                      \n",
      "0_features.0.Conv2d_0           [1, 64, 3, 3]  [2, 64, 64, 431]    640.0   \n",
      "1_features.0.BatchNorm2d_1               [64]  [2, 64, 64, 431]    128.0   \n",
      "2_features.0.Dropout2d_2                    -  [2, 64, 64, 431]        -   \n",
      "3_features.0.ReLU6_3                        -  [2, 64, 64, 431]        -   \n",
      "4_features.0.MaxPool2d_4                    -  [2, 64, 16, 431]        -   \n",
      "5_features.1.Conv2d_0          [64, 64, 3, 3]  [2, 64, 16, 431]  36.928k   \n",
      "6_features.1.BatchNorm2d_1               [64]  [2, 64, 16, 431]    128.0   \n",
      "7_features.1.Dropout2d_2                    -  [2, 64, 16, 431]        -   \n",
      "8_features.1.ReLU6_3                        -  [2, 64, 16, 431]        -   \n",
      "9_features.1.MaxPool2d_4                    -   [2, 64, 4, 431]        -   \n",
      "10_features.2.Conv2d_0         [64, 64, 3, 3]   [2, 64, 4, 431]  36.928k   \n",
      "11_features.2.BatchNorm2d_1              [64]   [2, 64, 4, 431]    128.0   \n",
      "12_features.2.Dropout2d_2                   -   [2, 64, 4, 431]        -   \n",
      "13_features.2.ReLU6_3                       -   [2, 64, 4, 431]        -   \n",
      "14_features.2.MaxPool2d_4                   -   [2, 64, 1, 431]        -   \n",
      "15_bi_gru                                   -     [2, 431, 128]   49.92k   \n",
      "16_strong_classifier.Linear_0       [128, 64]      [2, 431, 64]   8.256k   \n",
      "17_strong_classifier.ReLU_1                 -      [2, 431, 64]        -   \n",
      "18_strong_classifier.Linear_2        [64, 10]      [2, 431, 10]    650.0   \n",
      "19_g_avg_pool                               -        [2, 10, 1]        -   \n",
      "20_g_max_pool                               -        [2, 10, 1]        -   \n",
      "21_weak_classifier.Linear_0        [20, 1024]         [2, 1024]  21.504k   \n",
      "22_weak_classifier.ReLU_1                   -         [2, 1024]        -   \n",
      "23_weak_classifier.Linear_2        [1024, 10]           [2, 10]   10.25k   \n",
      "\n",
      "                                 Mult-Adds  \n",
      "Layer                                       \n",
      "0_features.0.Conv2d_0           15.888384M  \n",
      "1_features.0.BatchNorm2d_1            64.0  \n",
      "2_features.0.Dropout2d_2                 -  \n",
      "3_features.0.ReLU6_3                     -  \n",
      "4_features.0.MaxPool2d_4                 -  \n",
      "5_features.1.Conv2d_0          254.214144M  \n",
      "6_features.1.BatchNorm2d_1            64.0  \n",
      "7_features.1.Dropout2d_2                 -  \n",
      "8_features.1.ReLU6_3                     -  \n",
      "9_features.1.MaxPool2d_4                 -  \n",
      "10_features.2.Conv2d_0          63.553536M  \n",
      "11_features.2.BatchNorm2d_1           64.0  \n",
      "12_features.2.Dropout2d_2                -  \n",
      "13_features.2.ReLU6_3                    -  \n",
      "14_features.2.MaxPool2d_4                -  \n",
      "15_bi_gru                          49.152k  \n",
      "16_strong_classifier.Linear_0       8.192k  \n",
      "17_strong_classifier.ReLU_1              -  \n",
      "18_strong_classifier.Linear_2        640.0  \n",
      "19_g_avg_pool                            -  \n",
      "20_g_max_pool                            -  \n",
      "21_weak_classifier.Linear_0         20.48k  \n",
      "22_weak_classifier.ReLU_1                -  \n",
      "23_weak_classifier.Linear_2         10.24k  \n",
      "-------------------------------------------------------------------------------------\n",
      "                          Totals\n",
      "Total params             165.46k\n",
      "Trainable params         165.46k\n",
      "Non-trainable params         0.0\n",
      "Mult-Adds             333.74496M\n",
      "=====================================================================================\n"
     ]
    }
   ],
   "source": [
    "from torchsummaryX import summary\n",
    "input_tensor = torch.zeros((2, 64, 431), dtype=torch.float)\n",
    "input_tensor = input_tensor.cuda()\n",
    "\n",
    "s = summary(model, input_tensor)\n"
   ]
  },
  {
   "cell_type": "markdown",
   "metadata": {},
   "source": [
    "## Create a custom loss function\n",
    "\n",
    "Since not all file have strong truth, it is necessary to remove those files. <br />\n",
    "For that, the strong mask is computed. If the sum of the strong ground truth is equal to 0 then it is a fake one <br />\n",
    "This file strong loss must not be taken into account."
   ]
  },
  {
   "cell_type": "code",
   "execution_count": 33,
   "metadata": {},
   "outputs": [],
   "source": [
    "def weak_synth_loss(logits_weak, logits_strong, y_weak, y_strong, reduce: str = \"mean\"):\n",
    "    assert reduce in [\"mean\", \"sum\"], \"support only \\\"mean\\\" and \\\"sum\\\"\"\n",
    "    \n",
    "    #  Reduction function\n",
    "    if reduce == \"mean\":\n",
    "        reduce_fn = torch.mean\n",
    "    elif reduce == \"sum\":\n",
    "        reduce_fn = torch.sum\n",
    "    \n",
    "    # based on Binary Cross Entropy loss\n",
    "    weak_criterion = nn.BCEWithLogitsLoss(reduction=\"none\")\n",
    "    strong_criterion = nn.BCEWithLogitsLoss(reduction=\"none\")\n",
    "    \n",
    "    # calc separate loss function\n",
    "    weak_bce = weak_criterion(logits_weak, y_weak)\n",
    "    strong_bce = strong_criterion(logits_strong, y_strong)\n",
    "    \n",
    "    weak_bce = reduce_fn(weak_bce, dim=1)\n",
    "    strong_bce = reduce_fn(strong_bce, dim=(1, 2))\n",
    "    \n",
    "    # calc strong mask\n",
    "    strong_mask = torch.clamp(torch.sum(y_strong, dim=(1, 2)), 0, 1) # vector of 0 or 1\n",
    "#     strong_mask = strong_mask.detach() # declared not to need gradients\n",
    "    \n",
    "    # Output the different loss for logging purpose\n",
    "    weak_loss = reduce_fn(weak_bce)\n",
    "    strong_loss = reduce_fn(strong_mask * strong_bce)\n",
    "    total_loss = reduce_fn(weak_bce + strong_mask * strong_bce)\n",
    "    \n",
    "    return weak_loss, strong_loss, total_loss"
   ]
  },
  {
   "cell_type": "markdown",
   "metadata": {},
   "source": [
    "## Training parameters (crit & callbacks & loaders & metrics)m"
   ]
  },
  {
   "cell_type": "code",
   "execution_count": 34,
   "metadata": {
    "collapsed": false,
    "jupyter": {
     "outputs_hidden": false
    },
    "pycharm": {
     "name": "#%% Setup model and training parameters\n"
    }
   },
   "outputs": [],
   "source": [
    "# training parameters\n",
    "nb_epochs = 100\n",
    "batch_size = 32\n",
    "nb_batch = len(train_dataset) // batch_size\n",
    "\n",
    "optimizer = torch.optim.Adam(model.parameters(), lr=0.003)\n",
    "\n",
    "# callbacks\n",
    "checkpoint = CheckPoint(model, optimizer, mode=\"max\", name=\"../models/best_dcase2019.torch\")\n",
    "callbacks = []\n",
    "\n",
    "# tensorboard\n",
    "title = \"WeakBaseline_%s\" % (get_datetime())\n",
    "tensorboard = SummaryWriter(log_dir=Path(\"../tensorboard/%s\" % title), comment=\"weak baseline\")\n",
    "\n",
    "# loaders\n",
    "training_loader = torch.utils.data.DataLoader(train_dataset, batch_size=batch_size, shuffle=True)\n",
    "val_loader = torch.utils.data.DataLoader(val_dataset, batch_size=batch_size, shuffle=False)\n",
    "\n",
    "# Metrics\n",
    "weak_binacc_func = BinaryAccuracy()\n",
    "strong_binacc_func = BinaryAccuracy()\n",
    "weak_f_func = FScore()\n",
    "strong_f_func = FScore()\n",
    "metrics = [weak_binacc_func, strong_binacc_func, weak_f_func, strong_f_func]"
   ]
  },
  {
   "cell_type": "code",
   "execution_count": 35,
   "metadata": {},
   "outputs": [],
   "source": [
    "def reset_all_metrics(metrics):\n",
    "    for m in metrics:\n",
    "        m.reset()"
   ]
  },
  {
   "cell_type": "markdown",
   "metadata": {},
   "source": [
    "## Training functions"
   ]
  },
  {
   "cell_type": "code",
   "execution_count": 36,
   "metadata": {},
   "outputs": [
    {
     "name": "stdout",
     "output_type": "stream",
     "text": [
      "         Epoch  - %      - Losses:  Weak  | Strong  | Total  - metrics:  Weak acc  | Strong acc  | Weak F1  | Strong F1  - Time  \n"
     ]
    }
   ],
   "source": [
    "UNDERLINE_SEQ = \"\\033[1;4m\"\n",
    "RESET_SEQ = \"\\033[0m\"\n",
    "\n",
    "header_form = \"{:<8.8} {:<6.6} - {:<6.6} - {:<8.8} {:<6.6}| {:<8.8}| {:<6.6} - {:<9.9} {:<10.10}| {:<12.12}| {:<9.9}| {:<11.11}- {:<6.6}\"\n",
    "\n",
    "value_form  = \"{:<8.8} {:<6} - {:<6} - {:<8.8} {:<6.4f}| {:<8.4f}| {:<6.4f} - {:<9.9} {:<10.4f}| {:<12.4f}| {:<9.4f}| {:<11.4f}- {:<6.4f}\"\n",
    "\n",
    "train_form = value_form\n",
    "val_form = UNDERLINE_SEQ + value_form + RESET_SEQ\n",
    "\n",
    "header = header_form.format(\n",
    "    \"\", \"Epoch\", \"%\", \"Losses:\", \"Weak \", \"Strong \", \"Total \", \"metrics: \", \"Weak acc \", \"Strong acc \", \"Weak F1 \", \"Strong F1\", \"Time\"\n",
    ")\n",
    "\n",
    "print(header)"
   ]
  },
  {
   "cell_type": "code",
   "execution_count": 37,
   "metadata": {
    "collapsed": false,
    "jupyter": {
     "outputs_hidden": false
    },
    "pycharm": {
     "name": "#%% training function\n"
    }
   },
   "outputs": [],
   "source": [
    "def train(epoch: int):\n",
    "    start_time = time.time()\n",
    "    \n",
    "    reset_all_metrics(metrics)\n",
    "    \n",
    "    model.train()\n",
    "    print(\"\") # <-- Force new line\n",
    "    \n",
    "    for i, (X, y) in enumerate(training_loader):\n",
    "        # The DESEDDataset return a list of ground truth depending on the selecting option.\n",
    "        # If weak and strong ground truth are selected, the list order is [WEAK, STRONG]\n",
    "        # here there is only one [WEAK]\n",
    "        X = X.cuda().float()\n",
    "        y_weak = y[0].cuda().float()\n",
    "        y_strong = y[1].cuda().float()\n",
    "        \n",
    "        weak_logits, strong_logits = model(X)\n",
    "        \n",
    "        # calc the loss\n",
    "        weak_loss, strong_loss, total_loss = weak_synth_loss(\n",
    "            weak_logits, strong_logits,\n",
    "            y_weak, y_strong,\n",
    "            reduce=\"mean\"\n",
    "        )\n",
    "        \n",
    "        # back propagation\n",
    "        optimizer.zero_grad()\n",
    "        total_loss.backward()\n",
    "        optimizer.step()\n",
    "        \n",
    "        with torch.set_grad_enabled(False):\n",
    "            # calc metrics\n",
    "            weak_pred = torch.sigmoid(weak_logits)\n",
    "            strong_pred = torch.sigmoid(strong_logits)\n",
    "\n",
    "            # tagging\n",
    "            weak_binacc = weak_binacc_func(weak_pred, y_weak)\n",
    "            weak_fscore = weak_f_func(weak_pred, y_weak)\n",
    "\n",
    "            # loc\n",
    "            strong_binacc = strong_binacc_func(strong_pred, y_strong)\n",
    "            strong_fscore = strong_f_func(strong_pred, y_strong)\n",
    "        \n",
    "            # logs\n",
    "            print(train_form.format(\n",
    "                \"Training: \",\n",
    "                epoch + 1,\n",
    "                int(100 * (i + 1) / len(training_loader)),\n",
    "                \"\", weak_loss.item(), strong_loss.item(), total_loss.item(),\n",
    "                \"\", weak_binacc, strong_binacc, weak_fscore, strong_fscore,\n",
    "                time.time() - start_time\n",
    "            ), end=\"\\r\")\n",
    "\n",
    "        # tensorboard logs\n",
    "        tensorboard.add_scalar(\"train/weak_loss\", weak_loss.item(), epoch)\n",
    "        tensorboard.add_scalar(\"train/strong_loss\", strong_loss.item(), epoch)\n",
    "        tensorboard.add_scalar(\"train/total_loss\", total_loss.item(), epoch)\n",
    "\n",
    "        tensorboard.add_scalar(\"train/weak_acc\", weak_binacc, epoch)\n",
    "        tensorboard.add_scalar(\"train/strong_acc\", strong_binacc, epoch)\n",
    "        tensorboard.add_scalar(\"train/weak_f1\", weak_fscore, epoch)\n",
    "        tensorboard.add_scalar(\"train/strong_f1\", strong_fscore, epoch)"
   ]
  },
  {
   "cell_type": "code",
   "execution_count": 38,
   "metadata": {
    "collapsed": false,
    "jupyter": {
     "outputs_hidden": false
    },
    "pycharm": {
     "name": "#%% validation function\n"
    }
   },
   "outputs": [],
   "source": [
    "def val(epoch):\n",
    "    start_time = time.time()\n",
    "\n",
    "        \n",
    "    reset_all_metrics(metrics)\n",
    "    \n",
    "    model.eval()\n",
    "    print(\"\") # <-- Force new line\n",
    "    \n",
    "    with torch.set_grad_enabled(False):\n",
    "        for i, (X, y) in enumerate(val_loader):\n",
    "            X = X.cuda().float()\n",
    "            y_weak = y[0].cuda().float()\n",
    "            y_strong = y[1].cuda().float()\n",
    "\n",
    "            weak_logits, strong_logits = model(X)\n",
    "\n",
    "            # calc the loss\n",
    "            weak_loss, strong_loss, total_loss = weak_synth_loss(\n",
    "                weak_logits, strong_logits,\n",
    "                y_weak, y_strong,\n",
    "                reduce=\"mean\"\n",
    "            )\n",
    "            \n",
    "             # calc metrics\n",
    "            weak_pred = torch.sigmoid(weak_logits)\n",
    "            strong_pred = torch.sigmoid(strong_logits)\n",
    "\n",
    "            # tagging\n",
    "            weak_binacc = weak_binacc_func(weak_pred, y_weak)\n",
    "            weak_fscore = weak_f_func(weak_pred, y_weak)\n",
    "\n",
    "            # loc\n",
    "            strong_binacc = strong_binacc_func(strong_pred, y_strong)\n",
    "            strong_fscore = strong_f_func(strong_pred, y_strong)\n",
    "\n",
    "            # logs\n",
    "            print(val_form.format(\n",
    "                \"Validation: \",\n",
    "                epoch + 1,\n",
    "                int(100 * (i + 1) / len(val_loader)),\n",
    "                \"\", weak_loss.item(), strong_loss.item(), total_loss.item(),\n",
    "                \"\", weak_binacc, strong_binacc, weak_fscore, strong_fscore,\n",
    "                time.time() - start_time\n",
    "            ), end=\"\\r\")\n",
    "            \n",
    "        # The interesting metric here is the weak F1\n",
    "        checkpoint.step(weak_fscore)\n",
    "\n",
    "        # tensorboard logs\n",
    "        tensorboard.add_scalar(\"val/weak_loss\", weak_loss.item(), epoch)\n",
    "        tensorboard.add_scalar(\"val/strong_loss\", strong_loss.item(), epoch)\n",
    "        tensorboard.add_scalar(\"val/total_loss\", total_loss.item(), epoch)\n",
    "\n",
    "        tensorboard.add_scalar(\"val/weak_acc\", weak_binacc, epoch)\n",
    "        tensorboard.add_scalar(\"val/strong_acc\", strong_binacc, epoch)\n",
    "        tensorboard.add_scalar(\"val/weak_f1\", weak_fscore, epoch)\n",
    "        tensorboard.add_scalar(\"val/strong_f1\", strong_fscore, epoch)"
   ]
  },
  {
   "cell_type": "markdown",
   "metadata": {},
   "source": [
    "# Train"
   ]
  },
  {
   "cell_type": "code",
   "execution_count": 39,
   "metadata": {
    "collapsed": false,
    "jupyter": {
     "outputs_hidden": false
    },
    "pycharm": {
     "name": "#%%\n"
    },
    "scrolled": true
   },
   "outputs": [
    {
     "name": "stdout",
     "output_type": "stream",
     "text": [
      "         Epoch  - %      - Losses:  Weak  | Strong  | Total  - metrics:  Weak acc  | Strong acc  | Weak F1  | Strong F1  - Time  \n",
      "\n",
      "Training 1      - 100    -          0.4081| 0.0867  | 0.4948 -           0.8346    | 0.9534      | 0.2873   | 0.0355     - 61.4461\n",
      "\n",
      "\u001b[1;37mINFO --- checkpoint.step >>> Best performance reached: saving the model\u001b[0m\n",
      "\u001b[1;4mValidati 1      - 5      -          0.3564| 0.2991  | 0.6554 -           0.8453    | 0.8937      | 0.3079   | 0.1499     - 0.0881\u001b[0m\n",
      "\u001b[1;37mINFO --- checkpoint.step >>> Best performance reached: saving the model\u001b[0m\n",
      "\u001b[1;4mValidati 1      - 8      -          0.3381| 0.2767  | 0.6148 -           0.8542    | 0.8994      | 0.3611   | 0.2018     - 0.1313\u001b[0m\n",
      "\u001b[1;37mINFO --- checkpoint.step >>> Best performance reached: saving the model\u001b[0m\n",
      "\u001b[1;4mValidati 1      - 11     -          0.3938| 0.2988  | 0.6926 -           0.8539    | 0.9044      | 0.3682   | 0.2444     - 0.1721\u001b[0m\n",
      "\u001b[1;37mINFO --- checkpoint.step >>> Best performance reached: saving the model\u001b[0m\n",
      "\u001b[1;4mValidati 1      - 14     -          0.3505| 0.2999  | 0.6504 -           0.8562    | 0.9059      | 0.3829   | 0.2635     - 0.2109\u001b[0m\n",
      "\u001b[1;37mINFO --- checkpoint.step >>> Best performance reached: saving the model\u001b[0m\n",
      "\u001b[1;4mValidati 1      - 17     -          0.3367| 0.2814  | 0.6181 -           0.8594    | 0.9084      | 0.3877   | 0.2724     - 0.2519\u001b[0m\n",
      "\u001b[1;37mINFO --- checkpoint.step >>> Best performance reached: saving the model\u001b[0m\n",
      "\u001b[1;4mValidati 1      - 20     -          0.3434| 0.2906  | 0.6340 -           0.8607    | 0.9078      | 0.3983   | 0.2734     - 0.2921\u001b[0m\n",
      "\u001b[1;37mINFO --- checkpoint.step >>> Best performance reached: saving the model\u001b[0m\n",
      "\u001b[1;4mValidati 1      - 26     -          0.3190| 0.2882  | 0.6072 -           0.8608    | 0.9090      | 0.4004   | 0.2806     - 0.3554\u001b[0m\n",
      "\u001b[1;37mINFO --- checkpoint.step >>> Best performance reached: saving the model\u001b[0m\n",
      "\u001b[1;4mValidati 1      - 38     -          0.3768| 0.3099  | 0.6867 -           0.8627    | 0.9106      | 0.4057   | 0.2793     - 0.4834\u001b[0m\n",
      "\u001b[1;37mINFO --- checkpoint.step >>> Best performance reached: saving the model\u001b[0m\n",
      "\u001b[1;4mValidati 1      - 41     -          0.3224| 0.3065  | 0.6290 -           0.8636    | 0.9099      | 0.4124   | 0.2817     - 0.5221\u001b[0m\n",
      "\u001b[1;37mINFO --- checkpoint.step >>> Best performance reached: saving the model\u001b[0m\n",
      "\u001b[1;4mValidati 1      - 44     -          0.3627| 0.3080  | 0.6707 -           0.8638    | 0.9096      | 0.4134   | 0.2785     - 0.5608\u001b[0m\n",
      "\u001b[1;37mINFO --- checkpoint.step >>> Best performance reached: saving the model\u001b[0m\n",
      "\u001b[1;4mValidati 1      - 47     -          0.3616| 0.2920  | 0.6535 -           0.8641    | 0.9095      | 0.4155   | 0.2770     - 0.5985\u001b[0m\n",
      "\u001b[1;37mINFO --- checkpoint.step >>> Best performance reached: saving the model\u001b[0m\n",
      "\u001b[1;4mValidati 1      - 50     -          0.3621| 0.2762  | 0.6383 -           0.8638    | 0.9105      | 0.4164   | 0.2852     - 0.6362\u001b[0m\n",
      "\u001b[1;37mINFO --- checkpoint.step >>> Best performance reached: saving the model\u001b[0m\n",
      "\u001b[1;4mValidati 1      - 100    -          0.2607| 0.2146  | 0.4753 -           0.8614    | 0.9096      | 0.4079   | 0.2565     - 1.0434\u001b[0m\n",
      "Training 2      - 100    -          0.3436| 0.0856  | 0.4292 -           0.8571    | 0.9627      | 0.4012   | 0.1909     - 7.3380\n",
      "\n",
      "\u001b[1;37mINFO --- checkpoint.step >>> Best performance reached: saving the model\u001b[0m\n",
      "\u001b[1;4mValidati 2      - 2      -          0.3533| 0.2489  | 0.6022 -           0.8781    | 0.9190      | 0.4348   | 0.2144     - 0.0365\u001b[0m\n",
      "\u001b[1;37mINFO --- checkpoint.step >>> Best performance reached: saving the model\u001b[0m\n",
      "\u001b[1;4mValidati 2      - 11     -          0.3803| 0.2232  | 0.6035 -           0.8742    | 0.9298      | 0.4355   | 0.2919     - 0.1184\u001b[0m\n",
      "\u001b[1;37mINFO --- checkpoint.step >>> Best performance reached: saving the model\u001b[0m\n",
      "\u001b[1;4mValidati 2      - 14     -          0.3360| 0.2292  | 0.5652 -           0.8769    | 0.9300      | 0.4511   | 0.3114     - 0.1552\u001b[0m\n",
      "\u001b[1;37mINFO --- checkpoint.step >>> Best performance reached: saving the model\u001b[0m\n",
      "\u001b[1;4mValidati 2      - 17     -          0.3306| 0.2217  | 0.5523 -           0.8792    | 0.9306      | 0.4528   | 0.3199     - 0.1912\u001b[0m\n",
      "\u001b[1;37mINFO --- checkpoint.step >>> Best performance reached: saving the model\u001b[0m\n",
      "\u001b[1;4mValidati 2      - 20     -          0.3251| 0.2192  | 0.5442 -           0.8804    | 0.9304      | 0.4596   | 0.3050     - 0.2265\u001b[0m\n",
      "\u001b[1;37mINFO --- checkpoint.step >>> Best performance reached: saving the model\u001b[0m\n",
      "\u001b[1;4mValidati 2      - 26     -          0.3231| 0.2031  | 0.5262 -           0.8806    | 0.9314      | 0.4650   | 0.3191     - 0.2836\u001b[0m\n",
      "\u001b[1;37mINFO --- checkpoint.step >>> Best performance reached: saving the model\u001b[0m\n",
      "\u001b[1;4mValidati 2      - 50     -          0.3490| 0.2116  | 0.5606 -           0.8807    | 0.9326      | 0.4688   | 0.3224     - 0.4738\u001b[0m\n",
      "\u001b[1;37mINFO --- checkpoint.step >>> Best performance reached: saving the model\u001b[0m\n",
      "\u001b[1;4mValidati 2      - 52     -          0.3155| 0.2376  | 0.5531 -           0.8807    | 0.9318      | 0.4720   | 0.3201     - 0.5097\u001b[0m\n",
      "\u001b[1;37mINFO --- checkpoint.step >>> Best performance reached: saving the model\u001b[0m\n",
      "\u001b[1;4mValidati 2      - 67     -          0.3192| 0.2311  | 0.5502 -           0.8803    | 0.9302      | 0.4732   | 0.3207     - 0.6338\u001b[0m\n",
      "\u001b[1;37mINFO --- checkpoint.step >>> Best performance reached: saving the model\u001b[0m\n",
      "\u001b[1;4mValidati 2      - 76     -          0.3667| 0.2296  | 0.5963 -           0.8804    | 0.9302      | 0.4756   | 0.3232     - 0.7158\u001b[0m\n",
      "\u001b[1;37mINFO --- checkpoint.step >>> Best performance reached: saving the model\u001b[0m\n",
      "\u001b[1;4mValidati 2      - 100    -          0.3106| 0.2206  | 0.5312 -           0.8782    | 0.9298      | 0.4679   | 0.2928     - 0.8981\u001b[0m\n",
      "Training 3      - 100    -          0.3358| 0.0794  | 0.4151 -           0.8736    | 0.9612      | 0.4914   | 0.2991     - 7.2271\n",
      "\u001b[1;4mValidati 3      - 14     -          0.2901| 0.2081  | 0.4982 -           0.8725    | 0.9336      | 0.4701   | 0.3883     - 0.1100\u001b[0m\n",
      "\u001b[1;37mINFO --- checkpoint.step >>> Best performance reached: saving the model\u001b[0m\n",
      "\u001b[1;4mValidati 3      - 17     -          0.3300| 0.2074  | 0.5375 -           0.8745    | 0.9349      | 0.4803   | 0.4015     - 0.1473\u001b[0m\n",
      "\u001b[1;37mINFO --- checkpoint.step >>> Best performance reached: saving the model\u001b[0m\n",
      "\u001b[1;4mValidati 3      - 20     -          0.3011| 0.2007  | 0.5017 -           0.8732    | 0.9346      | 0.4806   | 0.3994     - 0.1833\u001b[0m\n",
      "\u001b[1;37mINFO --- checkpoint.step >>> Best performance reached: saving the model\u001b[0m\n",
      "\u001b[1;4mValidati 3      - 23     -          0.3461| 0.1895  | 0.5356 -           0.8707    | 0.9345      | 0.4837   | 0.4079     - 0.2193\u001b[0m\n",
      "\u001b[1;37mINFO --- checkpoint.step >>> Best performance reached: saving the model\u001b[0m\n",
      "\u001b[1;4mValidati 3      - 26     -          0.2600| 0.1784  | 0.4384 -           0.8753    | 0.9356      | 0.4978   | 0.4174     - 0.2544\u001b[0m\n",
      "\u001b[1;37mINFO --- checkpoint.step >>> Best performance reached: saving the model\u001b[0m\n",
      "\u001b[1;4mValidati 3      - 100    -          0.3578| 0.1956  | 0.5534 -           0.8704    | 0.9345      | 0.4847   | 0.3893     - 0.8119\u001b[0m\n",
      "Training 4      - 100    -          0.2627| 0.0455  | 0.3083 -           0.8928    | 0.9593      | 0.6036   | 0.3547     - 7.2663\n",
      "\n",
      "\u001b[1;37mINFO --- checkpoint.step >>> Best performance reached: saving the model\u001b[0m\n",
      "\u001b[1;4mValidati 4      - 11     -          0.3184| 0.2352  | 0.5536 -           0.8938    | 0.9149      | 0.5204   | 0.3380     - 0.1037\u001b[0m\n",
      "\u001b[1;37mINFO --- checkpoint.step >>> Best performance reached: saving the model\u001b[0m\n",
      "\u001b[1;4mValidati 4      - 14     -          0.2954| 0.2664  | 0.5618 -           0.8931    | 0.9129      | 0.5277   | 0.3387     - 0.1406\u001b[0m\n",
      "\u001b[1;37mINFO --- checkpoint.step >>> Best performance reached: saving the model\u001b[0m\n",
      "\u001b[1;4mValidati 4      - 17     -          0.2742| 0.2191  | 0.4933 -           0.8943    | 0.9134      | 0.5344   | 0.3373     - 0.1765\u001b[0m\n",
      "\u001b[1;37mINFO --- checkpoint.step >>> Best performance reached: saving the model\u001b[0m\n",
      "\u001b[1;4mValidati 4      - 20     -          0.2795| 0.2176  | 0.4971 -           0.8951    | 0.9141      | 0.5407   | 0.3430     - 0.2122\u001b[0m\n",
      "\u001b[1;37mINFO --- checkpoint.step >>> Best performance reached: saving the model\u001b[0m\n",
      "\u001b[1;4mValidati 4      - 23     -          0.3053| 0.2252  | 0.5305 -           0.8941    | 0.9146      | 0.5492   | 0.3524     - 0.2481\u001b[0m\n",
      "\u001b[1;37mINFO --- checkpoint.step >>> Best performance reached: saving the model\u001b[0m\n",
      "\u001b[1;4mValidati 4      - 29     -          0.2568| 0.1772  | 0.4339 -           0.8972    | 0.9161      | 0.5582   | 0.3496     - 0.3061\u001b[0m\n",
      "\u001b[1;37mINFO --- checkpoint.step >>> Best performance reached: saving the model\u001b[0m\n",
      "\u001b[1;4mValidati 4      - 38     -          0.3045| 0.2342  | 0.5387 -           0.8964    | 0.9181      | 0.5594   | 0.3595     - 0.3870\u001b[0m\n",
      "\u001b[1;37mINFO --- checkpoint.step >>> Best performance reached: saving the model\u001b[0m\n",
      "\u001b[1;4mValidati 4      - 100    -          0.3364| 0.2150  | 0.5514 -           0.8935    | 0.9169      | 0.5514   | 0.3308     - 0.8508\u001b[0m\n",
      "Training 5      - 100    -          0.2805| 0.0932  | 0.3736 -           0.9087    | 0.9620      | 0.6851   | 0.4051     - 7.2692\n",
      "\u001b[1;4mValidati 5      - 5      -          0.2515| 0.2086  | 0.4602 -           0.8922    | 0.9317      | 0.5609   | 0.3480     - 0.0472\u001b[0m\n",
      "\u001b[1;37mINFO --- checkpoint.step >>> Best performance reached: saving the model\u001b[0m\n",
      "\u001b[1;4mValidati 5      - 8      -          0.2312| 0.1362  | 0.3673 -           0.8969    | 0.9386      | 0.5986   | 0.4337     - 0.0846\u001b[0m\n",
      "\u001b[1;37mINFO --- checkpoint.step >>> Best performance reached: saving the model\u001b[0m\n",
      "\u001b[1;4mValidati 5      - 11     -          0.2824| 0.1734  | 0.4558 -           0.9000    | 0.9392      | 0.6193   | 0.4593     - 0.1234\u001b[0m\n",
      "\u001b[1;37mINFO --- checkpoint.step >>> Best performance reached: saving the model\u001b[0m\n",
      "\u001b[1;4mValidati 5      - 14     -          0.2304| 0.1984  | 0.4288 -           0.9031    | 0.9381      | 0.6347   | 0.4709     - 0.1607\u001b[0m\n",
      "\u001b[1;37mINFO --- checkpoint.step >>> Best performance reached: saving the model\u001b[0m\n",
      "\u001b[1;4mValidati 5      - 17     -          0.2361| 0.1759  | 0.4120 -           0.9078    | 0.9390      | 0.6530   | 0.4804     - 0.1976\u001b[0m\n",
      "\u001b[1;37mINFO --- checkpoint.step >>> Best performance reached: saving the model\u001b[0m\n",
      "\u001b[1;4mValidati 5      - 23     -          0.3075| 0.1768  | 0.4844 -           0.9078    | 0.9400      | 0.6625   | 0.4971     - 0.2571\u001b[0m\n",
      "\u001b[1;37mINFO --- checkpoint.step >>> Best performance reached: saving the model\u001b[0m\n",
      "\u001b[1;4mValidati 5      - 26     -          0.1842| 0.1467  | 0.3309 -           0.9101    | 0.9409      | 0.6684   | 0.5030     - 0.2937\u001b[0m\n",
      "\u001b[1;37mINFO --- checkpoint.step >>> Best performance reached: saving the model\u001b[0m\n",
      "\u001b[1;4mValidati 5      - 29     -          0.2069| 0.1270  | 0.3339 -           0.9109    | 0.9424      | 0.6727   | 0.5068     - 0.3322\u001b[0m\n",
      "\u001b[1;37mINFO --- checkpoint.step >>> Best performance reached: saving the model\u001b[0m\n",
      "\u001b[1;4mValidati 5      - 50     -          0.2104| 0.1667  | 0.3771 -           0.9088    | 0.9415      | 0.6702   | 0.5030     - 0.5059\u001b[0m\n",
      "\u001b[1;37mINFO --- checkpoint.step >>> Best performance reached: saving the model\u001b[0m\n",
      "\u001b[1;4mValidati 5      - 100    -          0.3170| 0.2023  | 0.5193 -           0.9048    | 0.9392      | 0.6183   | 0.4629     - 0.9113\u001b[0m\n",
      "Training 6      - 100    -          0.1749| 0.0377  | 0.2126 -           0.9157    | 0.9621      | 0.7161   | 0.4438     - 7.4334\n",
      "\u001b[1;4mValidati 6      - 100    -          0.2545| 0.1865  | 0.4411 -           0.9031    | 0.9348      | 0.6170   | 0.4710     - 0.7509\u001b[0m\n",
      "Training 7      - 100    -          0.1648| 0.0448  | 0.2096 -           0.9242    | 0.9617      | 0.7504   | 0.4601     - 7.3060\n",
      "\u001b[1;4mValidati 7      - 100    -          0.3259| 0.2413  | 0.5671 -           0.9004    | 0.9269      | 0.5941   | 0.4364     - 0.7414\u001b[0m\n",
      "Training 8      - 100    -          0.1896| 0.0530  | 0.2425 -           0.9320    | 0.9624      | 0.7821   | 0.4864     - 7.3186\n",
      "\u001b[1;4mValidati 8      - 5      -          0.2163| 0.1956  | 0.4119 -           0.9109    | 0.9363      | 0.6291   | 0.4883     - 0.0443\u001b[0m\n",
      "\u001b[1;37mINFO --- checkpoint.step >>> Best performance reached: saving the model\u001b[0m\n",
      "\u001b[1;4mValidati 8      - 8      -          0.1988| 0.1220  | 0.3208 -           0.9177    | 0.9434      | 0.6763   | 0.5479     - 0.0814\u001b[0m\n",
      "\u001b[1;37mINFO --- checkpoint.step >>> Best performance reached: saving the model\u001b[0m\n",
      "\u001b[1;4mValidati 8      - 11     -          0.2837| 0.1616  | 0.4452 -           0.9156    | 0.9438      | 0.6809   | 0.5651     - 0.1195\u001b[0m\n",
      "\u001b[1;37mINFO --- checkpoint.step >>> Best performance reached: saving the model\u001b[0m\n",
      "\u001b[1;4mValidati 8      - 14     -          0.2082| 0.1966  | 0.4048 -           0.9181    | 0.9406      | 0.6973   | 0.5578     - 0.1581\u001b[0m\n",
      "\u001b[1;37mINFO --- checkpoint.step >>> Best performance reached: saving the model\u001b[0m\n",
      "\u001b[1;4mValidati 8      - 17     -          0.1935| 0.1637  | 0.3572 -           0.9182    | 0.9414      | 0.6996   | 0.5629     - 0.1944\u001b[0m\n",
      "\u001b[1;37mINFO --- checkpoint.step >>> Best performance reached: saving the model\u001b[0m\n",
      "\u001b[1;4mValidati 8      - 26     -          0.1708| 0.1348  | 0.3056 -           0.9142    | 0.9430      | 0.6980   | 0.5789     - 0.2744\u001b[0m\n",
      "\u001b[1;37mINFO --- checkpoint.step >>> Best performance reached: saving the model\u001b[0m\n",
      "\u001b[1;4mValidati 8      - 29     -          0.1987| 0.1228  | 0.3215 -           0.9159    | 0.9442      | 0.7043   | 0.5828     - 0.3107\u001b[0m\n",
      "\u001b[1;37mINFO --- checkpoint.step >>> Best performance reached: saving the model\u001b[0m\n",
      "\u001b[1;4mValidati 8      - 41     -          0.1448| 0.1605  | 0.3053 -           0.9170    | 0.9435      | 0.7088   | 0.5793     - 0.4132\u001b[0m\n",
      "\u001b[1;37mINFO --- checkpoint.step >>> Best performance reached: saving the model\u001b[0m\n",
      "\u001b[1;4mValidati 8      - 44     -          0.2100| 0.1965  | 0.4064 -           0.9175    | 0.9425      | 0.7112   | 0.5741     - 0.4505\u001b[0m\n",
      "\u001b[1;37mINFO --- checkpoint.step >>> Best performance reached: saving the model\u001b[0m\n",
      "\u001b[1;4mValidati 8      - 50     -          0.2377| 0.1692  | 0.4069 -           0.9182    | 0.9427      | 0.7146   | 0.5729     - 0.5085\u001b[0m\n",
      "\u001b[1;37mINFO --- checkpoint.step >>> Best performance reached: saving the model\u001b[0m\n",
      "\u001b[1;4mValidati 8      - 100    -          0.2825| 0.1983  | 0.4809 -           0.9139    | 0.9417      | 0.6588   | 0.5374     - 0.8969\u001b[0m\n",
      "Training 9      - 100    -          0.1443| 0.0681  | 0.2124 -           0.9396    | 0.9624      | 0.8095   | 0.5060     - 7.3552\n",
      "\u001b[1;4mValidati 9      - 100    -          0.3332| 0.2224  | 0.5555 -           0.8935    | 0.9359      | 0.6093   | 0.5009     - 0.7612\u001b[0m\n",
      "Training 10     - 100    -          0.1197| 0.0259  | 0.1456 -           0.9438    | 0.9628      | 0.8243   | 0.5123     - 7.3949\n",
      "\u001b[1;4mValidati 10     - 100    -          0.3326| 0.2208  | 0.5534 -           0.9095    | 0.9411      | 0.6408   | 0.5206     - 0.7450\u001b[0m\n",
      "Training 11     - 100    -          0.1094| 0.0308  | 0.1402 -           0.9486    | 0.9637      | 0.8398   | 0.5287     - 7.5146\n",
      "\u001b[1;4mValidati 11     - 100    -          0.3191| 0.2370  | 0.5561 -           0.9069    | 0.9419      | 0.6892   | 0.5530     - 0.7857\u001b[0m\n",
      "Training 12     - 100    -          0.1706| 0.0217  | 0.1923 -           0.9507    | 0.9642      | 0.8464   | 0.5354     - 7.3970\n",
      "\u001b[1;4mValidati 12     - 100    -          0.3318| 0.2107  | 0.5425 -           0.9116    | 0.9371      | 0.6881   | 0.5279     - 0.7373\u001b[0m\n",
      "Training 13     - 100    -          0.1412| 0.0295  | 0.1707 -           0.9548    | 0.9647      | 0.8603   | 0.5514     - 7.2929\n",
      "\u001b[1;4mValidati 13     - 100    -          0.3127| 0.2054  | 0.5181 -           0.9087    | 0.9418      | 0.6505   | 0.5410     - 0.7664\u001b[0m\n",
      "Training 14     - 100    -          0.1273| 0.0464  | 0.1737 -           0.9565    | 0.9649      | 0.8657   | 0.5547     - 7.5118\n",
      "\u001b[1;4mValidati 14     - 35     -          0.2176| 0.1625  | 0.3801 -           0.9151    | 0.9408      | 0.7160   | 0.5924     - 0.2774\u001b[0m\n",
      "\u001b[1;37mINFO --- checkpoint.step >>> Best performance reached: saving the model\u001b[0m\n",
      "\u001b[1;4mValidati 14     - 38     -          0.2359| 0.1681  | 0.4040 -           0.9156    | 0.9409      | 0.7191   | 0.5957     - 0.3168\u001b[0m\n",
      "\u001b[1;37mINFO --- checkpoint.step >>> Best performance reached: saving the model\u001b[0m\n",
      "\u001b[1;4mValidati 14     - 79     -          0.2186| 0.1500  | 0.3686 -           0.9164    | 0.9401      | 0.7262   | 0.5979     - 0.6396\u001b[0m\n",
      "\u001b[1;37mINFO --- checkpoint.step >>> Best performance reached: saving the model\u001b[0m\n",
      "\u001b[1;4mValidati 14     - 85     -          0.2701| 0.1797  | 0.4498 -           0.9173    | 0.9400      | 0.7278   | 0.5971     - 0.6997\u001b[0m\n",
      "\u001b[1;37mINFO --- checkpoint.step >>> Best performance reached: saving the model\u001b[0m\n",
      "\u001b[1;4mValidati 14     - 88     -          0.1868| 0.1500  | 0.3367 -           0.9180    | 0.9400      | 0.7301   | 0.5976     - 0.7364\u001b[0m\n",
      "\u001b[1;37mINFO --- checkpoint.step >>> Best performance reached: saving the model\u001b[0m\n",
      "\u001b[1;4mValidati 14     - 100    -          0.3019| 0.2026  | 0.5045 -           0.9143    | 0.9397      | 0.7078   | 0.5547     - 0.8313\u001b[0m\n",
      "Training 15     - 100    -          0.0808| 0.0142  | 0.0951 -           0.9583    | 0.9645      | 0.8710   | 0.5563     - 7.3485\n",
      "\u001b[1;4mValidati 15     - 29     -          0.1857| 0.1215  | 0.3072 -           0.9234    | 0.9456      | 0.7312   | 0.5954     - 0.2218\u001b[0m\n",
      "\u001b[1;37mINFO --- checkpoint.step >>> Best performance reached: saving the model\u001b[0m\n",
      "\u001b[1;4mValidati 15     - 100    -          0.3233| 0.1992  | 0.5225 -           0.9179    | 0.9439      | 0.6769   | 0.5541     - 0.7640\u001b[0m\n",
      "Training 16     - 100    -          0.1110| 0.0423  | 0.1533 -           0.9598    | 0.9653      | 0.8768   | 0.5650     - 7.3671\n",
      "\u001b[1;4mValidati 16     - 100    -          0.3035| 0.1937  | 0.4972 -           0.9121    | 0.9389      | 0.6722   | 0.5540     - 0.7708\u001b[0m\n",
      "Training 17     - 100    -          0.0680| 0.0200  | 0.0880 -           0.9663    | 0.9666      | 0.8965   | 0.5821     - 7.4184\n",
      "\u001b[1;4mValidati 17     - 32     -          0.1685| 0.1400  | 0.3086 -           0.9247    | 0.9469      | 0.7422   | 0.6095     - 0.2444\u001b[0m\n",
      "\u001b[1;37mINFO --- checkpoint.step >>> Best performance reached: saving the model\u001b[0m\n",
      "\u001b[1;4mValidati 17     - 50     -          0.2779| 0.1606  | 0.4385 -           0.9233    | 0.9462      | 0.7415   | 0.6051     - 0.3923\u001b[0m\n",
      "\u001b[1;37mINFO --- checkpoint.step >>> Best performance reached: saving the model\u001b[0m\n",
      "\u001b[1;4mValidati 17     - 52     -          0.2127| 0.1343  | 0.3469 -           0.9245    | 0.9458      | 0.7461   | 0.6036     - 0.4357\u001b[0m\n",
      "\u001b[1;37mINFO --- checkpoint.step >>> Best performance reached: saving the model\u001b[0m\n",
      "\u001b[1;4mValidati 17     - 55     -          0.2066| 0.1551  | 0.3616 -           0.9245    | 0.9458      | 0.7478   | 0.6063     - 0.4709\u001b[0m\n",
      "\u001b[1;37mINFO --- checkpoint.step >>> Best performance reached: saving the model\u001b[0m\n",
      "\u001b[1;4mValidati 17     - 58     -          0.2377| 0.1337  | 0.3714 -           0.9252    | 0.9465      | 0.7495   | 0.6110     - 0.5085\u001b[0m\n",
      "\u001b[1;37mINFO --- checkpoint.step >>> Best performance reached: saving the model\u001b[0m\n",
      "\u001b[1;4mValidati 17     - 100    -          0.3140| 0.2255  | 0.5396 -           0.9196    | 0.9447      | 0.7211   | 0.5631     - 0.8259\u001b[0m\n",
      "Training 18     - 100    -          0.2064| 0.0631  | 0.2695 -           0.9654    | 0.9662      | 0.8948   | 0.5770     - 7.3908\n",
      "\u001b[1;4mValidati 18     - 100    -          0.3202| 0.2120  | 0.5323 -           0.9110    | 0.9419      | 0.6725   | 0.5473     - 0.7609\u001b[0m\n",
      "Training 19     - 100    -          0.0982| 0.0341  | 0.1323 -           0.9656    | 0.9664      | 0.8950   | 0.5793     - 7.3960\n",
      "\u001b[1;4mValidati 19     - 100    -          0.3098| 0.2322  | 0.5420 -           0.9146    | 0.9464      | 0.6727   | 0.5739     - 0.7685\u001b[0m\n",
      "Training 20     - 100    -          0.1037| 0.0431  | 0.1468 -           0.9694    | 0.9664      | 0.9062   | 0.5841     - 7.4020\n",
      "\u001b[1;4mValidati 20     - 100    -          0.2953| 0.2234  | 0.5187 -           0.9153    | 0.9432      | 0.6950   | 0.5399     - 0.7407\u001b[0m\n",
      "Training 21     - 100    -          0.0634| 0.0236  | 0.0870 -           0.9692    | 0.9665      | 0.9065   | 0.5871     - 7.3195\n",
      "\u001b[1;4mValidati 21     - 44     -          0.1902| 0.1780  | 0.3682 -           0.9275    | 0.9482      | 0.7485   | 0.6217     - 0.3441\u001b[0m\n",
      "\u001b[1;37mINFO --- checkpoint.step >>> Best performance reached: saving the model\u001b[0m\n",
      "\u001b[1;4mValidati 21     - 47     -          0.2218| 0.1574  | 0.3791 -           0.9283    | 0.9483      | 0.7520   | 0.6215     - 0.3817\u001b[0m\n",
      "\u001b[1;37mINFO --- checkpoint.step >>> Best performance reached: saving the model\u001b[0m\n",
      "\u001b[1;4mValidati 21     - 50     -          0.2452| 0.1487  | 0.3940 -           0.9283    | 0.9484      | 0.7532   | 0.6212     - 0.4188\u001b[0m\n",
      "\u001b[1;37mINFO --- checkpoint.step >>> Best performance reached: saving the model\u001b[0m\n",
      "\u001b[1;4mValidati 21     - 52     -          0.1835| 0.1383  | 0.3218 -           0.9292    | 0.9478      | 0.7571   | 0.6188     - 0.4574\u001b[0m\n",
      "\u001b[1;37mINFO --- checkpoint.step >>> Best performance reached: saving the model\u001b[0m\n",
      "\u001b[1;4mValidati 21     - 55     -          0.2272| 0.1683  | 0.3955 -           0.9288    | 0.9474      | 0.7571   | 0.6181     - 0.4945\u001b[0m\n",
      "\u001b[1;37mINFO --- checkpoint.step >>> Best performance reached: saving the model\u001b[0m\n",
      "\u001b[1;4mValidati 21     - 76     -          0.2793| 0.1682  | 0.4475 -           0.9286    | 0.9473      | 0.7583   | 0.6209     - 0.6847\u001b[0m\n",
      "\u001b[1;37mINFO --- checkpoint.step >>> Best performance reached: saving the model\u001b[0m\n",
      "\u001b[1;4mValidati 21     - 79     -          0.2216| 0.1465  | 0.3682 -           0.9288    | 0.9472      | 0.7592   | 0.6203     - 0.7213\u001b[0m\n",
      "\u001b[1;37mINFO --- checkpoint.step >>> Best performance reached: saving the model\u001b[0m\n",
      "\u001b[1;4mValidati 21     - 85     -          0.2320| 0.1793  | 0.4113 -           0.9292    | 0.9471      | 0.7591   | 0.6186     - 0.7822\u001b[0m\n",
      "\u001b[1;37mINFO --- checkpoint.step >>> Best performance reached: saving the model\u001b[0m\n",
      "\u001b[1;4mValidati 21     - 88     -          0.1330| 0.1128  | 0.2458 -           0.9302    | 0.9475      | 0.7628   | 0.6219     - 0.8195\u001b[0m\n",
      "\u001b[1;37mINFO --- checkpoint.step >>> Best performance reached: saving the model\u001b[0m\n",
      "\u001b[1;4mValidati 21     - 100    -          0.2884| 0.1967  | 0.4851 -           0.9256    | 0.9464      | 0.7378   | 0.5753     - 0.9152\u001b[0m\n",
      "Training 22     - 100    -          0.0782| 0.0215  | 0.0997 -           0.9694    | 0.9675      | 0.9068   | 0.5938     - 7.5409\n",
      "\u001b[1;4mValidati 22     - 100    -          0.3024| 0.1952  | 0.4976 -           0.9107    | 0.9432      | 0.6871   | 0.5501     - 0.7493\u001b[0m\n",
      "Training 23     - 100    -          0.0442| 0.0196  | 0.0638 -           0.9717    | 0.9672      | 0.9143   | 0.5957     - 7.3382\n",
      "\u001b[1;4mValidati 23     - 100    -          0.2967| 0.2105  | 0.5072 -           0.9199    | 0.9445      | 0.6767   | 0.5659     - 0.7514\u001b[0m\n",
      "Training 24     - 100    -          0.0571| 0.0285  | 0.0857 -           0.9716    | 0.9671      | 0.9138   | 0.5944     - 7.3698\n",
      "\u001b[1;4mValidati 24     - 100    -          0.3132| 0.1951  | 0.5083 -           0.9202    | 0.9406      | 0.7237   | 0.5541     - 0.7697\u001b[0m\n",
      "Training 25     - 100    -          0.0356| 0.0231  | 0.0587 -           0.9733    | 0.9667      | 0.9191   | 0.5940     - 7.3766\n",
      "\u001b[1;4mValidati 25     - 100    -          0.3273| 0.2335  | 0.5608 -           0.9065    | 0.9361      | 0.6364   | 0.5252     - 0.7458\u001b[0m\n",
      "Training 26     - 100    -          0.0116| 0.0130  | 0.0246 -           0.9736    | 0.9666      | 0.9202   | 0.5945     - 7.3922\n",
      "\u001b[1;4mValidati 26     - 100    -          0.2963| 0.1859  | 0.4822 -           0.9204    | 0.9447      | 0.7173   | 0.5667     - 0.7441\u001b[0m\n",
      "Training 27     - 100    -          0.0912| 0.0301  | 0.1213 -           0.9762    | 0.9673      | 0.9281   | 0.6010     - 7.4423\n",
      "\u001b[1;4mValidati 27     - 100    -          0.3016| 0.2045  | 0.5061 -           0.9235    | 0.9460      | 0.7313   | 0.5824     - 0.7764\u001b[0m\n",
      "Training 28     - 100    -          0.0458| 0.0295  | 0.0753 -           0.9783    | 0.9672      | 0.9345   | 0.6032     - 7.4021\n",
      "\u001b[1;4mValidati 28     - 100    -          0.2838| 0.1970  | 0.4809 -           0.9185    | 0.9415      | 0.7118   | 0.5587     - 0.7390\u001b[0m\n",
      "Training 29     - 100    -          0.1205| 0.0095  | 0.1300 -           0.9764    | 0.9669      | 0.9286   | 0.6012     - 7.3109\n",
      "\u001b[1;4mValidati 29     - 100    -          0.2797| 0.2013  | 0.4810 -           0.9217    | 0.9441      | 0.7280   | 0.5777     - 0.7691\u001b[0m\n",
      "Training 30     - 100    -          0.0828| 0.0564  | 0.1392 -           0.9781    | 0.9672      | 0.9341   | 0.6033     - 7.5065\n",
      "\u001b[1;4mValidati 30     - 44     -          0.2330| 0.1846  | 0.4176 -           0.9273    | 0.9482      | 0.7612   | 0.6405     - 0.3415\u001b[0m\n",
      "\u001b[1;37mINFO --- checkpoint.step >>> Best performance reached: saving the model\u001b[0m\n",
      "\u001b[1;4mValidati 30     - 47     -          0.2092| 0.1451  | 0.3542 -           0.9287    | 0.9486      | 0.7654   | 0.6416     - 0.3794\u001b[0m\n",
      "\u001b[1;37mINFO --- checkpoint.step >>> Best performance reached: saving the model\u001b[0m\n",
      "\u001b[1;4mValidati 30     - 50     -          0.2339| 0.1533  | 0.3872 -           0.9290    | 0.9487      | 0.7677   | 0.6406     - 0.4201\u001b[0m\n",
      "\u001b[1;37mINFO --- checkpoint.step >>> Best performance reached: saving the model\u001b[0m\n",
      "\u001b[1;4mValidati 30     - 55     -          0.2966| 0.1823  | 0.4789 -           0.9291    | 0.9478      | 0.7698   | 0.6393     - 0.4786\u001b[0m\n",
      "\u001b[1;37mINFO --- checkpoint.step >>> Best performance reached: saving the model\u001b[0m\n",
      "\u001b[1;4mValidati 30     - 100    -          0.3171| 0.2117  | 0.5288 -           0.9239    | 0.9469      | 0.7428   | 0.5973     - 0.8231\u001b[0m\n",
      "Training 31     - 100    -          0.0719| 0.0295  | 0.1015 -           0.9780    | 0.9678      | 0.9338   | 0.6080     - 7.3360\n",
      "\u001b[1;4mValidati 31     - 100    -          0.3052| 0.1861  | 0.4913 -           0.9222    | 0.9447      | 0.6909   | 0.5747     - 0.7454\u001b[0m\n",
      "Training 32     - 100    -          0.0501| 0.0318  | 0.0819 -           0.9789    | 0.9677      | 0.9362   | 0.6074     - 7.3774\n",
      "\u001b[1;4mValidati 32     - 50     -          0.2480| 0.1588  | 0.4068 -           0.9325    | 0.9470      | 0.7697   | 0.6154     - 0.3898\u001b[0m\n",
      "\u001b[1;37mINFO --- checkpoint.step >>> Best performance reached: saving the model\u001b[0m\n",
      "\u001b[1;4mValidati 32     - 100    -          0.2958| 0.1976  | 0.4934 -           0.9255    | 0.9452      | 0.7085   | 0.5727     - 0.7878\u001b[0m\n",
      "Training 33     - 100    -          0.0398| 0.0348  | 0.0746 -           0.9792    | 0.9683      | 0.9370   | 0.6125     - 7.3994\n",
      "\u001b[1;4mValidati 33     - 100    -          0.2998| 0.2139  | 0.5136 -           0.9241    | 0.9454      | 0.6988   | 0.5667     - 0.7430\u001b[0m\n",
      "Training 34     - 100    -          0.1235| 0.0128  | 0.1363 -           0.9797    | 0.9680      | 0.9389   | 0.6106     - 7.3489\n",
      "\u001b[1;4mValidati 34     - 100    -          0.3113| 0.2265  | 0.5378 -           0.9163    | 0.9432      | 0.7105   | 0.5529     - 0.7448\u001b[0m\n",
      "Training 35     - 100    -          0.0234| 0.0278  | 0.0512 -           0.9814    | 0.9672      | 0.9447   | 0.6051     - 7.4089\n",
      "\u001b[1;4mValidati 35     - 100    -          0.3467| 0.2090  | 0.5557 -           0.9227    | 0.9453      | 0.7312   | 0.5796     - 0.7652\u001b[0m\n",
      "Training 36     - 100    -          0.1204| 0.0175  | 0.1379 -           0.9814    | 0.9673      | 0.9439   | 0.6077     - 7.3863\n",
      "\u001b[1;4mValidati 36     - 100    -          0.3109| 0.2283  | 0.5392 -           0.9185    | 0.9448      | 0.7295   | 0.5952     - 0.7417\u001b[0m\n",
      "Training 37     - 100    -          0.0294| 0.0152  | 0.0447 -           0.9825    | 0.9679      | 0.9476   | 0.6110     - 7.2830\n",
      "\u001b[1;4mValidati 37     - 100    -          0.2934| 0.2020  | 0.4954 -           0.9267    | 0.9451      | 0.7109   | 0.5707     - 0.7717\u001b[0m\n",
      "Training 38     - 100    -          0.0937| 0.0221  | 0.1158 -           0.9798    | 0.9672      | 0.9391   | 0.6018     - 7.5124\n",
      "\u001b[1;4mValidati 38     - 100    -          0.2832| 0.2123  | 0.4954 -           0.9261    | 0.9443      | 0.7412   | 0.5768     - 0.7494\u001b[0m\n",
      "Training 39     - 100    -          0.0068| 0.0164  | 0.0233 -           0.9823    | 0.9675      | 0.9469   | 0.6097     - 7.3593\n",
      "\u001b[1;4mValidati 39     - 100    -          0.2875| 0.2223  | 0.5098 -           0.9242    | 0.9445      | 0.7398   | 0.5814     - 0.7431\u001b[0m\n",
      "Training 40     - 100    -          0.0111| 0.0132  | 0.0243 -           0.9844    | 0.9683      | 0.9529   | 0.6171     - 7.3819\n",
      "\u001b[1;4mValidati 40     - 100    -          0.2753| 0.2300  | 0.5054 -           0.9197    | 0.9405      | 0.7228   | 0.5616     - 0.7785\u001b[0m\n",
      "Training 41     - 100    -          0.0177| 0.0274  | 0.0451 -           0.9847    | 0.9680      | 0.9541   | 0.6171     - 7.4246\n",
      "\u001b[1;4mValidati 41     - 100    -          0.3210| 0.2180  | 0.5390 -           0.9235    | 0.9428      | 0.7022   | 0.5573     - 0.7499\u001b[0m\n",
      "Training 42     - 100    -          0.0968| 0.0246  | 0.1214 -           0.9821    | 0.9685      | 0.9463   | 0.6156     - 7.3398\n",
      "\u001b[1;4mValidati 42     - 100    -          0.3171| 0.1895  | 0.5066 -           0.9090    | 0.9372      | 0.6862   | 0.5278     - 0.7492\u001b[0m\n",
      "Training 43     - 100    -          0.0607| 0.0300  | 0.0907 -           0.9835    | 0.9673      | 0.9502   | 0.6092     - 7.3843\n",
      "\u001b[1;4mValidati 43     - 100    -          0.3092| 0.2166  | 0.5257 -           0.9129    | 0.9419      | 0.6695   | 0.5626     - 0.7654\u001b[0m\n",
      "Training 44     - 100    -          0.0646| 0.0369  | 0.1015 -           0.9823    | 0.9679      | 0.9467   | 0.6159     - 7.4276\n",
      "\u001b[1;4mValidati 44     - 100    -          0.2759| 0.2120  | 0.4878 -           0.9222    | 0.9440      | 0.7350   | 0.5829     - 0.7424\u001b[0m\n",
      "Training 45     - 100    -          0.0330| 0.0256  | 0.0585 -           0.9830    | 0.9678      | 0.9490   | 0.6134     - 7.3036\n",
      "\u001b[1;4mValidati 45     - 100    -          0.3153| 0.2063  | 0.5217 -           0.9166    | 0.9457      | 0.7123   | 0.5697     - 0.7684\u001b[0m\n",
      "Training 46     - 100    -          0.0120| 0.0326  | 0.0447 -           0.9851    | 0.9683      | 0.9553   | 0.6200     - 7.5056\n",
      "\u001b[1;4mValidati 46     - 85     -          0.2940| 0.1925  | 0.4864 -           0.9308    | 0.9455      | 0.7710   | 0.6307     - 0.6526\u001b[0m\n",
      "\u001b[1;37mINFO --- checkpoint.step >>> Best performance reached: saving the model\u001b[0m\n",
      "\u001b[1;4mValidati 46     - 100    -          0.2937| 0.2135  | 0.5072 -           0.9264    | 0.9445      | 0.7466   | 0.5835     - 0.7707\u001b[0m\n",
      "Training 47     - 100    -          0.0336| 0.0172  | 0.0507 -           0.9889    | 0.9682      | 0.9668   | 0.6215     - 7.3531\n",
      "\u001b[1;4mValidati 47     - 100    -          0.2974| 0.2175  | 0.5148 -           0.9177    | 0.9440      | 0.6772   | 0.5654     - 0.7431\u001b[0m\n",
      "Training 48     - 100    -          0.1054| 0.0373  | 0.1427 -           0.9837    | 0.9684      | 0.9514   | 0.6155     - 7.3811\n",
      "\u001b[1;4mValidati 48     - 100    -          0.3143| 0.1835  | 0.4978 -           0.9210    | 0.9452      | 0.7014   | 0.5894     - 0.7670\u001b[0m\n",
      "Training 49     - 100    -          0.0214| 0.0193  | 0.0407 -           0.9854    | 0.9685      | 0.9564   | 0.6222     - 7.4070\n",
      "\u001b[1;4mValidati 49     - 100    -          0.3210| 0.2179  | 0.5389 -           0.9237    | 0.9463      | 0.7113   | 0.5865     - 0.7415\u001b[0m\n",
      "Training 50     - 100    -          0.0667| 0.0134  | 0.0801 -           0.9850    | 0.9683      | 0.9554   | 0.6181     - 7.3353\n",
      "\u001b[1;4mValidati 50     - 100    -          0.2916| 0.2371  | 0.5287 -           0.9207    | 0.9445      | 0.7307   | 0.5825     - 0.7523\u001b[0m\n",
      "Training 51     - 100    -          0.0074| 0.0154  | 0.0228 -           0.9840    | 0.9681      | 0.9522   | 0.6151     - 7.3904\n",
      "\u001b[1;4mValidati 51     - 100    -          0.3071| 0.1984  | 0.5055 -           0.9200    | 0.9416      | 0.7258   | 0.5690     - 0.7672\u001b[0m\n",
      "Training 52     - 100    -          0.0263| 0.0251  | 0.0514 -           0.9847    | 0.9686      | 0.9537   | 0.6209     - 7.3656\n",
      "\u001b[1;4mValidati 52     - 100    -          0.2904| 0.2157  | 0.5061 -           0.9180    | 0.9445      | 0.7172   | 0.5762     - 0.7416\u001b[0m\n",
      "Training 53     - 100    -          0.0662| 0.0376  | 0.1039 -           0.9871    | 0.9689      | 0.9614   | 0.6252     - 7.2908\n",
      "\u001b[1;4mValidati 53     - 100    -          0.2996| 0.2335  | 0.5331 -           0.9202    | 0.9416      | 0.7217   | 0.5604     - 0.7671\u001b[0m\n",
      "Training 54     - 100    -          0.0132| 0.0190  | 0.0322 -           0.9834    | 0.9684      | 0.9505   | 0.6162     - 7.4597\n",
      "\u001b[1;4mValidati 54     - 100    -          0.2826| 0.1850  | 0.4675 -           0.9165    | 0.9439      | 0.7167   | 0.5655     - 0.7411\u001b[0m\n",
      "Training 55     - 100    -          0.0271| 0.0135  | 0.0407 -           0.9872    | 0.9680      | 0.9616   | 0.6174     - 7.3040\n",
      "\u001b[1;4mValidati 55     - 100    -          0.2976| 0.2444  | 0.5420 -           0.9078    | 0.9413      | 0.6898   | 0.5587     - 0.7387\u001b[0m\n",
      "Training 56     - 100    -          0.0540| 0.0246  | 0.0787 -           0.9847    | 0.9680      | 0.9540   | 0.6159     - 7.3853\n",
      "\u001b[1;4mValidati 56     - 100    -          0.2844| 0.2193  | 0.5037 -           0.9165    | 0.9398      | 0.7046   | 0.5540     - 0.7685\u001b[0m\n",
      "Training 57     - 100    -          0.0206| 0.0215  | 0.0421 -           0.9877    | 0.9681      | 0.9627   | 0.6175     - 7.3859\n",
      "\u001b[1;4mValidati 57     - 100    -          0.2896| 0.2043  | 0.4939 -           0.9195    | 0.9423      | 0.7243   | 0.5711     - 0.7396\u001b[0m\n",
      "Training 58     - 100    -          0.0217| 0.0095  | 0.0312 -           0.9863    | 0.9674      | 0.9591   | 0.6153     - 7.3480\n",
      "\u001b[1;4mValidati 58     - 100    -          0.2850| 0.2235  | 0.5084 -           0.9118    | 0.9452      | 0.6877   | 0.5486     - 0.7438\u001b[0m\n",
      "Training 59     - 100    -          0.0284| 0.0249  | 0.0533 -           0.9893    | 0.9677      | 0.9677   | 0.6187     - 7.3888\n",
      "\u001b[1;4mValidati 59     - 100    -          0.3253| 0.2052  | 0.5305 -           0.9248    | 0.9414      | 0.7093   | 0.5791     - 0.7783\u001b[0m\n",
      "Training 60     - 100    -          0.0941| 0.0477  | 0.1417 -           0.9854    | 0.9672      | 0.9565   | 0.6119     - 7.4194\n",
      "\u001b[1;4mValidati 60     - 100    -          0.2858| 0.2114  | 0.4972 -           0.9216    | 0.9420      | 0.7251   | 0.5736     - 0.7434\u001b[0m\n",
      "Training 61     - 100    -          0.0090| 0.0155  | 0.0245 -           0.9861    | 0.9681      | 0.9584   | 0.6208     - 7.3250\n",
      "\u001b[1;4mValidati 61     - 100    -          0.2985| 0.2187  | 0.5172 -           0.9198    | 0.9408      | 0.7266   | 0.5684     - 0.7730\u001b[0m\n",
      "Training 62     - 100    -          0.0348| 0.0257  | 0.0605 -           0.9894    | 0.9685      | 0.9683   | 0.6248     - 7.5128\n",
      "\u001b[1;4mValidati 62     - 100    -          0.2711| 0.2160  | 0.4871 -           0.9261    | 0.9457      | 0.7452   | 0.5889     - 0.7463\u001b[0m\n",
      "Training 63     - 100    -          0.0017| 0.0144  | 0.0161 -           0.9898    | 0.9673      | 0.9698   | 0.6181     - 7.3198\n",
      "\u001b[1;4mValidati 63     - 100    -          0.2993| 0.2320  | 0.5313 -           0.9167    | 0.9401      | 0.7185   | 0.5660     - 0.7402\u001b[0m\n",
      "Training 64     - 100    -          0.0766| 0.0438  | 0.1204 -           0.9863    | 0.9669      | 0.9585   | 0.6099     - 7.4158\n",
      "\u001b[1;4mValidati 64     - 100    -          0.2941| 0.2109  | 0.5049 -           0.9151    | 0.9418      | 0.7124   | 0.5720     - 0.7682\u001b[0m\n",
      "Training 65     - 100    -          0.1041| 0.0201  | 0.1242 -           0.9861    | 0.9676      | 0.9584   | 0.6183     - 7.4134\n",
      "\u001b[1;4mValidati 65     - 100    -          0.2778| 0.2000  | 0.4779 -           0.9021    | 0.9333      | 0.6711   | 0.5168     - 0.7410\u001b[0m\n",
      "Training 66     - 100    -          0.0564| 0.0285  | 0.0849 -           0.9852    | 0.9674      | 0.9557   | 0.6146     - 7.3859\n",
      "\u001b[1;4mValidati 66     - 100    -          0.2990| 0.2284  | 0.5274 -           0.9207    | 0.9425      | 0.7250   | 0.5727     - 0.7542\u001b[0m\n",
      "Training 67     - 100    -          0.1102| 0.0228  | 0.1331 -           0.9895    | 0.9680      | 0.9684   | 0.6220     - 7.4170\n",
      "\u001b[1;4mValidati 67     - 100    -          0.2950| 0.2416  | 0.5367 -           0.9231    | 0.9459      | 0.7335   | 0.5831     - 0.7729\u001b[0m\n",
      "Training 68     - 100    -          0.0739| 0.0247  | 0.0986 -           0.9891    | 0.9685      | 0.9676   | 0.6247     - 7.4099\n",
      "\u001b[1;4mValidati 68     - 100    -          0.3113| 0.2193  | 0.5305 -           0.9167    | 0.9417      | 0.7151   | 0.5715     - 0.7416\u001b[0m\n",
      "Training 69     - 100    -          0.0635| 0.0289  | 0.0924 -           0.9876    | 0.9683      | 0.9631   | 0.6197     - 7.3185\n",
      "\u001b[1;4mValidati 69     - 100    -          0.2781| 0.2151  | 0.4932 -           0.9124    | 0.9455      | 0.7003   | 0.5764     - 0.7697\u001b[0m\n",
      "Training 70     - 100    -          0.0709| 0.0077  | 0.0786 -           0.9858    | 0.9677      | 0.9576   | 0.6170     - 7.5013\n",
      "\u001b[1;4mValidati 70     - 100    -          0.3165| 0.2372  | 0.5537 -           0.9218    | 0.9456      | 0.6945   | 0.5840     - 0.7421\u001b[0m\n",
      "Training 71     - 100    -          0.0093| 0.0119  | 0.0212 -           0.9822    | 0.9674      | 0.9466   | 0.6115     - 7.3013\n",
      "\u001b[1;4mValidati 71     - 100    -          0.2905| 0.2040  | 0.4945 -           0.9183    | 0.9426      | 0.7200   | 0.5702     - 0.7405\u001b[0m\n",
      "Training 72     - 100    -          0.0044| 0.0154  | 0.0198 -           0.9901    | 0.9687      | 0.9704   | 0.6258     - 7.3968\n",
      "\u001b[1;4mValidati 72     - 100    -          0.3023| 0.2020  | 0.5042 -           0.9241    | 0.9460      | 0.7437   | 0.5934     - 0.7692\u001b[0m\n",
      "Training 73     - 100    -          0.0139| 0.0233  | 0.0371 -           0.9893    | 0.9685      | 0.9679   | 0.6252     - 7.3739\n",
      "\n",
      "\u001b[1;37mINFO --- checkpoint.step >>> Best performance reached: saving the model\u001b[0m\n",
      "\u001b[1;4mValidati 73     - 100    -          0.2885| 0.2056  | 0.4941 -           0.9154    | 0.9426      | 0.7110   | 0.5597     - 0.7603\u001b[0m\n",
      "Training 74     - 100    -          0.0677| 0.0322  | 0.0999 -           0.9899    | 0.9687      | 0.9698   | 0.6266     - 7.3434\n",
      "\u001b[1;4mValidati 74     - 100    -          0.2956| 0.2355  | 0.5310 -           0.9255    | 0.9448      | 0.7415   | 0.5844     - 0.7588\u001b[0m\n",
      "Training 75     - 100    -          0.0367| 0.0212  | 0.0580 -           0.9891    | 0.9681      | 0.9675   | 0.6224     - 7.4111\n",
      "\u001b[1;4mValidati 75     - 100    -          0.3164| 0.2107  | 0.5271 -           0.9188    | 0.9453      | 0.6926   | 0.5786     - 0.7670\u001b[0m\n",
      "Training 76     - 100    -          0.0612| 0.0248  | 0.0859 -           0.9874    | 0.9677      | 0.9625   | 0.6200     - 7.3873\n",
      "\u001b[1;4mValidati 76     - 100    -          0.3007| 0.2166  | 0.5173 -           0.9182    | 0.9423      | 0.7219   | 0.5766     - 0.7384\u001b[0m\n",
      "Training 77     - 100    -          0.1204| 0.0542  | 0.1746 -           0.9890    | 0.9679      | 0.9668   | 0.6204     - 7.3252\n",
      "\u001b[1;4mValidati 77     - 100    -          0.2973| 0.2140  | 0.5113 -           0.9198    | 0.9422      | 0.6909   | 0.5702     - 0.7704\u001b[0m\n",
      "Training 78     - 100    -          0.0864| 0.0348  | 0.1212 -           0.9853    | 0.9676      | 0.9562   | 0.6150     - 7.4586\n",
      "\u001b[1;4mValidati 78     - 100    -          0.2921| 0.2183  | 0.5104 -           0.9155    | 0.9414      | 0.7084   | 0.5664     - 0.7391\u001b[0m\n",
      "Training 79     - 100    -          0.0121| 0.0094  | 0.0215 -           0.9890    | 0.9683      | 0.9673   | 0.6259     - 7.3032\n",
      "\u001b[1;4mValidati 79     - 100    -          0.2901| 0.2154  | 0.5056 -           0.9237    | 0.9434      | 0.7394   | 0.5799     - 0.7437\u001b[0m\n",
      "Training 80     - 100    -          0.0580| 0.0127  | 0.0707 -           0.9855    | 0.9679      | 0.9566   | 0.6179     - 7.3972\n",
      "\u001b[1;4mValidati 80     - 100    -          0.2935| 0.2339  | 0.5274 -           0.9246    | 0.9465      | 0.7410   | 0.5795     - 0.7715\u001b[0m\n",
      "Training 81     - 100    -          0.0679| 0.0146  | 0.0826 -           0.9889    | 0.9684      | 0.9666   | 0.6265     - 7.5552\n",
      "\u001b[1;4mValidati 81     - 100    -          0.2975| 0.2071  | 0.5046 -           0.9215    | 0.9435      | 0.7327   | 0.5807     - 0.7386\u001b[0m\n",
      "Training 82     - 100    -          0.0448| 0.0201  | 0.0649 -           0.9885    | 0.9690      | 0.9657   | 0.6283     - 7.3551\n",
      "\u001b[1;4mValidati 82     - 100    -          0.3002| 0.2145  | 0.5147 -           0.9213    | 0.9439      | 0.6986   | 0.5796     - 0.7429\u001b[0m\n",
      "Training 83     - 100    -          0.0927| 0.0414  | 0.1341 -           0.9894    | 0.9687      | 0.9683   | 0.6285     - 7.4189\n",
      "\u001b[1;4mValidati 83     - 100    -          0.2981| 0.2281  | 0.5262 -           0.9181    | 0.9450      | 0.6859   | 0.5746     - 0.7781\u001b[0m\n",
      "Training 84     - 100    -          0.0263| 0.0342  | 0.0605 -           0.9876    | 0.9686      | 0.9628   | 0.6246     - 7.3774\n",
      "\u001b[1;4mValidati 84     - 100    -          0.2794| 0.2149  | 0.4943 -           0.9267    | 0.9446      | 0.7492   | 0.5837     - 0.7406\u001b[0m\n",
      "Training 85     - 100    -          0.0357| 0.0061  | 0.0417 -           0.9911    | 0.9685      | 0.9732   | 0.6280     - 7.3020\n",
      "\u001b[1;4mValidati 85     - 100    -          0.2683| 0.1985  | 0.4667 -           0.9268    | 0.9446      | 0.7080   | 0.5796     - 0.7715\u001b[0m\n",
      "Training 86     - 100    -          0.0295| 0.0293  | 0.0588 -           0.9913    | 0.9687      | 0.9739   | 0.6285     - 7.5127\n",
      "\u001b[1;4mValidati 86     - 100    -          0.2777| 0.2243  | 0.5020 -           0.9247    | 0.9441      | 0.7117   | 0.5934     - 0.7381\u001b[0m\n",
      "Training 87     - 100    -          0.0174| 0.0142  | 0.0317 -           0.9888    | 0.9678      | 0.9663   | 0.6228     - 7.3175\n",
      "\u001b[1;4mValidati 87     - 100    -          0.2584| 0.2100  | 0.4684 -           0.9120    | 0.9363      | 0.7082   | 0.5589     - 0.7430\u001b[0m\n",
      "Training 88     - 100    -          0.0463| 0.0214  | 0.0677 -           0.9855    | 0.9682      | 0.9568   | 0.6215     - 7.3990\n",
      "\u001b[1;4mValidati 88     - 100    -          0.2824| 0.2195  | 0.5019 -           0.9212    | 0.9427      | 0.7315   | 0.5777     - 0.7692\u001b[0m\n",
      "Training 89     - 100    -          0.0213| 0.0226  | 0.0439 -           0.9867    | 0.9682      | 0.9604   | 0.6219     - 7.3859\n",
      "\u001b[1;4mValidati 89     - 100    -          0.2829| 0.2062  | 0.4891 -           0.9202    | 0.9399      | 0.7316   | 0.5708     - 0.7392\u001b[0m\n",
      "Training 90     - 100    -          0.0356| 0.0112  | 0.0469 -           0.9894    | 0.9675      | 0.9684   | 0.6197     - 7.3352\n",
      "\u001b[1;4mValidati 90     - 100    -          0.2938| 0.2058  | 0.4995 -           0.9252    | 0.9452      | 0.7406   | 0.5928     - 0.7448\u001b[0m\n",
      "Training 91     - 100    -          0.0307| 0.0174  | 0.0481 -           0.9913    | 0.9678      | 0.9739   | 0.6260     - 7.3953\n",
      "\u001b[1;4mValidati 91     - 100    -          0.3068| 0.2081  | 0.5149 -           0.9217    | 0.9414      | 0.7364   | 0.5791     - 0.7652\u001b[0m\n",
      "Training 92     - 100    -          0.1076| 0.0243  | 0.1319 -           0.9871    | 0.9686      | 0.9609   | 0.6259     - 7.3878\n",
      "\u001b[1;4mValidati 92     - 100    -          0.3015| 0.2142  | 0.5156 -           0.9056    | 0.9364      | 0.6779   | 0.5402     - 0.7415\u001b[0m\n",
      "Training 93     - 100    -          0.0003| 0.0068  | 0.0070 -           0.9894    | 0.9686      | 0.9686   | 0.6297     - 7.2913\n",
      "\u001b[1;4mValidati 93     - 100    -          0.2950| 0.2263  | 0.5213 -           0.9169    | 0.9432      | 0.7126   | 0.5675     - 0.7693\u001b[0m\n",
      "Training 94     - 100    -          0.0008| 0.0107  | 0.0115 -           0.9912    | 0.9690      | 0.9735   | 0.6336     - 7.4884\n",
      "\u001b[1;4mValidati 94     - 100    -          0.2815| 0.2130  | 0.4945 -           0.9251    | 0.9455      | 0.7377   | 0.5817     - 0.7421\u001b[0m\n",
      "Training 95     - 100    -          0.0297| 0.0342  | 0.0639 -           0.9922    | 0.9689      | 0.9770   | 0.6340     - 7.3178\n",
      "\u001b[1;4mValidati 95     - 100    -          0.3161| 0.2055  | 0.5216 -           0.9259    | 0.9466      | 0.7132   | 0.5967     - 0.7410\u001b[0m\n",
      "Training 96     - 100    -          0.0004| 0.0238  | 0.0242 -           0.9919    | 0.9692      | 0.9754   | 0.6360     - 7.4110\n",
      "\u001b[1;4mValidati 96     - 100    -          0.2974| 0.2240  | 0.5213 -           0.9248    | 0.9450      | 0.7358   | 0.5841     - 0.7694\u001b[0m\n",
      "Training 97     - 100    -          0.1085| 0.0523  | 0.1608 -           0.9883    | 0.9690      | 0.9653   | 0.6318     - 7.4041\n",
      "\u001b[1;4mValidati 97     - 100    -          0.3350| 0.2243  | 0.5592 -           0.9175    | 0.9471      | 0.6795   | 0.5717     - 0.7457\u001b[0m\n",
      "Training 98     - 100    -          0.1592| 0.0252  | 0.1844 -           0.9821    | 0.9677      | 0.9468   | 0.6157     - 7.3561\n",
      "\u001b[1;4mValidati 98     - 100    -          0.3285| 0.2613  | 0.5898 -           0.9069    | 0.9405      | 0.6498   | 0.5507     - 0.7429\u001b[0m\n",
      "Training 99     - 100    -          0.1513| 0.0371  | 0.1884 -           0.9869    | 0.9682      | 0.9609   | 0.6214     - 7.4155\n",
      "\u001b[1;4mValidati 99     - 100    -          0.2981| 0.2069  | 0.5049 -           0.9217    | 0.9444      | 0.6948   | 0.5871     - 0.7651\u001b[0m\n",
      "Training 100    - 100    -          0.0030| 0.0244  | 0.0274 -           0.9908    | 0.9688      | 0.9725   | 0.6298     - 7.3921\n",
      "\u001b[1;4mValidati 100    - 20     -          0.3789| 0.1969  | 0.5758 -           0.9348    | 0.9463      | 0.7785   | 0.6369     - 0.1550\u001b[0m\n",
      "\u001b[1;37mINFO --- checkpoint.step >>> Best performance reached: saving the model\u001b[0m\n",
      "\u001b[1;4mValidati 100    - 23     -          0.4040| 0.2189  | 0.6230 -           0.9344    | 0.9458      | 0.7829   | 0.6384     - 0.1991\u001b[0m\n",
      "\u001b[1;37mINFO --- checkpoint.step >>> Best performance reached: saving the model\u001b[0m\n",
      "\u001b[1;4mValidati 100    - 100    -          0.2961| 0.2381  | 0.5342 -           0.9237    | 0.9433      | 0.7391   | 0.5826     - 0.7813\u001b[0m\r"
     ]
    }
   ],
   "source": [
    "# tensorboard\n",
    "title = \"dcase2019_system_%s\" % (get_datetime())\n",
    "tensorboard = SummaryWriter(log_dir=Path(\"../tensorboard/%s\" % title), comment=\"weak baseline\")\n",
    "\n",
    "print(header)\n",
    "for e in range(nb_epochs):\n",
    "    train(e)\n",
    "    val(e)"
   ]
  },
  {
   "cell_type": "markdown",
   "metadata": {},
   "source": [
    "# Optimization before evaluation - ♫♪.ılılıll|̲̅̅●̲̅̅|̲̅̅=̲̅̅|̲̅̅●̲̅̅|llılılı.♫♪\n",
    "At this stage, we will work with the output of the best epoch on the validation dataset. The process is done into 3 stages\n",
    "- The optimization of tagging performance using simulating annealing\n",
    "- The pruning of the strong prediction\n",
    "- The optimization of the localization system using aeseg (hysteresis thresholding)"
   ]
  },
  {
   "cell_type": "markdown",
   "metadata": {},
   "source": [
    "## Load best state "
   ]
  },
  {
   "cell_type": "code",
   "execution_count": 40,
   "metadata": {},
   "outputs": [
    {
     "data": {
      "text/plain": [
       "<All keys matched successfully>"
      ]
     },
     "execution_count": 40,
     "metadata": {},
     "output_type": "execute_result"
    }
   ],
   "source": [
    "best_model = dcase2019_model()\n",
    "best_model.cuda()\n",
    "best_model.eval() # <-- for consistency in scoring (deactivate dropout and batchNorm)\n",
    "\n",
    "checkpoint = torch.load(\"../models/best_dcase2019.torch\")\n",
    "best_model.load_state_dict(checkpoint[\"state_dict\"])"
   ]
  },
  {
   "cell_type": "markdown",
   "metadata": {},
   "source": [
    "## Perform prediction on validation dataset"
   ]
  },
  {
   "cell_type": "code",
   "execution_count": 41,
   "metadata": {},
   "outputs": [
    {
     "name": "stdout",
     "output_type": "stream",
     "text": [
      " 100 %\r"
     ]
    }
   ],
   "source": [
    "weak_y_true, strong_y_true = None, None\n",
    "weak_y_pred, strong_y_pred = None, None\n",
    "y_filenames = list(val_dataset.X.keys())\n",
    "\n",
    "with torch.set_grad_enabled(False):\n",
    "    for i, (X, y) in enumerate(val_loader):\n",
    "        weak_y, strong_y = y\n",
    "        weak_y, strong_y = weak_y.cuda(), strong_y.cuda()\n",
    "        X = X.cuda()\n",
    "        \n",
    "        weak_logits, strong_logits = model(X)\n",
    "        \n",
    "        weak_pred = torch.sigmoid(weak_logits)\n",
    "        strong_pred = torch.sigmoid(strong_logits)\n",
    "        \n",
    "        # accumulate prediction and ground truth\n",
    "        if i == 0:\n",
    "            weak_y_true = weak_y.cpu()\n",
    "            strong_y_true = strong_y.cpu()\n",
    "\n",
    "            weak_y_pred =  weak_pred.cpu()\n",
    "            strong_y_pred =  strong_pred.cpu()\n",
    "        else:\n",
    "            weak_y_true = torch.cat((weak_y_true, weak_y.cpu()), dim=0)\n",
    "            strong_y_true = torch.cat((strong_y_true, strong_y.cpu()), dim=0)\n",
    "\n",
    "            weak_y_pred =  torch.cat((weak_y_pred, weak_pred.cpu()), dim=0)\n",
    "            strong_y_pred =  torch.cat((strong_y_pred, strong_pred.cpu()), dim=0)\n",
    "        \n",
    "        print(\" %d %%\" % int(100 * (i + 1) / len(val_loader)), end=\"\\r\")"
   ]
  },
  {
   "cell_type": "code",
   "execution_count": 42,
   "metadata": {},
   "outputs": [
    {
     "data": {
      "text/plain": [
       "(torch.Size([1058, 10]),\n",
       " torch.Size([1058, 10]),\n",
       " torch.Size([1058, 10, 431]),\n",
       " torch.Size([1058, 10, 431]),\n",
       " 1058)"
      ]
     },
     "execution_count": 42,
     "metadata": {},
     "output_type": "execute_result"
    }
   ],
   "source": [
    "weak_y_true.shape, weak_y_pred.shape, strong_y_true.shape, strong_y_pred.shape, len(y_filenames)"
   ]
  },
  {
   "cell_type": "markdown",
   "metadata": {},
   "source": [
    "# Audio tagging threshold Optimization"
   ]
  },
  {
   "cell_type": "code",
   "execution_count": 155,
   "metadata": {},
   "outputs": [],
   "source": [
    "classwise_f1 = FScore(dim=0)\n",
    "def simulated_anealing(y_pred, y_true, macro_iteration = 50, micro_iteration = 400):\n",
    "    weak_y_pred_ = y_pred.clone().detach()\n",
    "\n",
    "    classwise_f1(weak_y_pred_, weak_y_true)\n",
    "    start_f1 = classwise_f1.value\n",
    "\n",
    "    min_delta = 10e-7\n",
    "    delta_ratio = 0.2\n",
    "#     macro_iteration = 30\n",
    "#     micro_iteration = 400\n",
    "\n",
    "    history = {\n",
    "        \"best_f1\": [[] for _ in range(10)],\n",
    "        \"f1\": [],\n",
    "        \"delta_ratio\": []\n",
    "    }\n",
    "\n",
    "    best_thresholds = torch.ones(10) * 0.5\n",
    "    best_f1 = start_f1.clone().detach()\n",
    "\n",
    "    total_iteration = macro_iteration * micro_iteration\n",
    "    \n",
    "    for M in range(macro_iteration):\n",
    "        thresholds = torch.ones(10) * 0.5\n",
    "        delta_ratio = 0.3\n",
    "        delta_decay = ( (min_delta + delta_ratio) / micro_iteration )\n",
    "\n",
    "        for m in range(micro_iteration):\n",
    "            bin_y_pred = y_pred.clone().detach()\n",
    "\n",
    "            # calc new threhsold\n",
    "            r = torch.normal(mean=thresholds, std=0.4)\n",
    "            delta = r * delta_ratio\n",
    "            new_thresholds = thresholds + delta\n",
    "            delta_ratio -= delta_decay\n",
    "            history[\"delta_ratio\"].append(delta_ratio)\n",
    "\n",
    "            # apply threshold\n",
    "            weak_y_pred_[bin_y_pred > new_thresholds] = 1\n",
    "            weak_y_pred_[bin_y_pred <= new_thresholds] = 0\n",
    "\n",
    "            # calc new f1\n",
    "            classwise_f1(weak_y_pred_, weak_y_true)\n",
    "            new_f1 = classwise_f1.value\n",
    "            history[\"f1\"].append(new_f1)\n",
    "\n",
    "            # check\n",
    "            for i in range(10):\n",
    "                if new_f1[i] > best_f1[i]:\n",
    "#                     print(new_f1[i], \" > \", best_f1[i])\n",
    "                    best_f1[i] = new_f1[i]\n",
    "                    best_thresholds[i] = new_thresholds[i]\n",
    "                    thresholds[i] = best_thresholds[i]\n",
    "                    history[\"best_f1\"][i].append(best_f1[i])\n",
    "#                     print(best_thresholds)\n",
    "\n",
    "            step = M * micro_iteration + m\n",
    "            print(\"%2.2f / 100.0 (%%)\" % ((step / total_iteration) * 100), end=\"\\r\")\n",
    "            \n",
    "    return start_f1, best_f1, best_thresholds, history"
   ]
  },
  {
   "cell_type": "code",
   "execution_count": 156,
   "metadata": {
    "scrolled": true
   },
   "outputs": [
    {
     "name": "stdout",
     "output_type": "stream",
     "text": [
      "100.00 / 100.0 (%)\r"
     ]
    }
   ],
   "source": [
    "initial_f1, best_f1, best_at_thresholds, history = simulated_anealing(weak_y_pred, weak_y_true, 50, 400)"
   ]
  },
  {
   "cell_type": "code",
   "execution_count": 157,
   "metadata": {},
   "outputs": [
    {
     "data": {
      "text/plain": [
       "(tensor(0.6882), tensor(0.7032))"
      ]
     },
     "execution_count": 157,
     "metadata": {},
     "output_type": "execute_result"
    }
   ],
   "source": [
    "torch.mean(initial_f1), torch.mean(best_f1)"
   ]
  },
  {
   "cell_type": "code",
   "execution_count": 158,
   "metadata": {},
   "outputs": [],
   "source": [
    "import sklearn as sk"
   ]
  },
  {
   "cell_type": "code",
   "execution_count": 159,
   "metadata": {},
   "outputs": [],
   "source": [
    "f1_func = FScore()\n",
    "lin_best_f1 = []\n",
    "\n",
    "best_f1 = [0] * 10\n",
    "best_threshold = [0] * 10\n",
    "for cls in range(10):\n",
    "    cls_f1 = []\n",
    "    \n",
    "    for i in numpy.linspace(0, 1, 1000):\n",
    "        bin_y_pred = weak_y_pred[:, cls].clone().detach()\n",
    "        bin_y_pred[bin_y_pred > i] = 1\n",
    "        bin_y_pred[bin_y_pred <= i] = 0\n",
    "            \n",
    "        f1_func(bin_y_pred, weak_y_true[:, cls])\n",
    "        f1 = f1_func.value\n",
    "        cls_f1.append(f1)\n",
    "        \n",
    "        if f1 > best_f1[cls]:\n",
    "            best_f1[cls] = f1\n",
    "            best_threshold[cls] = i\n",
    "        \n",
    "    lin_best_f1.append(cls_f1)  "
   ]
  },
  {
   "cell_type": "code",
   "execution_count": 160,
   "metadata": {},
   "outputs": [
    {
     "data": {
      "image/png": "[encoded data removed]",
      "text/plain": [
       "<Figure size 1080x432 with 1 Axes>"
      ]
     },
     "metadata": {
      "needs_background": "light"
     },
     "output_type": "display_data"
    }
   ],
   "source": [
    "x = numpy.linspace(0, 1, 1000)\n",
    "\n",
    "plt.figure(0, figsize=(15, 6))\n",
    "for cls in range(10):\n",
    "    plt.plot(x, lin_best_f1[cls], color=\"C%s\" % cls, label=class_list[cls])\n",
    "    plt.plot(best_threshold[cls], best_f1[cls], color=\"C%s\" % cls, marker=\"o\")\n",
    "\n",
    "plt.legend()\n",
    "plt.show()"
   ]
  },
  {
   "cell_type": "code",
   "execution_count": 161,
   "metadata": {},
   "outputs": [
    {
     "data": {
      "text/plain": [
       "(tensor([0.3479, 0.1096, 0.9599, 0.9997, 0.9769, 0.5196, 0.3507, 0.4426, 0.5922,\n",
       "         0.2028]),\n",
       " [0.33233233233233234,\n",
       "  0.1091091091091091,\n",
       "  0.958958958958959,\n",
       "  0.9099099099099099,\n",
       "  0.973973973973974,\n",
       "  0.5165165165165165,\n",
       "  0.14514514514514515,\n",
       "  0.3863863863863864,\n",
       "  0.5785785785785785,\n",
       "  0.2022022022022022],\n",
       " 0.70328116)"
      ]
     },
     "execution_count": 161,
     "metadata": {},
     "output_type": "execute_result"
    }
   ],
   "source": [
    "best_at_thresholds, best_threshold, numpy.mean(best_f1)"
   ]
  },
  {
   "cell_type": "markdown",
   "metadata": {},
   "source": [
    "## Apply new threshold and perform pruning on strong prediction"
   ]
  },
  {
   "cell_type": "code",
   "execution_count": 162,
   "metadata": {},
   "outputs": [],
   "source": [
    "best_weak_y_pred = weak_y_pred.clone().detach()\n",
    "\n",
    "best_weak_y_pred[best_weak_y_pred > best_at_thresholds] = 1\n",
    "best_weak_y_pred[best_weak_y_pred <= best_at_thresholds] = 0"
   ]
  },
  {
   "cell_type": "code",
   "execution_count": 163,
   "metadata": {},
   "outputs": [
    {
     "data": {
      "text/plain": [
       "(torch.Size([1058, 10]), torch.Size([1058, 10, 431]))"
      ]
     },
     "execution_count": 163,
     "metadata": {},
     "output_type": "execute_result"
    }
   ],
   "source": [
    "best_weak_y_pred.shape, strong_y_pred.shape"
   ]
  },
  {
   "cell_type": "code",
   "execution_count": 164,
   "metadata": {},
   "outputs": [],
   "source": [
    "# Prune the result of fill the missing curve with 0 segments\n",
    "def prune_prediction(strong_y_pred, weak_y_pred):\n",
    "    \"\"\" Prune the strong prediciton by zeroing all classes that are not predicted. \"\"\"\n",
    "    pruned_strong_y_pred = strong_y_pred.clone().detach()\n",
    "    \n",
    "    for index in range(len(pruned_strong_y_pred)):\n",
    "        cls_result = weak_y_pred[index]\n",
    "        \n",
    "        # Create a full mask using repeat\n",
    "        length = strong_y_pred.size()[-1]\n",
    "        cls_mask = cls_result.unsqueeze(1).repeat(1, length)\n",
    "        pruned_strong_y_pred[index] *= cls_mask\n",
    "                \n",
    "    return pruned_strong_y_pred"
   ]
  },
  {
   "cell_type": "code",
   "execution_count": 165,
   "metadata": {},
   "outputs": [],
   "source": [
    "pruned_strong_y_pred = prune_prediction(strong_y_pred, best_weak_y_pred)"
   ]
  },
  {
   "cell_type": "markdown",
   "metadata": {},
   "source": [
    "## Sanity check and visualization"
   ]
  },
  {
   "cell_type": "code",
   "execution_count": 166,
   "metadata": {},
   "outputs": [
    {
     "data": {
      "text/plain": [
       "(tensor([0., 0., 0., 0., 0., 0., 0., 0., 0., 1.]),\n",
       " tensor([[0.0000, 0.0000, 0.0000,  ..., 0.0000, 0.0000, 0.0000],\n",
       "         [0.0000, 0.0000, 0.0000,  ..., 0.0000, 0.0000, 0.0000],\n",
       "         [0.0000, 0.0000, 0.0000,  ..., 0.0000, 0.0000, 0.0000],\n",
       "         ...,\n",
       "         [0.0000, 0.0000, 0.0000,  ..., 0.0000, 0.0000, 0.0000],\n",
       "         [0.0000, 0.0000, 0.0000,  ..., 0.0000, 0.0000, 0.0000],\n",
       "         [0.2967, 0.1147, 0.1788,  ..., 0.0047, 0.0092, 0.0386]]))"
      ]
     },
     "execution_count": 166,
     "metadata": {},
     "output_type": "execute_result"
    }
   ],
   "source": [
    "best_weak_y_pred[1], pruned_strong_y_pred[1]"
   ]
  },
  {
   "cell_type": "code",
   "execution_count": 167,
   "metadata": {},
   "outputs": [
    {
     "data": {
      "image/png": "[encoded data removed]",
      "text/plain": [
       "<Figure size 1080x432 with 1 Axes>"
      ]
     },
     "metadata": {
      "needs_background": "light"
     },
     "output_type": "display_data"
    }
   ],
   "source": [
    "import matplotlib.pyplot as plt\n",
    "\n",
    "class_list = list(DESEDManager.cls_dict.keys())\n",
    "plt.figure(0, figsize=(15, 6))\n",
    "\n",
    "for i, class_name in enumerate(class_list):\n",
    "    plt.plot(pruned_strong_y_pred[1][i], label=class_name)\n",
    "\n",
    "plt.legend()\n",
    "plt.show()"
   ]
  },
  {
   "cell_type": "markdown",
   "metadata": {},
   "source": [
    "# Perform segmentation of the prediction curves"
   ]
  },
  {
   "cell_type": "code",
   "execution_count": 112,
   "metadata": {},
   "outputs": [],
   "source": [
    "# pip install -i https://test.pypi.org/simple/ aeseg"
   ]
  },
  {
   "cell_type": "code",
   "execution_count": 113,
   "metadata": {},
   "outputs": [],
   "source": [
    "from aeseg.Encoder import Encoder\n",
    "from aeseg.optimizers import GenOptimizer, DichotomicOptimizer\n",
    "from aeseg.core import eb_evaluator, sb_evaluator"
   ]
  },
  {
   "cell_type": "code",
   "execution_count": 114,
   "metadata": {},
   "outputs": [],
   "source": [
    "def load_csv(path):\n",
    "    with open(path, \"r\") as f:\n",
    "        data = f.read().splitlines()[1:]\n",
    "    return data"
   ]
  },
  {
   "cell_type": "code",
   "execution_count": 115,
   "metadata": {},
   "outputs": [
    {
     "data": {
      "text/plain": [
       "(torch.Size([1058, 431, 10]), torch.Size([1058, 431, 10]))"
      ]
     },
     "execution_count": 115,
     "metadata": {},
     "output_type": "execute_result"
    }
   ],
   "source": [
    "## Optimizer take data in the following shape (file, seq, class)\n",
    "strong_y_true = strong_y_true.permute(0, 2, 1)\n",
    "pruned_strong_y_pred = pruned_strong_y_pred.permute(0, 2, 1)\n",
    "strong_y_true.shape, pruned_strong_y_pred.shape"
   ]
  },
  {
   "cell_type": "code",
   "execution_count": 116,
   "metadata": {},
   "outputs": [],
   "source": [
    "def class_wise_optimization(optimizer, class_to_monitor, strong_y_true, strong_pred, filenames, method=\"threshold\"):\n",
    "    class_wise_results = {}\n",
    "    \n",
    "    for cl in class_to_monitor:\n",
    "        optimizer.fit(\n",
    "            strong_y_true, strong_pred, filenames,\n",
    "            monitor=[\"class_wise\", cl, \"f_measure\", \"f_measure\"],\n",
    "            method=method,\n",
    "            verbose=1)\n",
    "        \n",
    "        parameters, score = optimizer.best\n",
    "        print(cl, parameters, score)\n",
    "        class_wise_results[cl] = (parameters, score)\n",
    "        \n",
    "    return class_wise_results\n",
    "\n",
    "\n",
    "def get_class_dependant_parameters(class_wise_results, class_list):\n",
    "    class_dependant_parameters = {}\n",
    "    for cl in class_list:\n",
    "        for param in class_wise_results[cl][0]:\n",
    "            if param not in class_dependant_parameters.keys():\n",
    "                class_dependant_parameters[param] = []\n",
    "            class_dependant_parameters[param].append(class_wise_results[cl][0][param])\n",
    "            \n",
    "    # TODO find better way\n",
    "    # for \"smooth\" common parameters, remove list\n",
    "    class_dependant_parameters[\"smooth\"] = class_dependant_parameters[\"smooth\"][0]\n",
    "    return class_dependant_parameters"
   ]
  },
  {
   "cell_type": "code",
   "execution_count": 117,
   "metadata": {},
   "outputs": [],
   "source": [
    "class_list = list(DESEDManager.cls_dict.keys())\n",
    "\n",
    "# Create the encoder that will be used\n",
    "encoder = Encoder(\n",
    "    classes=class_list,\n",
    "    temporal_precision = 50,  # ms\n",
    "    clip_length = 10,          # s\n",
    "    minimal_segment_step = 150 # ms\n",
    ")\n",
    "\n",
    "val_csv_y_true= load_csv(os.path.join(desed_metadata_root, \"validation\", \"validation.tsv\"))"
   ]
  },
  {
   "cell_type": "markdown",
   "metadata": {},
   "source": [
    "## Absolute threshold"
   ]
  },
  {
   "cell_type": "code",
   "execution_count": null,
   "metadata": {
    "scrolled": true
   },
   "outputs": [],
   "source": [
    "optimizer = DichotomicOptimizer(\n",
    "    {\n",
    "        \"threshold\": (0.01, 0.90),\n",
    "        \"smooth\": \"smoothMovingAvg\",\n",
    "        \"window_len\": (5, 27)\n",
    "    },\n",
    "    \n",
    "    encoder = encoder,\n",
    "    step = 6,\n",
    "    nb_recurse = 8,\n",
    "    nb_process = 5\n",
    ")\n",
    "\n",
    "class_wise_results = class_wise_optimization(\n",
    "    optimizer,\n",
    "    class_list,\n",
    "    method=\"threshold\",\n",
    "    strong_y_true=val_csv_y_true,\n",
    "    strong_pred=pruned_strong_y_pred.numpy(),\n",
    "    filenames=y_filenames\n",
    ")"
   ]
  },
  {
   "cell_type": "code",
   "execution_count": 118,
   "metadata": {
    "ExecuteTime": {
     "end_time": "2019-06-06T05:49:07.672707Z",
     "start_time": "2019-06-06T05:49:07.615719Z"
    }
   },
   "outputs": [],
   "source": [
    "best_parameters = get_class_dependant_parameters(class_wise_results, class_list)"
   ]
  },
  {
   "cell_type": "code",
   "execution_count": 119,
   "metadata": {},
   "outputs": [
    {
     "name": "stdout",
     "output_type": "stream",
     "text": [
      "threshold      : [0.8077932007619048, 0.787688, 0.36812160000000005, 0.9, 0.35367360000000003, 0.23318249472000002, 0.01571766857142857, 0.011932665904761905, 0.22503004160000004, 0.5921951809015873]\n",
      "smooth         : smoothMovingAvg\n",
      "window_len     : [8.697109942857143, 11.803439999999998, 13.946666666666667, 9.853818294857142, 27.0, 8.683605333333334, 26.035776, 27.0, 20.918436266666667, 27.0]\n"
     ]
    }
   ],
   "source": [
    "for key, value in best_parameters.items():\n",
    "    print(\"{:<15}: {}\".format(key, value))"
   ]
  },
  {
   "cell_type": "code",
   "execution_count": 120,
   "metadata": {
    "ExecuteTime": {
     "end_time": "2019-06-06T05:49:28.567651Z",
     "start_time": "2019-06-06T05:49:09.882468Z"
    }
   },
   "outputs": [
    {
     "name": "stdout",
     "output_type": "stream",
     "text": [
      "Event based metrics (onset-offset)\n",
      "========================================\n",
      "  Evaluated length                  : 10459.12 sec\n",
      "  Evaluated files                   : 1168 \n",
      "  Evaluate onset                    : True \n",
      "  Evaluate offset                   : True \n",
      "  T collar                          : 200.00 ms\n",
      "  Offset (length)                   : 20.00 %\n",
      "\n",
      "  Overall metrics (micro-average)\n",
      "  ======================================\n",
      "  F-measure\n",
      "    F-measure (F1)                  : 26.01 %\n",
      "    Precision                       : 30.82 %\n",
      "    Recall                          : 22.50 %\n",
      "  Error rate\n",
      "    Error rate (ER)                 : 1.26 \n",
      "    Substitution rate               : 0.02 \n",
      "    Deletion rate                   : 0.76 \n",
      "    Insertion rate                  : 0.49 \n",
      "\n",
      "  Class-wise average metrics (macro-average)\n",
      "  ======================================\n",
      "  F-measure\n",
      "    F-measure (F1)                  : 25.59 %\n",
      "    Precision                       : 28.57 %\n",
      "    Recall                          : 23.76 %\n",
      "  Error rate\n",
      "    Error rate (ER)                 : 1.42 \n",
      "    Deletion rate                   : 0.76 \n",
      "    Insertion rate                  : 0.65 \n",
      "  \n",
      "\n",
      "  Class-wise metrics\n",
      "  ======================================\n",
      "    Event label  | Nref    Nsys  | F        Pre      Rec    | ER       Del      Ins    |\n",
      "    ------------ | -----   ----- | ------   ------   ------ | ------   ------   ------ |\n",
      "    Alarm_bell.. | 420     310   | 32.6%    38.4%    28.3%  | 1.17     0.72     0.45   |\n",
      "    Blender      | 96      77    | 13.9%    15.6%    12.5%  | 1.55     0.88     0.68   |\n",
      "    Cat          | 341     331   | 24.7%    25.1%    24.3%  | 1.48     0.76     0.73   |\n",
      "    Dishes       | 567     376   | 18.7%    23.4%    15.5%  | 1.35     0.84     0.51   |\n",
      "    Dog          | 570     398   | 16.1%    19.6%    13.7%  | 1.42     0.86     0.56   |\n",
      "    Electric_s.. | 65      48    | 38.9%    45.8%    33.8%  | 1.06     0.66     0.40   |\n",
      "    Frying       | 94      155   | 8.0%     6.5%     10.6%  | 2.44     0.89     1.54   |\n",
      "    Running_wa.. | 237     223   | 25.7%    26.5%    24.9%  | 1.44     0.75     0.69   |\n",
      "    Speech       | 1754    1072  | 30.9%    40.8%    24.9%  | 1.11     0.75     0.36   |\n",
      "    Vacuum_cle.. | 92      102   | 46.4%    44.1%    48.9%  | 1.13     0.51     0.62   |\n",
      "\n",
      "\n"
     ]
    }
   ],
   "source": [
    "segments = encoder.encode(\n",
    "    pruned_strong_y_pred.numpy(),\n",
    "    method=\"threshold\",\n",
    "    **best_parameters\n",
    ")\n",
    "to_evaluate = encoder.parse(segments, y_filenames)\n",
    "evaluator = eb_evaluator(val_csv_y_true, to_evaluate)\n",
    "print(evaluator)"
   ]
  },
  {
   "cell_type": "markdown",
   "metadata": {},
   "source": [
    "## Hysteresis thresholding"
   ]
  },
  {
   "cell_type": "code",
   "execution_count": 241,
   "metadata": {
    "ExecuteTime": {
     "end_time": "2019-06-05T23:35:34.068674Z",
     "start_time": "2019-06-05T18:50:30.082131Z"
    },
    "scrolled": true
   },
   "outputs": [
    {
     "name": "stderr",
     "output_type": "stream",
     "text": [
      "\n",
      "\n",
      "\n",
      "\n",
      "\n",
      "\n",
      "\n",
      "\n",
      "\n",
      "\n",
      "\n",
      "\n",
      "\n",
      "  0%|          | 0/1728 [00:00<?, ?it/s]\u001b[A\u001b[A\u001b[A\u001b[A\u001b[A\u001b[A\u001b[A\u001b[A\u001b[A\u001b[A\u001b[A\u001b[A\u001b[A"
     ]
    },
    {
     "ename": "IndexError",
     "evalue": "list index out of range",
     "output_type": "error",
     "traceback": [
      "\u001b[0;31m---------------------------------------------------------------------------\u001b[0m",
      "\u001b[0;31mRemoteTraceback\u001b[0m                           Traceback (most recent call last)",
      "\u001b[0;31mRemoteTraceback\u001b[0m: \n\"\"\"\nTraceback (most recent call last):\n  File \"/users/samova/lcances/.miniconda3/envs/dcase2020/lib/python3.7/multiprocessing/pool.py\", line 121, in worker\n    result = (True, func(*args, **kwds))\n  File \"/users/samova/lcances/.miniconda3/envs/dcase2020/lib/python3.7/site-packages/aeseg/optimizers.py\", line 41, in evaluate\n  File \"/users/samova/lcances/.miniconda3/envs/dcase2020/lib/python3.7/site-packages/aeseg/Encoder.py\", line 130, in encode\n  File \"/users/samova/lcances/.miniconda3/envs/dcase2020/lib/python3.7/site-packages/aeseg/Encoder.py\", line 331, in __encode_using_hysteresis\nIndexError: list index out of range\n\"\"\"",
      "\nThe above exception was the direct cause of the following exception:\n",
      "\u001b[0;31mIndexError\u001b[0m                                Traceback (most recent call last)",
      "\u001b[0;32m<ipython-input-241-089057c9d575>\u001b[0m in \u001b[0;36m<module>\u001b[0;34m\u001b[0m\n\u001b[1;32m     21\u001b[0m     \u001b[0mstrong_y_true\u001b[0m\u001b[0;34m=\u001b[0m\u001b[0mstrong_y_true\u001b[0m\u001b[0;34m,\u001b[0m\u001b[0;34m\u001b[0m\u001b[0;34m\u001b[0m\u001b[0m\n\u001b[1;32m     22\u001b[0m     \u001b[0mstrong_pred\u001b[0m\u001b[0;34m=\u001b[0m\u001b[0mpruned_strong_y_pred\u001b[0m\u001b[0;34m.\u001b[0m\u001b[0mnumpy\u001b[0m\u001b[0;34m(\u001b[0m\u001b[0;34m)\u001b[0m\u001b[0;34m,\u001b[0m\u001b[0;34m\u001b[0m\u001b[0;34m\u001b[0m\u001b[0m\n\u001b[0;32m---> 23\u001b[0;31m     \u001b[0mfilenames\u001b[0m\u001b[0;34m=\u001b[0m\u001b[0my_filenames\u001b[0m\u001b[0;34m\u001b[0m\u001b[0;34m\u001b[0m\u001b[0m\n\u001b[0m\u001b[1;32m     24\u001b[0m )\n",
      "\u001b[0;32m<ipython-input-211-0c27c2b1bfb8>\u001b[0m in \u001b[0;36mclass_wise_optimization\u001b[0;34m(optimizer, class_to_monitor, strong_y_true, strong_pred, filenames, method)\u001b[0m\n\u001b[1;32m      7\u001b[0m             \u001b[0mmonitor\u001b[0m\u001b[0;34m=\u001b[0m\u001b[0;34m[\u001b[0m\u001b[0;34m\"class_wise\"\u001b[0m\u001b[0;34m,\u001b[0m \u001b[0mcl\u001b[0m\u001b[0;34m,\u001b[0m \u001b[0;34m\"f_measure\"\u001b[0m\u001b[0;34m,\u001b[0m \u001b[0;34m\"f_measure\"\u001b[0m\u001b[0;34m]\u001b[0m\u001b[0;34m,\u001b[0m\u001b[0;34m\u001b[0m\u001b[0;34m\u001b[0m\u001b[0m\n\u001b[1;32m      8\u001b[0m             \u001b[0mmethod\u001b[0m\u001b[0;34m=\u001b[0m\u001b[0mmethod\u001b[0m\u001b[0;34m,\u001b[0m\u001b[0;34m\u001b[0m\u001b[0;34m\u001b[0m\u001b[0m\n\u001b[0;32m----> 9\u001b[0;31m             verbose=1)\n\u001b[0m\u001b[1;32m     10\u001b[0m \u001b[0;34m\u001b[0m\u001b[0m\n\u001b[1;32m     11\u001b[0m         \u001b[0mparameters\u001b[0m\u001b[0;34m,\u001b[0m \u001b[0mscore\u001b[0m \u001b[0;34m=\u001b[0m \u001b[0moptimizer\u001b[0m\u001b[0;34m.\u001b[0m\u001b[0mbest\u001b[0m\u001b[0;34m\u001b[0m\u001b[0;34m\u001b[0m\u001b[0m\n",
      "\u001b[0;32m~/.miniconda3/envs/dcase2020/lib/python3.7/site-packages/aeseg/optimizers.py\u001b[0m in \u001b[0;36mfit\u001b[0;34m(self, y_true, y_pred, filenames, monitor, verbose, method)\u001b[0m\n",
      "\u001b[0;32m~/.miniconda3/envs/dcase2020/lib/python3.7/multiprocessing/pool.py\u001b[0m in \u001b[0;36mget\u001b[0;34m(self, timeout)\u001b[0m\n\u001b[1;32m    655\u001b[0m             \u001b[0;32mreturn\u001b[0m \u001b[0mself\u001b[0m\u001b[0;34m.\u001b[0m\u001b[0m_value\u001b[0m\u001b[0;34m\u001b[0m\u001b[0;34m\u001b[0m\u001b[0m\n\u001b[1;32m    656\u001b[0m         \u001b[0;32melse\u001b[0m\u001b[0;34m:\u001b[0m\u001b[0;34m\u001b[0m\u001b[0;34m\u001b[0m\u001b[0m\n\u001b[0;32m--> 657\u001b[0;31m             \u001b[0;32mraise\u001b[0m \u001b[0mself\u001b[0m\u001b[0;34m.\u001b[0m\u001b[0m_value\u001b[0m\u001b[0;34m\u001b[0m\u001b[0;34m\u001b[0m\u001b[0m\n\u001b[0m\u001b[1;32m    658\u001b[0m \u001b[0;34m\u001b[0m\u001b[0m\n\u001b[1;32m    659\u001b[0m     \u001b[0;32mdef\u001b[0m \u001b[0m_set\u001b[0m\u001b[0;34m(\u001b[0m\u001b[0mself\u001b[0m\u001b[0;34m,\u001b[0m \u001b[0mi\u001b[0m\u001b[0;34m,\u001b[0m \u001b[0mobj\u001b[0m\u001b[0;34m)\u001b[0m\u001b[0;34m:\u001b[0m\u001b[0;34m\u001b[0m\u001b[0;34m\u001b[0m\u001b[0m\n",
      "\u001b[0;31mIndexError\u001b[0m: list index out of range"
     ]
    }
   ],
   "source": [
    "# Perform the optimization ON TEST\n",
    "# Create the optimizer\n",
    "optimizer = DichotomicOptimizer(\n",
    "    {\n",
    "        \"high\": (0.01, 0.99),\n",
    "        \"low\": (0.01, 0.99),\n",
    "#         \"smooth\": \"smoothMovingAvg\",\n",
    "        \"window_len\": (3, 27)\n",
    "    },\n",
    "    \n",
    "    encoder = encoder,\n",
    "    step = 6,\n",
    "    nb_recurse = 8,\n",
    "    nb_process = 5\n",
    ")\n",
    "\n",
    "class_wise_results = class_wise_optimization(\n",
    "    optimizer,\n",
    "    class_list,\n",
    "    method=\"hysteresis\",\n",
    "    strong_y_true=strong_y_true,\n",
    "    strong_pred=pruned_strong_y_pred.numpy(),\n",
    "    filenames=y_filenames\n",
    ")"
   ]
  },
  {
   "cell_type": "code",
   "execution_count": 87,
   "metadata": {
    "ExecuteTime": {
     "end_time": "2019-06-06T05:49:07.672707Z",
     "start_time": "2019-06-06T05:49:07.615719Z"
    }
   },
   "outputs": [],
   "source": [
    "best_parameters = get_class_dependant_parameters(class_wise_results, class_list)"
   ]
  },
  {
   "cell_type": "code",
   "execution_count": 88,
   "metadata": {
    "ExecuteTime": {
     "end_time": "2019-06-06T05:49:28.567651Z",
     "start_time": "2019-06-06T05:49:09.882468Z"
    }
   },
   "outputs": [
    {
     "name": "stdout",
     "output_type": "stream",
     "text": [
      "Event based metrics (onset-offset)\n",
      "========================================\n",
      "  Evaluated length                  : 10161.15 sec\n",
      "  Evaluated files                   : 1168 \n",
      "  Evaluate onset                    : True \n",
      "  Evaluate offset                   : True \n",
      "  T collar                          : 200.00 ms\n",
      "  Offset (length)                   : 20.00 %\n",
      "\n",
      "  Overall metrics (micro-average)\n",
      "  ======================================\n",
      "  F-measure\n",
      "    F-measure (F1)                  : 36.63 %\n",
      "    Precision                       : 40.38 %\n",
      "    Recall                          : 33.52 %\n",
      "  Error rate\n",
      "    Error rate (ER)                 : 1.13 \n",
      "    Substitution rate               : 0.03 \n",
      "    Deletion rate                   : 0.64 \n",
      "    Insertion rate                  : 0.47 \n",
      "\n",
      "  Class-wise average metrics (macro-average)\n",
      "  ======================================\n",
      "  F-measure\n",
      "    F-measure (F1)                  : 37.88 %\n",
      "    Precision                       : 39.53 %\n",
      "    Recall                          : 36.98 %\n",
      "  Error rate\n",
      "    Error rate (ER)                 : 1.21 \n",
      "    Deletion rate                   : 0.63 \n",
      "    Insertion rate                  : 0.58 \n",
      "  \n",
      "\n",
      "  Class-wise metrics\n",
      "  ======================================\n",
      "    Event label  | Nref    Nsys  | F        Pre      Rec    | ER       Del      Ins    |\n",
      "    ------------ | -----   ----- | ------   ------   ------ | ------   ------   ------ |\n",
      "    Alarm_bell.. | 418     326   | 39.2%    44.8%    34.9%  | 1.08     0.65     0.43   |\n",
      "    Blender      | 96      115   | 35.1%    32.2%    38.5%  | 1.43     0.61     0.81   |\n",
      "    Cat          | 340     272   | 41.5%    46.7%    37.4%  | 1.05     0.63     0.43   |\n",
      "    Dishes       | 492     386   | 27.6%    31.3%    24.6%  | 1.29     0.75     0.54   |\n",
      "    Dog          | 577     387   | 18.7%    23.3%    15.6%  | 1.36     0.84     0.51   |\n",
      "    Electric_s.. | 65      68    | 43.6%    42.6%    44.6%  | 1.15     0.55     0.60   |\n",
      "    Frying       | 91      101   | 34.4%    32.7%    36.3%  | 1.38     0.64     0.75   |\n",
      "    Running_wa.. | 230     300   | 27.5%    24.3%    31.7%  | 1.67     0.68     0.99   |\n",
      "    Speech       | 1662    1328  | 43.1%    48.5%    38.7%  | 1.02     0.61     0.41   |\n",
      "    Vacuum_cle.. | 92      90    | 68.1%    68.9%    67.4%  | 0.63     0.33     0.30   |\n",
      "\n",
      "\n"
     ]
    }
   ],
   "source": [
    "# check test\n",
    "best_parameters = get_class_dependant_parameters(class_wise_results, class_list)\n",
    "\n",
    "segments = encoder.encode(\n",
    "    val_strong_pred,\n",
    "    method=\"hysteresis\",\n",
    "    **best_parameters\n",
    ")\n",
    "to_evaluate = encoder.parse(segments, val_filenames)\n",
    "evaluator = eb_evaluator(val_csv_y_true, to_evaluate)\n",
    "print(evaluator)"
   ]
  },
  {
   "cell_type": "markdown",
   "metadata": {},
   "source": [
    "# ♫♪.ılılıll|̲̅̅●̲̅̅|̲̅̅=̲̅̅|̲̅̅●̲̅̅|llılılı.♫♪"
   ]
  }
 ],
 "metadata": {
  "kernelspec": {
   "display_name": "dcase2020",
   "language": "python",
   "name": "dcase2020"
  },
  "language_info": {
   "codemirror_mode": {
    "name": "ipython",
    "version": 3
   },
   "file_extension": ".py",
   "mimetype": "text/x-python",
   "name": "python",
   "nbconvert_exporter": "python",
   "pygments_lexer": "ipython3",
   "version": "3.7.7"
  },
  "toc-autonumbering": true,
  "toc-showcode": false,
  "toc-showmarkdowntxt": false
 },
 "nbformat": 4,
 "nbformat_minor": 4
}
